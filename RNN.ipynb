{
 "cells": [
  {
   "cell_type": "code",
   "execution_count": 1,
   "id": "8d7f5ed8",
   "metadata": {},
   "outputs": [],
   "source": [
    "import os\n",
    "import numpy as np\n",
    "import pandas as pd\n",
    "import matplotlib.pyplot as plt"
   ]
  },
  {
   "cell_type": "code",
   "execution_count": 2,
   "id": "04345d34",
   "metadata": {},
   "outputs": [],
   "source": [
    "import tensorflow \n",
    "from tensorflow.keras.preprocessing.text import Tokenizer\n",
    "from tensorflow.keras.preprocessing.sequence import pad_sequences\n",
    "from tensorflow.keras.utils import to_categorical"
   ]
  },
  {
   "cell_type": "code",
   "execution_count": 3,
   "id": "5a9bfbea",
   "metadata": {},
   "outputs": [],
   "source": [
    "from tensorflow.keras.models import Sequential\n",
    "from tensorflow.keras.layers import Embedding, Dense, SimpleRNN"
   ]
  },
  {
   "cell_type": "code",
   "execution_count": 4,
   "id": "97e23ed0",
   "metadata": {},
   "outputs": [],
   "source": [
    "text=\"\"\"박교수가 NLP 강의를 한다\n",
    "학생들이 NLP 강의를 듣는다\n",
    "학생들이 NLP 강의를 이해 못한다\"\"\""
   ]
  },
  {
   "cell_type": "code",
   "execution_count": 5,
   "id": "0404af45",
   "metadata": {},
   "outputs": [],
   "source": [
    "tokenizer=Tokenizer()\n",
    "tokenizer.fit_on_texts([text]) #fit_on_texts: 문자 데이터를 입력받아서 리스트의 형태로 변환"
   ]
  },
  {
   "cell_type": "code",
   "execution_count": 6,
   "id": "35c1c2e4",
   "metadata": {},
   "outputs": [
    {
     "data": {
      "text/plain": [
       "{'nlp': 1,\n",
       " '강의를': 2,\n",
       " '학생들이': 3,\n",
       " '박교수가': 4,\n",
       " '한다': 5,\n",
       " '듣는다': 6,\n",
       " '이해': 7,\n",
       " '못한다': 8}"
      ]
     },
     "execution_count": 6,
     "metadata": {},
     "output_type": "execute_result"
    }
   ],
   "source": [
    "tokenizer.word_index #word_index: 단어와 숫자의 키-값 쌍을 포함하는 딕셔너리를 반환"
   ]
  },
  {
   "cell_type": "code",
   "execution_count": 7,
   "id": "3469a837",
   "metadata": {},
   "outputs": [
    {
     "name": "stdout",
     "output_type": "stream",
     "text": [
      "단어 집합의 크기 : 9\n"
     ]
    }
   ],
   "source": [
    "vocab_size=len(tokenizer.word_index)+1\n",
    "print(\"단어 집합의 크기 : %d\" % vocab_size)"
   ]
  },
  {
   "cell_type": "code",
   "execution_count": 8,
   "id": "7c09842a",
   "metadata": {},
   "outputs": [
    {
     "data": {
      "text/plain": [
       "['박교수가 NLP 강의를 한다', '학생들이 NLP 강의를 듣는다', '학생들이 NLP 강의를 이해 못한다']"
      ]
     },
     "execution_count": 8,
     "metadata": {},
     "output_type": "execute_result"
    }
   ],
   "source": [
    "text.split('\\n')"
   ]
  },
  {
   "cell_type": "code",
   "execution_count": 9,
   "id": "0d4613b2",
   "metadata": {},
   "outputs": [
    {
     "data": {
      "text/plain": [
       "[[4, 1, 2, 5]]"
      ]
     },
     "execution_count": 9,
     "metadata": {},
     "output_type": "execute_result"
    }
   ],
   "source": [
    "tokenizer.texts_to_sequences([text.split('\\n')[0]])"
   ]
  },
  {
   "cell_type": "code",
   "execution_count": 10,
   "id": "0bdd5fb7",
   "metadata": {},
   "outputs": [
    {
     "data": {
      "text/plain": [
       "[4, 1, 2, 5]"
      ]
     },
     "execution_count": 10,
     "metadata": {},
     "output_type": "execute_result"
    }
   ],
   "source": [
    "tokenizer.texts_to_sequences([text.split('\\n')[0]])[0] #texts_to_sequences: text 문장을 숫자로 이루어진 리스트로 만든다. "
   ]
  },
  {
   "cell_type": "code",
   "execution_count": 11,
   "id": "1a21bb37",
   "metadata": {},
   "outputs": [
    {
     "name": "stdout",
     "output_type": "stream",
     "text": [
      "학습에 사용할 샘플의 개수: 10\n"
     ]
    }
   ],
   "source": [
    "encoded_results=list()\n",
    "for line in text.split('\\n'): #\\n, 줄바꿈 기준으로 문장 토큰화\n",
    "    encoded=tokenizer.texts_to_sequences([line])[0]\n",
    "    \n",
    "    for i in range(1,len(encoded)):\n",
    "        sequence=encoded[:i+1]\n",
    "        encoded_results.append(sequence)\n",
    "\n",
    "print(\"학습에 사용할 샘플의 개수: %d\" % len(encoded_results))"
   ]
  },
  {
   "cell_type": "code",
   "execution_count": 12,
   "id": "f26d2a05",
   "metadata": {},
   "outputs": [
    {
     "data": {
      "text/plain": [
       "[[4, 1],\n",
       " [4, 1, 2],\n",
       " [4, 1, 2, 5],\n",
       " [3, 1],\n",
       " [3, 1, 2],\n",
       " [3, 1, 2, 6],\n",
       " [3, 1],\n",
       " [3, 1, 2],\n",
       " [3, 1, 2, 7],\n",
       " [3, 1, 2, 7, 8]]"
      ]
     },
     "execution_count": 12,
     "metadata": {},
     "output_type": "execute_result"
    }
   ],
   "source": [
    "encoded_results"
   ]
  },
  {
   "cell_type": "code",
   "execution_count": 13,
   "id": "064fb789",
   "metadata": {},
   "outputs": [],
   "source": [
    "max_len=max(len(i) for i in encoded_results)"
   ]
  },
  {
   "cell_type": "code",
   "execution_count": 16,
   "id": "d4154077",
   "metadata": {},
   "outputs": [],
   "source": [
    "pad_sequences=pad_sequences(encoded_results, maxlen=max_len, padding='pre') #pre:0을 앞에다가"
   ]
  },
  {
   "cell_type": "code",
   "execution_count": 17,
   "id": "426d31bf",
   "metadata": {},
   "outputs": [
    {
     "data": {
      "text/plain": [
       "array([[0, 0, 0, 4, 1],\n",
       "       [0, 0, 4, 1, 2],\n",
       "       [0, 4, 1, 2, 5],\n",
       "       [0, 0, 0, 3, 1],\n",
       "       [0, 0, 3, 1, 2],\n",
       "       [0, 3, 1, 2, 6],\n",
       "       [0, 0, 0, 3, 1],\n",
       "       [0, 0, 3, 1, 2],\n",
       "       [0, 3, 1, 2, 7],\n",
       "       [3, 1, 2, 7, 8]])"
      ]
     },
     "execution_count": 17,
     "metadata": {},
     "output_type": "execute_result"
    }
   ],
   "source": [
    "pad_sequences"
   ]
  },
  {
   "cell_type": "code",
   "execution_count": 18,
   "id": "bfe8d157",
   "metadata": {},
   "outputs": [],
   "source": [
    "pad_sequences=np.array(pad_sequences)\n",
    "X=pad_sequences[:,:-1] \n",
    "Y=pad_sequences[:,-1] #마지막 컬럼만"
   ]
  },
  {
   "cell_type": "code",
   "execution_count": 19,
   "id": "f1af76ef",
   "metadata": {},
   "outputs": [
    {
     "data": {
      "text/plain": [
       "array([[0, 0, 0, 4],\n",
       "       [0, 0, 4, 1],\n",
       "       [0, 4, 1, 2],\n",
       "       [0, 0, 0, 3],\n",
       "       [0, 0, 3, 1],\n",
       "       [0, 3, 1, 2],\n",
       "       [0, 0, 0, 3],\n",
       "       [0, 0, 3, 1],\n",
       "       [0, 3, 1, 2],\n",
       "       [3, 1, 2, 7]])"
      ]
     },
     "execution_count": 19,
     "metadata": {},
     "output_type": "execute_result"
    }
   ],
   "source": [
    "X"
   ]
  },
  {
   "cell_type": "code",
   "execution_count": 20,
   "id": "af4ed89f",
   "metadata": {},
   "outputs": [],
   "source": [
    "#to_categorical: 원-핫 인코딩을 해주는 함수\n",
    "y_cate=to_categorical(Y,num_classes=vocab_size) #9개의 카테고리"
   ]
  },
  {
   "cell_type": "code",
   "execution_count": 21,
   "id": "e4af97fc",
   "metadata": {},
   "outputs": [
    {
     "data": {
      "text/plain": [
       "array([1, 2, 5, 1, 2, 6, 1, 2, 7, 8])"
      ]
     },
     "execution_count": 21,
     "metadata": {},
     "output_type": "execute_result"
    }
   ],
   "source": [
    "Y"
   ]
  },
  {
   "cell_type": "code",
   "execution_count": 22,
   "id": "21145b07",
   "metadata": {},
   "outputs": [
    {
     "data": {
      "text/plain": [
       "array([[0., 1., 0., 0., 0., 0., 0., 0., 0.],\n",
       "       [0., 0., 1., 0., 0., 0., 0., 0., 0.],\n",
       "       [0., 0., 0., 0., 0., 1., 0., 0., 0.],\n",
       "       [0., 1., 0., 0., 0., 0., 0., 0., 0.],\n",
       "       [0., 0., 1., 0., 0., 0., 0., 0., 0.],\n",
       "       [0., 0., 0., 0., 0., 0., 1., 0., 0.],\n",
       "       [0., 1., 0., 0., 0., 0., 0., 0., 0.],\n",
       "       [0., 0., 1., 0., 0., 0., 0., 0., 0.],\n",
       "       [0., 0., 0., 0., 0., 0., 0., 1., 0.],\n",
       "       [0., 0., 0., 0., 0., 0., 0., 0., 1.]], dtype=float32)"
      ]
     },
     "execution_count": 22,
     "metadata": {},
     "output_type": "execute_result"
    }
   ],
   "source": [
    "y_cate"
   ]
  },
  {
   "cell_type": "code",
   "execution_count": 23,
   "id": "195b632b",
   "metadata": {},
   "outputs": [],
   "source": [
    "embedding_layer=Embedding(vocab_size, 4, trainable=True, input_length=max_len) #4개짜리 크기의 벡터"
   ]
  },
  {
   "cell_type": "code",
   "execution_count": 24,
   "id": "dd0c69bf",
   "metadata": {},
   "outputs": [],
   "source": [
    "embedding_dim=4\n",
    "hidden_units=10\n",
    "\n",
    "RNN=Sequential()\n",
    "RNN.add(embedding_layer)\n",
    "\n",
    "RNN.add(SimpleRNN(units=hidden_units, activation='relu')) #units:히든 레이어의 히든 노드 개수\n",
    "RNN.add(Dense(vocab_size, activation='softmax')) #9개의 단어에 대한 확률값을 뱉어줌"
   ]
  },
  {
   "cell_type": "code",
   "execution_count": 25,
   "id": "e80c89f9",
   "metadata": {},
   "outputs": [
    {
     "name": "stdout",
     "output_type": "stream",
     "text": [
      "Model: \"sequential\"\n",
      "_________________________________________________________________\n",
      "Layer (type)                 Output Shape              Param #   \n",
      "=================================================================\n",
      "embedding (Embedding)        (None, 5, 4)              36        \n",
      "_________________________________________________________________\n",
      "simple_rnn (SimpleRNN)       (None, 10)                150       \n",
      "_________________________________________________________________\n",
      "dense (Dense)                (None, 9)                 99        \n",
      "=================================================================\n",
      "Total params: 285\n",
      "Trainable params: 285\n",
      "Non-trainable params: 0\n",
      "_________________________________________________________________\n",
      "None\n"
     ]
    }
   ],
   "source": [
    "print(RNN.summary())"
   ]
  },
  {
   "cell_type": "code",
   "execution_count": 26,
   "id": "998bbfdd",
   "metadata": {},
   "outputs": [],
   "source": [
    "RNN.compile(loss='categorical_crossentropy', optimizer='adam', metrics=['accuracy']) #멀티 클래스 문제기이 때문에 categorical_crossentropy 사용"
   ]
  },
  {
   "cell_type": "code",
   "execution_count": 27,
   "id": "479aaacc",
   "metadata": {},
   "outputs": [
    {
     "name": "stdout",
     "output_type": "stream",
     "text": [
      "Epoch 1/200\n",
      "WARNING:tensorflow:Model was constructed with shape (None, 5) for input KerasTensor(type_spec=TensorSpec(shape=(None, 5), dtype=tf.float32, name='embedding_input'), name='embedding_input', description=\"created by layer 'embedding_input'\"), but it was called on an input with incompatible shape (None, 4).\n",
      "WARNING:tensorflow:Model was constructed with shape (None, 5) for input KerasTensor(type_spec=TensorSpec(shape=(None, 5), dtype=tf.float32, name='embedding_input'), name='embedding_input', description=\"created by layer 'embedding_input'\"), but it was called on an input with incompatible shape (None, 4).\n",
      "1/1 [==============================] - 1s 986ms/step - loss: 2.2027 - accuracy: 0.0000e+00\n",
      "Epoch 2/200\n",
      "1/1 [==============================] - 0s 4ms/step - loss: 2.1990 - accuracy: 0.0000e+00\n",
      "Epoch 3/200\n",
      "1/1 [==============================] - 0s 3ms/step - loss: 2.1960 - accuracy: 0.0000e+00\n",
      "Epoch 4/200\n",
      "1/1 [==============================] - 0s 2ms/step - loss: 2.1931 - accuracy: 0.0000e+00\n",
      "Epoch 5/200\n",
      "1/1 [==============================] - 0s 3ms/step - loss: 2.1902 - accuracy: 0.0000e+00\n",
      "Epoch 6/200\n",
      "1/1 [==============================] - 0s 3ms/step - loss: 2.1873 - accuracy: 0.0000e+00\n",
      "Epoch 7/200\n",
      "1/1 [==============================] - 0s 3ms/step - loss: 2.1844 - accuracy: 0.0000e+00\n",
      "Epoch 8/200\n",
      "1/1 [==============================] - 0s 3ms/step - loss: 2.1812 - accuracy: 0.0000e+00\n",
      "Epoch 9/200\n",
      "1/1 [==============================] - 0s 3ms/step - loss: 2.1778 - accuracy: 0.2000\n",
      "Epoch 10/200\n",
      "1/1 [==============================] - 0s 4ms/step - loss: 2.1743 - accuracy: 0.2000\n",
      "Epoch 11/200\n",
      "1/1 [==============================] - 0s 4ms/step - loss: 2.1709 - accuracy: 0.5000\n",
      "Epoch 12/200\n",
      "1/1 [==============================] - 0s 3ms/step - loss: 2.1676 - accuracy: 0.5000\n",
      "Epoch 13/200\n",
      "1/1 [==============================] - 0s 3ms/step - loss: 2.1646 - accuracy: 0.5000\n",
      "Epoch 14/200\n",
      "1/1 [==============================] - 0s 3ms/step - loss: 2.1617 - accuracy: 0.5000\n",
      "Epoch 15/200\n",
      "1/1 [==============================] - 0s 2ms/step - loss: 2.1589 - accuracy: 0.5000\n",
      "Epoch 16/200\n",
      "1/1 [==============================] - 0s 4ms/step - loss: 2.1560 - accuracy: 0.5000\n",
      "Epoch 17/200\n",
      "1/1 [==============================] - 0s 3ms/step - loss: 2.1529 - accuracy: 0.5000\n",
      "Epoch 18/200\n",
      "1/1 [==============================] - 0s 3ms/step - loss: 2.1499 - accuracy: 0.5000\n",
      "Epoch 19/200\n",
      "1/1 [==============================] - 0s 4ms/step - loss: 2.1468 - accuracy: 0.5000\n",
      "Epoch 20/200\n",
      "1/1 [==============================] - 0s 4ms/step - loss: 2.1437 - accuracy: 0.5000\n",
      "Epoch 21/200\n",
      "1/1 [==============================] - 0s 4ms/step - loss: 2.1408 - accuracy: 0.5000\n",
      "Epoch 22/200\n",
      "1/1 [==============================] - 0s 3ms/step - loss: 2.1380 - accuracy: 0.6000\n",
      "Epoch 23/200\n",
      "1/1 [==============================] - 0s 3ms/step - loss: 2.1351 - accuracy: 0.6000\n",
      "Epoch 24/200\n",
      "1/1 [==============================] - 0s 2ms/step - loss: 2.1322 - accuracy: 0.6000\n",
      "Epoch 25/200\n",
      "1/1 [==============================] - 0s 3ms/step - loss: 2.1292 - accuracy: 0.6000\n",
      "Epoch 26/200\n",
      "1/1 [==============================] - 0s 3ms/step - loss: 2.1262 - accuracy: 0.6000\n",
      "Epoch 27/200\n",
      "1/1 [==============================] - 0s 2ms/step - loss: 2.1232 - accuracy: 0.6000\n",
      "Epoch 28/200\n",
      "1/1 [==============================] - 0s 2ms/step - loss: 2.1200 - accuracy: 0.6000\n",
      "Epoch 29/200\n",
      "1/1 [==============================] - 0s 3ms/step - loss: 2.1168 - accuracy: 0.7000\n",
      "Epoch 30/200\n",
      "1/1 [==============================] - 0s 3ms/step - loss: 2.1136 - accuracy: 0.7000\n",
      "Epoch 31/200\n",
      "1/1 [==============================] - 0s 4ms/step - loss: 2.1105 - accuracy: 0.7000\n",
      "Epoch 32/200\n",
      "1/1 [==============================] - 0s 3ms/step - loss: 2.1072 - accuracy: 0.7000\n",
      "Epoch 33/200\n",
      "1/1 [==============================] - 0s 3ms/step - loss: 2.1039 - accuracy: 0.7000\n",
      "Epoch 34/200\n",
      "1/1 [==============================] - 0s 3ms/step - loss: 2.1005 - accuracy: 0.7000\n",
      "Epoch 35/200\n",
      "1/1 [==============================] - 0s 3ms/step - loss: 2.0970 - accuracy: 0.7000\n",
      "Epoch 36/200\n",
      "1/1 [==============================] - 0s 3ms/step - loss: 2.0935 - accuracy: 0.7000\n",
      "Epoch 37/200\n",
      "1/1 [==============================] - 0s 3ms/step - loss: 2.0899 - accuracy: 0.7000\n",
      "Epoch 38/200\n",
      "1/1 [==============================] - 0s 3ms/step - loss: 2.0863 - accuracy: 0.7000\n",
      "Epoch 39/200\n",
      "1/1 [==============================] - 0s 3ms/step - loss: 2.0826 - accuracy: 0.7000\n",
      "Epoch 40/200\n",
      "1/1 [==============================] - 0s 4ms/step - loss: 2.0788 - accuracy: 0.7000\n",
      "Epoch 41/200\n",
      "1/1 [==============================] - 0s 2ms/step - loss: 2.0749 - accuracy: 0.7000\n",
      "Epoch 42/200\n",
      "1/1 [==============================] - 0s 2ms/step - loss: 2.0710 - accuracy: 0.7000\n",
      "Epoch 43/200\n",
      "1/1 [==============================] - 0s 2ms/step - loss: 2.0670 - accuracy: 0.7000\n",
      "Epoch 44/200\n",
      "1/1 [==============================] - 0s 4ms/step - loss: 2.0630 - accuracy: 0.7000\n",
      "Epoch 45/200\n",
      "1/1 [==============================] - 0s 2ms/step - loss: 2.0589 - accuracy: 0.7000\n",
      "Epoch 46/200\n",
      "1/1 [==============================] - 0s 3ms/step - loss: 2.0547 - accuracy: 0.7000\n",
      "Epoch 47/200\n",
      "1/1 [==============================] - 0s 4ms/step - loss: 2.0503 - accuracy: 0.7000\n",
      "Epoch 48/200\n",
      "1/1 [==============================] - 0s 3ms/step - loss: 2.0460 - accuracy: 0.7000\n",
      "Epoch 49/200\n",
      "1/1 [==============================] - 0s 2ms/step - loss: 2.0415 - accuracy: 0.7000\n",
      "Epoch 50/200\n",
      "1/1 [==============================] - 0s 2ms/step - loss: 2.0369 - accuracy: 0.7000\n",
      "Epoch 51/200\n",
      "1/1 [==============================] - 0s 4ms/step - loss: 2.0323 - accuracy: 0.7000\n",
      "Epoch 52/200\n",
      "1/1 [==============================] - 0s 3ms/step - loss: 2.0277 - accuracy: 0.7000\n",
      "Epoch 53/200\n",
      "1/1 [==============================] - 0s 2ms/step - loss: 2.0229 - accuracy: 0.7000\n",
      "Epoch 54/200\n",
      "1/1 [==============================] - 0s 2ms/step - loss: 2.0180 - accuracy: 0.7000\n",
      "Epoch 55/200\n",
      "1/1 [==============================] - 0s 3ms/step - loss: 2.0131 - accuracy: 0.7000\n",
      "Epoch 56/200\n",
      "1/1 [==============================] - 0s 4ms/step - loss: 2.0080 - accuracy: 0.7000\n",
      "Epoch 57/200\n",
      "1/1 [==============================] - 0s 2ms/step - loss: 2.0029 - accuracy: 0.7000\n",
      "Epoch 58/200\n",
      "1/1 [==============================] - 0s 3ms/step - loss: 1.9976 - accuracy: 0.7000\n",
      "Epoch 59/200\n",
      "1/1 [==============================] - 0s 3ms/step - loss: 1.9922 - accuracy: 0.7000\n",
      "Epoch 60/200\n",
      "1/1 [==============================] - 0s 3ms/step - loss: 1.9867 - accuracy: 0.7000\n",
      "Epoch 61/200\n",
      "1/1 [==============================] - 0s 2ms/step - loss: 1.9811 - accuracy: 0.7000\n",
      "Epoch 62/200\n",
      "1/1 [==============================] - 0s 2ms/step - loss: 1.9754 - accuracy: 0.7000\n",
      "Epoch 63/200\n",
      "1/1 [==============================] - 0s 3ms/step - loss: 1.9695 - accuracy: 0.7000\n",
      "Epoch 64/200\n",
      "1/1 [==============================] - 0s 2ms/step - loss: 1.9636 - accuracy: 0.7000\n",
      "Epoch 65/200\n",
      "1/1 [==============================] - 0s 3ms/step - loss: 1.9575 - accuracy: 0.7000\n",
      "Epoch 66/200\n",
      "1/1 [==============================] - 0s 2ms/step - loss: 1.9514 - accuracy: 0.7000\n",
      "Epoch 67/200\n",
      "1/1 [==============================] - 0s 2ms/step - loss: 1.9451 - accuracy: 0.7000\n",
      "Epoch 68/200\n",
      "1/1 [==============================] - 0s 3ms/step - loss: 1.9388 - accuracy: 0.7000\n",
      "Epoch 69/200\n",
      "1/1 [==============================] - 0s 2ms/step - loss: 1.9324 - accuracy: 0.7000\n",
      "Epoch 70/200\n",
      "1/1 [==============================] - 0s 2ms/step - loss: 1.9259 - accuracy: 0.7000\n",
      "Epoch 71/200\n",
      "1/1 [==============================] - 0s 3ms/step - loss: 1.9194 - accuracy: 0.7000\n",
      "Epoch 72/200\n",
      "1/1 [==============================] - 0s 2ms/step - loss: 1.9127 - accuracy: 0.7000\n",
      "Epoch 73/200\n",
      "1/1 [==============================] - 0s 3ms/step - loss: 1.9057 - accuracy: 0.7000\n",
      "Epoch 74/200\n",
      "1/1 [==============================] - 0s 3ms/step - loss: 1.8986 - accuracy: 0.7000\n",
      "Epoch 75/200\n",
      "1/1 [==============================] - 0s 3ms/step - loss: 1.8916 - accuracy: 0.7000\n",
      "Epoch 76/200\n",
      "1/1 [==============================] - 0s 3ms/step - loss: 1.8844 - accuracy: 0.7000\n",
      "Epoch 77/200\n",
      "1/1 [==============================] - 0s 3ms/step - loss: 1.8771 - accuracy: 0.7000\n",
      "Epoch 78/200\n"
     ]
    },
    {
     "name": "stdout",
     "output_type": "stream",
     "text": [
      "1/1 [==============================] - 0s 2ms/step - loss: 1.8697 - accuracy: 0.7000\n",
      "Epoch 79/200\n",
      "1/1 [==============================] - 0s 3ms/step - loss: 1.8621 - accuracy: 0.7000\n",
      "Epoch 80/200\n",
      "1/1 [==============================] - 0s 2ms/step - loss: 1.8543 - accuracy: 0.7000\n",
      "Epoch 81/200\n",
      "1/1 [==============================] - 0s 2ms/step - loss: 1.8465 - accuracy: 0.7000\n",
      "Epoch 82/200\n",
      "1/1 [==============================] - 0s 3ms/step - loss: 1.8385 - accuracy: 0.7000\n",
      "Epoch 83/200\n",
      "1/1 [==============================] - 0s 3ms/step - loss: 1.8303 - accuracy: 0.7000\n",
      "Epoch 84/200\n",
      "1/1 [==============================] - 0s 2ms/step - loss: 1.8221 - accuracy: 0.7000\n",
      "Epoch 85/200\n",
      "1/1 [==============================] - 0s 2ms/step - loss: 1.8137 - accuracy: 0.7000\n",
      "Epoch 86/200\n",
      "1/1 [==============================] - 0s 2ms/step - loss: 1.8052 - accuracy: 0.7000\n",
      "Epoch 87/200\n",
      "1/1 [==============================] - 0s 3ms/step - loss: 1.7965 - accuracy: 0.7000\n",
      "Epoch 88/200\n",
      "1/1 [==============================] - 0s 2ms/step - loss: 1.7876 - accuracy: 0.7000\n",
      "Epoch 89/200\n",
      "1/1 [==============================] - 0s 2ms/step - loss: 1.7786 - accuracy: 0.7000\n",
      "Epoch 90/200\n",
      "1/1 [==============================] - 0s 3ms/step - loss: 1.7695 - accuracy: 0.7000\n",
      "Epoch 91/200\n",
      "1/1 [==============================] - 0s 3ms/step - loss: 1.7602 - accuracy: 0.7000\n",
      "Epoch 92/200\n",
      "1/1 [==============================] - 0s 2ms/step - loss: 1.7506 - accuracy: 0.7000\n",
      "Epoch 93/200\n",
      "1/1 [==============================] - 0s 2ms/step - loss: 1.7411 - accuracy: 0.7000\n",
      "Epoch 94/200\n",
      "1/1 [==============================] - 0s 3ms/step - loss: 1.7314 - accuracy: 0.7000\n",
      "Epoch 95/200\n",
      "1/1 [==============================] - 0s 3ms/step - loss: 1.7215 - accuracy: 0.7000\n",
      "Epoch 96/200\n",
      "1/1 [==============================] - 0s 997us/step - loss: 1.7114 - accuracy: 0.7000\n",
      "Epoch 97/200\n",
      "1/1 [==============================] - 0s 2ms/step - loss: 1.7012 - accuracy: 0.7000\n",
      "Epoch 98/200\n",
      "1/1 [==============================] - 0s 2ms/step - loss: 1.6910 - accuracy: 0.7000\n",
      "Epoch 99/200\n",
      "1/1 [==============================] - 0s 2ms/step - loss: 1.6805 - accuracy: 0.7000\n",
      "Epoch 100/200\n",
      "1/1 [==============================] - 0s 2ms/step - loss: 1.6697 - accuracy: 0.7000\n",
      "Epoch 101/200\n",
      "1/1 [==============================] - 0s 2ms/step - loss: 1.6590 - accuracy: 0.7000\n",
      "Epoch 102/200\n",
      "1/1 [==============================] - 0s 997us/step - loss: 1.6480 - accuracy: 0.7000\n",
      "Epoch 103/200\n",
      "1/1 [==============================] - 0s 3ms/step - loss: 1.6370 - accuracy: 0.7000\n",
      "Epoch 104/200\n",
      "1/1 [==============================] - 0s 3ms/step - loss: 1.6258 - accuracy: 0.7000\n",
      "Epoch 105/200\n",
      "1/1 [==============================] - 0s 2ms/step - loss: 1.6145 - accuracy: 0.7000\n",
      "Epoch 106/200\n",
      "1/1 [==============================] - 0s 2ms/step - loss: 1.6030 - accuracy: 0.7000\n",
      "Epoch 107/200\n",
      "1/1 [==============================] - 0s 2ms/step - loss: 1.5914 - accuracy: 0.7000\n",
      "Epoch 108/200\n",
      "1/1 [==============================] - 0s 3ms/step - loss: 1.5796 - accuracy: 0.7000\n",
      "Epoch 109/200\n",
      "1/1 [==============================] - 0s 2ms/step - loss: 1.5677 - accuracy: 0.7000\n",
      "Epoch 110/200\n",
      "1/1 [==============================] - 0s 2ms/step - loss: 1.5556 - accuracy: 0.7000\n",
      "Epoch 111/200\n",
      "1/1 [==============================] - 0s 2ms/step - loss: 1.5433 - accuracy: 0.7000\n",
      "Epoch 112/200\n",
      "1/1 [==============================] - 0s 998us/step - loss: 1.5310 - accuracy: 0.7000\n",
      "Epoch 113/200\n",
      "1/1 [==============================] - 0s 3ms/step - loss: 1.5186 - accuracy: 0.7000\n",
      "Epoch 114/200\n",
      "1/1 [==============================] - 0s 2ms/step - loss: 1.5061 - accuracy: 0.8000\n",
      "Epoch 115/200\n",
      "1/1 [==============================] - 0s 2ms/step - loss: 1.4936 - accuracy: 0.8000\n",
      "Epoch 116/200\n",
      "1/1 [==============================] - 0s 1ms/step - loss: 1.4809 - accuracy: 0.8000\n",
      "Epoch 117/200\n",
      "1/1 [==============================] - 0s 3ms/step - loss: 1.4680 - accuracy: 0.8000\n",
      "Epoch 118/200\n",
      "1/1 [==============================] - 0s 2ms/step - loss: 1.4551 - accuracy: 0.8000\n",
      "Epoch 119/200\n",
      "1/1 [==============================] - 0s 2ms/step - loss: 1.4422 - accuracy: 0.8000\n",
      "Epoch 120/200\n",
      "1/1 [==============================] - 0s 2ms/step - loss: 1.4292 - accuracy: 0.8000\n",
      "Epoch 121/200\n",
      "1/1 [==============================] - 0s 2ms/step - loss: 1.4161 - accuracy: 0.8000\n",
      "Epoch 122/200\n",
      "1/1 [==============================] - 0s 3ms/step - loss: 1.4029 - accuracy: 0.8000\n",
      "Epoch 123/200\n",
      "1/1 [==============================] - 0s 3ms/step - loss: 1.3897 - accuracy: 0.8000\n",
      "Epoch 124/200\n",
      "1/1 [==============================] - 0s 2ms/step - loss: 1.3764 - accuracy: 0.8000\n",
      "Epoch 125/200\n",
      "1/1 [==============================] - 0s 998us/step - loss: 1.3631 - accuracy: 0.8000\n",
      "Epoch 126/200\n",
      "1/1 [==============================] - 0s 3ms/step - loss: 1.3497 - accuracy: 0.8000\n",
      "Epoch 127/200\n",
      "1/1 [==============================] - 0s 2ms/step - loss: 1.3362 - accuracy: 0.8000\n",
      "Epoch 128/200\n",
      "1/1 [==============================] - 0s 2ms/step - loss: 1.3227 - accuracy: 0.8000\n",
      "Epoch 129/200\n",
      "1/1 [==============================] - 0s 2ms/step - loss: 1.3091 - accuracy: 0.8000\n",
      "Epoch 130/200\n",
      "1/1 [==============================] - 0s 3ms/step - loss: 1.2955 - accuracy: 0.8000\n",
      "Epoch 131/200\n",
      "1/1 [==============================] - 0s 2ms/step - loss: 1.2819 - accuracy: 0.8000\n",
      "Epoch 132/200\n",
      "1/1 [==============================] - 0s 2ms/step - loss: 1.2684 - accuracy: 0.8000\n",
      "Epoch 133/200\n",
      "1/1 [==============================] - 0s 2ms/step - loss: 1.2548 - accuracy: 0.8000\n",
      "Epoch 134/200\n",
      "1/1 [==============================] - 0s 2ms/step - loss: 1.2411 - accuracy: 0.8000\n",
      "Epoch 135/200\n",
      "1/1 [==============================] - 0s 2ms/step - loss: 1.2277 - accuracy: 0.8000\n",
      "Epoch 136/200\n",
      "1/1 [==============================] - 0s 3ms/step - loss: 1.2144 - accuracy: 0.8000\n",
      "Epoch 137/200\n",
      "1/1 [==============================] - 0s 3ms/step - loss: 1.2012 - accuracy: 0.8000\n",
      "Epoch 138/200\n",
      "1/1 [==============================] - 0s 998us/step - loss: 1.1879 - accuracy: 0.8000\n",
      "Epoch 139/200\n",
      "1/1 [==============================] - 0s 2ms/step - loss: 1.1749 - accuracy: 0.8000\n",
      "Epoch 140/200\n",
      "1/1 [==============================] - 0s 2ms/step - loss: 1.1618 - accuracy: 0.8000\n",
      "Epoch 141/200\n",
      "1/1 [==============================] - 0s 3ms/step - loss: 1.1488 - accuracy: 0.8000\n",
      "Epoch 142/200\n",
      "1/1 [==============================] - 0s 997us/step - loss: 1.1359 - accuracy: 0.8000\n",
      "Epoch 143/200\n",
      "1/1 [==============================] - 0s 997us/step - loss: 1.1230 - accuracy: 0.8000\n",
      "Epoch 144/200\n",
      "1/1 [==============================] - 0s 2ms/step - loss: 1.1103 - accuracy: 0.8000\n",
      "Epoch 145/200\n",
      "1/1 [==============================] - 0s 3ms/step - loss: 1.0976 - accuracy: 0.8000\n",
      "Epoch 146/200\n",
      "1/1 [==============================] - 0s 2ms/step - loss: 1.0849 - accuracy: 0.8000\n",
      "Epoch 147/200\n",
      "1/1 [==============================] - 0s 2ms/step - loss: 1.0723 - accuracy: 0.8000\n",
      "Epoch 148/200\n",
      "1/1 [==============================] - 0s 2ms/step - loss: 1.0599 - accuracy: 0.8000\n",
      "Epoch 149/200\n",
      "1/1 [==============================] - 0s 3ms/step - loss: 1.0477 - accuracy: 0.8000\n",
      "Epoch 150/200\n",
      "1/1 [==============================] - 0s 3ms/step - loss: 1.0355 - accuracy: 0.8000\n",
      "Epoch 151/200\n",
      "1/1 [==============================] - 0s 2ms/step - loss: 1.0234 - accuracy: 0.8000\n",
      "Epoch 152/200\n",
      "1/1 [==============================] - 0s 3ms/step - loss: 1.0117 - accuracy: 0.8000\n",
      "Epoch 153/200\n",
      "1/1 [==============================] - 0s 3ms/step - loss: 1.0000 - accuracy: 0.8000\n",
      "Epoch 154/200\n",
      "1/1 [==============================] - 0s 2ms/step - loss: 0.9884 - accuracy: 0.8000\n",
      "Epoch 155/200\n",
      "1/1 [==============================] - 0s 2ms/step - loss: 0.9769 - accuracy: 0.8000\n",
      "Epoch 156/200\n",
      "1/1 [==============================] - 0s 2ms/step - loss: 0.9655 - accuracy: 0.8000\n",
      "Epoch 157/200\n",
      "1/1 [==============================] - 0s 2ms/step - loss: 0.9544 - accuracy: 0.8000\n",
      "Epoch 158/200\n",
      "1/1 [==============================] - 0s 2ms/step - loss: 0.9433 - accuracy: 0.8000\n",
      "Epoch 159/200\n",
      "1/1 [==============================] - 0s 2ms/step - loss: 0.9323 - accuracy: 0.8000\n",
      "Epoch 160/200\n",
      "1/1 [==============================] - 0s 3ms/step - loss: 0.9215 - accuracy: 0.8000\n"
     ]
    },
    {
     "name": "stdout",
     "output_type": "stream",
     "text": [
      "Epoch 161/200\n",
      "1/1 [==============================] - 0s 2ms/step - loss: 0.9109 - accuracy: 0.8000\n",
      "Epoch 162/200\n",
      "1/1 [==============================] - 0s 2ms/step - loss: 0.9003 - accuracy: 0.8000\n",
      "Epoch 163/200\n",
      "1/1 [==============================] - 0s 3ms/step - loss: 0.8899 - accuracy: 0.8000\n",
      "Epoch 164/200\n",
      "1/1 [==============================] - 0s 3ms/step - loss: 0.8796 - accuracy: 0.8000\n",
      "Epoch 165/200\n",
      "1/1 [==============================] - 0s 2ms/step - loss: 0.8695 - accuracy: 0.8000\n",
      "Epoch 166/200\n",
      "1/1 [==============================] - 0s 2ms/step - loss: 0.8595 - accuracy: 0.8000\n",
      "Epoch 167/200\n",
      "1/1 [==============================] - 0s 2ms/step - loss: 0.8496 - accuracy: 0.8000\n",
      "Epoch 168/200\n",
      "1/1 [==============================] - 0s 3ms/step - loss: 0.8399 - accuracy: 0.8000\n",
      "Epoch 169/200\n",
      "1/1 [==============================] - 0s 2ms/step - loss: 0.8303 - accuracy: 0.8000\n",
      "Epoch 170/200\n",
      "1/1 [==============================] - 0s 3ms/step - loss: 0.8209 - accuracy: 0.8000\n",
      "Epoch 171/200\n",
      "1/1 [==============================] - 0s 2ms/step - loss: 0.8116 - accuracy: 0.8000\n",
      "Epoch 172/200\n",
      "1/1 [==============================] - 0s 3ms/step - loss: 0.8024 - accuracy: 0.8000\n",
      "Epoch 173/200\n",
      "1/1 [==============================] - 0s 3ms/step - loss: 0.7934 - accuracy: 0.8000\n",
      "Epoch 174/200\n",
      "1/1 [==============================] - 0s 2ms/step - loss: 0.7845 - accuracy: 0.8000\n",
      "Epoch 175/200\n",
      "1/1 [==============================] - 0s 2ms/step - loss: 0.7758 - accuracy: 0.8000\n",
      "Epoch 176/200\n",
      "1/1 [==============================] - 0s 2ms/step - loss: 0.7672 - accuracy: 0.8000\n",
      "Epoch 177/200\n",
      "1/1 [==============================] - 0s 2ms/step - loss: 0.7586 - accuracy: 0.8000\n",
      "Epoch 178/200\n",
      "1/1 [==============================] - 0s 2ms/step - loss: 0.7503 - accuracy: 0.8000\n",
      "Epoch 179/200\n",
      "1/1 [==============================] - 0s 3ms/step - loss: 0.7421 - accuracy: 0.8000\n",
      "Epoch 180/200\n",
      "1/1 [==============================] - 0s 2ms/step - loss: 0.7341 - accuracy: 0.8000\n",
      "Epoch 181/200\n",
      "1/1 [==============================] - 0s 2ms/step - loss: 0.7262 - accuracy: 0.8000\n",
      "Epoch 182/200\n",
      "1/1 [==============================] - 0s 2ms/step - loss: 0.7184 - accuracy: 0.9000\n",
      "Epoch 183/200\n",
      "1/1 [==============================] - 0s 2ms/step - loss: 0.7107 - accuracy: 0.8000\n",
      "Epoch 184/200\n",
      "1/1 [==============================] - 0s 996us/step - loss: 0.7031 - accuracy: 0.8000\n",
      "Epoch 185/200\n",
      "1/1 [==============================] - 0s 2ms/step - loss: 0.6955 - accuracy: 0.8000\n",
      "Epoch 186/200\n",
      "1/1 [==============================] - 0s 3ms/step - loss: 0.6884 - accuracy: 0.8000\n",
      "Epoch 187/200\n",
      "1/1 [==============================] - 0s 3ms/step - loss: 0.6812 - accuracy: 0.8000\n",
      "Epoch 188/200\n",
      "1/1 [==============================] - 0s 2ms/step - loss: 0.6740 - accuracy: 0.8000\n",
      "Epoch 189/200\n",
      "1/1 [==============================] - 0s 2ms/step - loss: 0.6671 - accuracy: 0.8000\n",
      "Epoch 190/200\n",
      "1/1 [==============================] - 0s 1ms/step - loss: 0.6603 - accuracy: 0.8000\n",
      "Epoch 191/200\n",
      "1/1 [==============================] - 0s 2ms/step - loss: 0.6535 - accuracy: 0.8000\n",
      "Epoch 192/200\n",
      "1/1 [==============================] - 0s 2ms/step - loss: 0.6468 - accuracy: 0.8000\n",
      "Epoch 193/200\n",
      "1/1 [==============================] - 0s 2ms/step - loss: 0.6403 - accuracy: 0.8000\n",
      "Epoch 194/200\n",
      "1/1 [==============================] - 0s 2ms/step - loss: 0.6338 - accuracy: 0.8000\n",
      "Epoch 195/200\n",
      "1/1 [==============================] - 0s 3ms/step - loss: 0.6276 - accuracy: 0.8000\n",
      "Epoch 196/200\n",
      "1/1 [==============================] - 0s 2ms/step - loss: 0.6215 - accuracy: 0.8000\n",
      "Epoch 197/200\n",
      "1/1 [==============================] - 0s 2ms/step - loss: 0.6154 - accuracy: 0.8000\n",
      "Epoch 198/200\n",
      "1/1 [==============================] - 0s 2ms/step - loss: 0.6093 - accuracy: 0.8000\n",
      "Epoch 199/200\n",
      "1/1 [==============================] - 0s 2ms/step - loss: 0.6035 - accuracy: 0.8000\n",
      "Epoch 200/200\n",
      "1/1 [==============================] - 0s 2ms/step - loss: 0.5977 - accuracy: 0.8000\n"
     ]
    },
    {
     "data": {
      "text/plain": [
       "<tensorflow.python.keras.callbacks.History at 0x1e105fcbd30>"
      ]
     },
     "execution_count": 27,
     "metadata": {},
     "output_type": "execute_result"
    }
   ],
   "source": [
    "RNN.fit(X,y_cate, epochs=200, verbose=1)"
   ]
  },
  {
   "cell_type": "code",
   "execution_count": 14,
   "id": "3842e39c",
   "metadata": {},
   "outputs": [],
   "source": [
    "test_encode=tokenizer.texts_to_sequences(['학생들이 NLP 강의를'])[0]"
   ]
  },
  {
   "cell_type": "code",
   "execution_count": 15,
   "id": "6ccc22ab",
   "metadata": {},
   "outputs": [],
   "source": [
    "pad_test_encode=pad_sequences([test_encode], maxlen=4, padding='pre')"
   ]
  },
  {
   "cell_type": "code",
   "execution_count": 28,
   "id": "73256a68",
   "metadata": {},
   "outputs": [
    {
     "data": {
      "text/plain": [
       "array([[0, 3, 1, 2]])"
      ]
     },
     "execution_count": 28,
     "metadata": {},
     "output_type": "execute_result"
    }
   ],
   "source": [
    "pad_test_encode"
   ]
  },
  {
   "cell_type": "code",
   "execution_count": 29,
   "id": "09806fe1",
   "metadata": {},
   "outputs": [
    {
     "name": "stdout",
     "output_type": "stream",
     "text": [
      "WARNING:tensorflow:Model was constructed with shape (None, 5) for input KerasTensor(type_spec=TensorSpec(shape=(None, 5), dtype=tf.float32, name='embedding_input'), name='embedding_input', description=\"created by layer 'embedding_input'\"), but it was called on an input with incompatible shape (None, 4).\n"
     ]
    }
   ],
   "source": [
    "pred_prob=RNN.predict(pad_test_encode)"
   ]
  },
  {
   "cell_type": "code",
   "execution_count": 30,
   "id": "94148dd9",
   "metadata": {},
   "outputs": [
    {
     "data": {
      "text/plain": [
       "{'nlp': 1,\n",
       " '강의를': 2,\n",
       " '학생들이': 3,\n",
       " '박교수가': 4,\n",
       " '한다': 5,\n",
       " '듣는다': 6,\n",
       " '이해': 7,\n",
       " '못한다': 8}"
      ]
     },
     "execution_count": 30,
     "metadata": {},
     "output_type": "execute_result"
    }
   ],
   "source": [
    "tokenizer.word_index"
   ]
  },
  {
   "cell_type": "code",
   "execution_count": 31,
   "id": "0cb410f5",
   "metadata": {},
   "outputs": [
    {
     "data": {
      "text/plain": [
       "array([[0.00567153, 0.0097875 , 0.05740198, 0.00508699, 0.00042935,\n",
       "        0.3087412 , 0.32722867, 0.14627023, 0.1393824 ]], dtype=float32)"
      ]
     },
     "execution_count": 31,
     "metadata": {},
     "output_type": "execute_result"
    }
   ],
   "source": [
    "pred_prob"
   ]
  },
  {
   "cell_type": "code",
   "execution_count": 32,
   "id": "eb55fd20",
   "metadata": {},
   "outputs": [],
   "source": [
    "pred_class=np.argmax(pred_prob, axis=1) #argmax:가장 큰 숫자의 해당하는 인덱스를 알려줌"
   ]
  },
  {
   "cell_type": "code",
   "execution_count": 33,
   "id": "e6e65425",
   "metadata": {},
   "outputs": [
    {
     "data": {
      "text/plain": [
       "array([6], dtype=int64)"
      ]
     },
     "execution_count": 33,
     "metadata": {},
     "output_type": "execute_result"
    }
   ],
   "source": [
    "pred_class"
   ]
  }
 ],
 "metadata": {
  "kernelspec": {
   "display_name": "Python 3 (ipykernel)",
   "language": "python",
   "name": "python3"
  },
  "language_info": {
   "codemirror_mode": {
    "name": "ipython",
    "version": 3
   },
   "file_extension": ".py",
   "mimetype": "text/x-python",
   "name": "python",
   "nbconvert_exporter": "python",
   "pygments_lexer": "ipython3",
   "version": "3.8.11"
  }
 },
 "nbformat": 4,
 "nbformat_minor": 5
}
