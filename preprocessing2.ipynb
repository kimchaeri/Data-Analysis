{
 "cells": [
  {
   "cell_type": "code",
   "execution_count": 2,
   "id": "7f57c8b9",
   "metadata": {},
   "outputs": [],
   "source": [
    "#필요한 라이브러리 호출\n",
    "\n",
    "import os\n",
    "import numpy as np\n",
    "import pandas as pd\n",
    "import matplotlib.pyplot as plt\n",
    "import seaborn as sns\n",
    "\n",
    "###########################################\n",
    "import nltk\n",
    "import konlpy"
   ]
  },
  {
   "cell_type": "code",
   "execution_count": 3,
   "id": "c8f3ea93",
   "metadata": {},
   "outputs": [],
   "source": [
    "import re #파이썬 정규 표현식"
   ]
  },
  {
   "cell_type": "code",
   "execution_count": 4,
   "id": "9f56375a",
   "metadata": {},
   "outputs": [],
   "source": [
    "text=\"교수님이+자연어처리+수업을+한다\""
   ]
  },
  {
   "cell_type": "code",
   "execution_count": 8,
   "id": "ee5eacc1",
   "metadata": {},
   "outputs": [
    {
     "name": "stdout",
     "output_type": "stream",
     "text": [
      "['교수님이 자연어처리 수업을 한다']\n"
     ]
    }
   ],
   "source": [
    "#정규식과 매칭되는 문자열을 분리하여 리스트 (자료구조)로 리턴\n",
    "print(re.split(\"\\+\",text))"
   ]
  },
  {
   "cell_type": "code",
   "execution_count": 12,
   "id": "b483d42e",
   "metadata": {},
   "outputs": [],
   "source": [
    "text=\"\"\"교수님이\n",
    "자연어처리\n",
    "수업을 \n",
    "한다\"\"\""
   ]
  },
  {
   "cell_type": "code",
   "execution_count": 13,
   "id": "871e0265",
   "metadata": {},
   "outputs": [
    {
     "data": {
      "text/plain": [
       "'교수님이\\n자연어처리\\n수업을 \\n한다'"
      ]
     },
     "execution_count": 13,
     "metadata": {},
     "output_type": "execute_result"
    }
   ],
   "source": [
    "text"
   ]
  },
  {
   "cell_type": "code",
   "execution_count": 10,
   "id": "595cf809",
   "metadata": {},
   "outputs": [
    {
     "name": "stdout",
     "output_type": "stream",
     "text": [
      "['교수님이', '자연어처리', '수업을 ', '한다', '']\n"
     ]
    }
   ],
   "source": [
    "print(re.split(\"\\n\",text)) #이스케이프 문자"
   ]
  },
  {
   "cell_type": "code",
   "execution_count": 16,
   "id": "401ddd6a",
   "metadata": {},
   "outputs": [],
   "source": [
    "text=\"교수님이 자연어처리 수업을 한다\""
   ]
  },
  {
   "cell_type": "code",
   "execution_count": 17,
   "id": "e808e501",
   "metadata": {},
   "outputs": [
    {
     "data": {
      "text/plain": [
       "[' ', ' ', ' ']"
      ]
     },
     "execution_count": 17,
     "metadata": {},
     "output_type": "execute_result"
    }
   ],
   "source": [
    "re.findall(\" \",text) #findall() 문자열 중 패턴과 일치하는 것을 찾는 것"
   ]
  },
  {
   "cell_type": "code",
   "execution_count": 18,
   "id": "a952b05b",
   "metadata": {},
   "outputs": [],
   "source": [
    "text=\"\"\"이름: 박성호\n",
    "전화번호: 010-4444-1234\n",
    "나이: 31\n",
    "성별: 여자\"\"\""
   ]
  },
  {
   "cell_type": "code",
   "execution_count": 19,
   "id": "b48a96ca",
   "metadata": {},
   "outputs": [
    {
     "name": "stdout",
     "output_type": "stream",
     "text": [
      "['0', '1', '0', '4', '4', '4', '4', '1', '2', '3', '4', '3', '1']\n"
     ]
    }
   ],
   "source": [
    "print(re.findall(\"\\d\",text)) #\\d는 숫자를 정규식으로 받아들이겠다는 것"
   ]
  },
  {
   "cell_type": "code",
   "execution_count": 21,
   "id": "142dd30a",
   "metadata": {},
   "outputs": [
    {
     "name": "stdout",
     "output_type": "stream",
     "text": [
      "['010', '4444', '1234', '31']\n"
     ]
    }
   ],
   "source": [
    "#최소 1번 이상 반복되는 숫자를 정규식으로 사용한다.\n",
    "print(re.findall(\"\\d+\",text))"
   ]
  },
  {
   "cell_type": "code",
   "execution_count": 22,
   "id": "e1097190",
   "metadata": {},
   "outputs": [
    {
     "name": "stdout",
     "output_type": "stream",
     "text": [
      "['010', '4444', '1234', '31']\n"
     ]
    }
   ],
   "source": [
    "print(re.findall(\"[0-9]+\",text))"
   ]
  },
  {
   "cell_type": "code",
   "execution_count": 24,
   "id": "d3ec2df3",
   "metadata": {},
   "outputs": [
    {
     "name": "stdout",
     "output_type": "stream",
     "text": [
      "['이', '름', ':', ' ', '박', '성', '호', '\\n', '전', '화', '번', '호', ':', ' ', '-', '-', '\\n', '나', '이', ':', ' ', '\\n', '성', '별', ':', ' ', '여', '자']\n"
     ]
    }
   ],
   "source": [
    "print(re.findall(\"\\D\",text)) #\\D는 숫자가 아닌 것들을 정규식으로 "
   ]
  },
  {
   "cell_type": "code",
   "execution_count": 25,
   "id": "853a2f76",
   "metadata": {},
   "outputs": [
    {
     "name": "stdout",
     "output_type": "stream",
     "text": [
      "['이름: 박성호\\n전화번호: ', '-', '-', '\\n나이: ', '\\n성별: 여자']\n"
     ]
    }
   ],
   "source": [
    "print(re.findall(\"\\D+\",text)) "
   ]
  },
  {
   "cell_type": "code",
   "execution_count": 26,
   "id": "8a673623",
   "metadata": {},
   "outputs": [
    {
     "name": "stdout",
     "output_type": "stream",
     "text": [
      "['이름: 박성호\\n전화번호: ', '-', '-', '\\n나이: ', '\\n성별: 여자']\n"
     ]
    }
   ],
   "source": [
    "#^:not\n",
    "print(re.findall(\"[^0-9]+\",text)) "
   ]
  },
  {
   "cell_type": "code",
   "execution_count": 27,
   "id": "ca55c6eb",
   "metadata": {},
   "outputs": [
    {
     "name": "stdout",
     "output_type": "stream",
     "text": [
      "['이', '름', '박', '성', '호', '전', '화', '번', '호', '0', '1', '0', '4', '4', '4', '4', '1', '2', '3', '4', '나', '이', '3', '1', '성', '별', '여', '자']\n"
     ]
    }
   ],
   "source": [
    "print(re.findall(\"\\w\",text)) #\\w는 숫자랑 문자만 가져올 때"
   ]
  },
  {
   "cell_type": "code",
   "execution_count": 28,
   "id": "dc0d7cfd",
   "metadata": {},
   "outputs": [
    {
     "name": "stdout",
     "output_type": "stream",
     "text": [
      "['이름', '박성호', '전화번호', '010', '4444', '1234', '나이', '31', '성별', '여자']\n"
     ]
    }
   ],
   "source": [
    "print(re.findall(\"\\w+\",text))"
   ]
  },
  {
   "cell_type": "code",
   "execution_count": 29,
   "id": "4ebb7456",
   "metadata": {},
   "outputs": [
    {
     "name": "stdout",
     "output_type": "stream",
     "text": [
      "[': ', '\\n', ': ', '-', '-', '\\n', ': ', '\\n', ': ']\n"
     ]
    }
   ],
   "source": [
    "print(re.findall(\"\\W+\",text)) #숫자랑 문자가 아닌것들만 가져올 때"
   ]
  },
  {
   "cell_type": "code",
   "execution_count": 33,
   "id": "cfd672db",
   "metadata": {},
   "outputs": [],
   "source": [
    "text=\"\"\"Name: sung ho park\n",
    "Phone Number: 010-4444-1234\n",
    "Age: 31\n",
    "Sex: female\"\"\""
   ]
  },
  {
   "cell_type": "code",
   "execution_count": 34,
   "id": "2d8c391a",
   "metadata": {},
   "outputs": [
    {
     "name": "stdout",
     "output_type": "stream",
     "text": [
      "['Name', 'sung', 'ho', 'park', 'Phone', 'Number', '010', '4444', '1234', 'Age', '31', 'Sex', 'female']\n"
     ]
    }
   ],
   "source": [
    "print(re.findall(\"[a-zA-Z0-9]+\",text))"
   ]
  },
  {
   "cell_type": "code",
   "execution_count": 32,
   "id": "54a15d26",
   "metadata": {},
   "outputs": [
    {
     "name": "stdout",
     "output_type": "stream",
     "text": [
      "['name', 'sung', 'ho', 'park', 'phone', 'number', '010', '4444', '1234', 'age', '31', 'sex', 'female']\n"
     ]
    }
   ],
   "source": [
    "print(re.findall(\"[a-z0-9]+\",text))"
   ]
  },
  {
   "cell_type": "code",
   "execution_count": 30,
   "id": "13a5f9ec",
   "metadata": {},
   "outputs": [
    {
     "name": "stdout",
     "output_type": "stream",
     "text": [
      "['이름', '박성호', '전화번호', '010', '4444', '1234', '나이', '31', '성별', '여자']\n"
     ]
    }
   ],
   "source": [
    "print(re.findall(\"[가-힣0-9]+\",text))"
   ]
  },
  {
   "cell_type": "code",
   "execution_count": 35,
   "id": "12d077c4",
   "metadata": {},
   "outputs": [],
   "source": [
    "text=\"aaaa[1]\""
   ]
  },
  {
   "cell_type": "code",
   "execution_count": 37,
   "id": "8bcd988a",
   "metadata": {},
   "outputs": [
    {
     "data": {
      "text/plain": [
       "'aaaa!!!'"
      ]
     },
     "execution_count": 37,
     "metadata": {},
     "output_type": "execute_result"
    }
   ],
   "source": [
    "re.sub(\"[^a-zA-Z]\",\"!\",text) #input이 3개 #re.sub(정규 표현식, 치환 문자, 대상 문자열)"
   ]
  },
  {
   "cell_type": "code",
   "execution_count": 38,
   "id": "50698a8f",
   "metadata": {},
   "outputs": [],
   "source": [
    "text=\"이 영화 개웃김 졸라 잼있어 ㅋㅋㅋ!!!\""
   ]
  },
  {
   "cell_type": "code",
   "execution_count": 39,
   "id": "09dfd4fe",
   "metadata": {},
   "outputs": [
    {
     "data": {
      "text/plain": [
       "'이영화개웃김졸라잼있어ㅋㅋㅋ'"
      ]
     },
     "execution_count": 39,
     "metadata": {},
     "output_type": "execute_result"
    }
   ],
   "source": [
    "re.sub(\"\\W\",\"\",text)"
   ]
  },
  {
   "cell_type": "code",
   "execution_count": 40,
   "id": "4ac9d200",
   "metadata": {},
   "outputs": [
    {
     "data": {
      "text/plain": [
       "'이영화개웃김졸라잼있어'"
      ]
     },
     "execution_count": 40,
     "metadata": {},
     "output_type": "execute_result"
    }
   ],
   "source": [
    "re.sub(\"[^가-힣]\",\"\",text)"
   ]
  },
  {
   "cell_type": "code",
   "execution_count": 41,
   "id": "b5777d83",
   "metadata": {},
   "outputs": [
    {
     "data": {
      "text/plain": [
       "'이 영화 개웃김 졸라 잼있어'"
      ]
     },
     "execution_count": 41,
     "metadata": {},
     "output_type": "execute_result"
    }
   ],
   "source": [
    "re.sub(\"[^가-힣]+$\",\"\",text) #띄어쓰기"
   ]
  },
  {
   "cell_type": "markdown",
   "id": "b83c4d9a",
   "metadata": {},
   "source": [
    "# Stop words 불용어"
   ]
  },
  {
   "cell_type": "code",
   "execution_count": 42,
   "id": "95857443",
   "metadata": {},
   "outputs": [],
   "source": [
    "#불필요한 언어들을 저장해놓고 제거하는 것\n",
    "from nltk.corpus import stopwords"
   ]
  },
  {
   "cell_type": "code",
   "execution_count": 43,
   "id": "7aaeb34b",
   "metadata": {},
   "outputs": [
    {
     "name": "stdout",
     "output_type": "stream",
     "text": [
      "['i', 'me', 'my', 'myself', 'we', 'our', 'ours', 'ourselves', 'you', \"you're\", \"you've\", \"you'll\", \"you'd\", 'your', 'yours', 'yourself', 'yourselves', 'he', 'him', 'his', 'himself', 'she', \"she's\", 'her', 'hers', 'herself', 'it', \"it's\", 'its', 'itself', 'they', 'them', 'their', 'theirs', 'themselves', 'what', 'which', 'who', 'whom', 'this', 'that', \"that'll\", 'these', 'those', 'am', 'is', 'are', 'was', 'were', 'be', 'been', 'being', 'have', 'has', 'had', 'having', 'do', 'does', 'did', 'doing', 'a', 'an', 'the', 'and', 'but', 'if', 'or', 'because', 'as', 'until', 'while', 'of', 'at', 'by', 'for', 'with', 'about', 'against', 'between', 'into', 'through', 'during', 'before', 'after', 'above', 'below', 'to', 'from', 'up', 'down', 'in', 'out', 'on', 'off', 'over', 'under', 'again', 'further', 'then', 'once', 'here', 'there', 'when', 'where', 'why', 'how', 'all', 'any', 'both', 'each', 'few', 'more', 'most', 'other', 'some', 'such', 'no', 'nor', 'not', 'only', 'own', 'same', 'so', 'than', 'too', 'very', 's', 't', 'can', 'will', 'just', 'don', \"don't\", 'should', \"should've\", 'now', 'd', 'll', 'm', 'o', 're', 've', 'y', 'ain', 'aren', \"aren't\", 'couldn', \"couldn't\", 'didn', \"didn't\", 'doesn', \"doesn't\", 'hadn', \"hadn't\", 'hasn', \"hasn't\", 'haven', \"haven't\", 'isn', \"isn't\", 'ma', 'mightn', \"mightn't\", 'mustn', \"mustn't\", 'needn', \"needn't\", 'shan', \"shan't\", 'shouldn', \"shouldn't\", 'wasn', \"wasn't\", 'weren', \"weren't\", 'won', \"won't\", 'wouldn', \"wouldn't\"]\n"
     ]
    }
   ],
   "source": [
    "print(stopwords.words('english')) #NLTK가 정의한 영어 불용어 리스트를 리턴"
   ]
  },
  {
   "cell_type": "code",
   "execution_count": 44,
   "id": "59135777",
   "metadata": {},
   "outputs": [],
   "source": [
    "from nltk.tokenize import word_tokenize"
   ]
  },
  {
   "cell_type": "code",
   "execution_count": 45,
   "id": "e3dcf1de",
   "metadata": {},
   "outputs": [],
   "source": [
    "text=\"\"\"The Natural Language Toolkit, or more commonly NLTK, is a suite of libraries\n",
    "and programs for symbolic and statical natural language processing\"\"\""
   ]
  },
  {
   "cell_type": "code",
   "execution_count": 46,
   "id": "1efe1b28",
   "metadata": {},
   "outputs": [],
   "source": [
    "tokens=word_tokenize(text)"
   ]
  },
  {
   "cell_type": "code",
   "execution_count": 48,
   "id": "38e9841a",
   "metadata": {},
   "outputs": [
    {
     "name": "stdout",
     "output_type": "stream",
     "text": [
      "['The', 'Natural', 'Language', 'Toolkit', ',', 'or', 'more', 'commonly', 'NLTK', ',', 'is', 'a', 'suite', 'of', 'libraries', 'and', 'programs', 'for', 'symbolic', 'and', 'statical', 'natural', 'language', 'processing']\n"
     ]
    }
   ],
   "source": [
    "print(tokens)"
   ]
  },
  {
   "cell_type": "code",
   "execution_count": 49,
   "id": "b7b25298",
   "metadata": {},
   "outputs": [],
   "source": [
    "stopwords=stopwords.words('english')"
   ]
  },
  {
   "cell_type": "code",
   "execution_count": 50,
   "id": "d95f3059",
   "metadata": {},
   "outputs": [],
   "source": [
    "result=[]\n",
    "\n",
    "for w in tokens:\n",
    "    if w not in stopwords:\n",
    "        result.append(w)"
   ]
  },
  {
   "cell_type": "code",
   "execution_count": 51,
   "id": "eaaff8af",
   "metadata": {},
   "outputs": [
    {
     "name": "stdout",
     "output_type": "stream",
     "text": [
      "['The', 'Natural', 'Language', 'Toolkit', ',', 'or', 'more', 'commonly', 'NLTK', ',', 'is', 'a', 'suite', 'of', 'libraries', 'and', 'programs', 'for', 'symbolic', 'and', 'statical', 'natural', 'language', 'processing']\n"
     ]
    }
   ],
   "source": [
    "print(tokens)"
   ]
  },
  {
   "cell_type": "code",
   "execution_count": 52,
   "id": "c767b95a",
   "metadata": {},
   "outputs": [
    {
     "name": "stdout",
     "output_type": "stream",
     "text": [
      "['The', 'Natural', 'Language', 'Toolkit', ',', 'commonly', 'NLTK', ',', 'suite', 'libraries', 'programs', 'symbolic', 'statical', 'natural', 'language', 'processing']\n"
     ]
    }
   ],
   "source": [
    "print(result)"
   ]
  },
  {
   "cell_type": "code",
   "execution_count": 62,
   "id": "30686d23",
   "metadata": {},
   "outputs": [],
   "source": [
    "text=\"고기를 아무렇게나 구우려고 하면 안돼. 고기라고 다 같은 게 아니거든\""
   ]
  },
  {
   "cell_type": "code",
   "execution_count": 54,
   "id": "7d556d9d",
   "metadata": {},
   "outputs": [],
   "source": [
    "from konlpy.tag import Kkma"
   ]
  },
  {
   "cell_type": "code",
   "execution_count": 55,
   "id": "d21f09c5",
   "metadata": {},
   "outputs": [],
   "source": [
    "km = Kkma()"
   ]
  },
  {
   "cell_type": "code",
   "execution_count": 63,
   "id": "9663ff71",
   "metadata": {},
   "outputs": [
    {
     "data": {
      "text/plain": [
       "['고기',\n",
       " '를',\n",
       " '아무렇',\n",
       " '게',\n",
       " '나',\n",
       " '아',\n",
       " '굽',\n",
       " '려고',\n",
       " '하',\n",
       " '면',\n",
       " '안',\n",
       " '되',\n",
       " '어',\n",
       " '.',\n",
       " '고기',\n",
       " '라고',\n",
       " '다',\n",
       " '같',\n",
       " '은',\n",
       " '것',\n",
       " '이',\n",
       " '아니',\n",
       " '거든']"
      ]
     },
     "execution_count": 63,
     "metadata": {},
     "output_type": "execute_result"
    }
   ],
   "source": [
    "km.morphs(text) #형태소 분석"
   ]
  },
  {
   "cell_type": "code",
   "execution_count": 64,
   "id": "3cebbedd",
   "metadata": {},
   "outputs": [],
   "source": [
    "korean_mophs = km.morphs(text)"
   ]
  },
  {
   "cell_type": "code",
   "execution_count": 65,
   "id": "61285582",
   "metadata": {},
   "outputs": [],
   "source": [
    "stop_words = \"아무렇게나 하면 다\""
   ]
  },
  {
   "cell_type": "code",
   "execution_count": 66,
   "id": "2d3a2e13",
   "metadata": {},
   "outputs": [],
   "source": [
    "result = []\n",
    "for w in korean_mophs:\n",
    "    if w not in stop_words:\n",
    "        result.append(w)"
   ]
  },
  {
   "cell_type": "code",
   "execution_count": 67,
   "id": "9e1e6940",
   "metadata": {},
   "outputs": [
    {
     "name": "stdout",
     "output_type": "stream",
     "text": [
      "['고기', '를', '아무렇', '게', '나', '아', '굽', '려고', '하', '면', '안', '되', '어', '.', '고기', '라고', '다', '같', '은', '것', '이', '아니', '거든']\n"
     ]
    }
   ],
   "source": [
    "print(korean_mophs)"
   ]
  },
  {
   "cell_type": "code",
   "execution_count": 68,
   "id": "01cff41f",
   "metadata": {},
   "outputs": [
    {
     "name": "stdout",
     "output_type": "stream",
     "text": [
      "['고기', '를', '굽', '려고', '안', '되', '어', '.', '고기', '라고', '같', '은', '것', '이', '아니', '거든']\n"
     ]
    }
   ],
   "source": [
    "print(result)"
   ]
  },
  {
   "cell_type": "code",
   "execution_count": 71,
   "id": "dde0e20a",
   "metadata": {},
   "outputs": [],
   "source": [
    "stopwords=[]\n",
    "with open('./한국어불용어100.txt','r',encoding='utf-8') as f:\n",
    "    \n",
    "    for line in f:\n",
    "        stopwords.append(line.rstrip('\\n+\\t')) #한 줄 읽을 때 오른쪽에 있는 줄바꿈 문자를 제거하면서 가지고 오겠다 #rstrip() 인자로 전달된 문자를 오른쪽에서 제거합니다."
   ]
  },
  {
   "cell_type": "code",
   "execution_count": 72,
   "id": "12183d42",
   "metadata": {},
   "outputs": [
    {
     "data": {
      "text/plain": [
       "['이',\n",
       " '있',\n",
       " '하',\n",
       " '것',\n",
       " '들',\n",
       " '그',\n",
       " '되',\n",
       " '수',\n",
       " '이',\n",
       " '보',\n",
       " '않',\n",
       " '없',\n",
       " '나',\n",
       " '사람',\n",
       " '주',\n",
       " '아니',\n",
       " '등',\n",
       " '같',\n",
       " '우리',\n",
       " '때',\n",
       " '년',\n",
       " '가',\n",
       " '한',\n",
       " '지',\n",
       " '대하',\n",
       " '오',\n",
       " '말',\n",
       " '일',\n",
       " '그렇',\n",
       " '위하',\n",
       " '때문',\n",
       " '그것',\n",
       " '두',\n",
       " '말하',\n",
       " '알',\n",
       " '그러나',\n",
       " '받',\n",
       " '못하',\n",
       " '일',\n",
       " '그런',\n",
       " '또',\n",
       " '문제',\n",
       " '더',\n",
       " '사회',\n",
       " '많',\n",
       " '그리고',\n",
       " '좋',\n",
       " '크',\n",
       " '따르',\n",
       " '중',\n",
       " '나오',\n",
       " '가지',\n",
       " '씨',\n",
       " '시키',\n",
       " '만들',\n",
       " '지금',\n",
       " '생각하',\n",
       " '그러',\n",
       " '속',\n",
       " '하나',\n",
       " '집',\n",
       " '살',\n",
       " '모르',\n",
       " '적',\n",
       " '월',\n",
       " '데',\n",
       " '자신',\n",
       " '안',\n",
       " '어떤',\n",
       " '내',\n",
       " '내',\n",
       " '경우',\n",
       " '명',\n",
       " '생각',\n",
       " '시간',\n",
       " '그녀',\n",
       " '다시',\n",
       " '이런',\n",
       " '앞',\n",
       " '보이',\n",
       " '번',\n",
       " '나',\n",
       " '다른',\n",
       " '어떻',\n",
       " '여자',\n",
       " '개',\n",
       " '전',\n",
       " '들',\n",
       " '사실',\n",
       " '이렇',\n",
       " '점',\n",
       " '싶',\n",
       " '말',\n",
       " '정도',\n",
       " '좀',\n",
       " '원',\n",
       " '잘',\n",
       " '통하',\n",
       " '소리',\n",
       " '놓']"
      ]
     },
     "execution_count": 72,
     "metadata": {},
     "output_type": "execute_result"
    }
   ],
   "source": [
    "stopwords"
   ]
  },
  {
   "cell_type": "code",
   "execution_count": 73,
   "id": "9b183ec2",
   "metadata": {},
   "outputs": [],
   "source": [
    "result = []\n",
    "for w in korean_mophs:\n",
    "    if w not in stop_words:\n",
    "        result.append(w)"
   ]
  },
  {
   "cell_type": "code",
   "execution_count": 75,
   "id": "3604a5db",
   "metadata": {},
   "outputs": [
    {
     "name": "stdout",
     "output_type": "stream",
     "text": [
      "['고기', '를', '아무렇', '게', '나', '아', '굽', '려고', '하', '면', '안', '되', '어', '.', '고기', '라고', '다', '같', '은', '것', '이', '아니', '거든']\n"
     ]
    }
   ],
   "source": [
    "print(korean_mophs)"
   ]
  },
  {
   "cell_type": "code",
   "execution_count": 74,
   "id": "0a223ab8",
   "metadata": {},
   "outputs": [
    {
     "name": "stdout",
     "output_type": "stream",
     "text": [
      "['고기', '를', '굽', '려고', '안', '되', '어', '.', '고기', '라고', '같', '은', '것', '이', '아니', '거든']\n"
     ]
    }
   ],
   "source": [
    "print(result)"
   ]
  }
 ],
 "metadata": {
  "kernelspec": {
   "display_name": "Python 3 (ipykernel)",
   "language": "python",
   "name": "python3"
  },
  "language_info": {
   "codemirror_mode": {
    "name": "ipython",
    "version": 3
   },
   "file_extension": ".py",
   "mimetype": "text/x-python",
   "name": "python",
   "nbconvert_exporter": "python",
   "pygments_lexer": "ipython3",
   "version": "3.8.11"
  }
 },
 "nbformat": 4,
 "nbformat_minor": 5
}
