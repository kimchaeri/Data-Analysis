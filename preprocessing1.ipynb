{
 "cells": [
  {
   "cell_type": "code",
   "execution_count": 1,
   "id": "1e69a7f7",
   "metadata": {},
   "outputs": [],
   "source": [
    "#기본 라이브러리\n",
    "import os\n",
    "import numpy as np\n",
    "\n",
    "import pandas as pd\n",
    "import matplotlib.pyplot as plt\n",
    "import seaborn as sns"
   ]
  },
  {
   "cell_type": "code",
   "execution_count": 2,
   "id": "680d324c",
   "metadata": {},
   "outputs": [],
   "source": [
    "#영어 단어 토큰화\n",
    "import nltk\n",
    "from nltk.tokenize import word_tokenize as wt #tokenize 모듈에서 word_tokenize 함수를 불러오는 것\n",
    "from nltk.tokenize import WordPunctTokenizer"
   ]
  },
  {
   "cell_type": "code",
   "execution_count": 4,
   "id": "f14dfff5",
   "metadata": {},
   "outputs": [],
   "source": [
    "wpt = WordPunctTokenizer() #모든 구두점을 단위로 분해"
   ]
  },
  {
   "cell_type": "code",
   "execution_count": 4,
   "id": "48d85b4f",
   "metadata": {},
   "outputs": [],
   "source": [
    "#토큰화"
   ]
  },
  {
   "cell_type": "code",
   "execution_count": 5,
   "id": "d9c38f29",
   "metadata": {},
   "outputs": [],
   "source": [
    "text=\"Don't\""
   ]
  },
  {
   "cell_type": "code",
   "execution_count": 6,
   "id": "00cc11e7",
   "metadata": {},
   "outputs": [
    {
     "name": "stdout",
     "output_type": "stream",
     "text": [
      "['Do', \"n't\"]\n"
     ]
    }
   ],
   "source": [
    "print(wt(text))"
   ]
  },
  {
   "cell_type": "code",
   "execution_count": 9,
   "id": "179d4ae8",
   "metadata": {},
   "outputs": [
    {
     "name": "stdout",
     "output_type": "stream",
     "text": [
      "['Don', \"'\", 't']\n"
     ]
    }
   ],
   "source": [
    "print(wpt.tokenize(text))"
   ]
  },
  {
   "cell_type": "code",
   "execution_count": 10,
   "id": "29150237",
   "metadata": {},
   "outputs": [],
   "source": [
    "text2=\"Don't be fooled by the dark, Mr.jone's Orphange is \""
   ]
  },
  {
   "cell_type": "code",
   "execution_count": 11,
   "id": "04af3838",
   "metadata": {},
   "outputs": [
    {
     "name": "stdout",
     "output_type": "stream",
     "text": [
      "['Do', \"n't\", 'be', 'fooled', 'by', 'the', 'dark', ',', 'Mr.jone', \"'s\", 'Orphange', 'is']\n"
     ]
    }
   ],
   "source": [
    "print(wt(text2))"
   ]
  },
  {
   "cell_type": "code",
   "execution_count": 12,
   "id": "8c705218",
   "metadata": {},
   "outputs": [
    {
     "name": "stdout",
     "output_type": "stream",
     "text": [
      "['Don', \"'\", 't', 'be', 'fooled', 'by', 'the', 'dark', ',', 'Mr', '.', 'jone', \"'\", 's', 'Orphange', 'is']\n"
     ]
    }
   ],
   "source": [
    "print(wpt.tokenize(text2))"
   ]
  },
  {
   "cell_type": "code",
   "execution_count": 13,
   "id": "a43086c5",
   "metadata": {},
   "outputs": [],
   "source": [
    "#영어 문장 토큰화\n",
    "#2개의 문장이 하나로 되어있을때 문장을 토큰화하는 것\n",
    "from nltk.tokenize import sent_tokenize"
   ]
  },
  {
   "cell_type": "code",
   "execution_count": 14,
   "id": "df1004bc",
   "metadata": {},
   "outputs": [],
   "source": [
    "exam = 'i am actively looking for Ph.D students. and you are a Ph.D student'"
   ]
  },
  {
   "cell_type": "code",
   "execution_count": 15,
   "id": "42ea0d62",
   "metadata": {},
   "outputs": [
    {
     "name": "stdout",
     "output_type": "stream",
     "text": [
      "['i am actively looking for Ph.D students.', 'and you are a Ph.D student']\n"
     ]
    }
   ],
   "source": [
    "print(sent_tokenize(exam))"
   ]
  },
  {
   "cell_type": "code",
   "execution_count": 16,
   "id": "fcd37f1c",
   "metadata": {},
   "outputs": [],
   "source": [
    "#한국어 전처리\n",
    "import konlpy"
   ]
  },
  {
   "cell_type": "code",
   "execution_count": 17,
   "id": "625a09bb",
   "metadata": {},
   "outputs": [],
   "source": [
    "from konlpy.tag import Kkma"
   ]
  },
  {
   "cell_type": "code",
   "execution_count": 19,
   "id": "1a457666",
   "metadata": {},
   "outputs": [],
   "source": [
    "from konlpy.tag import Okt\n",
    "from konlpy.tag import Hannanum\n",
    "from konlpy.tag import Komoran"
   ]
  },
  {
   "cell_type": "code",
   "execution_count": 21,
   "id": "f1219f5d",
   "metadata": {},
   "outputs": [],
   "source": [
    "kkma = Kkma()\n",
    "okt = Okt()\n",
    "hnn = Hannanum()\n",
    "kmr = Komoran()"
   ]
  },
  {
   "cell_type": "code",
   "execution_count": 22,
   "id": "4a95123f",
   "metadata": {},
   "outputs": [],
   "source": [
    "text='A.I 자연어 처리가 재미있다. 하지만 영어보다 한국어 처리는 어렵다. 한번 해봐!'"
   ]
  },
  {
   "cell_type": "code",
   "execution_count": 23,
   "id": "d8424a72",
   "metadata": {},
   "outputs": [
    {
     "name": "stdout",
     "output_type": "stream",
     "text": [
      "['A.I 자연어 처리가 재미있다.', '하지만 영어보다 한국어 처리는 어렵다.', '한번 해봐!']\n"
     ]
    }
   ],
   "source": [
    "print(kkma.sentences(text)) #sentences() 문장단위로 끊는것"
   ]
  },
  {
   "cell_type": "code",
   "execution_count": 24,
   "id": "6ded83c3",
   "metadata": {},
   "outputs": [
    {
     "ename": "AttributeError",
     "evalue": "'Okt' object has no attribute 'sentences'",
     "output_type": "error",
     "traceback": [
      "\u001b[1;31m---------------------------------------------------------------------------\u001b[0m",
      "\u001b[1;31mAttributeError\u001b[0m                            Traceback (most recent call last)",
      "\u001b[1;32m~\\AppData\\Local\\Temp/ipykernel_78176/1580037959.py\u001b[0m in \u001b[0;36m<module>\u001b[1;34m\u001b[0m\n\u001b[1;32m----> 1\u001b[1;33m \u001b[0mprint\u001b[0m\u001b[1;33m(\u001b[0m\u001b[0mokt\u001b[0m\u001b[1;33m.\u001b[0m\u001b[0msentences\u001b[0m\u001b[1;33m(\u001b[0m\u001b[0mtext\u001b[0m\u001b[1;33m)\u001b[0m\u001b[1;33m)\u001b[0m\u001b[1;33m\u001b[0m\u001b[1;33m\u001b[0m\u001b[0m\n\u001b[0m",
      "\u001b[1;31mAttributeError\u001b[0m: 'Okt' object has no attribute 'sentences'"
     ]
    }
   ],
   "source": [
    "print(okt.sentences(text))"
   ]
  },
  {
   "cell_type": "code",
   "execution_count": 25,
   "id": "58520589",
   "metadata": {},
   "outputs": [
    {
     "name": "stdout",
     "output_type": "stream",
     "text": [
      "['A', '.', 'I', '자연어', '처리', '가', '재미있', '다', '.', '하지만', '영어', '보다', '한국어', '처리', '는', '어렵', '다', '.', '한번', '해보', '아', '!']\n"
     ]
    }
   ],
   "source": [
    "print(kkma.morphs(text)) #꼬꼬마 좀 더 디테일하게 해주는 듯 #morphs() 형태소 추출"
   ]
  },
  {
   "cell_type": "code",
   "execution_count": 26,
   "id": "e4a7c257",
   "metadata": {},
   "outputs": [
    {
     "name": "stdout",
     "output_type": "stream",
     "text": [
      "['A', '.', 'I', '자연어', '처리', '가', '재미있다', '.', '하지만', '영어', '보다', '한국어', '처리', '는', '어렵다', '.', '한번', '해봐', '!']\n"
     ]
    }
   ],
   "source": [
    "print(okt.morphs(text))"
   ]
  },
  {
   "cell_type": "code",
   "execution_count": 27,
   "id": "2efc9eb4",
   "metadata": {},
   "outputs": [
    {
     "name": "stdout",
     "output_type": "stream",
     "text": [
      "['A', '.', 'I', '자연어', '처리', '가', '재미있', '다', '.', '하', '지만', '영어', '보다', '한국어', '처리', '는', '어렵', '다', '.', '한번', '하', '어', '보', '아', '!']\n"
     ]
    }
   ],
   "source": [
    "print(hnn.morphs(text))"
   ]
  },
  {
   "cell_type": "code",
   "execution_count": 28,
   "id": "a472b085",
   "metadata": {},
   "outputs": [],
   "source": [
    "text2=\"성호가 자연어처리 수업을 한다.\""
   ]
  },
  {
   "cell_type": "code",
   "execution_count": 29,
   "id": "74d4897c",
   "metadata": {},
   "outputs": [
    {
     "name": "stdout",
     "output_type": "stream",
     "text": [
      "['성호', '가', '자연어', '처리', '수업', '을', '하', 'ㄴ다', '.']\n"
     ]
    }
   ],
   "source": [
    "print(kkma.morphs(text2))"
   ]
  },
  {
   "cell_type": "code",
   "execution_count": 30,
   "id": "6eef51ff",
   "metadata": {},
   "outputs": [
    {
     "name": "stdout",
     "output_type": "stream",
     "text": [
      "['성호', '가', '자연어', '처리', '수업', '을', '한다', '.']\n"
     ]
    }
   ],
   "source": [
    "print(okt.morphs(text2))"
   ]
  },
  {
   "cell_type": "code",
   "execution_count": 31,
   "id": "241addfc",
   "metadata": {},
   "outputs": [],
   "source": [
    "text3='내 컴퓨터 IP는 192.168.51.31로 되어 있어.'"
   ]
  },
  {
   "cell_type": "code",
   "execution_count": 32,
   "id": "fef1a897",
   "metadata": {},
   "outputs": [
    {
     "name": "stdout",
     "output_type": "stream",
     "text": [
      "['내', '컴퓨터', 'IP', '는', '192.168', '.', '51.31', '로', '되', '어', '있', '어', '.']\n"
     ]
    }
   ],
   "source": [
    "print(kkma.morphs(text3))"
   ]
  },
  {
   "cell_type": "code",
   "execution_count": 33,
   "id": "91f58866",
   "metadata": {},
   "outputs": [
    {
     "name": "stdout",
     "output_type": "stream",
     "text": [
      "['내', '컴퓨터', 'IP', '는', '192.168', '.', '51.31', '로', '되어', '있어', '.']\n"
     ]
    }
   ],
   "source": [
    "print(okt.morphs(text3))"
   ]
  },
  {
   "cell_type": "code",
   "execution_count": 34,
   "id": "0df3decf",
   "metadata": {},
   "outputs": [
    {
     "name": "stdout",
     "output_type": "stream",
     "text": [
      "['성호', '가', '자연어', '처리', '수업', '을', '하', 'ㄴ다', '.']\n"
     ]
    }
   ],
   "source": [
    "print(kkma.morphs(text2))"
   ]
  },
  {
   "cell_type": "code",
   "execution_count": 35,
   "id": "5461cbc0",
   "metadata": {},
   "outputs": [
    {
     "name": "stdout",
     "output_type": "stream",
     "text": [
      "[('성호', 'NNG'), ('가', 'JKS'), ('자연어', 'NNG'), ('처리', 'NNG'), ('수업', 'NNG'), ('을', 'JKO'), ('하', 'VV'), ('ㄴ다', 'EFN'), ('.', 'SF')]\n"
     ]
    }
   ],
   "source": [
    "print(kkma.pos(text2)) #pos() 품사 부착"
   ]
  },
  {
   "cell_type": "code",
   "execution_count": 36,
   "id": "f6948494",
   "metadata": {},
   "outputs": [],
   "source": [
    "#영어\n",
    "from nltk.stem import WordNetLemmatizer as lemma #표제어 추출\n",
    "from nltk.stem import PorterStemmer as stemming #어간 추출"
   ]
  },
  {
   "cell_type": "code",
   "execution_count": 37,
   "id": "84e4ba2c",
   "metadata": {},
   "outputs": [],
   "source": [
    "lmm = lemma()\n",
    "stemm = stemming()"
   ]
  },
  {
   "cell_type": "code",
   "execution_count": 46,
   "id": "9531e83d",
   "metadata": {},
   "outputs": [],
   "source": [
    "words = ['love','loves','loved','loving','innovation','innovations','innovates','innovate','innovative']"
   ]
  },
  {
   "cell_type": "code",
   "execution_count": 47,
   "id": "513dea50",
   "metadata": {},
   "outputs": [],
   "source": [
    "lemm=[]\n",
    "stem=[]\n",
    "\n",
    "for w in words:\n",
    "    lemm.append(lmm.lemmatize(w))\n",
    "    stem.append(stemm.stem(w))"
   ]
  },
  {
   "cell_type": "code",
   "execution_count": 48,
   "id": "d3a9eae9",
   "metadata": {},
   "outputs": [
    {
     "name": "stdout",
     "output_type": "stream",
     "text": [
      "['love', 'loves', 'loved', 'loving', 'innovation', 'innovations', 'innovates', 'innovate', 'innovative']\n"
     ]
    }
   ],
   "source": [
    "print(words)"
   ]
  },
  {
   "cell_type": "code",
   "execution_count": 49,
   "id": "a9943298",
   "metadata": {},
   "outputs": [
    {
     "name": "stdout",
     "output_type": "stream",
     "text": [
      "['love', 'love', 'loved', 'loving', 'innovation', 'innovation', 'innovates', 'innovate', 'innovative']\n"
     ]
    }
   ],
   "source": [
    "print(lemm)"
   ]
  },
  {
   "cell_type": "code",
   "execution_count": 50,
   "id": "d8c0b98f",
   "metadata": {},
   "outputs": [
    {
     "name": "stdout",
     "output_type": "stream",
     "text": [
      "['love', 'love', 'love', 'love', 'innov', 'innov', 'innov', 'innov', 'innov']\n"
     ]
    }
   ],
   "source": [
    "print(stem)"
   ]
  },
  {
   "cell_type": "code",
   "execution_count": 54,
   "id": "ebd555f2",
   "metadata": {},
   "outputs": [
    {
     "name": "stdout",
     "output_type": "stream",
     "text": [
      "love\n"
     ]
    }
   ],
   "source": [
    "print(lmm.lemmatize('loved','v')) #품사 정보를 넣어주면 잘됨"
   ]
  },
  {
   "cell_type": "code",
   "execution_count": 55,
   "id": "318cf4d3",
   "metadata": {},
   "outputs": [
    {
     "name": "stdout",
     "output_type": "stream",
     "text": [
      "innovatives\n"
     ]
    }
   ],
   "source": [
    "print(lmm.lemmatize('innovatives','v')) "
   ]
  },
  {
   "cell_type": "code",
   "execution_count": 56,
   "id": "dc8fa93e",
   "metadata": {},
   "outputs": [],
   "source": [
    "from nltk import pos_tag"
   ]
  },
  {
   "cell_type": "code",
   "execution_count": 58,
   "id": "3a50c128",
   "metadata": {},
   "outputs": [
    {
     "name": "stdout",
     "output_type": "stream",
     "text": [
      "[('love', 'NN'), ('loves', 'VBZ'), ('loved', 'VBD'), ('loving', 'VBG'), ('innovation', 'NN'), ('innovations', 'NNS'), ('innovates', 'VBZ'), ('innovate', 'VBP'), ('innovative', 'JJ')]\n"
     ]
    }
   ],
   "source": [
    "print(pos_tag(words))"
   ]
  },
  {
   "cell_type": "code",
   "execution_count": 69,
   "id": "2ff8cc1b",
   "metadata": {},
   "outputs": [
    {
     "data": {
      "text/plain": [
       "'NN'"
      ]
     },
     "execution_count": 69,
     "metadata": {},
     "output_type": "execute_result"
    }
   ],
   "source": [
    "lmm.lemmatize(pos) #NN은 명사"
   ]
  },
  {
   "cell_type": "code",
   "execution_count": 70,
   "id": "4150d62c",
   "metadata": {},
   "outputs": [
    {
     "ename": "KeyError",
     "evalue": "'NN'",
     "output_type": "error",
     "traceback": [
      "\u001b[1;31m---------------------------------------------------------------------------\u001b[0m",
      "\u001b[1;31mKeyError\u001b[0m                                  Traceback (most recent call last)",
      "\u001b[1;32m~\\AppData\\Local\\Temp/ipykernel_78176/980266246.py\u001b[0m in \u001b[0;36m<module>\u001b[1;34m\u001b[0m\n\u001b[0;32m      2\u001b[0m \u001b[1;33m\u001b[0m\u001b[0m\n\u001b[0;32m      3\u001b[0m \u001b[1;32mfor\u001b[0m \u001b[0mw\u001b[0m\u001b[1;33m,\u001b[0m \u001b[0mpos\u001b[0m \u001b[1;32min\u001b[0m \u001b[0mpos_tag\u001b[0m\u001b[1;33m(\u001b[0m\u001b[0mwords\u001b[0m\u001b[1;33m)\u001b[0m\u001b[1;33m:\u001b[0m\u001b[1;33m\u001b[0m\u001b[1;33m\u001b[0m\u001b[0m\n\u001b[1;32m----> 4\u001b[1;33m     \u001b[0mprint\u001b[0m\u001b[1;33m(\u001b[0m\u001b[0mlemm\u001b[0m\u001b[1;33m.\u001b[0m\u001b[0mappend\u001b[0m\u001b[1;33m(\u001b[0m\u001b[0mlmm\u001b[0m\u001b[1;33m.\u001b[0m\u001b[0mlemmatize\u001b[0m\u001b[1;33m(\u001b[0m\u001b[0mw\u001b[0m\u001b[1;33m,\u001b[0m\u001b[0mpos\u001b[0m\u001b[1;33m)\u001b[0m\u001b[1;33m)\u001b[0m\u001b[1;33m)\u001b[0m\u001b[1;33m\u001b[0m\u001b[1;33m\u001b[0m\u001b[0m\n\u001b[0m",
      "\u001b[1;32m~\\.conda\\envs\\text2\\lib\\site-packages\\nltk\\stem\\wordnet.py\u001b[0m in \u001b[0;36mlemmatize\u001b[1;34m(self, word, pos)\u001b[0m\n\u001b[0;32m     36\u001b[0m \u001b[1;33m\u001b[0m\u001b[0m\n\u001b[0;32m     37\u001b[0m     \u001b[1;32mdef\u001b[0m \u001b[0mlemmatize\u001b[0m\u001b[1;33m(\u001b[0m\u001b[0mself\u001b[0m\u001b[1;33m,\u001b[0m \u001b[0mword\u001b[0m\u001b[1;33m,\u001b[0m \u001b[0mpos\u001b[0m\u001b[1;33m=\u001b[0m\u001b[0mNOUN\u001b[0m\u001b[1;33m)\u001b[0m\u001b[1;33m:\u001b[0m\u001b[1;33m\u001b[0m\u001b[1;33m\u001b[0m\u001b[0m\n\u001b[1;32m---> 38\u001b[1;33m         \u001b[0mlemmas\u001b[0m \u001b[1;33m=\u001b[0m \u001b[0mwordnet\u001b[0m\u001b[1;33m.\u001b[0m\u001b[0m_morphy\u001b[0m\u001b[1;33m(\u001b[0m\u001b[0mword\u001b[0m\u001b[1;33m,\u001b[0m \u001b[0mpos\u001b[0m\u001b[1;33m)\u001b[0m\u001b[1;33m\u001b[0m\u001b[1;33m\u001b[0m\u001b[0m\n\u001b[0m\u001b[0;32m     39\u001b[0m         \u001b[1;32mreturn\u001b[0m \u001b[0mmin\u001b[0m\u001b[1;33m(\u001b[0m\u001b[0mlemmas\u001b[0m\u001b[1;33m,\u001b[0m \u001b[0mkey\u001b[0m\u001b[1;33m=\u001b[0m\u001b[0mlen\u001b[0m\u001b[1;33m)\u001b[0m \u001b[1;32mif\u001b[0m \u001b[0mlemmas\u001b[0m \u001b[1;32melse\u001b[0m \u001b[0mword\u001b[0m\u001b[1;33m\u001b[0m\u001b[1;33m\u001b[0m\u001b[0m\n\u001b[0;32m     40\u001b[0m \u001b[1;33m\u001b[0m\u001b[0m\n",
      "\u001b[1;32m~\\.conda\\envs\\text2\\lib\\site-packages\\nltk\\corpus\\reader\\wordnet.py\u001b[0m in \u001b[0;36m_morphy\u001b[1;34m(self, form, pos, check_exceptions)\u001b[0m\n\u001b[0;32m   1915\u001b[0m         \u001b[1;31m#    find a match or you can't go any further\u001b[0m\u001b[1;33m\u001b[0m\u001b[1;33m\u001b[0m\u001b[1;33m\u001b[0m\u001b[0m\n\u001b[0;32m   1916\u001b[0m \u001b[1;33m\u001b[0m\u001b[0m\n\u001b[1;32m-> 1917\u001b[1;33m         \u001b[0mexceptions\u001b[0m \u001b[1;33m=\u001b[0m \u001b[0mself\u001b[0m\u001b[1;33m.\u001b[0m\u001b[0m_exception_map\u001b[0m\u001b[1;33m[\u001b[0m\u001b[0mpos\u001b[0m\u001b[1;33m]\u001b[0m\u001b[1;33m\u001b[0m\u001b[1;33m\u001b[0m\u001b[0m\n\u001b[0m\u001b[0;32m   1918\u001b[0m         \u001b[0msubstitutions\u001b[0m \u001b[1;33m=\u001b[0m \u001b[0mself\u001b[0m\u001b[1;33m.\u001b[0m\u001b[0mMORPHOLOGICAL_SUBSTITUTIONS\u001b[0m\u001b[1;33m[\u001b[0m\u001b[0mpos\u001b[0m\u001b[1;33m]\u001b[0m\u001b[1;33m\u001b[0m\u001b[1;33m\u001b[0m\u001b[0m\n\u001b[0;32m   1919\u001b[0m \u001b[1;33m\u001b[0m\u001b[0m\n",
      "\u001b[1;31mKeyError\u001b[0m: 'NN'"
     ]
    }
   ],
   "source": [
    "lemm = []\n",
    "\n",
    "for w, pos in pos_tag(words):\n",
    "    print(lemm.append(lmm.lemmatize(w,pos)))\n",
    "\n",
    "#pos_tag 함수에서 붙여주는 품사랑 lemmatize에서 받아들이는 품사랑 다르기 때문!\n",
    "#맞춰줘야함"
   ]
  }
 ],
 "metadata": {
  "kernelspec": {
   "display_name": "Python 3 (ipykernel)",
   "language": "python",
   "name": "python3"
  },
  "language_info": {
   "codemirror_mode": {
    "name": "ipython",
    "version": 3
   },
   "file_extension": ".py",
   "mimetype": "text/x-python",
   "name": "python",
   "nbconvert_exporter": "python",
   "pygments_lexer": "ipython3",
   "version": "3.8.11"
  }
 },
 "nbformat": 4,
 "nbformat_minor": 5
}
