{
 "cells": [
  {
   "cell_type": "markdown",
   "id": "f76ea01f",
   "metadata": {},
   "source": [
    "# (1) Load library"
   ]
  },
  {
   "cell_type": "code",
   "execution_count": 1,
   "id": "dec30e26",
   "metadata": {},
   "outputs": [],
   "source": [
    "import pandas as pd\n",
    "import numpy as np\n",
    "import os\n",
    "import matplotlib.pyplot as plt\n",
    "\n",
    "import re\n",
    "import nltk\n",
    "from nltk.tokenize import word_tokenize\n",
    "\n",
    "import time"
   ]
  },
  {
   "cell_type": "code",
   "execution_count": 2,
   "id": "a72f393d",
   "metadata": {},
   "outputs": [],
   "source": [
    "#Word2Vec\n",
    "from gensim.models import Word2Vec\n",
    "from gensim.models import KeyedVectors"
   ]
  },
  {
   "cell_type": "code",
   "execution_count": 3,
   "id": "be8ebd0d",
   "metadata": {},
   "outputs": [],
   "source": [
    "#Neural Network\n",
    "import tensorflow"
   ]
  },
  {
   "cell_type": "code",
   "execution_count": 4,
   "id": "de45b6b7",
   "metadata": {},
   "outputs": [
    {
     "name": "stdout",
     "output_type": "stream",
     "text": [
      "2.5.2\n"
     ]
    }
   ],
   "source": [
    "print(tensorflow.__version__)"
   ]
  },
  {
   "cell_type": "code",
   "execution_count": 5,
   "id": "e5a07357",
   "metadata": {},
   "outputs": [],
   "source": [
    "from sklearn.model_selection import train_test_split"
   ]
  },
  {
   "cell_type": "markdown",
   "id": "25e80b77",
   "metadata": {},
   "source": [
    "# (2) Load Data and Check"
   ]
  },
  {
   "cell_type": "code",
   "execution_count": 6,
   "id": "7daa0503",
   "metadata": {},
   "outputs": [],
   "source": [
    "#Pandas read_csv 활용\n",
    "data_path = r'C:/Users/user/Desktop/딥러닝프레임워크_박성호/spam.csv'\n",
    "data = pd.read_csv(data_path,encoding='latin1')"
   ]
  },
  {
   "cell_type": "code",
   "execution_count": 7,
   "id": "50700256",
   "metadata": {},
   "outputs": [
    {
     "data": {
      "text/html": [
       "<div>\n",
       "<style scoped>\n",
       "    .dataframe tbody tr th:only-of-type {\n",
       "        vertical-align: middle;\n",
       "    }\n",
       "\n",
       "    .dataframe tbody tr th {\n",
       "        vertical-align: top;\n",
       "    }\n",
       "\n",
       "    .dataframe thead th {\n",
       "        text-align: right;\n",
       "    }\n",
       "</style>\n",
       "<table border=\"1\" class=\"dataframe\">\n",
       "  <thead>\n",
       "    <tr style=\"text-align: right;\">\n",
       "      <th></th>\n",
       "      <th>v1</th>\n",
       "      <th>v2</th>\n",
       "      <th>Unnamed: 2</th>\n",
       "      <th>Unnamed: 3</th>\n",
       "      <th>Unnamed: 4</th>\n",
       "    </tr>\n",
       "  </thead>\n",
       "  <tbody>\n",
       "    <tr>\n",
       "      <th>0</th>\n",
       "      <td>ham</td>\n",
       "      <td>Go until jurong point, crazy.. Available only ...</td>\n",
       "      <td>NaN</td>\n",
       "      <td>NaN</td>\n",
       "      <td>NaN</td>\n",
       "    </tr>\n",
       "    <tr>\n",
       "      <th>1</th>\n",
       "      <td>ham</td>\n",
       "      <td>Ok lar... Joking wif u oni...</td>\n",
       "      <td>NaN</td>\n",
       "      <td>NaN</td>\n",
       "      <td>NaN</td>\n",
       "    </tr>\n",
       "    <tr>\n",
       "      <th>2</th>\n",
       "      <td>spam</td>\n",
       "      <td>Free entry in 2 a wkly comp to win FA Cup fina...</td>\n",
       "      <td>NaN</td>\n",
       "      <td>NaN</td>\n",
       "      <td>NaN</td>\n",
       "    </tr>\n",
       "    <tr>\n",
       "      <th>3</th>\n",
       "      <td>ham</td>\n",
       "      <td>U dun say so early hor... U c already then say...</td>\n",
       "      <td>NaN</td>\n",
       "      <td>NaN</td>\n",
       "      <td>NaN</td>\n",
       "    </tr>\n",
       "    <tr>\n",
       "      <th>4</th>\n",
       "      <td>ham</td>\n",
       "      <td>Nah I don't think he goes to usf, he lives aro...</td>\n",
       "      <td>NaN</td>\n",
       "      <td>NaN</td>\n",
       "      <td>NaN</td>\n",
       "    </tr>\n",
       "  </tbody>\n",
       "</table>\n",
       "</div>"
      ],
      "text/plain": [
       "     v1                                                 v2 Unnamed: 2  \\\n",
       "0   ham  Go until jurong point, crazy.. Available only ...        NaN   \n",
       "1   ham                      Ok lar... Joking wif u oni...        NaN   \n",
       "2  spam  Free entry in 2 a wkly comp to win FA Cup fina...        NaN   \n",
       "3   ham  U dun say so early hor... U c already then say...        NaN   \n",
       "4   ham  Nah I don't think he goes to usf, he lives aro...        NaN   \n",
       "\n",
       "  Unnamed: 3 Unnamed: 4  \n",
       "0        NaN        NaN  \n",
       "1        NaN        NaN  \n",
       "2        NaN        NaN  \n",
       "3        NaN        NaN  \n",
       "4        NaN        NaN  "
      ]
     },
     "execution_count": 7,
     "metadata": {},
     "output_type": "execute_result"
    }
   ],
   "source": [
    "data.head(5)"
   ]
  },
  {
   "cell_type": "code",
   "execution_count": 8,
   "id": "4b4d2f50",
   "metadata": {},
   "outputs": [],
   "source": [
    "#DataFrame 특성을 활용한 변수 추출 및 데이터 변화\n",
    "data=data[['v1','v2']]\n",
    "data['v1'].replace(['ham','spam'],[0,1],inplace=True) #ham을 0으로 spam을 1로\n",
    "data.columns=['Y','des']"
   ]
  },
  {
   "cell_type": "code",
   "execution_count": 9,
   "id": "a3b3bfaa",
   "metadata": {},
   "outputs": [
    {
     "data": {
      "text/plain": [
       "(5572, 2)"
      ]
     },
     "execution_count": 9,
     "metadata": {},
     "output_type": "execute_result"
    }
   ],
   "source": [
    "data.shape"
   ]
  },
  {
   "cell_type": "code",
   "execution_count": 10,
   "id": "c435ddc3",
   "metadata": {},
   "outputs": [],
   "source": [
    "#중복데이터 확인 및 제거\n",
    "data.drop_duplicates(subset=['des'],inplace=True, keep='first') #ex.3개가 중복되었을 때 첫 번째것만 남기고 나머지 제거(keep='first') #last or False"
   ]
  },
  {
   "cell_type": "code",
   "execution_count": 11,
   "id": "68d2d9bc",
   "metadata": {},
   "outputs": [
    {
     "data": {
      "text/plain": [
       "(5169, 2)"
      ]
     },
     "execution_count": 11,
     "metadata": {},
     "output_type": "execute_result"
    }
   ],
   "source": [
    "data.shape"
   ]
  },
  {
   "cell_type": "markdown",
   "id": "2ec87b40",
   "metadata": {},
   "source": [
    "# (3) Text 전처리"
   ]
  },
  {
   "cell_type": "code",
   "execution_count": 12,
   "id": "509b5afa",
   "metadata": {},
   "outputs": [],
   "source": [
    "#(1)\n",
    "#대문자->소문자\n",
    "#특수기호 구두점 등 제거\n",
    "#대문자를 소문자로 바꾼후, 스팸이메일에서 소문자영어나 숫자가 아닌경우 빈 공간으로\n",
    "normalized_text=[] #전처리된 텍스트\n",
    "\n",
    "for string in data['des']:\n",
    "    tokens=re.sub(r\"[^a-z0-9]+\",\" \",string.lower()) #문자와 숫자외 반복되는 것들 제거\n",
    "    normalized_text.append(tokens)"
   ]
  },
  {
   "cell_type": "code",
   "execution_count": 13,
   "id": "0d4dde72",
   "metadata": {},
   "outputs": [
    {
     "data": {
      "text/plain": [
       "'go until jurong point crazy available only in bugis n great world la e buffet cine there got amore wat '"
      ]
     },
     "execution_count": 13,
     "metadata": {},
     "output_type": "execute_result"
    }
   ],
   "source": [
    "normalized_text[0]"
   ]
  },
  {
   "cell_type": "code",
   "execution_count": 14,
   "id": "f5b4b130",
   "metadata": {},
   "outputs": [],
   "source": [
    "#(2)\n",
    "#단어 토큰화\n",
    "\n",
    "#normalized_text에서 각각의 이메일을 sentence로 받아서 work_tokenize시키겠다는 것\n",
    "result=[word_tokenize(sentence) for sentence in normalized_text]"
   ]
  },
  {
   "cell_type": "markdown",
   "id": "52695621",
   "metadata": {},
   "source": [
    "# (4) Word2Vec: Transfer learning = Pre-trained model+fine tuning"
   ]
  },
  {
   "cell_type": "code",
   "execution_count": 15,
   "id": "2a287369",
   "metadata": {},
   "outputs": [],
   "source": [
    "googleNews_filepath=\"C:/Users/user/Desktop/딥러닝프레임워크_박성호/GoogleNews-vectors-negative300.bin.gz\""
   ]
  },
  {
   "cell_type": "code",
   "execution_count": 16,
   "id": "8f5a64e6",
   "metadata": {},
   "outputs": [],
   "source": [
    "#LOAD pre-trained key vector\n",
    "#model을 load한 것이 아니고 Embedding vector만 load\n",
    "#limit=단어수 조정(빅데이터의 경우)\n",
    "\n",
    "#start_time=time.time()\n",
    "PreTrainedKeyvector=KeyedVectors.load_word2vec_format(\n",
    "    googleNews_filepath, binary=True, limit=5000 #5000개의 단어만 불러올 것\n",
    ")\n",
    "\n",
    "#print(f\"== {googleNews_filepath} load as word2vec model complete, {time.time()-start_time}\")"
   ]
  },
  {
   "cell_type": "code",
   "execution_count": 17,
   "id": "8e99785e",
   "metadata": {},
   "outputs": [],
   "source": [
    "#Fine tuning 할 새로운 Word2Vec 모델 생성\n",
    "#PreTrainedKeyvector와 'vector_size'가 같은 word2vec model을 생성\n",
    "#workers=-1 가용할 수 있는 모든 코어 수\n",
    "\n",
    "TransferedModel=Word2Vec(size=PreTrainedKeyvector.vector_size,min_count=1, workers=-1)"
   ]
  },
  {
   "cell_type": "code",
   "execution_count": 18,
   "id": "f9bfc62e",
   "metadata": {},
   "outputs": [],
   "source": [
    "#단어 생성(build_vocab) by PreTrainedKeyvector word Vocabulary\n",
    "#TransferedModel.build_vocab input:\n",
    "#[[]] #list of list\n",
    "\n",
    "TransferedModel.build_vocab([PreTrainedKeyvector.vocab.keys()])"
   ]
  },
  {
   "cell_type": "code",
   "execution_count": 22,
   "id": "0a5663c2",
   "metadata": {},
   "outputs": [],
   "source": [
    "#주어진 데이터로 새로운 모델의 단어 추가\n",
    "#update parameter를 True로 설정\n",
    "\n",
    "TransferedModel.build_vocab(result,update=True)"
   ]
  },
  {
   "cell_type": "code",
   "execution_count": 23,
   "id": "11bb1309",
   "metadata": {},
   "outputs": [
    {
     "data": {
      "text/plain": [
       "11440"
      ]
     },
     "execution_count": 23,
     "metadata": {},
     "output_type": "execute_result"
    }
   ],
   "source": [
    "#단어 수 확인\n",
    "\n",
    "len(TransferedModel.wv.vocab.keys())"
   ]
  },
  {
   "cell_type": "code",
   "execution_count": 24,
   "id": "15816974",
   "metadata": {},
   "outputs": [],
   "source": [
    "#Pretrained 모델의 학습 파라미터를 기반으로 새로운 모델의 학습 파라미터 초기화\n",
    "#학습파라미터를 'googleNews_filepath'에 있는 값으로 모두 업데이트해줌\n",
    "#lockf=0.0 : 보통은 학습 파라미터를 update하지 못하도록 lock이 걸려있음\n",
    "#lockf=1 : 학습 파라미터를 update하도록 lock 해제\n",
    "\n",
    "TransferedModel.intersect_word2vec_format(\n",
    "    googleNews_filepath, binary=True, lockf=1.0\n",
    ")"
   ]
  },
  {
   "cell_type": "code",
   "execution_count": 25,
   "id": "34080675",
   "metadata": {},
   "outputs": [
    {
     "data": {
      "text/plain": [
       "(0, 0)"
      ]
     },
     "execution_count": 25,
     "metadata": {},
     "output_type": "execute_result"
    }
   ],
   "source": [
    "#모델 업데이트 - Fine Tuning\n",
    "#새로운 데이터 기반의 학습\n",
    "#epochs이 많으면 많을수록 학습을 많이 하는 것\n",
    "\n",
    "TransferedModel.train(result, total_examples=len(result), epochs=100)"
   ]
  },
  {
   "cell_type": "markdown",
   "id": "b4f166fb",
   "metadata": {},
   "source": [
    "# (5) Word2Vec으로부터 임베딩 결과 추출"
   ]
  },
  {
   "cell_type": "code",
   "execution_count": 26,
   "id": "09259e72",
   "metadata": {},
   "outputs": [],
   "source": [
    "#dictionary 형태로 모든 단어의 임베딩 결과를 추출\n",
    "\n",
    "embedding_results=dict()\n",
    "\n",
    "for token in TransferedModel.wv.vocab.keys():\n",
    "    embedding_results[token] = TransferedModel.wv[token]"
   ]
  },
  {
   "cell_type": "code",
   "execution_count": 27,
   "id": "0865e804",
   "metadata": {},
   "outputs": [
    {
     "data": {
      "text/plain": [
       "<gensim.models.keyedvectors.Word2VecKeyedVectors at 0x1febd934670>"
      ]
     },
     "execution_count": 27,
     "metadata": {},
     "output_type": "execute_result"
    }
   ],
   "source": [
    "TransferedModel.wv"
   ]
  },
  {
   "cell_type": "code",
   "execution_count": 28,
   "id": "9ce5bea7",
   "metadata": {},
   "outputs": [
    {
     "data": {
      "text/plain": [
       "dict_keys(['</s>', 'in', 'for', 'that', 'is', 'on', '##', 'The', 'with', 'said', 'was', 'the', 'at', 'not', 'as', 'it', 'be', 'from', 'by', 'are', 'I', 'have', 'he', 'will', 'has', '####', 'his', 'an', 'this', 'or', 'their', 'who', 'they', 'but', '$', 'had', 'year', 'were', 'we', 'more', '###', 'up', 'been', 'you', 'its', 'one', 'about', 'would', 'which', 'out', 'can', 'It', 'all', 'also', 'two', 'after', 'first', 'He', 'do', 'time', 'than', 'when', 'We', 'over', 'last', 'new', 'other', 'her', 'people', 'into', 'In', 'our', 'there', 'A', 'she', 'could', 'just', 'years', 'some', 'U.S.', 'three', 'million', 'them', 'what', 'But', 'so', 'no', 'like', 'if', 'only', 'percent', 'get', 'did', 'him', 'game', 'back', 'because', 'now', '#.#', 'before', 'company', 'any', 'team', 'against', 'off', 'This', 'most', 'made', 'through', 'make', 'second', 'state', 'well', 'day', 'season', 'says', 'week', 'where', 'while', 'down', 'being', 'government', 'your', '#-#', 'home', 'going', 'my', 'good', 'They', \"'re\", 'should', 'many', 'way', 'those', 'four', 'during', 'such', 'may', 'very', 'how', 'since', 'work', 'take', 'including', 'high', 'then', '%', 'next', '#,###', 'By', 'much', 'still', 'go', 'think', 'old', 'even', '#.##', 'world', 'see', 'say', 'business', 'five', 'told', 'under', 'us', '1', 'these', 'If', 'right', 'And', 'me', 'between', 'play', 'help', '##,###', 'market', 'That', 'know', 'end', 'AP', 'long', 'information', 'points', 'does', 'both', 'There', 'part', 'around', 'police', 'want', \"'ve\", 'based', 'For', 'got', 'third', 'school', 'left', 'another', 'country', 'need', '2', 'best', 'win', 'quarter', 'use', 'today', '##.#', 'same', 'public', 'run', 'Friday', 'set', 'month', 'top', 'billion', 'Tuesday', 'come', 'Monday', 'She', 'city', 'place', 'night', 'six', 'each', 'Thursday', '###,###', 'Wednesday', 'here', 'You', 'group', 'really', 'found', 'As', 'used', '3', 'lot', \"'m\", 'money', 'put', 'games', 'support', 'program', 'half', 'report', 'family', 'months', 'number', 'officials', 'am', 'former', 'own', 'man', 'Saturday', 'too', 'better', 'days', 'came', 'lead', 'life', 'American', '##-##', 'show', 'past', 'took', 'added', 'expected', 'called', 'great', 'State', 'services', 'children', 'hit', 'area', 'system', 'every', 'pm', 'big', 'service', 'few', 'per', 'members', 'Sunday', 'early', 'point', 'start', 'companies', 'little', '&', 'case', 'ago', 'local', 'according', 'never', '5', 'without', 'sales', 'until', 'went', 'players', '##th', 'New_York', 'won', 'financial', 'news', '4', 'When', 'share', 'several', 'free', 'away', '##.##', 'already', 'On', 'industry', \"'ll\", 'call', 'With', 'students', 'line', 'available', 'County', 'making', 'held', 'final', '#:##', 'power', 'plan', 'might', 'least', 'look', 'forward', 'give', 'At', 'again', 'later', 'full', 'must', 'things', 'major', 'community', 'announced', 'open', 'record', 'reported', 'court', 'working', 'able', 'something', 'president', 'meeting', 'keep', 'March', 'future', 'far', 'deal', 'City', 'May', 'development', 'University', 'find', 'times', 'After', 'office', 'led', 'among', 'June', 'increase', 'China', 'John', 'whether', 'cost', 'security', 'job', 'less', 'head', 'seven', 'growth', 'lost', 'pay', 'looking', 'provide', '6', 'To', 'plans', 'products', 'car', 'recent', 'hard', 'always', 'include', 'women', 'across', 'tax', 'water', 'April', 'continue', 'important', 'different', 'close', '7', 'One', 'late', 'decision', 'current', 'law', 'within', 'along', 'played', 'move', 'United_States', 'enough', 'become', 'side', 'national', 'Inc.', 'results', 'level', 'loss', 'economic', 'coach', 'near', 'getting', 'price', 'Department', 'event', 'fourth', 'change', 'All', 'small', 'board', 'National', 'So', 'goal', 'taken', 'field', 'prices', 'weeks', 'men', 'asked', 'eight', 'data', 'shot', 'New', 'started', 'July', 'director', 'President', 'party', 'federal', 'done', 'political', 'minutes', 'taking', 'Company', 'technology', 'project', 'center', 'leading', 'issue', 'though', 'having', 'period', 'likely', 'scored', '8', 'strong', 'series', 'military', 'seen', 'trying', 'What', 'coming', 'process', 'building', 'behind', 'performance', 'management', 'Iraq', 'saying', 'earlier', 'believe', 'oil', 'given', 'Police', 'customers', 'due', 'following', 'term', 'others', 'statement', 'international', 'economy', 'health', 'thing', 'Obama', 'return', 'killed', 'Washington', 'further', 'However', 'doing', 'face', 'low', 'higher', 'site', 'once', 'yet', 'hours', 'America', 'control', 'received', 'rate', 'career', 'Bush', 'teams', 'known', 'offer', 'race', 'ever', 'experience', 'playing', 'name', 'possible', 'countries', 'Mr.', 'average', 'together', 'using', '9', 'cut', 'While', 'total', 'round', 'young', 'nearly', 'shares', 'member', 'campaign', 'media', 'needs', 'why', 'house', 'issues', 'costs', 'fire', '##-#', 'victory', 'player', 'began', 'sure', 'story', 'per_cent', 'North', 'His', 'staff', 'order', 'war', 'large', 'interest', 'stock', 'food', 'research', 'key', 'India', 'South', 'morning', 'conference', 'senior', 'global', 'Center', 'death', 'person', 'thought', 'gave', 'feel', 'energy', 'history', 'recently', 'largest', 'No.', 'general', 'official', 'released', 'wanted', 'meet', 'short', 'outside', 'running', 'live', 'ball', 'online', 'real', 'position', 'fact', 'fell', 'nine', 'December', 'front', 'action', 'defense', 'problem', 'problems', 'Mr', 'nation', 'needed', 'special', 'January', 'almost', 'chance', \"'d\", 'result', 'West', 'September', 'reports', 'leader', 'investment', 'yesterday', 'Some', 'leaders', 'ahead', 'production', 'comes', 'No', 'runs', 'match', 'role', 'kind', 'try', 'ended', 'risk', 'areas', 'election', 'workers', 'visit', 'bring', 'road', 'music', 'study', 'makes', 'often', 'release', 'woman', 'vote', 'care', 'town', 'clear', 'comment', 'budget', 'potential', 'single', 'markets', 'policy', 'capital', 'saw', 'access', 'weekend', 'operations', 'whose', 'net', 'House', 'hand', 'increased', 'charges', 'winning', 'trade', 'These', 'income', 'value', 'involved', 'Bank', 'November', 'bill', 'compared', 'anything', 'manager', 'Texas', 'property', 'stop', 'annual', 'private', 'contract', 'died', 'Now', 'hope', 'product', 'fans', 'lower', 'demand', 'News', 'David', 'club', 'comments', 'film', 'yards', 'quality', 'currently', 'events', 'addition', 'couple', 'schools', 'attack', 'region', 'latest', 'opportunity', 'worked', 'course', 'bad', 'fall', 'Group', 'October', 'jobs', 'list', 'let', 'however', 'chief', 'summer', 'programs', 'According', 'revenue', 'Our', 'rose', 'previous', 'TV', 'football', 'biggest', 'employees', 'changes', 'residents', 'means', 'agreement', 'includes', 'post', 'Canada', 'probably', 'related', 'training', 'allowed', 'class', 'bit', 'video', 'Michael', 'An', 'sent', 'education', 'states', 'straight', 'love', 'beat', 'hold', 'turn', 'finished', 'network', 'Smith', 'buy', 'foreign', 'especially', 'groups', 'wants', 'title', 'included', 'turned', 'bank', 'Florida', 'efforts', 'personal', 'businesses', 'August', 'California', 'situation', 'district', 'allow', 'helped', 'body', 'nothing', 'soon', 'safety', 'officer', 'cents', 'Europe', 'St.', 'additional', 'spokesman', 'February', 'wife', 'showed', 'leave', 'investors', 'parents', 'medical', 'spending', 'non', 'London', 'Council', 'matter', 'spent', 'child', 'World', 'effort', 'opening', 'either', 'range', 'question', 'European', 'goals', 'administration', 'friends', 'himself', 'shows', 'difficult', 'kids', 'paid', 'create', 'cash', 'age', 'league', 'form', 'impact', 'drive', 'someone', 'became', 'stay', 'fight', 'significant', 'firm', 'Senate', 'hospital', 'charged', 'operating', 'main', 'book', 'success', 'son', 'trading', '###-####', 'focus', 'room', 'continued', 'Congress', 'everything', 'Park', 'agency', 'brought', 'talk', 'break', 'air', 'software', 'decided', 'Do', 'ready', 'arrested', 'track', 'provides', 'mother', 'base', 'trial', 'phone', 'My', 'build', 'conditions', 'rest', 'Johnson', 'terms', 'expect', 'England', 'Israel', 'despite', 'closed', 'starting', 'provided', 'pressure', 'lives', 'step', 'remain', 'similar', 'charge', 'date', 'whole', 'land', 'growing', 'James', 'Internet', 'projects', 'British', 'cases', 'ground', 'legal', 'International', 'agreed', 'tell', 'test', 'everyone', 'pretty', 'authorities', 'Two', 'above', 'moved', 'profit', 'throughout', 'inside', 'ability', 'overall', 'pass', 'officers', 'rather', 'Australia', 'actually', 'county', 'amount', 'scheduled', 'themselves', 'organization', 'giving', 'credit', 'father', 'drug', 'investigation', 'families', 'Republican', 'funds', 'patients', 'takes', 'systems', 'Japan', 'complete', 'sold', 'practice', 'calls', '•', 'UK', 'force', 'student', 'idea', 'reached', 'reason', 'levels', 'space', 'competition', 'forces', 'sector', 'Last', 'tried', 'common', 'homes', 'stage', 'department', 'named', 'earnings', 'offers', 'star', 'certain', 'double', 'longer', 'followed', 'cause', 'Association', 'signed', 'committee', 'hour', 'college', 'Pakistan', 'users', 'Iran', 'sign', 'living', 'failed', 'reach', 'quickly', 'receive', 'debt', 'sale', 'Board', 'Americans', 'Road', 'Brown', 'insurance', '##:##', 'anyone', 'tournament', 'More', 'gas', 'talks', 'serious', 'required', 'sell', 'construction', 'evidence', 'remains', 'black', 'below', 'improve', 'crisis', 'address', 'questions', 'easy', 'begin', 'view', 'School', 'heard', 'executive', 'raised', 'Paul', 'store', 'gets', 'filed', 'huge', 'moving', 'seems', 'met', '####s', 'thousands', 'CEO', 'solutions', 'score', 'content', 'treatment', 'offered', 'built', 'hits', 'present', 'Chicago', 'attacks', 'although', 'social', 'afternoon', 'vehicle', 'read', 'example', 'rise', '....', 'minute', 'banks', 'council', 'troops', 'rates', 'tough', 'Chinese', 'Even', 'works', 'fifth', 'knew', 'felt', 'Street', 'website', 'fund', 'issued', 'immediately', 'opened', 'goes', 'proposed', 'happy', 'guys', 'response', 'numbers', 'benefits', 'happened', '###.#', 'light', 'positive', 'chairman', 'claims', 'People', 'details', 'Williams', 'East', 'accused', 'equipment', 'dropped', 'dollars', 'various', 'worth', 'judge', 'considered', 'commercial', 'activities', 'funding', 'dollar', 'plant', 'mobile', 'television', 'rules', 'rights', 'review', 'quite', 'regular', 'Dr.', 'served', 'kept', 'marketing', 'created', 'heart', 'wrote', 'prison', 'instead', 'concerns', 'offering', 'returned', 'benefit', 'designed', 'approved', 'foot', 'search', 'miles', 'planned', 'Health', 'Government', 'driving', 'Indian', 'entire', 'First', 'providing', 'host', 'ask', 'design', 'hearing', 'save', 'looked', 'Central', 'travel', '_', 'successful', 'beginning', 'movie', 'adding', 'forced', 'toward', 'ensure', 'passed', 'unit', 'happen', 'mean', 'Associated_Press', 'Many', 'shooting', 'gone', 'winner', 'hopes', 'understand', 'planning', 'trip', 'raise', 'owner', 'popular', 'completed', 'ways', 'attention', 'feet', 'assets', 'traffic', 'Mike', 'Since', 'environment', 'Both', 'interview', 'consumers', 'Democrats', 'Jones', 'Not', 'hands', 'contact', 'cars', 'Although', 'dead', 'features', 'challenge', 'Canadian', 'particularly', 'basis', 'violence', 'stand', 'consumer', 'sense', 'attorney', 'driver', 'highest', '£', 'posted', 'finish', 'limited', 'source', 'Hall', 'serve', 'Sept.', 'spot', 'Then', 'advantage', 'scoring', 'words', 'applications', 'Russia', 'reduce', 'How', 'white', 'appeared', 'itself', 'fuel', 'During', 'Afghanistan', 'simply', 'fiscal', 'Jackson', 'plays', 'account', 'follow', 'statements', 'organizations', 'pick', 'continues', 'session', 'nuclear', 'French', 'seconds', 'daughter', 'co', 'sports', 'Most', 'caused', 'injury', 'United', 'College', 'effect', 'selling', 'middle', 'cuts', 'drop', 'facility', 'true', 'target', 'consider', 'watch', 'noted', 'Other', 'resources', 'opportunities', 'strategy', 'learn', 're', 'Mexico', 'message', 'injured', 'parties', 'seeking', 'missed', 'wrong', 'letter', 'From', 'looks', 'individual', 'approach', 'damage', 'else', 'speed', 'France', 'mind', 'Los_Angeles', 'bid', 'subject', 'ran', 'send', 'Mark', 'existing', 'fun', 'innings', 'press', 'voters', 'championship', 'leaving', 'earned', 'effective', 'poor', 'friend', 'customer', 'solution', 'corporate', 'independent', 'leadership', 'human', 'Democratic', 'shots', 'believes', 'computer', 's', 'items', 'confidence', 'add', 'health_care', 'award', 'parts', 'cover', 'missing', 'fast', 'Iraqi', 'incident', 'husband', 'responsible', 'looking_statements', 'losses', 'estimated', 'approximately', 'guy', 'purchase', 'Australian', 'helping', 'finally', 'spend', 'scene', 'opposition', 'develop', 'Ohio', 'certainly', 'extra', 'UN', 'talking', 'spring', 'emergency', 'station', 'check', 'Chris', 'soldiers', 'vehicles', 'launch', 'Business', 'critical', 'professional', 'described', 'choice', 'moment', 'size', 'changed', 'holding', 'door', 'declined', 'R', 'launched', 'condition', 'lose', 'joined', 'gives', 'developed', 'Also', 'protect', 'girls', 'District', 'operation', 'necessary', 'taxes', 'sites', 'Day', 'beyond', 'African', 'daily', 'yard', 'calling', 'Those', 'options', 'stocks', 'newspaper', 'peace', 'proposal', 'Jan.', 'previously', 'Microsoft', 'owned', 'regional', 'Thomas', 'hear', 'housing', 'owners', 'exchange', 'majority', 'starts', 'victims', 'Times', 'model', 'struck', 'tour', 'basketball', '###-###-####', 'published', 'twice', 'candidates', 'Commission', 'population', 'evening', 'lack', 'north', 'fighting', 'reporters', 'concerned', 'south', 'fine', 'weather', 'figures', 'floor', 'relationship', 'activity', 'remaining', 'believed', 'Scott', 'confirmed', 'anti', 'placed', 'caught', 'crime', 'crowd', 'appear', 'version', 'Western', 'Boston', 'girl', 'join', 'discuss', 'church', 'original', 'Michigan', 'aid', 'expectations', 'White_House', 'Bill', 'clients', 'located', 'Germany', 'Israeli', 'gold', 'killing', 'specific', 'Robert', 'act', 'High_School', 'partner', 'losing', 'claim', 'records', 'Office', 'offense', 'Dec.', 'Just', 'alone', 'Corp.', 'facilities', 'Another', 'division', 'Oct.', 'Nov.', 'retail', 'worst', 'legislation', 'page', 'Lee', 'measures', 'brand', 'expects', 'art', 'Services', 'standards', 'application', 'central', 'sixth', 'safe', 'style', 'elections', '*', 'primary', 'greater', 'progress', 'managed', 'supply', 'gain', 'prior', 'Committee', 'wins', 'recovery', 'e_mail', 'upon', 'plus', 'type', 'paper', 'attempt', 'High', 'focused', 'claimed', 'survey', 'injuries', 'street', 'stores', 'block', 'analysts', 'Big', 'allows', 'hundreds', 'avoid', 'Conference', 'governor', 'figure', 'band', 'option', 'lines', 'sources', 'domestic', 'NFL', 'knows', 'seem', 'Open', 'Republicans', 'Britain', 'feature', 'walk', 'broke', 'factors', 'battle', 'developing', 'threat', 'worldwide', 'Feb.', 'written', 'Christmas', 'committed', 'green', 'agencies', 'improved', 'traditional', '###.##', 'fair', 'border', 'About', 'Reuters', 'concern', 'mark', 'allowing', 'capacity', 'putting', 'appears', 'stories', 'grow', 'unique', 'favorite', 'nice', 'Today', 'vice_president', 'measure', 'debate', 'direct', 'stopped', 'index', 'drugs', 'tied', 'rising', 'risks', 'League', 'Despite', 'mid', 'arrived', 'communities', 'Meanwhile', 'increasing', 'presented', 'Her', 'boy', 'Court', 'standard', 'prevent', 'mission', 'deep', 'Chief', 'word', 'identified', 'pulled', 'inning', 'difference', 'pair', 'suffered', 'perfect', 'advanced', 'prepared', 'fully', 'blood', 'signs', 'showing', 'English', '####-##', 'interested', 'material', 'article', 'experts', 'bottom', 'answer', 'D', 'George', 'usually', 'wait', 'spoke', 'Davis', 'laws', 'request', 'units', 'loan', 'directly', 'union', 'particular', 'baseball', 'loans', 'pre', 'born', 'affected', 'waiting', 'simple', 'Martin', 'picked', 'Arizona', 'faces', 'Russian', 'names', 'EU', 'generation', 'responsibility', 'combined', 'audience', 'hurt', 'seemed', 'red', 'revenues', 'candidate', 'Under', 'ranked', 'cities', 'places', 'ruling', 'Green', 'speak', 'strike', 'documents', 'Year', 'sometimes', 'King', 'seasons', 'via', 'carry', 'boys', 'facing', 'learned', 'hotel', 'produced', 'Google', 'seeing', 'seat', 'produce', 'millions', 'box', 'decisions', 'coverage', 'voice', 'rule', 'respect', 'World_Cup', 'cancer', 'shown', 'fired', 'decades', 'reasons', 'tonight', 'Aug.', 'commitment', 'alleged', 'competitive', 'rebounds', 'Miller', 'individuals', 'thinking', 'established', 'books', 'approval', 'deliver', 'remained', 'guard', 'Service', 'God', 'infrastructure', 'appeal', 'digital', 'Web', 'ordered', 'citizens', 'Research', 'speech', 'push', 'highly', 'Army', 'decline', 'holiday', 'self', 'Three', 'accident', 'radio', 'require', 'murder', 'wide', 'policies', 'park', 'Their', 'champion', 'platform', 'pleased', 'heavy', 'eventually', 'crash', 'minister', 'hot', 'serving', 'asking', 'Detroit', 'keeping', 'provider', 'partners', 'remember', 'seek', 'manufacturing', 'teachers', 'towards', 'buying', 'warned', 'Steve', 'initial', 'pounds', 'brother', 'panel', 'becoming', 'entered', 'sides', 'victim', 'setting', 'Co.', 'environmental', 'bus', 'Is', 'Asia', 'note', 'IT', 'carried', 'consecutive', 'older', 'criminal', 'Richard', 'bought', 'Georgia', 'Institute', 'announcement', 'Union', 'Rs', 'Division', 'decade', 'clean', 'stated', 'penalty', 'boost', 'attend', 'separate', 'enjoy', 'Web_site', 'table', 'analysis', 'Japanese', 'German', 'skills', 'jail', 'Valley', 'protection', 'analyst', 'mostly', 'paying', 'draw', 'Director', 'Taylor', 'perhaps', 'reading', 'cross', 'commission', 'drivers', 'offices', 'presence', 'meetings', 'votes', 'strength', 'Of', 'delivery', 'location', 'positions', 'regarding', 'hoping', 'Ryan', 'offensive', 'spread', 'White', 'whom', 'deficit', 'powerful', 'Club', 'continuing', 'natural', 'revealed', 'feeling', 'Jim', 'grew', 'watching', 'suggested', 'slow', 'challenges', 'Writer', 'larger', 'quick', 'definitely', 'flight', 'university', 'junior', 'inflation', 'ones', 'Apple', 'honor', 'active', 'voted', 'Community', 'solid', 'Clinton', 'Act', 'determine', 'reduced', 'fees', 'multiple', 'decide', 'advertising', 'language', 'expressed', 'steps', 'easily', 'bringing', 'physical', 'throw', 'forecast', 'schedule', 'denied', 'finding', 'ban', 'Game', 'agree', 'section', 'admitted', 'actions', 'normal', 'devices', 'Because', 'squad', 'creating', 'walked', 'chief_executive', 'streets', 'clearly', 'complex', 'lawyer', 'elected', 'increases', 'Energy', 'estimates', 'excited', 'helps', 'relief', 'determined', 'maybe', 'suspect', 'Hill', 'sound', 'piece', 'campus', 'southern', 'degree', 'smaller', 'status', 'headed', '#-##', 'healthy', 'massive', 'testing', 'distribution', 'Why', 'completely', 'onto', 'hitting', 'closing', 'lawmakers', 'fresh', 'winter', 'Tom', 'contest', 'outstanding', 'exactly', 'percentage', 'Joe', 'contributed', 'movement', 'storm', 'seventh', 'fear', 'weight', 'Minnesota', 'McCain', 'C', 'secure', 'conducted', 'acquisition', 'Over', 'maintain', 'rally', 'knowledge', 'recorded', 'assistant', 'doctors', 'proud', 'advice', 'Secretary', 'finance', 'sex', 'Peter', 'WASHINGTON', 'refused', 'Miami', 'agent', 'draft', 'pitch', 'Justice', 'supporters', 'General', 'user', 'presidential', 'tie', 'Africa', 'New_Zealand', 'sort', 'Houston', 'disease', 'tomorrow', 'core', 'willing', 'patient', 'Hospital', 'considering', 'firms', 'Still', 'technical', 'trouble', 'Its', 'picture', 'extremely', 'confident', 'count', 'visitors', 'extended', 'Once', 'reality', 'expand', 'Christian', 'expansion', 'lived', 'Lake', 'Palestinian', 'downtown', 'doubt', 'nature', 'listed', 'leads', 'opinion', 'River', 'row', 'fellow', 'corner', 'author', 'Development', 'screen', 'shareholders', 'faced', 'Illinois', 'plants', 'arrest', 'society', 'character', 'labor', 'gains', 'science', 'teacher', 'web', 'restaurant', 'learning', 'recession', 'raising', 'failure', 'airport', 'intelligence', 'selected', 'zone', 'buildings', 'industrial', 'contracts', 'advance', 'fit', 'assists', 'tickets', 'youth', 'variety', 'matches', 'defensive', 'package', 'requirements', 'connection', 'writing', 'ongoing', 'Iowa', 'explained', 'accept', 'lawsuit', 'Wilson', 'profile', 'ending', 'expenses', 'employee', 'resident', 'myself', 'stuff', 'Supreme_Court', 'Toronto', 'standing', 'Corporation', 'covered', 'Young', 'politics', 'aware', 'Minister', 'device', 'display', 'culture', 'train', 'driven', 'closer', 'real_estate', 'illegal', 'meant', 'technologies', 'card', 'dog', 'in.', 'enter', 'communications', 'weapons', 'gained', 'supported', 'eye', 'NEW_YORK', 'associated', 'chances', 'Instead', 'centers', 'dangerous', 'views', 'worse', 'studies', 'discussion', 'Colorado', 'Atlanta', 'San_Francisco', 'attended', 'pace', 'Virginia', 'album', 'entertainment', 'camp', 'Before', 'trust', 'strategic', 'falling', 'favor', 'retired', 'removed', 'army', 'balance', 'plane', 'quarterback', 'Baghdad', 'banking', 'baby', 'truck', 'Ford', 'sought', 'write', 'partnership', 'nearby', 'image', 'stars', 'volume', 'effects', 'Cup', 'tests', 'South_Africa', 'Chairman', 'interests', 'occurred', 'Philadelphia', 'bond', 'introduced', 'sport', 'spokeswoman', 'behavior', 'defeat', 'treated', 'direction', 'Only', 'bigger', 'crew', 'allegedly', 'uses', 'Avenue', 'mortgage', 'miss', 'Among', 'catch', 'appearance', 'welcome', 'experienced', 'ideas', 'negotiations', 'Foundation', 'Asian', 'authority', 'slightly', 'urged', 'hole', 'reform', 'achieve', 'Education', 'Brian', 'assistance', 'delivered', 'compete', 'link', 'choose', 'possibility', 'ruled', 'interesting', 'seats', 'threw', 'drove', 'Anderson', 'B', 'immediate', 'investments', 'payments', 'northern', 'relations', 'license', 'discovered', 'prove', 'registered', 'perform', 'governments', 'debut', 'researchers', 'accounts', 'Well', 'limit', 'eyes', 'deaths', 'Here', 'neighborhood', 'handed', 'veteran', 'alternative', 'basic', 'manage', 'tools', 'negative', 'Each', 'secretary', 'kill', 'receiving', 'Jr.', 'collection', 'coaches', 'returns', 'Black', 'surgery', 'gun', 'replace', 'fan', 'institutions', 'personnel', 'golf', 'happens', 'surprise', 'changing', 'kick', 'ceremony', 'west', 'resolution', 'broken', 'plenty', 'nor', 'easier', 'passing', 'pain', 'Kevin', 'bar', 'Bob', 'Federal', 'everybody', 'talent', 'represent', 'Former', 'unless', 'pull', 'cast', 'deals', 'grade', 'song', 'filled', 'wish', 'begins', 'affect', 'nations', 'fee', 'Post', 'largely', 'New_Jersey', 'apparently', 'email', 'NBA', 'Management', 'portfolio', 'recognized', 'speaking', 'shut', 'sit', 'profits', 'reporting', 'holds', 'represents', 'dozen', 'practices', 'declared', 'rich', 'thanks', '#####', 'supplies', 'convicted', 'native', 'Dallas', 'improvement', 'amid', 'classes', 'participate', 'accepted', 'jump', 'village', 'aircraft', 'poll', 'abuse', 'carrying', 'east', 'pro', 'client', 'equity', 'sitting', 'generally', 'notes', 'unable', 'ice', 'houses', 'stake', 'Carolina', 'rain', 'savings', 'warning', 'brings', 'USA', 'discussed', 'Fed', 'adults', 'GM', 'file', 'Spain', 'responded', 'parking', 'Let', 'returning', 'Sun', 'orders', 'telling', 'encourage', 'Like', 'identify', 'William', 'pushed', 'joint', 'conduct', 'suspended', 'wind', 'Tigers', 'edge', 'roads', 'female', 'sentence', 'Wall_Street', 'Oklahoma', 'backed', 'promote', 'eighth', 'influence', 'organized', 'Seattle', 'cold', 'bills', 'payment', 'properties', 'scale', 'Your', 'rival', 'religious', 'retirement', 'possibly', 'turning', 'civil', 'moves', 'currency', 'Team', 'aimed', 'Italy', 'breaking', 'alcohol', 'awards', 'talked', 'grant', 'wall', 'allegations', 'requires', 'Indiana', 'mayor', 'races', 'struggling', 'whatever', 'readers', 'appointed', 'Matt', 'voting', 'Will', 'Home', 'significantly', 'heat', 'Information', 'structure', 'transfer', 'supporting', 'trend', 'increasingly', 'networks', 'otherwise', 'conflict', 'cutting', 'modern', 'wearing', 'executives', 'entry', 'Beijing', 'playoff', 'wireless', 'T', 'Fire', 'Every', 'M', 'Centre', 'meaning', 'leg', 'intended', 'appropriate', 'excellent', 'North_Carolina', 'involving', 'stood', 'heads', 'rescue', 'walking', 'locations', 'materials', 'sending', 'bodies', 'snow', 'fish', 'feels', 'Mayor', 'deputy', 'mile', 'Olympic', 'passengers', 'except', 'Fox', 'Senior', 'storage', 'shop', 'Lewis', 'Middle_East', 'supposed', 'numerous', 'songs', 'awarded', 'traded', 'sister', 'possession', 'realize', 'understanding', 'ten', 'justice', 'rating', 'expensive', 'jumped', 'improving', 'fraud', 'animals', 'Howard', 'Technology', 'dedicated', 'tight', 'lawyers', 'sets', 'linked', 'providers', 'investigators', 'stands', 'terrorism', 'arm', 'freedom', 'notice', 'sentenced', 'coalition', 'touch', 'Women', 'exercise', 'Global', 'settlement', 'disaster', 'assist', 'electronic', 'playoffs', 'combination', 'apply', 'shared', 'doctor', 'US', 'comprehensive', 'Andrew', 'earn', 'fill', 'rock', 'Fund', 'giant', 'please', 'suit', 'Life', 'owns', 'electricity', 'exciting', 'winners', 'beating', 'protest', 'Though', 'rejected', 'ticket', 'Church', 'Charles', 'farmers', 'ride', 'maker', 'heading', 'Yet', 'regulations', 'Kelly', 'models', 'ends', 'Sports', 'innovative', 'Earlier', 'upcoming', 'writer', 'performed', 'films', 'arms', 'married', 'prosecutors', 'agents', '##s', 'handle', 'Market', 'duty', 'captain', 'securities', 'employment', 'surprised', 'Securities', 'worried', 'ninth', 'Muslim', 'Sen.', 'pointed', 'magazine', 'threatened', 'headquarters', 'Italian', 'participants', 'visiting', 'Oregon', 'press_release', 'fly', 'Wisconsin', 'Jordan', 'primarily', 'respectively', 'Spanish', 'New_Orleans', 'transportation', 'younger', 'Media', 'jury', 'respond', 'rural', 'Ministry', 'acting', 'Party', 'factor', 'update', 'island', 'Afghan', 'flat', 'remove', 'photo', 'Mary', 'selection', 'scheme', 'Facebook', 'impressive', 'becomes', 'P', 'indicated', 'Yankees', 'Jeff', 'Financial', 'photos', 'professionals', 'fewer', 'shopping', 'split', 'San_Diego', 'Public', 'initiative', 'Moore', 'stretch', 'monthly', 'stronger', 'bench', 'racing', 'Tennessee', 'none', 'values', 'farm', 'producer', 'reduction', 'famous', 'Pennsylvania', 'Brazil', 'broadcast', 'promised', 'operate', 'Allen', 'acquired', 'goods', 'Paris', 'relatively', 'passes', 'purpose', 'movies', 'directors', 'Southern', 'SEC', 'clubs', 'conservative', 'Delhi', 'Call', 'comfortable', 'replaced', 'Clark', 'matters', 'hospitals', 'Top', 'Hollywood', 'Democrat', 'opponents', 'targets', 'suffering', 'festival', 'Network', 'compensation', 'guilty', 'efficient', 'managers', 'truly', 'faith', 'scores', 'busy', 'extend', 'faster', 'yourself', 'weak', 'rare', 'initially', 'importance', 'waste', 'suspected', 'margin', 'watched', 'meters', 'Ireland', 'franchise', 'fashion', 'pound', 'professor', 'Alabama', 'multi', 'grown', 'Officials', 'estimate', 'document', 'register', 'cable', 'obviously', 'familiar', 'scientists', 'Cleveland', 'artists', 'invited', '#,###,###', 'vs.', 'crimes', 'Gulf', 'Hamas', 'prepare', 'volunteers', 'cool', 'financing', 'images', 'fixed', 'hired', 'enable', 'camera', 'Food', 'memory', 'historic', 'dinner', 'proved', 'Arab', 'sees', 'telephone', 'vision', 'reportedly', 'soccer', '.###', 'Irish', 'ship', 'path', 'actor', 'circumstances', 'severe', 'expert', 'traveling', 'engineering', 'Manchester', 'Four', 'dance', 'Taliban', 'Jason', 'Turkey', 'Several', 'overseas', 'Thompson', 'bridge', 'lowest', 'auto', 'counts', 'attempts', 'reflect', 'color', 'Tim', 'wounded', 'secret', 'visited', 'greatest', 'leaves', 'types', 'representatives', 'worry', 'internal', 'Bay', 'adds', 'athletes', 'Harris', 'mix', 'industries', 'ministry', 'signing', 'Woods', 'targeted', 'tells', 'Please', 'serves', 'interest_rates', 'AP_Photo', 'Local', 'graduate', 'quoted', 'argued', 'association', 'lots', 'announce', 'shortly', 'featured', 'marriage', 'contained', 'Man', 'priority', 'terrorist', 'Commerce', 'Oil', 'Pittsburgh', 'unlikely', 'causing', 'directed', 'code', 'die', 'category', 'chosen', 'shift', 'Rangers', 'Gaza', 'maintenance', 'apartment', 'theater', 'effectively', 'Denver', 'mine', 'upset', 'western', 'nationwide', 'GOP', 'thinks', 'Pacific', 'euro', 'Joseph', 'Sales', 'closely', 'friendly', 'channel', 'brain', 'custody', 'barrel', 'afford', 'Who', 'Yes', 'dogs', 'residential', 'dream', 'actual', 'reaching', 'transaction', 'Kentucky', 'finals', '#.###', 'cooperation', 'boat', 'investigating', 'communication', 'freshman', 'outlook', 'deadline', 'surface', 'parent', 'phase', 'eat', 'asset', 'truth', 'delay', 'enjoyed', 'shape', 'anticipated', 'representing', 'purchased', 'hoped', 'Judge', 'Rep.', 'portion', 'opposed', 'Security', 'enterprise', 'animal', 'controlled', 'politicians', 'Power', 'North_Korea', 'Dan', 'cards', 'suggest', 'Family', 'concert', 'uncertainties', 'Free', 'granted', 'beautiful', 'recognize', 'joining', '####-####', 'flights', 'absolutely', 'Hamilton', 'dealing', 'cap', 'turns', 'Capital', 'ties', 'informed', 'Jack', '#,###.##', 'window', \"'##\", 'Best', 'pool', 'Hong_Kong', 'coaching', 'titles', 'blue', 'amazing', 'fears', 'demands', 'Missouri', 'cited', 'behalf', 'Edwards', 'bonds', 'shoulder', 'seriously', 'districts', 'aggressive', 'alive', 'Utah', 'bomb', 'suspects', 'dark', 'sea', 'therefore', 'overtime', 'submitted', 'agenda', 'establish', 'Kansas', 'engine', 'Program', 'mainly', 'NCAA', 'maximum', 'male', 'pushing', 'airline', 'principal', 'library', 'pieces', 'dispute', 'corruption', 'reserve', 'Children', 'sponsored', 'militants', 'reducing', 'Massachusetts', 'originally', 'Championship', 'sharing', 'mixed', 'complaint', 'J.', 'realized', 'crucial', 'province', 'ultimately', 'brands', 'capabilities', 'acknowledged', 'distance', 'struggle', 'Or', 'stations', 'discussions', 'judges', 'Maybe', 'extensive', 'Award', 'Giants', 'manufacturers', 'Jewish', 'Egypt', 'United_Nations', 'achieved', 'defeated', 'assault', 'worker', 'criticism', 'usual', 'Patrick', 'presentation', 'improvements', 'Of_course', 'Anthony', 'represented', 'Such', 'Shares', 'Any', 'findings', 'counties', 'stolen', 'K', 'expense', 'Daniel', 'Dr', 'editor', 'herself', 'Drive', 'complaints', 'buyers', 'A.', 'mentioned', 'stayed', 'efficiency', 'democracy', 'knee', 'connected', 'Islamic', 'Q', 'terror', 'operates', 'law_enforcement', 'prime_minister', 'Series', 'neighbors', 'successfully', 'permanent', 'Tony', 'parliament', 'adult', 'ages', 'Eagles', 'consistent', 'proposals', 'explain', 'formed', 'weekly', 'supports', 'coast', 'broad', 'iPhone', 'relevant', 'opener', 'detailed', 'Walker', 'human_rights', 'Iranian', 'letters', 'guess', 'internet', 'struggled', 'entering', 'widely', 'recovered', 'Law', 'happening', 'par', 'protests', 'II', 'colleagues', 'tool', 'trees', 'text', 'capable', 'Phoenix', 'monitoring', 'limits', 'eligible', '#', 'passenger', 'expanded', 'Ms.', 'reputation', 'brief', 'motion', 'St._Louis', 'treat', 'fought', 'concluded', 'gap', 'unemployment', 'restaurants', 'ad', 'surrounding', 'stepped', 'drew', 'collected', 'Gold', '#.####', 'retailers', 'preparing', 'wear', 'destroyed', 'threats', 'Chelsea', 'Singapore', 'invest', 'Town', 'concept', 'recommended', 'flying', 'Kerry', 'minimum', 'flow', 'resulted', 'marked', 'chain', 'combat', 'rookie', 'Stephen', 'noon', 'performances', 'Gary', 'founded', 'artist', 'reporter', 'celebrate', 'featuring', 'Air', 'Star', 'gathered', 'potentially', 'PC', 'publicly', 'Kennedy', 'disappointed', 'Agency', 'pictures', 'touchdowns', 'fallen', 'President_Barack_Obama', 'depth', 'auction', 'wonderful', 'criticized', 'attacked', 'essential', 'damaged', 'qualified', 'banned', 'suggests', 'specifically', 'sat', 'Scotland', 'Project', 'loved', 'dozens', 'representative', 'Authorities', 'typically', 'era', 'Stewart', 'singer', 'thus', 'creation', 'teaching', 'Sydney', 'NHL', 'acres', 'challenging', 'encouraged', 'Las_Vegas', 'Northern', 'seniors', 'quarters', 'momentum', 'Dave', 'producing', 'processing', 'inches', 'segment', 'versus', 'mining', 'route', 'expertise', 'Five', 'wing', 'touchdown', 'promise', 'Wright', 'healthcare', 'Are', 'yen', 'integrated', 'neither', 'Robinson', 'Academy', 'puts', 'Press', 'foundation', 'overnight', 'armed', 'ex', 'outcome', 'reaction', 'producers', 'follows', 'fields', 'stadium', 'Be', 'failing', 'aside', 'bed', 'doors', 'pilot', 'E', 'operators', 'forms', 'extension', 'mass', 'substantial', 'obtained', 'adopted', 'reserves', 'FBI', 'carries', 'NATO', 'trained', 'Dubai', 'contain', 'tackle', 'temporary', 'proven', 'regulatory', 'violent', 'danger', 'tree', 'boss', 'Frank', 'Maryland', 'apart', 'gift', 'musical', 'warm', 'creative', 'Prime_Minister', 'transport', 'developers', 'OK', 'likes', 'Henry', 'Ben', 'courts', 'wake', 'shoot', 'lineup', 'Report', 'regulation', 'kid', 'task', 'blog', 'hosted', 'Medical', 'eastern', 'South_Korea', 'drawn', 'Ave', 'regime', 'pending', 'ourselves', 'threatening', 'mistake', 'Through', 'laid', 'journalists', 'cultural', 'blame', 'copy', 'machine', 'mail', '®', 'proper', 'listen', 'links', 'Officer', 'Columbia', 'relationships', 'natural_gas', 'premium', '0', 'assessment', 'generated', 'chose', 'Campbell', 'Second', 'captured', 'Can', 'summit', 'climate', 'sophomore', 'Connecticut', 'keeps', 'teammates', 'dismissed', 'Time', 'generate', 'hockey', 'Vice_President', 'vital', 'E.', 'territory', 'Eastern', 'elsewhere', 'hair', 'resulting', 'Mississippi', 'veterans', 'recognition', 'BP', 'accounting', 'polls', 'holes', 'initiatives', 'amounts', 'Treasury', 'finishing', 'See', 'length', 'birth', 'rivals', 'gay', 'roughly', 'performing', 'futures', 'Royal', 'exports', 'tested', 'seed', 'blow', 'historical', 'starter', '+', 'guests', 'river', 'minor', 'pop', 'predicted', 'roll', 'acts', 'recalled', 'anybody', 'strategies', 'sharp', 'horse', 'Games', 'prize', 'valuable', 'witness', 'Regional', 'drinking', 'contribute', 'Arkansas', 'computers', 'Louisiana', 'guidelines', 'funded', 'delayed', 'handling', 'Austin', 'Defense', 'exclusive', 'repeatedly', 'academic', 'Lebanon', 'resource', 'output', 'Mitchell', 'contributions', 'background', 'runner', 'prospects', 'filing', 'questioned', 'applied', 'Test', 'Manager', 'ratings', 'thank', 'Eric', 'Right', 'characters', 'wine', 'saving', 'lift', 'civilians', 'Bloomberg', 'identity', 'ownership', 'obvious', 'throwing', 'settle', 'tracks', 'smart', 'Stadium', 'developments', 'lunch', 'Twitter', 'Liverpool', 'bail', 'forget', 'transition', 'equal', 'founder', 'involvement', 'gotten', 'protesters', 'Class', 'ABC', 'euros', 'S.', 'homer', 'Music', 'opponent', 'Little', 'competing', 'submit', 'projected', 'cell', 'monitor', 'century', 'sessions', 'Parliament', 'meets', 'begun', 'Navy', 'metal', 'critics', 'forum', 'honored', 'ballot', 'affairs', 'desire', 'RBI', 'click', 'expanding', 'topic', 'Following', 'recommendations', 'sectors', 'Red', 'causes', 'Ontario', 'ease', 'marks', 'consumption', 'appointment', 'officially', 'argument', 'newly', 'Palestinians', 'wonder', '`', 'spirit', 'Atlantic', 'ring', 'employers', 'strongly', 'registration', 'gasoline', 'Coach', 'Total', 'salary', 'blocks', 'classic', 'Week', 'educational', 'feed', 'managing', 'cells', 'stick', 'exploration', 'installed', 'Gordon', 'blamed', 'insisted', 'conversation', 'trends', 'elements', 'guidance', 'Baltimore', 'charity', 'emerged', 'blocked', 'replacement', 'covering', 'powers', 'tourism', 'enhance', 'operator', 'Roberts', 'saved', 'plate', 'engaged', 'expecting', 'ranks', 'donations', 'mention', 'immigration', 'pension', 'emerging', 'moments', 'testimony', 'witnesses', 'impossible', 'LLC', 'tries', 'rounds', 'exposure', 'Trust', 'celebration', 'instance', 'controversial', 'Alex', 'harder', 'stress', 'settled', 'remarks', 'articles', 'false', 'Get', 'dominated', 'Labor', 'Pakistani', 'Island', 'Murray', 'dramatic', 'collapse', 'attempted', 'drama', 'boards', 'museum', 'attract', 'remote', 'experiences', 'Show', 'chair', 'Toyota', 'anywhere', 'messages', 'developer', 'Vancouver', 'ads', 'opens', 'Journal', 'confirm', 'requested', 'error', 'Museum', 'print', 'pitcher', 'contains', 'Nelson', 'decrease', 'attending', 'System', 'integration', 'thrown', 'unusual', 'stability', 'Earth', 'makers', 'merger', 'steel', 'yield', 'knocked', 'square', 'glass', 'Lions', 'Taiwan', 'inspired', 'flag', 'Mumbai', 'volunteer', 'fishing', 'activists', 'Tokyo', 'firefighters', 'alongside', 'aim', 'guarantee', 'clinical', 'Good', 'claiming', 'staying', 'Duke', 'tremendous', 'contribution', 'terrorists', 'wave', 'electric', 'restrictions', 'recall', 'implementation', 'knowing', 'skin', 'utility', 'CBS', 'processes', 'Highway', 'halftime', 'fix', 'quarterly', 'emotional', 'maintained', 'counter', 'annually', 'repair', 'Craig', 'Lady', 'S_&', 'obtain', 'European_Union', 'Indians', 'abroad', 'Mexican', 'stable', 'PM', 'regions', 'tradition', 'totally', 'opinions', 'hosts', 'citing', 'Long', 'pitched', 'Larry', 'necessarily', 'beaten', 'Adam', 'reasonable', 'drink', 'poverty', 'properly', 'somebody', 'canceled', 'sounds', 'sick', 'saves', 'Deputy', 'Society', 'Nick', 'Carter', 'lucky', 'folks', 'Nigeria', 'Nevada', 'defend', 'Bell', 'lights', 'minority', 'posting', 'drilling', 'differences', 'Love', 'regularly', 'roster', 'bankruptcy', 'S', 'participation', 'Super_Bowl', 'interim', 'controls', 'competitors', 'stuck', 'delivering', 'viewers', 'Catholic', 'W.', 'agreements', 'subscribers', 'Sometimes', 'smoke', 'War', 'compliance', 'manner', 'trucks', 'Back', 'Wales', 'yes', 'Junior', 'M.', 'mistakes', 'Gov.', 'Baker', 'formal', 'investor', 'Vietnam', 'Oakland', 'speculation', 'Sam', 'qualifying', 'attorneys', 'Next', 'finds', 'quiet', 'cleared', 'Everyone', 'bag', 'explosion', 'taxpayers', 'guide', 'occur', 'encouraging', 'Net', 'highway', 'sleep', 'recover', 'interviews', 'Rock', 'Lincoln', 'satellite', 'entirely', 'dry', 'papers', 'Where', 'soldier', 'covers', 'exhibition', 'Science', 'blast', 'capture', 'FDA', 'function', 'availability', 'Commissioner', 'lending', 'peak', 'wild', 'facts', 'procedures', 'lap', 'awareness', 'Up', 'pursue', 'edition', 'studio', 'correct', 'inch', 'Great', 'Systems', 'switch', 'participating', 'tend', 'champions', 'Kim', 'Blue', 'lay', 'Trade', 'purposes', 'departments', 'THE', 'ranking', 'addressed', 'Olympics', 'perspective', 'Marshall', 'Ltd.', 'Moscow', 'components', 'Having', 'seized', 'clothing', 'Kansas_City', 'drawing', 'resistance', 'choices', 'recording', 'demanding', 'urban', 'pages', 'Windows', 'doubled', 'suspension', 'manufacturer', 'innovation', 'climbed', 'Mobile', 'Russell', 'Adams', 'Industry', 'Cardinals', 'port', 'Panthers', 'runners', 'G', 'brothers', 'visits', 'implement', 'All_Star', 'relatives', 'al_Qaida', 'atmosphere', 'defined', 'absence', 'steady', 'branch', 'pitching', 'NBC', 'normally', 'gathering', 'signal', 'administrative', 'empty', 'obligation', 'Legislature', 'commander', 'prompted', 'falls', 'taught', 'promotion', 'Muslims', 'incidents', 'operational', 'Water', 'pricing', 'silver', 'subsidiary', 'qualify', 'Art', 'escape', 'wealth', 'singles', 'roof', 'extent', 'privacy', 'Students', 'spots', 'tennis', 'grants', 'transactions', 'Speaking', 'scientific', 'export', 'Ray', 'referring', 'preliminary', 'rooms', 'sanctions', 'degrees', 'eating', 'legislative', 'Morgan', 'resume', 'involve', 'resolve', 'operated', 'sexual', 'prospect', 'typical', 'Bears', 'membership', 'Murphy', 'hiring', 'Rice', 'consideration', 'AT_&', 'civilian', 'fairly', 'climate_change', 'investigate', 'violations', 'pipeline', 'seeks', 'crore', 'hire', 'Investors', 'Online', 'Alaska', '###th', 'theme', 'stressed', 'Exchange_Commission', 'resort', 'Tour', 'walks', 'roles', 'rebound', 'reference', 'Analysts', 'specialist', 'timing', 'Bureau', 'imagine', 'rapidly', 'angry', 'riding', 'violation', 'attitude', 'guest', 'select', 'tech', 'Cameron', 'barrels', 'sensitive', 'hosting', 'demanded', 'Graham', 'marijuana', 'intent', 'BBC', '@', 'strengthen', 'channels', 'ministers', 'newspapers', 'referred', 'Building', 'testified', 'column', 'Ross', 'Terry', 'arrive', 'Unfortunately', 'rushed', 'kilometers', 'frame', 'provision', 'authorized', 'fail', 'completion', 'traveled', 'Daily', 'heavily', 'acquire', 'striking', 'virus', 'DVD', 'Index', 'secured', 'breaks', 'Greg', 'attractive', 'Portland', 'indeed', 'approve', 'survived', 'intense', 'somewhat', 'aims', 'crews', 'protected', 'checks', 'distributed', 'talented', 'kicked', 'permission', 'Tech', 'judgment', 'IBM', 'beer', 'clothes', 'Administration', 'Maine', 'coal', 'Intel', 'packed', 'promoting', 'flood', 'approached', 'Washington_DC', 'towns', 'disappointing', 'Old', 'collaboration', 'hopefully', 'streak', 'Based', 'balls', 'pleaded_guilty', 'sustained', 'noticed', 'permit', 'beach', 'Grant', 'collect', 'journey', 'victories', 'Greece', 'statistics', 'fantastic', 'rail', 'Take', 'hundred', 'pack', 'broadband', 'Air_Force', 'cycle', 'delays', 'comedy', 'thoughts', 'hardware', 'solar', 'Finance', 'bound', 'Price', 'proceeds', 'Cincinnati', 'suicide', 'prisoners', 'discovery', 'dad', 'searching', 'longtime', 'Pentagon', 'premier', 'command', 'enables', '###-###', 'ranging', 'nobody', 'actress', 'aspects', 'fled', 'Melbourne', 'Orange', 'videos', 'Federal_Reserve', 'cricket', 'Asked', 'ratio', 'birthday', 'Radio', 'restructuring', 'episode', 'Field', 'Parker', 'cameras', 'persons', 'championships', 'answers', 'promises', 'unknown', 'argue', 'differ_materially', 'Rose', 'NYSE', 'Evans', 'surge', 'focusing', 'doubles', 'Bruce', 'donated', 'ideal', 'equivalent', 'reliable', 'sustainable', 'factory', 'Without', 'scenes', 'survive', 'contacted', 'mph', 'residence', 'trips', 'hotels', 'bat', 'unclear', 'gang', 'grounds', 'slipped', 'carrier', 'bases', 'prosecutor', 'categories', 'liked', 'accurate', 'advised', 'slowly', 'Read', 'abortion', 'mom', 'Mets', 'tons', 'Perhaps', 'requests', 'forcing', 'frequently', 'overcome', 'inquiry', 'situations', 'apparent', 'map', 'universities', 'bear', 'Staff', 'Whether', 'stroke', 'medicine', 'drives', 'reforms', 'vendors', 'defending', 'teach', 'medium', 'prime', 'Andy', 'Governor', 'basically', 'exposed', 'Hotel', 'F', 'Ms', 'dialogue', 'Indonesia', 'stimulus', 'Alliance', 'probe', 'Perry', 'Ron', 'methods', 'shall', 'landed', 'stages', 'credit_card', 'luxury', 'dates', 'vulnerable', 'preparation', 'regulators', 'indicate', 'appearances', 'theft', 'appreciate', 'complained', 'Memorial', 'Oh', 'chemical', 'relative', 'Transportation', 'consequences', 'imposed', 'rolled', 'alert', 'virtually', 'provincial', 'Sony', 'forecasts', 'Dean', 'strikes', 'athletic', 'neck', 'tourists', 'cell_phone', 'sad', 'pct', 'Arsenal', 'prominent', 'allies', 'Josh', 'writes', 'alliance', 'method', 'meanwhile', 'Simon', 'Morris', 'Beach', 'crude', 'suffer', 'files', 'quit', 'Syria', 'deployed', 'Phillips', 'shock', 'Communications', 'picking', 'clock', 'posts', 'regard', 'convention', 'penalties', 'backing', 'rapid', 'independence', 'novel', 'central_bank', 'Korean', 'scandal', 'campaigns', 'Assembly', 'widespread', 'species', 'audio', 'explains', 'investing', 'NASA', 'Tickets', 'welcomed', 'detail', 'unions', 'moderate', 'religion', 'earthquake', 'wedding', 'grabbed', 'Don', 'Thailand', 'Six', 'restore', 'plot', 'Milwaukee', 'lifted', 'coffee', 'Keep', 'sun', 'honest', 'passion', 'periods', 'publication', 'Saints', 'swing', 'Wood', 'Calif.', 'toll', 'master', 'useful', 'eliminate', 'answered', 'congressional', 'neighbor', 'dropping', 'weapon', 'promising', 'maintaining', 'seeded', 'arrival', 'soft', 'format', 'honors', 'trillion', 'teen', 'smoking', 'Collins', 'impressed', 'consultant', 'tiny', 'temperatures', 'adviser', 'windows', 'Cook', 'shelter', 'deadly', 'label', 'noting', 'foul', 'Form', 'commissioner', 'Sri_Lanka', 'Rogers', 'sheriff', 'Stanford', 'succeed', 'nomination', 'upgrade', 'Montreal', 'rely', 'string', 'trail', 'aged', 'traders', 'triple', 'personally', 'implemented', 'preferred', 'winds', 'lies', 'Victoria', 'Marketing', 'exist', 'Besides', 'Labour', 'Dutch', 'Attorney_General', 'proof', 'tank', 'etc.', 'zero', 'secondary', 'Special', 'consistently', 'delighted', 'Rodriguez', 'defender', 'suddenly', 'Wayne', 'Go', 'garden', 'e', 'routine', 'anonymity', 'Barack_Obama', 'postseason', 'introduce', 'venue', 'teens', 'free_throws', 'affordable', 'Others', 'Franklin', 'meat', 'resigned', 'Way', 'attendance', 'suppliers', 'concrete', '#.##_ERA', 'repeat', 'anyway', 'solve', 'convinced', 'McDonald', 'St', 'Charlotte', 'legs', 'uncertainty', 'Given', 'cheap', 'programming', 'Theatre', 'neighboring', 'Solutions', 'helicopter', 'demonstrated', 'bright', 'comeback', 'offset', 'forth', 'harm', '##st', 'protecting', 'detained', 'NY', 'meter', 'earning', 'glad', 'duties', '#:##.##', 'rated', 'upper', 'dividend', 'senator', 'Jerry', 'Haiti', 'World_Series', 'pulling', 'organizers', 'exit', 'Ward', 'shoes', 'entitled', 'viewed', 'clash', 'Madison', 'courses', 'Area', 'Manhattan', 'bike', 'Insurance', 'afraid', 'billions', '€', 'hardly', 'download', 'Stock_Exchange', 'petition', 'bonus', 'lying', 'elderly', 'reflects', 'hate', 'errors', 'kinds', 'Look', 'Arts', 'Chamber', 'Medicare', 'Lane', 'Senator', 'belief', 'Hawaii', 'Cooper', 'assigned', 'crazy', 'arts', 'Turner', 'retain', 'longest', 'crashed', 'TM', 'guards', 'Members', 'assume', 'mouth', 'sufficient', 'barely', 'Libya', 'sharply', 'Yahoo', 'connect', 'offerings', 'funeral', 'express', 'kitchen', 'Wal_Mart', 'purchases', 'Youth', 'averaged', 'gaming', 'disclosed', 'kills', 'investigations', 'constitution', 'flexibility', 'Red_Sox', 'Iraqis', 'Boeing', 'burning', 'extreme', 'updated', 'Festival', 'unprecedented', 'Reid', 'Al', 'dealers', 'acquisitions', 'backup', 'Lakers', 'faculty', 'prosecution', 'tired', 'Hughes', 'ups', 'Blair', 'Zimbabwe', 'optimistic', 'pledged', 'temperature', 'Lawrence', 'NASCAR', 'Bulldogs', 'funny', 'Alan', 'handful', 'targeting', 'broader', 'rape', 'intention', 'super', 'L.', 'regardless', 'nights', 'abandoned', 'Matthew', 'birds', 'sponsor', 'Cuba', 'airlines', 'Buffalo', 'tips', 'conviction', 'celebrated', 'Revenue', 'taste', 'relating', 'citizen', 'locked', 'Coast', 'Sarah', 'paint', 'load', 'essentially', 'symptoms', 'horses', '#-#-#', 'Steven', 'reviewed', 'guns', 'Douglas', 'handled', 'Jets', 'emissions', 'hurricane', 'walls', 'counsel', 'consensus', 'DNA', 'reveal', 'everywhere', 'occasion', 'carefully', 'understood', 'inventory', 'engage', 'lease', 'incredible', 'constant', 'sons', 'compromise', 'Authority', 'Christopher', 'Mountain', 'shops', 'Turkish', 'worries', 'raises', 'Out', 'Cabinet', 'Obviously', 'opposite', 'fitness', 'database', 'Brandon', 'diverse', 'stops', 'battery', 'parks', 'Medical_Center', 'rush', 'Constitution', 'burden', 'controversy', 'departure', 'luck', 'rebels', 'repeated', 'involves', 'firing', 'troubled', 'Korea', 'benchmark', 'backs', 'anymore', 'Tyler', 'institution', 'keen', 'fighters', 'rallied', 'contrast', 'Village', 'invested', 'Video', 'assembly', 'Ottawa', 'LA', 'intends', 'Swiss', 'Bryant', 'plastic', 'New_Hampshire', 'converted', 'depending', 'Later', 'ordinary', 'West_Virginia', 'credits', 'flooding', 'Indianapolis', 'actors', 'productivity', 'democratic', 'Sean', 'transferred', 'tip', 'interactive', 'County_Sheriff', 'casino', 'basket', 'chip', 'bet', 'writers', 'execution', 'requirement', 'automatically', 'Jan', 'Fame', 'plea', 'Richmond', 'i', 'Justin', 'machines', 'please_visit', 'modest', 'Malaysia', 'procedure', 'Mrs.', 'calm', 'updates', 'unveiled', 'Golden', 'Warren', 'Jefferson', 'swept', 'loose', 'latter', 'nervous', 'agriculture', 'valued', 'pregnant', 'Awards', 'conclusion', 'homeowners', 'household', 'prefer', 'enforcement', 'Lord', 'Prosecutors', 'requiring', 'definition', 'demonstrate', 'parade', 'Anyone', \"'##s\", 'hero', 'Sgt', 'economists', 'rushing', 'explore', 'decreased', 'patrol', 'surprising', 'diabetes', 'component', 'anger', 'incentives', 'Channel', 'Live', 'Nebraska', 'Premier_League', 'Republic', 'carriers', 'Sullivan', 'commented', 'teammate', 'legacy', 'Argentina', 'fleet', 'fat', 'presents', 'vacation', 'introduction', 'discount', 'Ken', 'provisions', 'GDP', 'praised', 'Note', 'lane', 'Saudi_Arabia', 'sells', 'enhanced', 'insurgents', 'copies', 'pride', 'odds', 'employed', 'challenged', 'singing', 'equally', 'collapsed', 'thousand', 'Football', 'landing', 'techniques', 'III', 'BC', 'Butler', 'item', 'objective', 'Stars', 'robbery', 'planes', 'supplier', 'comparison', 'Rick', 'Until', 'Investment', 'Township', 'gifts', 'engineers', 'San_Jose', 'burned', 'Attorney', 'arrests', 'Patriots', 'feedback', 'bags', 'revised', 'versions', 'agricultural', 'Plan', 'extraordinary', 'sight', 'Neither', 'Baseball', 'recruiting', 'attacking', 'Chrysler', 'describe', 'retailer', 'reflected', 'conspiracy', 'Point', 'Islam', 'Richardson', 'Library', 'calendar', 'Finally', 'creates', 'Broadway', 'minds', 'Wildcats', 'Have', 'midnight', 'Elizabeth', 'functions', 'Scottish', 'virtual', 'delivers', 'resignation', 'Tehran', 'badly', 'indication', 'commit', 'Orlando', 'pitches', 'gallon', 'ultimate', 'beauty', 'spoken', 'invasion', 'fires', 'concerning', 'waters', 'authors', 'tea', 'turnovers', 'advisory', 'Memphis', 'buried', 'rent', 'HIV', 'Rob', 'Jonathan', 'probation', 'excess', 'girlfriend', 'striker', 'colleges', 'Did', 'priced', 'fastest', 'robust', 'tracking', 'participated', 'lie', 'dating', 'Super', 'Shanghai', 'bowl', 'highlight', 'guaranteed', 'R.', 'chapter', 'Poor', 'tape', 'Express', 'server', 'deployment', 'shareholder', 'Marine', 'enormous', 'homeless', 'illness', 'hall', 'exhibit', 'soil', '##nd', 'noise', 'outs', 'deserve', 'Disney', 'Currently', 'CIA', 'rolling', 'rarely', 'adoption', 'peaceful', 'C.', 'containing', 'felony', 'Warriors', 'elite', 'cabinet', 'sponsors', 'World_War_II', 'economies', 'hike', 'arena', 'solo', 'platforms', 'liability', 'outdoor', 'somewhere', 'Ed', 'displayed', 'Alexander', 'divided', 'context', 'Keith', 'clinic', 'lifestyle', 'flew', 'Part', 'de', 'screening', 'dramatically', 'Pirates', 'Watson', 'classroom', 'contractors', 'fundamental', 'partly', 'ensuring', 'Oscar', 'Entertainment', 'tackles', 'Gates', 'slide', 'suggesting', 'ill', 'imports', 'highlights', 'Airport', 'Garcia', 'assured', 'bunch', 'constantly', 'holidays', 'touched', 'attempting', 'fate', 'listening', '»', 'legislators', 'decent', 'Pat', 'risen', 'hanging', 'certified', 'nominated', 'Executive', 'lists', 'averaging', 'lessons', 'closure', 'lifetime', 'CD', 'Sudan', 'Data', 'Head', 'Fisher', 'wider', 'shocked', 'Chief_Executive_Officer', 'RBIs', 'destination', 'tens', 'recommendation', 'buses', 'phones', 'Caribbean', 'acre', 'Delta', 'observed', 'trials', 'subsequent', 'scenario', 'shipping', 'liberal', 'lab', 'pet', 'Todd', 'milk', 'rumors', 'Kenya', 'IP', 'municipal', 'Phil', 'starters', 'Prior', '2nd', 'bombing', 'popularity', 'thirds', 'bailout', 'menu', 'asks', 'Aaron', 'tragedy', 'packages', 'interviewed', 'Companies', 'licenses', 'Check', 'Additionally', 'memories', 'colors', 'consulting', 'constitutional', 'welfare', 'nonprofit', 'designs', 'verdict', 'defendants', 'ankle', 'sparked', 'Limited', 'Investigators', 'Contact', '##th_century', 'remarkable', 'accompanied', 'briefly', 'AFP', 'Montana', 'letting', 'Hudson', 'receiver', 'Overall', 'wore', 'Kings', 'dynamic', 'Third', '1st', 'Directors', 'attached', 'tone', 'reverse', 'Brazilian', 'Columbus', 'survival', 'establishment', 'meal', 'joint_venture', 'Country', 'reception', 'promoted', 'memorial', 'warrant', 'complicated', 'inmates', 'Does', 'rough', 'earth', 'merely', 'eliminated', 'smile', 'Miss', 'checked', 'J', 'adjusted', 'sweep', 'leverage', 'Sacramento', 'Annual', 'external', 'mountain', 'amendment', 'associate', 'Plus', 'preserve', 'attracted', 'defendant', 'sorry', 'recovering', 'subjects', 'Masters', 'N.', 'Peterson', 'diagnosed', 'enabling', 'legitimate', 'terrible', 'Philippines', 'studying', 'shed', 'achievement', 'delegation', 'launching', 'Classic', 'dress', 'DC', 'reward', 'Jennifer', 'circuit', 'Birmingham', 'boxes', 'vast', 'adopt', 'affair', 'formerly', 'Men', 'enjoying', 'predict', 'respective', 'recommend', 'Sweden', 'permits', 'pattern', 'admits', 'HP', 'Dennis', 'renewed', 'Vikings', 'Place', 'Blues', 'satisfied', 'principles', 'crossed', 'travelers', 'landscape', 'deposits', 'Construction', 'aboard', 'Susan', 'LONDON', 'narrow', 'practical', 'installation', 'D.', 'San_Antonio', 'samples', 'exception', 'halt', 'loaded', 'Delaware', 'Harrison', 'Station', 'Tribune', 'vaccine', 'cup', 'websites', 'Make', 'urging', 'unlike', 'purchasing', 'sudden', 'lined', 'Hunter', 'tonnes', 'Summit', 'wood', 'eager', 'climb', 'careful', 'mode', 'enemy', 'wanting', 'engineer', 'desperate', 'AIDS', 'Further', 'commissioners', 'Enterprise', 'powered', 'dealt', 'oldest', 'Indeed', 'admission', 'Friends', 'connections', 'therapy', 'Roy', 'topics', 'comfort', 'hang', 'jurong', 'bugis', 'n', 'la', 'buffet', 'cine', 'amore', 'wat', 'ok', 'lar', 'joking', 'wif', 'u', 'oni', 'a', 'wkly', 'comp', 'to', 'fa', 'tkts', '21st', '2005', '87121', 'std', 'txt', 't', 'c', '08452810075over18', 'dun', 'hor', 'nah', 'don', 'usf', 'freemsg', 'hey', 'darling', 'and', 'd', 'tb', 'xxx', 'chgs', '50', 'rcv', 'aids', 'patent', 'melle', 'oru', 'minnaminunginte', 'nurungu', 'vettam', 'callertune', 'callers', 'receivea', '900', '09061701461', 'kl341', 'valid', '12', '11', 'r', 'colour', 'mobiles', '08002986030', 'm', 'gon', 'na', 'k', 've', 'cried', '100', '20', '000', 'csh11', '87575', '150p', '6days', '16', 'tsandcs', 'reply', 'hl', 'info', 'urgent', 'jackpot', '81010', 'www', 'dbuk', 'lccltd', 'pobox', '4403ldnw1a7rw18', 'breather', 'wont', 'fulfil', 'blessing', 'sunday', 'xxxmobilemovieclub', 'wap', 'http', 'com', 'qjkgighjjgcbl', 'oh', 'eh', 'spell', 'v', 'naughty', 'wet', 'gota', 'b', 'england', 'macedonia', 'dont', 'ur', '87077', 'eg', 'wales', 'scotland', '4txt', 'poboxox36504w45wq', 'ha', 'da', 'comin', 'aft', 'str', 'lor', 'ard', 'smth', 'ffffffffff', 'alright', 'sooner', 'slice', 'hungry', 'tho', 'sucks', 'pizza', 'lol', 'convincing', 'frying', 'egg', 'amp', 'packing', 'll', 'ahhh', 'vaguely', 'sarcastic', 'x', 'doesn', 'yeah', 'apologetic', 'actin', 'spoilt', 'till', 'cheers', 'of', 'fainting', 'housework', 'cuppa', 'subscription', 'ringtone', 'uk', 'replying', 'yup', 'timings', 'msg', 'xuhui', 'lesson', '8am', 'oops', 'roommate', 'hello', 'saturday', 'texting', 'tomo', 'invite', 'pls', 'watts', 'abiola', 'crave', 'sweet', 'arabian', 'steed', 'mmmmmm', 'yummy', '07732584351', 'rodger', 'burns', 'sms', 'nokia', 'camcorder', '08000930705', 'endowed', 'lt', 'gt', 'didn', 'hep', 'immunisation', 'nigeria', 'tyler', 'stubborn', 'sucker', 'suckers', 'thinked', 'gram', 'smarter', 'fyi', 'crashing', 'wow', 'embarassed', 'accomodations', 'cave', 'embarassing', 'ac', 'sptv', 'jersey', 'devils', 'detroit', 'wings', 'incorrect', 'mallika', 'sherawat', 'url', 'congrats', 'cinema', 'yours', '09061209465', 'suprman', 'matrix3', 'starwars3', 'etc', 'bx420', 'ip4', '5we', '150pm', 'gauti', 'sehwag', 'odi', 'burger', 'joke', 'seekers', 'checking', 'iq', 'roommates', 'forever', 'dresser', 'wun', 'advise', 'mob', '1500', '09066364589', 'dedicate', 'frnds', 'rply', 'complimentary', 'eurodisinc', 'trav', 'aco', 'entry41', '1000', 'dis', '18', 'morefrmmob', 'shracomorsglsuplt', '10', 'ls1', '3aj', 'divorce', 'barbie', 'ken', 'wah', 'hee', 'hi', 'babe', 'im', 'wan', 'xx', 'machan', 'thats', 'gentleman', 'dignity', 'peoples', 'shy', 'pa', 'ta', 'ah', 'urgnt', 'yo', 'jacket', 'multis', 'coins', 'nitros', 'ela', 'kano', 'il', 'wen', 'casualty', 'haven', 'y', 'stuff42moro', 'sheets', 'pleasure', 'pours', 'sum1', 'hurts', 'becoz', 'loves', 'smiling', '0800', '169', '6031', '10am', '9pm', '5000', 'havent', 'lido', '530', 'password', '85069', 'verify', 'usher', 'britney', 'fml', 'telugu', 'abt', 'loads', 'wk', 'hols', 'forgot', 'hairdressers', 'shower', 'beforehand', 'prob', 'ham', 'okay', 'ave', 'ams', '4the', 'boston', 'nyc', 'cuz', 'signin', 'umma', 'vava', 'dear', 'wishes', 'memorable', 'aight', 'ip', 'isn', 'minecraft', 'grumpy', 'jokes', 'plural', 'noun', 'cos', 'scared', 'mah', 'loud', 'gent', 'weekends', '09064012160', 'k52', '12hrs', '150ppm', 'wa', 'openin', 'juz', 'tt', 'eatin', 'puttin', 'haha', 'anythin', 'cabin', 'askd', 'specially', 'inc', '0871277810910p', 'min', 'goodo', 'friday', 'potato', 'tortilla', 'hmm', 'uncle', '2004', '07742676969', '786', 'unredeemed', '08719180248', 'identifier', '45239', 'expires', '2000', 'caller', '03', 'landline', '09064019788', 'box42wr29c', 'apples', 'pairs', 'malarky', 'todays', 'voda', '7548', '350', '08712300220', 'quoting', '4041', 'app', 'sao', 'mu', 'yetunde', 'hasn', 'bother', 'shouldn', 'apologise', 'del', 'bak', 'sum', 'lucyxx', 'tmorrow', 'accomodate', 'sunshine', 'quiz', 'q', 'sony', 'dvd', 'algarve', 'ansr', '82277', 'sp', 'tyrone', 'dogging', 'bt', 'txting', 'gravel', '69888', 'nt', 'ec2a', '31p', 'haf', 'msn', 'yijue', 'hotmail', 'befor', 'msgs', 'chat', 'svc', 'hardcore', '69988', 'yr', 'lazy', 'lect', 'pouch', 'sir', 'swt', 'nver', 'lovable', 'coz', 'somtimes', 'occupy', 'hearts', 'gud', 'ni8', 'ya', 'dot', 'whats', 'replied', 'randy', 'sexy', 'luv', 'netcollex', 'ltd', '08700621170150p', 'ummma', 'qatar', 'pray', 'deleted', 'sindu', 'birla', 'flowing', 'nevering', 'thk', 'plaza', 'dirt', 'shirt', 'chores', 'joy', 'tv', 'hail', 'mist', 'aaooooright', 'annoncement', '07046744435', 'arrange', '0871277810810', 'envy', 'bootydelious', '32', 'f', 'inviting', '434', 'frnd', '62468', 'bangbabes', 'goto', 'bangb', 'cultures', 'module', '09061701939', 's89', 'missunderstding', 'wit', 'beloved', 'fancy', 'lager', 'clark', 'utter', 'axis', 'hmmm', 'hop', 'muz', 'liao', 'bloody', 'hell', 'cant', 'surname', 'mr', 'clue', 'spanish', 'bath', 'carlos', 'mall', 'til', 'doesnt', 'log', 'maneesha', 'approaches', 'anyways', 'gr8', 'bye', 'handsome', 'mummy', 'boytoy', 'awesome', 'freephone', '0808', '145', '4742', '9am', '11pm', 'xmas', 'jus', 'bathe', 'sis', 'finishes', '30th', 'august', 'areyouunique', 'stays', 'ors', 'stool', 'wishin', 'mrng', 'hav', 'hamster', 'tmr', '1pm', 'orchard', 'mrt', 'kate', 'babyjontet', 'enc', 'bucks', 'darlin', 'ive', 'refilled', 'inr', 'decimal', 'keralacircle', 'prepaid', 'rs', 'id', 'kr', 'goodmorning', 'sleeping', 'ga', 'alter', 'dat', 'ericsson', 'oso', 'oredi', 'dats', 'dogg', 'refund', 'bruv', 'rewarding', 'semester', 'noe', 'leh', 'prediction', 'slept', 'sen', 'exam', 'march', 'atm', 'os', 'ubandu', 'installing', 'disk', 'romantic', 'nite', 'scenery', '500', '89545', 'tc', 'biz', '2optout', '087187262701', '50gbp', 'mtmsg18', 'flyng', 'horo', 'g', 'aries', 'elama', 'po', 'mudyadhu', 'strict', 'bcoz', 'teaches', 'conducts', 'gandhipuram', 'rubber', 'flirt', '10p', 'sam', '25', 'recd', 'thirtyeight', 'pence', 'printed', 'upstairs', 'wil', 'theory', 'loses', '447801259231', 'admirer', '09058094597', 'tomarrow', 'laptop', 'pleassssssseeeeee', 'tel', 'avent', 'sportsx', 'shining', 'baig', 'watches', 'fr', 'thanx', 'slippers', 'kallis', 'didnt', 'goodnight', 'dearly', 'congratulations', 'cd', 'vouchers', '125gift', '87066', 'tncs', 'ldew', 'com1win150ppmx3age16', 'ranjith', 'cal', 'drpd', 'deeraj', 'deepak', '5min', 'bcums', 'wid', 'dnt', 'childish', 'affection', 'kettoda', 'manda', '3days', '2wks', 'usps', 'lag', 'bribe', 'nipost', 'lem', 'headin', 'mmm', 'jolt', 'suzy', 'lover', 'handset', '750', 'anytime', 'mins', 'unlimited', 'parked', 'mini', 'disturb', 'luton', '0125698789', 'h', 'horny', 'naked', '69698', 'unsubscribe', 'dint', 'wana', 'sometme', 'club4mobiles', '87070', 'club4', 'box1146', 'mk45', '2wt', 'evo', 'flash', 'jealous', 'chart', 'sorting', 'narcotics', 'sunny', 'rays', 'bay', 'hmv', 'genuine', '86688', '100percent', 'objection', 'bf', 'rob', 'mack', 'gf', 'celebrations', 'okie', 'ahold', 'lets', 'cruisin', 'fone', 'jenny', 'ge', 'tonite', 'varunnathu', 'edukkukayee', 'raksha', 'ollu', 'gautham', 'stupid', 'cam', 'buzy', 'accidentally', 'resend', 'sim', 'loyalty', '0845', '021', '3680', '28thfeb', 'gurl', 'tease', 'cry', 'plz', 'grave', 'bslvyl', 'diesel', 'shit', 'shocking', 'scary', 'def', 'taxi', 'fridge', 'womdarfull', 'blind', '4u', 'rodds1', '21', 'aberdeen', 'united', 'kingdom', 'img', 'w', 'icmb3cktz8r7', 'hide', 'remb', 'jos', 'friendship', 'thread', 'themob', 'newest', 'tones', 'gossip', 'babes', 'funky', '82468', 'garage', 'keys', 'aren', 'bookshelf', 'dear1', 'best1', 'clos1', 'lvblefrnd', 'jstfrnd', 'cutefrnd', 'lifpartnr', 'belovd', 'swtheart', 'bstfrnd', '200', '85222', 'cs', 'winnersclub', '84', 'm26', '3uz', 'gbp1', '2day', 'mylife', 'wot', 'pongal', 'kb', 'yoga', 'dunno', 'tahan', 'anot', 'lo', 'dude', 'december', '11mths', '08002986906', 'cake', 'merry', 'christmas', 'kisses', 'cud', 'ppl', 'gona', 'l8', 'waitin', 'pete', 'guild', 'bristol', 'apo', 'germany', '0844', '861', '85', 'prepayment', 'evaporated', 'violated', 'stealing', 'employer', 'paperwork', 'supervisor', 'valentines', '83600', 'rcvd', 'custcare', '08718720201', 'daaaaa', 'wined', 'dined', 'surfing', '1000s', 'texts', 'wiv', 'caroline', 'favourite', 'bless', 'hiding', 'stranger', 'gudnite', 'huiming', 'num', 'prestige', 'shag', 'sextextuk', 'xxuk', '69876', 'txts', 'jeremiah', 'iphone', 'apeshit', 'misbehaved', 'slap', 'urself', 'fault', 'jay', 'safely', 'weed', 'ish', 'wtf', 'onam', 'sirji', 'remembered', 'insha', 'allah', 'rakhesh', 'tata', 'aig', 'tissco', 'tayseer', 'maximize', 'cc', '08708800282', 'hg', 'suite342', '2lands', 'w1j6hl', 'unemployed', 'st', 'andrews', 'chikku', 'db', 'audrey', 'dawns', 'refreshed', 'breathe', 'z', 'motorola', 'sonyericsson', 'bluetooth', 'orange', 'mobileupd8', '08000839402', 'call2optout', 'f4q', 'rp176781', 'regalportfolio', '08717205546', 'uniform', 'geeee', 'woke', 'cuddling', 'spoil', 't91', 'gbp', '09057039994', 'recognise', 'lindsay', 'sighs', 'bars', 'ptbo', 'heron', 'payasam', 'rinu', 'becaus', 'hes', 'verifying', 'prabu', 'repairs', 'ovulation', 'relax', 'followin', 'wallet', '945', '6months', 'n9dx', 'owl', 'licks', 'mm', '4mths', 'rental', 'mobilesdirect', '08000938767', 'or2stoptxt', 'huh', 'intro', 'pilates', 'kickboxing', 'bout', '30ish', 'calculated', 'ass', 'facebook', 'al', 'salam', 'wahleykkum', 'grace', 'god', 'inshah', 'sometime', 'visitor', 'india', 'administrator', '87131', 'poly', '2814032', '3x', '150pw', 'nd', 'chechi', 'cream', 'shipped', 'yep', 'loxahatchee', 'stoners', 'disastrous', 'fav', 'darlings', 'wld', 'busetop', 'sender', 'fullonsms', 'iron', 'okies', 'yan', 'jiu', 'skip', 'den', 'blah', 'wendy', 'l', '09064012103', 'box334sk38ch', 'whatsup', '250', '80086', 'txttowin', 'logo', 'name1', 'name2', 'mobno', 'adam', 'eve', '07123456789', 'yahoo', 'pobox36504w45wq', 'txtno', '09111032124', 'pobox12n146tf150p', 'siva', 'hostel', 'aha', '09058094455', '3030', 'expression', 'sentiment', 'rowdy', 'ful', 'irritating', 'aathi', 'urination', 'esplanade', 'wnt', 'bmw', 'urgently', 'vry', 'hv', 'shortage', 'lacs', 'arng', 'amt', 'fifteen', 'fucking', '3650', '09066382422', '3mins', 'vary', '300603', 'bcm4284', 'ldn', 'wc1n3xx', 'booked', 'hillsborough', 'th', 'askin', 'shoul', 'iouri', 'applebees', 'hasnt', 'gd', 'bhaji', 'cricketer', 'sachin', 'oic', 'tot', 'din', 'werethe', 'monkeespeople', 'monkeyaround', 'howdy', 'gorgeous', 'blimey', 'kinda', 'concentration', 'hanks', 'lotsly', 'acc', '75', 'tenants', '1956669', 'si', 'oreo', 'truffles', 'amy', 'ure', 'intelligent', 'practicum', 'ears', 'ttyl', 'isnt', 'thru', 'wavering', 'coping', 'heal', 'upgrdcentre', '0207', '153', '9153', '26th', 'july', 'opt', 'railway', 'princess', 'oral', 'doggy', 'fave', 'slippery', 'okmail', 'dave', 'tenerife', '09061743806', 'tcs', 'sae', 'box326', 'cw25wx', 'screamed', 'enters', 'transfered', 'differ', '9ja', 'moan', '69888nyt', 'cum', 'infront', 'wise', '9t', 'tension', 'machi', '8th', 'mcr', 'sec', 'fb', 'jaykwon', 'thuglyfe', 'falconerf', 'activate', '07781482378', 'depends', 'boye', 'faded', 'glory', 'ralphs', 'reunion', 'meh', 'nope', 'monday', 'accenture', 'jackson', 'rec', '7ish', 'reache', 'fightng', 'some1', 'dificult', 'nuerologist', 'lolnice', '123', '1450', '09050002311', 'b4280703', '08718727868', 'bored', 'westshore', 'hyde', 'anthony', 'significance', 'jada', 'kusruthi', 'silent', 'spl', 'matured', 'stylish', 'scrounge', 'ammo', 'ak', 'prabha', 'soryda', 'realy', 'frm', 'sory', 'forgiven', 'jst', 'tat', '40gb', 'ipod', 'mp3', '83355', 'ibhltd', 'ldnw15h', 'mtmsgrcvd18', 'boltblue', 'mono', 'poly3', 'cha', 'jamz', 'toxic', 'topped', 'bubbletext', 'renewal', 'pin', 'tgxxrz', 'problematic', 'bday', 'definite', 'nos', 'booking', 'fri', 'unconscious', 'behave', 'abnormally', 'ebay', 'pickle', 'tacos', 'rude', '02', '09', '0871', '872', '9755', 'box95qu', 'mas', '150', '85023', 'savamob', '08717898035', '00', 'sub', 'unsub', 'lady', 'recieve', '24hrs', 'teletext', 'pg', 'faggot', '2003', '07815296484', '800', 'un', 'redeemed', '08718738001', '41782', '04', 'l8r', 'malaria', 'bani', 'passionate', 'kiss', 'fingers', 'buttons', 'ummmmmaah', 'tirupur', 'applausestore', 'monthlysubscription', '50p', 'max6', 'csc', 'age16', '2stop', 'quote', 'unconditionally', 'temper', 'oclock', 'bash', 'cooped', 'invitation', 'cali', 'english', 'bloke', 'weddin', 'omw', 'btw', 'alibi', 'sink', 'paces', 'cage', 'cock', 'surrounded', 'reminding', 'cuck', 'hurry', 'deficient', 'acknowledgement', 'astoundingly', 'tactless', 'faggy', 'oath', 'fo', 'magic', 'pan', 'silly', 'o', 'uv', 'mutations', 'sunscreen', 'thesedays', 'pics', 'aiyo', 'mei', 'workin', 'bao', 'sugardad', 'gee', 'brownie', 'geeeee', 'fuck', '2mrw', 'ninish', 'icky', 'american', 'freek', 'callin', 'jen', 'oooh', 'ridden', 'ey', 'gym', 'smiles', 'daddy', 'scream', 'dick', 'missy', 'yar', 'mum', 'sch', 'goggles', 'call09050000327', 'arguing', '09050005321', 'arngd', 'walkin', 'unfortuntly', 'snake', 'bites', 'dancing', 'frnt', 'sayin', 'bite', 'izzit', 'textand', '08002988890', 'jjc', 'tendencies', 'headache', 'jazz', 'yogasana', 'em', 'meive', 'gotany', 'srsly', 'yi', 'spree', '80878', '08715705022', '1x150p', '08712402050', '10ppm', 'ag', 'promo', '07753741225', '08715203677', '42478', '24', 'grand', 'prix', 'nitz', '542', '0825', 'exhausted', 'pie', 'ar', 'blastin', 'tsunamis', 'rajnikant', 'swimming', 'indian', 'ocean', 'xclusive', 'clubsaisai', '2morow', '28', 'soiree', 'speciale', 'zouk', 'nichols', 'paris', 'roses', 'ladies', '07946746291', '07880867867', 'bridgwater', 'banter', 'neva', 'imma', 'somethin', '22', 'euro2004', '83222', 'valentine', 'ques', 'suits', 'dependents', 'thanx4', 'cer', 'handsomes', 'beauties', 'aunties', 'uncles', 'shuhui', 'leona', 'happiness', 'friendships', 'dismay', 'alex', 'pub', 'bud', 'drinks', 'tootsie', 'darren', 'textbuddy', '25p', 'postcode', 'gaytextbuddy', '89693', 'vodafone', '4882', '09064019014', 'forwarded', 'seventeen', 'ml', 'voucher', 'holder', 'pc', 'tlp', 'expressoffer', 'ts', '80062', 'sweetheart', 'biola', 'login', 'fetching', 'restock', 'thanksgiving', 'brighten', 'wee', 'thursday', 'allo', 'braved', 'trains', 'triumphed', 'jolly', 'cartoon', 'temple', 'uncomfortable', '08715203694', '40533', '31', 'rstm', 'sw7', '3ss', 'gentle', 'sonetimes', 'panic', 'tuesday', 'wesleys', 'hella', 'dealer', 'impatient', 'cloud', 'evng', 'wikipedia', '88800', '89034', '08718711108', 'lays', 'envelope', 'repent', 'fetch', 'kama', 'sutra', 'en', 'nange', 'bakra', 'kalstiya', 'lakhs', 'ho', 'belly', 'laugh', 'sun0819', '08452810071', 'ditto', 'knw', 'wetherspoons', 'piggy', 'awake', 'freaky', 'yelling', 'scrappy', 'lonely', 'hex', 'sdryb8i', 'xy', 'sue', 'lapdancer', 'bedroom', '89555', 'textoperator', 'g2', '1da', '150ppmsg', 'king', 'crying', 'imprtant', 'tomorw', 'cherthala', 'cochin', 'bfore', 'accordingly', 'tmorow', 'ans', 'torch', 'bold', '448712404000', '08712404000', '4d', '1405', '1680', '1843', 'poop', 'gpu', 'entrepreneurs', 'corporation', 'dehydration', 'fluids', 'weird', 'trek', 'harri', 'drivin', 'gage', 'deck', 'cnupdates', 'newsletter', 'alerts', 'height', 'aeronautics', 'professors', 'wer', 'calld', 'aeroplane', 'aftr', 'ws', 'dey', 'hurried', 'shitstorm', 'attributed', '08714712388', '7pm', 'dorm', '449071512431', '1250', '09071512433', 'b4', '050703', 'csbcm4235wc1n3xx', 'callcost', 'mobilesvary', 'max', 'sth', 'specs', 'px3748', '08714712394', 'macha', 'mindset', 'wondar', 'flim', 'cookies', 'jelly', 'admit', 'mad', 'correction', 'scrumptious', 'ba', 'dao', 'half8th', 'jide', 'alertfrom', 'jeri', 'stewartsize', '2kbsubject', 'prescripiton', 'drvgsto', 'yay', 'steak', 'neglect', 'prayers', 'nokia6650', 'txtauction', '81151', '4t', 'ctxt', 'mtmsg', 'mayb', 'rite', 'gals', 'hadn', 'clocks', 'shouted', 'realised', 'wahay', 'shorter', 'gaze', '930', 'subscribed', '82324', 'helpline', '08706091795', 'gist', '40', 'tattoos', 'gim', 'lip', 'caveboy', 'confused', 'holla', 'spare', 'vibrate', '79', '08704439680ts', 'grandmas', 'hungover', 'unclaimed', '09066368327', 'closingdate04', 'claimcode', 'm39m51', '50pmmorefrommobile2bremoved', 'mobypobox734ls27yf', 'gua', 'mt', 'faber', 'yest', 'wishing', '88039', 'skilgme', 'tscs087147403231winawk', '50perwksub', 'goin', 'meetin', 'tis', 'damn', 'hunting', 'drunkard', 'wats', 'idc', 'weaseling', 'trash', 'smokes', 'begging', 'lovely', 'sing', 'slave', 'punish', 'beerage', '0578', 'randomlly', 'couldn', 'fixes', 'spelling', 'diff', '100p', 'polyphonic', '087018728737', 'toppoly', 'tune', 'subpoly', '81618', 'pole', '08718727870', 'fondly', 'bein', 'thot', 'dogbreath', 'sounding', 'jan', 'omg', 'weighed', 'woohoo', 'uncountable', 'dictionary', '9996', '14thmarch', 'availa', 'petey', 'whereare', 'friendsare', 'thekingshead', 'canlove', 'nic', 'pobox84', 'm263uz', 'appt', 'no1', '8077', 'mates', 'getzed', '36504', 'w45wq', 'norm150p', 'cashto', '08000407165', 'getstop', '88222', 'php', 'rg21', '4jx', 'dled', '3d', 'imp', 'ain', 'smokin', 'boooo', 'bec', 'ugh', 'costumes', 'yowifes', 'hint', 'borrow', 'outbid', 'simonwatson5120', 'shinco', 'plyr', 'smsrewards', 'notifications', 'youi', 'galileo', 'dobby', 'responding', 'boo', 'enjoyin', 'yourjob', 'gettin', 'hunny', 'llspeak', '2u', 'soonlots', 'loveme', 'xxxx', 'starshine', 'ache', 'sips', 'cappuccino', 'teasing', 'smsservices', 'yourinclusive', 'comuk', '3qxj9', '08702840625', '220', 'cm2', '9ae', 'alfie', 'moon', 'm8s', '8007', 'nokias', 'polys', 'zed', '08701417012', 'bits', 'hahaha', 'burial', 'mojibiola', '09065174042', 'cust', '07821230901', 'mate', 'rv', 'hol', 'rvx', 'skyped', 'kz', 'sura', 'ultimatum', 'countin', 'aburo', 'surely', '08002888812', 'inconsiderate', 'nag', 'hence', 'wed', 'soo', '2morrow', 'prashanthettan', '09066350750', 'ibiza', 'await', 'sk3', '8wp', 'ppm', 'suite', 'xavier', 'samantha', 'guitar', 'impress', 'doug', 'realizes', 'stomach', 'trauma', 'swear', 'inner', 'tigress', 'urfeeling', 'bettersn', 'probthat', 'overdose', 'spk', 'sn', 'lovejen', 'worlds', 'discreet', 'vip', '83110', 'hai', 'ana', 'sathy', 'rto', 'spoons', 'tampa', 'genius', 'whenever', 'lotta', 'corvettes', 'lately', 'yrs', 'cds', 'virgin', 'mystery', '09061104283', 'smsco', '50pm', 'approx', 'bunkers', '07808', 'xxxxxx', '08719899217', '41685', '07', 'posh', 'chaps', 'prods', 'champneys', 'dob', 'asap', '0721072', 'philosophical', 'cuddle', 'nap', 'atleast', 'shakespeare', 'shesil', '10k', '5k', '09064011000', 'ntt', 'cr01327bt', 'fixedline', 'castor', 'liverpool', '09058094565', '09065171142', 'stopsms', '08', 'reminder', 'downloaded', 'doit', 'mymoby', 'woul', 'curfew', 'gibe', 'getsleep', 'studdying', 'ear', 'massages', 'sup', 'yoyyooo', 'permissions', 'mac', 'usb', 'gibbs', 'unsold', 'mike', 'hussey', 'unbelievable', 'faglord', 'nutter', 'cutter', 'ctter', 'cttergg', 'cttargg', 'ctargg', 'ctagg', 'ie', 'superb', 'grateful', 'happier', 'experiment', 'invoices', 'smell', 'tobacco', 'derek', 'taylor', 'assumed', 'charles', 'lastest', 'stereophonics', 'marley', 'dizzee', 'racal', 'libertines', 'strokes', 'nookii', 'bookmark', 'grinule', 'greet', 'fudge', 'oreos', 'january', 'cheaper', '08709222922', '5p', '8p', '08712460324', 'zaher', 'ym', 'nauseous', 'pissed', 'sweets', 'pig', 'dieting', 'iam', 'addicted', 'msging', 'yck', 'ma', 'ashley', 'avalarr', 'hollalater', 'blogging', 'magicalsongs', 'blogspot', 'diet', 'ate', 'slices', 'kvb', '88600', '1million', 'ppt150x3', 'box403', 'w1t1jy', 'ore', 'mo', 'owo', 'fro', 'wherever', 'samus', 'shoulders', 'matthew', '09063440451', 'lux', 'ppm150', 'box334', 'sk38xh', 'jeans', 'fever', 'vomitin', '09061749602', '528', 'hp20', '1yf', 'stuffed', 'bleh', 'writhing', 'paypal', 'voila', 'pockets', 'theyre', 'sorta', 'blown', 'sophas', 'applying', 'ogunrinde', '114', '14', 'tcr', 'w1', 'lodging', 'chk', 'ms', 'dict', 'shb', 'gravity', 'filthy', 'simpler', 'magical', 'welp', 'natwest', '09050001808', 'm95', 'valid12hrs', 'chad', 'gymnastics', 'christians', 'necklace', 'token', 'liking', 'aptitude', '15', 'chicken', 'rice', 'closes', 'wrongly', 'crap', 'borin', 'boggy', 'boring', 'biatch', 'nxt', 'hesitate', 'weakness', 'notebook', 'chocolate', 'reckon', 'eightish', 'carpark', '3g', 'videophones', '09063458130', 'videochat', 'java', 'dload', 'polyph', 'noline', 'rentl', 'fuckin', 'loving', 'yun', 'ubi', '67441233', 'irene', 'ere', 'bus8', '65', '61', '66', '382', 'cres', '6ph', '5wkg', 'sd', 'butt', 'sore', 'relaxing', '7am', '5ish', 'stripes', 'skirt', 'miracle', 'jesus', 'blessed', 'escalator', 'beth', 'aunts', 'charlie', 'helen', 'syllabus', 'panasonic', 'bluetoothhdset', 'doublemins', 'doubletxt', '30pm', 'poyyarikatur', 'kolathupalayam', 'unjalur', 'erode', 'apt', 'kerala', 'lovers', 'supreme', 'regret', 'cudnt', 'ctla', 'ente', 'ishtamayoo', 'bakrid', 'exe', 'glorious', 'anniversary', 'j', 'prey', 'coaxing', 'fond', 'souveniers', 'cougar', 'pen', 'secretly', 'fancies', '09065394514', 'datebox1282essexcm61xn', 'throat', 'scratches', 'plm', 'asleep', 'stamps', 'lecture', 'sheffield', 'nanny', 'zoe', 'shitin', 'defo', 'hardest', 'lekdog', 'filling', 'loverboy', 'blankets', 'thx', 'nyt', 'edison', 'rightly', 'fool', 'speechless', 'viva', 'gm', 'atten', 'roast', '09058097218', 'ls15hb', 'concentrate', 'flirting', 'chatting', 'kickoff', 'june', '3rd', 'thesis', 'belligerent', 'hiya', 'april', 'les', 'rudi', 'snoring', 'drunk', 'sends', 'ink', '515', 'deciding', 'eastenders', 'flower', 'compare', 'violet', 'tulip', 'lily', '84025', 'wkent', '150p16', 'networking', 'finalise', 'flirtparty', 'replys150', 'bitch', 'dentist', '09058091854', 'box385', 'm6', '6wu', 'bathing', '09050003091', 'c52', 'xchat', 'lul', 'juicy', 'nurses', 'shes', 'obese', 'oyea', 'oi', 'ami', 'parchi', 'kicchu', 'kaaj', 'korte', 'iccha', 'korche', 'tul', 'sculpture', 'convey', 'regards', 'surya', 'vijay', 'pokkiri', 'pic', 'dearer', 'dem', 'attraction', 'breath', 'sorrows', 'craziest', 'proove', 'planet', 'praises', 'curry', 'makiing', 'sambar', 'ndship', 'needle', 'evn', 'itz', '4few', 'alwys', 'conected', 'spatula', 'sipix', '09061221061', '28days', 'box177', 'm221bp', '2yr', 'warranty', 'p', '99', '09061790121', 'complexities', 'freely', 'outrageous', 'tomorro', 'ryder', 'subscriber', 'receipt', 'elvis', 'presleys', 'fret', 'strips', 'postal', 'cliff', 'ne', 'wrking', 'uni', 'depressed', 'sittin', 'drops', 'aiyah', 'o2', 'urawinner', 'awaiting', 'hen', 'italian', 'grins', 'smoked', 'math', 'dhoni', 'rocks', 'teju', 'hourish', 'amla', 'durban', 'convenience', 'evaluation', '449050000301', '09050000301', 'speedchat', '80155', 'swap', 'chatter', 'chat80155', 'rcd', 'cancel', 'cheyyamo', '08000776320', 'aiyar', '80160', 'txt43', 'catching', 'throws', 'gal', 'whos', 'hmv1', 'difficulties', 'howz', 'tau', 'sar', 'piah', '1stchoice', '08707808226', 'shade', 'copied', 'notified', '84122', '08450542832', 'raining', 'virgins', '4fil', 'theirs', 'cute', '69911', 'sitter', 'kaitlyn', 'peeps', 'veggie', 'computerless', 'balloon', 'silently', 'drms', 'wrc', 'oz', 'lucozade', 'le', '61200', 'packs', 'itcould', 'melody', 'horrible', 'macs', 'toot', 'nw', 'hme', 'islands', 'chennai', 'velachery', 'flippin', 'cstore', 'annoying', 'hangin', 'makin', 'lodge', 'worrying', 'shame', 'quizzes', 'popcorn', 'jordan', 'celeb', 'pocketbabe', '087016248', 'voicemail', '08719181503', 'thin', 'arguments', 'fed', 'himso', '2go', 'neft', 'credited', 'beneficiary', 'tuition', 'subs16', '1win150ppmx3', 'appreciated', 'semi', 'exp', '30apr', 'maaaan', 'guessin', 'walmart', 'ilol', 'wuldnt', 'mite', 'creepy', 'lunchtime', 'organise', '08719181513', 'passable', 'phd', '5years', 'nok', '87021', 'txtin', '4info', 'prakesh', 'apps', 'rofl', 'betta', 'aging', '1hr', 'accommodation', 'phb1', 'ph', '08700435505150p', 'submitting', '84128', 'textcomp', '08712405020', 'snatch', 'purse', 'drivby', '0quit', 'edrunk', 'iff', 'pthis', 'senrd', 'dnot', 'dancce', 'drum', 'basq', 'ihave', '2nhite', 'ros', 'xxxxxxx', 'morn', 'relieved', 'westonzoyland', 'greatness', 'europe', 'chinese', 'docs', 'havin', 'goin2bed', 'only1more', 'mc', 'hun', '2nite', 'every1', 'ava', 'goodtime', 'oli', 'rang', 'melnite', 'ifink', 'sorted', 'everythin', 'mon', 'l8rs', '08712402779', 'flip', 'shun', 'bian', 'el', 'nino', 'cbe', 'honey', 'jd', 'downstem', '08718730555', 'wahala', 'inperialmusic', 'listening2the', 'weirdest', 'leafcutter', 'john', 'insects', 'molested', 'plumbing', 'remixed', 'evil', 'acid', 'didntgive', 'bellearlier', 'exact', '09096102316', '2moro', 'jane', 'minmoremobsemspobox45po139wa', 'tee', 'cheery', 'thts', 'dough', '80488', 'weirdo', 'stalk', 'profiles', 'jerry', 'irritates', 'fails', 'drinkin', 'wondering', '5pm', '95', 'pax', 'deposit', 'jap', 'disappeared', 'birthdate', 'certificate', 'publish', 'dreams', 'nydc', 'wheellock', 'fifty', 'favour', 'settling', 'happenin', 'ola', 'cocksuckers', 'ipads', 'worthless', 'garbage', 'novelty', 'fran', 'knackered', 'janx', 'dads', 'designation', 'jamster', 'videosound', 'videosounds', 'logos', 'musicnews', '09701213186', 'lions', 'lionm', 'lionp', 'ringtones', '3gbp', 'jokin', 'bb', 'shattered', 'alrite', 'idiot', 'girlie', 'colours', 'darker', 'styling', 'whenevr', 'gray', 'remembr', 'listn', 'watevr', 'harry', 'potter', 'phoenix', 'shd', 'minus', 'paragraphs', 'coveragd', 'vasai', 'retard', 'bathroom', 'sang', 'uptown', '80', 'february', 'icic', 'syria', 'canada', 'cares', 'goodnoon', 'gauge', 'patty', 'vl', 'completing', 'ax', 'chill', '6hrs', 'surgical', 'unfolds', 'frens', 'korean', 'fredericksburg', 'que', 'pases', 'buen', 'tiempo', 'chillin', 'free2day', 'george', '89080', 'saucy', '0870241182716', 'theres', 'tmrw', 'compass', 'soul', 'gnun', 'way2sms', 'baaaaabe', 'misss', 'youuuuu', 'ned', 'convince', 'tht', 'witot', 'hurting', 'sweetie', 'blackberry', 'buyer', '4a', 'pple', 'marry', 'becz', 'undrstndng', 'avoids', 'whn', 'suntec', 'steamboat', 'moji', 'forgive', 'messenger', 'tp', 'fantasies', '08707509020', '20p', '1327', 'croydon', 'cr9', '5wb', '0870', 'bbq', '6ish', 'everyso', 'panicks', 'gently', 'bears', 'nick', 'tom', 'upload', '08718730666', 'auntie', 'huai', 'juan', 'linerental', 'lf56', 'tlk', 'paths', 'thirunelvali', 'tirunelvali', 'storming', 'phne', 'wt', 'margaret', 'girlfrnd', 'grahmbell', 'invnted', 'telphone', 'moral', '4get', 'popped', 'tonght', 'ploughing', 'pile', 'ironing', 'chinky', 'wi', 'nz', 'aust', 'bk', 'cafe', 'recharged', 'kidding', 'papa', 'shld', 'sinco', 'payee', 'icicibank', 'urn', 'beware', 'frauds', 'disclose', 'caring', 'losers', 'kaiez', 'beta', 'practicing', 'babies', 'noncomittal', 'beneath', 'pale', 'goodnite', 'msgrcvdhg', 'snickering', 'chords', 'rem', 'lmao', 'silence', 'win150ppmx3age16', 'exams', 'revision', 'boyf', 'interviw', 'exeter', 'spreadsheet', 'arsenal', 'dartboard', 'trebles', 'coat', 'painful', 'recognises', 'wisheds', 'intrepid', 'duo', 'missin', 'aiya', 'cardiff', 'addie', 'tues', 'breeze', 'twittering', 'textpod', 'pod', 'ducking', 'chinchillas', 'headstart', 'rummer', 'monkeys', 'optin', 'bbc', 'charts', 'thanks2', 'rajini', 'summers', 'matched', 'optout', 'help08714742804', 'spys', 'mails', 'claire', '09099725823', 'costing', 'yalru', 'lyfu', 'astne', 'innu', 'mundhe', 'lyf', 'ali', 'halla', 'ke', 'bilo', 'edhae', 'ovr', 'vargu', 'meow', 'twelve', 'aah', '09066362231', '07xxxxxxxxx', '06', 'prone', '07801543489', 'latests', 'llc', 'ny', 'usa', 'msgrcvd18', 'lucy', 'hubby', 'meetins', 'cumin', '09099726395', 'minmobsmorelkpobox177hp51fl', 'wonders', '7th', '6th', '5th', '4th', 'personality', 'dose', 'tablet', 'incomm', 'blake', 'lotr', 'google', 'maps', 'tiring', 'modules', 'concentrating', 'browsin', 'compulsory', 'purity', 'musthu', 'vomit', 'aint', 'sha', 'vitamin', 'centre', 'jsco', '2channel', 'psychic', 'idps', 'linux', 'converter', 'karaoke', 'sayy', 'nit', 'leanne', 'disc', 'hows', 'champ', 'glasgow', 'lovin', 'install', 'browse', 'corect', 'speling', 'sarcasm', '4719', '523', 'ron', 'cts', 'aunt', 'nike', 'sooo', 'screaming', 'shouting', 'dang', 'unfortunately', '7250i', '86021', 'w1jhl', 'earliest', 'nordstrom', 'konw', 'waht', 'rael', 'gving', 'yuo', 'exmpel', 'jsut', 'ese', 'tihs', 'evrey', 'splleing', 'wrnog', 'sitll', 'raed', 'wihtuot', 'ayn', 'mitsake', 'ow', 'bleak', 'shant', 'jia', 'bishan', 'nearer', 'sux', 'raiden', 'buff', 'preferably', 'kegger', 'totes', 'pierre', 'cardin', 'rhythm', 'truro', 'ext', 'adventure', 'cloth', 'tablets', 'sunroof', 'wifi', 'blanked', 'rumour', 'kalainar', 'thenampet', '7250', 'nosy', 'idk', 'reacting', 'freaked', 'satanic', 'imposter', 'destiny', 'companion', 'chef', 'listener', 'organizer', 'boyfriend', 'sympathetic', 'courageous', 'dependable', 'psychologist', 'pest', 'exterminator', 'psychiatrist', 'healer', 'stylist', 'aaniye', 'pudunga', 'venaam', 'brothas', 'chasing', 'chez', 'jules', 'hhahhaahahah', 'nig', 'leonardo', 'kicks', '2years', 'strain', 'dime', 'withdraw', 'anyhow', 'smeone', 'millers', 'spark', 'flame', 'rawring', 'xoxo', 'somewhr', 'crushes', 'honeymoon', 'outfit', 'propose', '08719899230', 'gods', 'blessings', 'cheque', 'olympics', 'leo', 'haul', 'wildlife', 'want2come', 'that2worzels', 'wizzle', 'dippeditinadew', 'lovingly', 'itwhichturnedinto', 'gifted', 'tomeandsaid', 'shanghai', 'cya', 'freezing', '645', 'rt', 'ringtoneking', '08701237397', 'redeemable', 'thnx', 'sef', 'anjie', 'batch', 'fring', 'flaky', 'sooooo', 'laughing', 'tooo', 'nte', '09058094599', 'confuses', 'wating', 'british', 'london', '02072069400', 'bx', '526', 'sw73ss', 'talents', '6pm', 'buzz', 'adoring', 'eerie', 'dracula', 'ghost', 'addamsfa', 'munsters', 'exorcist', 'twilight', 'shiny', 'warming', 'cared', 'wasn', 'french', 'fooled', '0a', 'feelin', 'lnly', 'moby', '82242', 'msg150p', '2rcv', 'hlp', '08712317606', 'dammit', 'wright', 'laden', 'wrecked', 'spontaneously', 'goodevening', 'lei', '80608', 'movietrivia', '08712405022', 'waking', 'rgent', 'lookin', 'daytime', 'busty', '09099726429', 'janinexx', 'spageddies', 'phasing', 'dimension', 'meaningful', 'compromised', '09050001295', 'a21', 'mobsi', '391784', 'dub', 'je', 'toughest', 'sh', 'jas', 'squatting', 'cramps', '0089', 'digits', '09063442151', 'nan', 'sonathaya', 'soladha', 'raping', 'dudes', 'poker', 'weightloss', 'mushy', 'embarrassed', 'stash', 'priya', '81303', 'messy', 'kilos', 'accidant', 'tookplace', 'ghodbandar', 'rd', 'slovely', 'slip', 'wkg', 'nus', 'sc', 'specialise', 'wad', 'dislikes', 'queen', 'desparately', 'fren', 'stereo', 'mi', '121', '60p', '09094646899', 'vu', 'bcm1896wc1n3xx', 'classmates', '2007', 'trackmarque', 'vipclub4u', 'missionary', 'hook', 'entertaining', 'hugh', 'laurie', 'praps', 'jon', 'bin', 'spain', 'dinero', 'rents', '000pes', '48', 'james', 'maangalyam', 'alaipayuthe', 'complaining', 'mandy', 'sullivan', 'hotmix', 'fm', 'easter', '09041940223', '29', '05', 'finn', 'di', 'bahamas', 'callfreefone', '08081560665', 'cruise', '07786200117', 'downon', 'theacusations', 'itxt', 'iwana', 'wotu', 'doin', 'thew', 'haventcn', 'up4', 'nething', 'dine', 'conacted', '09111030116', 'pobox12n146tf15', 'inspection', 'nursery', 'habit', 'panren', 'paru', 'chuckin', 'trainners', 'carryin', 'bac', 'dhanush', 'needing', 'habba', 'hw', 'dileep', 'muchand', 'contacts', 'venugopal', 'remembrs', 'forgets', 'everytime', 'mandan', '07734396839', 'ibh', 'nokia6600', '3230', 'textbook', 'algorithms', 'buns', 'adore', 'invaders', 'orig', 'arcade', 'console', 'settings', '09064018838', 'cro1327', 'atlanta', 'recharge', 'fills', 'gaps', 'arun', 'transfr', 'takin', 'philosophy', 'intend', 'iwas', 'marine', 'itried2tell', 'urmom', 'careabout', 'foley', 'prizes', '82050', 'desparate', 'fake', 'answering', 'iraq', 'afghanistan', '1225', '50award', '3100', 'pai', 'seh', 'combine', 'walsall', 'tue', 'terry', 'jess', 'sian', 'ccna', 'shrek', 'dirty', 'dying', 'lifting', 'teresa', 'dec', 'ld', 'bam', 'usmle', 'squishy', 'mwahs', 'hottest', 'g696ga', 'cheek', 'september', 'hack', 'backdoor', 'fraction', 'neo69', '09050280520', 'subscribe', 'dps', 'bcm', '8027', 'norm', 'joanna', 'comingdown', 'murali', 'sts', 'engalnd', 'telly', 'mia', 'elliot', 'kissing', 'upto', '12mths', '2price', '100txt', 'mth', 'tooth', '08001950382', 'd3wv', 'wipro', 'matric', '850', 'toa', 'payoh', '650', '08718726970', 'fedex', 'entertain', 'delete', 'tag', 'wednesday', 'skype', 'laundry', 'underwear', 'bras', 'strewn', 'pillows', 'waheed', 'fathima', 'mmmm', 'weaknesses', 'pushes', 'exposes', 'pulls', 'wicked', 'srt', 'thnk', 'ps3', 'jontin', 'biro', 'masters', '09058094594', 'shell', 'unconsciously', 'avoiding', 'unhappy', 'excuse', 'jog', '0776xxxxxxx', '18yrs', '09061743811', 'abta', '326', 'lark', '09090900040', 'sic', '7mp', '0870753331018', 'fones', 'stop2stop', 'uh', 'lim', 'vday', 'parachute', '80182', '08452810073', 'lambda', 'snowman', 'angels', 'snowball', 'fights', 'ello', 'ikea', 'ofice', 'cn', 'duffer', 'grr', 'prescription', 'pharmacy', 'cook', '08715500022', 'rpl', 'cnl', 'fffff', 'kadeem', 'fujitsu', 'lifebook', 'scold', 'zhong', 'se', 'qing', 'hypertension', 'wud', 'annoyin', '08702490080', '09066358152', 'prompts', 'vpod', 'disturbing', 'avatar', 'nigro', 'scratching', 'anyplaces', 'cleaning', 'ecstasy', '09090204448', 'minded', 'minapn', 'ls278bb', 'flies', 'hittng', 'reflex', 'costa', 'sol', '09050090044', 'toclaim', 'pobox334', 'stockport', 'max10mins', 'lousy', 'cat', 'woken', 'hip', 'adewale', 'aka', 'egbon', 'ic', 'mary', 'deduct', 'wrks', 'monkey', 'asshole', 'grab', 'sliding', '09065394973', 'payback', 'honeybee', 'sweetest', 'laughed', 'havnt', 'crack', 'gn', 'tescos', 'feathery', 'bowa', 'infra', 'nvm', 'gep', 'delhi', 'thinkin', '2006', 'fifa', '87239', 'moms', 'shhhhh', 'arul', 'amk', '09061743810', 'fringe', 'distract', 'antha', 'corrct', 'dane', 'rupaul', '61610', '08712400602450p', 'tones2you', 'practising', 'curtsey', 'yeh', 'downloads', 'african', 'outreach', 'mel', '8lb', '7oz', 'brilliantly', 'forwarding', 'bend', 'thia', 'inlude', 'previews', 'freefone', '08006344447', 'ambrith', 'madurai', 'dha', 'marrge', 'kitty', 'shaved', 'onwards', 'tactful', 'tscs', 'skillgame', '1winaweek', '150ppermesssubscription', 'theatre', 'eggs', 'pert', 'crammed', 'satsgettin', '47per', 'apologize', 'pei', 'subtoitles', 'jot', 'cereals', 'gari', 'infernal', 'bold2', 'calicut', '09094100151', 'aom', 'gbp5', 'box61', 'm60', '1er', 'thkin', 'parco', 'nb', 'resubbing', 'shadow', 'breadstick', 'ahmad', 'saeed', 'hallaq', '09066362220', 'box97n7qp', 'purple', 'pink', 'lyk', 'yelow', 'bck', 'brown', 'giv', 'arranging', 'eldest', 'drugdealer', 'gender', 'wither', '23f', '23g', 'sleepwell', 'wondarfull', 'web2mobile', 'txt250', 'box139', 'la32wu', 'txtx', 'onbus', 'donyt', 'latelyxxx', '85233', 'mca', 'yer', '84199', 'eng', 'box39822', 'w111wx', 'yor', 'jason', 'soooo', 'tming', 'subs', 'cutest', 'dice', 'inclusive', '08700469649', 'box420', 'howda', 'mathe', 'samachara', 'audrie', 'autocorrect', 'simulate', 'readiness', 'armand', 'vomiting', 'rub', 'lara', 'clever', 'guesses', 'attach', '087123002209am', 'med', 'stamped', '113', 'bray', 'wicklow', 'eire', 'washob', 'nobbing', 'nickey', 'platt', 'ryan', 'vikky', 'idew', 'argh', 'spotty', 'sterling', 'xam', 'hesitation', 'intha', 'ponnungale', 'ipaditan', 'shitload', 'diamonds', 'tessy', 'nimya', 'shijas', 'aunty', 'china', 'noisy', 'needa', 'mcat', 'manual', 'reset', 'troubleshooting', 'b4u', '27', 'marsms', 'b4utele', '08717168528', 'sacrifice', 'beg', 'creativity', 'stifled', 'morphine', 'stayin', '2getha', 'buffy', 'satisfy', 'pix', 'qlynnbv', 'help08700621170150p', '30', 'cld', 'nosh', 'waaaat', 'lololo', 'occupied', 'kindly', 'stapati', 'cutie', 'hills', 'sed', 'mood', 'minuts', 'latr', 'kidz', 'sofa', 'honesty', 'specialisation', 'shakara', 'beggar', 'smashed', 'dent', 'crickiting', 'imin', 'dontmatter', 'urgoin', 'outl8r', 'yavnt', 'popping', 'ibuprofens', 'sip', 'ps', 'chinatown', 'porridge', 'claypot', 'yam', 'fishhead', 'beehoon', 'tok', 'jaklin', 'cliffs', '49', 'ntwk', 'bundle', 'avble', 'mf', 'ooh', '4got', 'moseley', 'weds', 'thankyou', 'aluable', 'ffectionate', 'oveable', 'ternal', 'oble', 'ruthful', 'ntimate', 'atural', 'namous', 'textin', 'cousin', 'frndship', 'excuses', 'raji', 'amigos', 'burn', 'holy', 'weren', 'arty', 'collages', 'tryin', '2hrs', 'waliking', 'cartons', 'shelves', '08714712379', 'mirror', 'youre', 'freak', 'ref', 'k718', '09065069120', 'jod', 'keris', 'smidgin', 'belive', 'intentions', 'slots', 'accordin', 'knocking', 'como', 'listened2the', 'plaid', 'air1', 'hilarious', 'braindance', 'ofstuff', 'aphex', 'abel', 'nelson', 'temp', 'unmits', 'soup', 'yummmm', 'puzzeles', '4goten', 'scammers', 'prem', '2morro', '09099726481', 'dena', 'spoiled', 'r836', '09065069154', 'shifad', 'reminds', 'lounge', 'lk', 'lov', 'splashmobile', 'subscrition', '300p', 'dust', 'u4', '01223585334', '2c', 'shagged', '8552', '2end', '88877', '88066', '3pound', 'watchin', 'meaningless', 'brdget', 'jones', 'inever', 'hype', '700', 'bedrm', 'waited', 'velly', 'wkend', 'marking', 'mids', 'oranges', 'upd8', '2stoptx', 'annie', 'remind', '08718738034', '21870000', 'mailbox', 'messaging', '09056242159', 'retrieve', 'va', 'hrishi', 'nothin', 'hanger', 'poem', 'cheer', 'tear', 'duchess', 'cornwall', '008704050406', 'arrow', 'blanket', '08718726971', 'tddnewsletter', 'emc1', 'thedailydraw', 'prizeswith', 'waqt', 'pehle', 'naseeb', 'zyada', 'kisi', 'ko', 'kuch', 'nahi', 'milta', 'zindgi', 'wo', 'jo', 'hum', 'sochte', 'jeetey', 'stalking', 'dan', 'reminded', 'varaya', 'elaya', '09066368753', '97n7qp', 'anand', 'aww', 'jez', 'iscoming', 'todo', 'workand', 'whilltake', 'zogtorius', 'staring', 'alian', 'or2optout', 'hv9d', 'posible', 'cm', 'frwd', 'unnecessarily', 'affectionate', 'sorts', 'buddys', '80082', '08712402902', 'possessive', 'clarification', 'spook', 'halloween', '08701417012150p', 'weigh', 'fantasy', 'sky', 'gamestar', '250k', '88088', 'coimbatore', 'expired', 'monoc', 'monos', 'polyc', 'stream', '0871212025016', 'ethnicity', 'census', 'transcribing', 'propsd', 'gv', 'lv', 'lttrs', 'thm', 'aproach', 'dt', 'speeding', 'wn', 'instantly', 'thy', 'happily', '2gthr', 'evrydy', 'paragon', 'arent', 'cakes', 'bluff', 'draws', 'goodmate', 'sary', 'asusual', 'cheered', 'franyxxxxx', 'batt', 'pussy', 'becausethey', '09058098002', 'pobox1', 'w14rg', 'responce', 'happend', 'wiskey', 'brandy', 'rum', 'gin', 'vodka', 'scotch', 'shampain', 'kudi', 'yarasu', 'dhina', 'vaazhthukkal', 'kg', 'sugar', 'dumb', 'thangam', 'okey', 'doke', 'dressed', 'laying', 'neshanth', 'byatch', 'whassup', 'kay', 'roger', 'cl', 'nasty', 'filthyguys', 'slo', '4msgs', 'wasted', 'chiong', 'christ', 'reltnship', 'murdered', 'cooking', 'gardener', 'vegetables', 'maid', 'neighbour', 'murderer', 'brilliant', 'pose', 'comb', 'dryer', 'fps', 'computational', 'madam', 'disturbance', 'dlf', 'premarica', 'rgds', 'gotto', '220cm2', 'err', '8pm', 'bloo', 'hitter', 'offline', 'anjola', 'asjesus', 'indians', 'swiss', 'lac', 'deposited', 'taxless', 'suply', 'imf', 'corrupt', 'itna', 'karo', 'ki', 'pura', 'padhe', 'torrents', 'slowing', 'random', '83370', 'trivia', 'rightio', 'brum', 'donno', 'scorable', 'paranoid', 'brin', 'sheet', 'complain', 'bettr', 'bsnl', 'offc', 'payed', 'suganya', 'dessert', 'abeg', 'onum', 'poet', 'imagination', 'rr', 'famamus', '630', 'sry', 'furniture', 'lock', 'locks', 'jenne', 'easiest', 'barcelona', 'ru', 'sppok', '09066612661', 'complementary', 'wa14', '2px', 'pansy', 'jungle', 'kanji', 'srs', 'drizzling', 'appointments', 'shoving', 'greetings', 'excused', 'strange', 'ego', 'necessity', 'reppurcussions', 'cosign', 'hvae', '09061701444', 'acl03530150pm', 'hcl', 'freshers', 'suman', 'telephonic', 'indyarocks', 'dai', 'bids', 'reliant', 'fwiw', 'whr', 'maga', 'sq825', 'yunny', 'citylink', 'er', 'props', 'pleasant', '6230', '83383', 'pobox114', '14tcr', 'bognor', 'splendid', 'ktv', 'misplaced', 'mmmmm', 'residency', 'predicting', 'accumulation', 'belongs', 'fated', 'shoranur', 'fuelled', 'grief', 'terrific', 'text82228', 'txt82228', 'honestly', 'promptly', 'burnt', 'snap', 'quizclub', '80122300p', 'rwm', '08704050406', 'gmw', 'someplace', 'pressies', 'dr', 'superior', 'tor', 'motive', 'tui', 'korli', 'dock', 'newscaster', 'dabbles', 'flute', 'wheel', 'picsfree1', 'vid', 'keyword', 'ruin', 'erm', 'the4th', 'october', '83435', 'elaborating', 'tarot', '85555', 'ours', 'hr', 'conform', 'horniest', 'instructions', '3lp', 'ovarian', 'cysts', 'bc', 'shrink', 'upping', 'grams', 'timin', 'apes', 'ibm', 'hp', 'toshiba', 'gosh', 'spose', 'rimac', 'arestaurant', 'squid', 'dosomething', 'wrk', 'dabooks', 'hrs', 'eachother', 'luckily', 'starring', 'restocked', 'knock', 'tkls', 'stoptxtstop', 'innocent', 'mental', 'smoothly', '2marrow', 'hon', 'breakfast', 'hamper', 'cc100p', '0870737910216yrs', 'unni', 'lacking', 'dramastorm', 'forfeit', 'digi', 'fab', 'coupla', 'wks', '077xxx', '09066362206', 'sundayish', 'prasad', 'tiwary', 'rcb', 'bang', 'kochi', 'checkup', 'pap', 'smear', 'gobi', 'pandy', '4w', 'olowoyey', 'usc', 'edu', 'argentina', 'taxt', 'massage', 'pos', 'lool', 'shaking', 'booty', 'lil', 'scarcasim', 'naal', 'eruku', 'w4', '5wq', 'bro', 'amongst', 'bros', 'impressively', 'sensible', '69696', 'nalla', 'obedient', 'ft', 'needy', 'pouts', 'stomps', 'northampton', 'abj', 'playng', 'mcfly', 'ab', 'sara', 'jorge', 'smith', 'anna', 'nagar', 'yupz', 'ericson', 'der', 'luks', 'modl', 'cheesy', 'frosty', 'witin', '0870141701216', '120p', '10th', 'sept', '09050000555', 'ba128nnfwfly150ppm', 'shirts', 'nudist', 'themed', 'pump', 'petrol', 'feb', 'ignore', 'evr', 'hugs', 'snogs', 'palm', 'printing', 'handing', 'uks', '83021', 'chase', 'tariffs', '2stoptxt', 'perpetual', 'dd', 'steam', 'reg', 'pract', 'flung', 'govt', 'instituitions', 'justbeen', 'overa', 'brains', 'mush', 'tunde', 'missions', 'canary', '20m12aq', 'eh74rr', 'sleepy', 'dare', 'ben', 'mag', 'avo', 'cuddled', 'chachi', 'pl', 'tiz', 'kanagu', 'ringing', 'houseful', 'brats', 'diwali', 'tick', 'onion', 'derp', 'abusers', 'lipo', 'netflix', 'thgt', 'arr', 'oscar', 'rebtel', 'firefox', '69969', 'bcmsfwc1n3xx', 'funs', 'footy', 'coca', 'cola', 'teenager', 'exhaust', 'replacing', 'mittelschmertz', 'paracetamol', 'pee', 'cthen', 'enuff', 'contents', 'references', 'instant', '08715203028', '9th', 'rugby', 'affidavit', 'twiggs', 'courtroom', 'creep', 'showers', 'possessiveness', 'poured', 'golden', 'lasting', 'mobs', 'breathe1', 'crazyin', 'sleepingwith', 'finest', 'ymca', 'pobox365o4w45wq', 'wtc', 'weiyi', 'interflora', 'flowers', '505060', 'teeth', 'paining', 'romcapspam', 'outgoing', 'maggi', 'mee', '08712103738', 'cough', '09058099801', 'b4190604', '7876150ppm', 'bbd', 'pooja', 'pimples', 'sweatter', 'ambitious', 'miiiiiiissssssssss', 'tunji', 'iz', 'yellow', 'misscall', 'frndz', '6missed', 'frog', 'mad1', 'mad2', '88888', 'tall', 'robs', 'avenge', 'japanese', 'proverb', 'toss', 'coin', 'gudni8', 'dancin', 'explicitly', 'nora', 'gayle', 'crucify', 'butting', 'vs', 'cedar', 'twenty', 'durham', 'reserved', 'porn', '69855', 'stopbcm', 'sf', 'painting', 'printer', 'groovy', 'groovying', 'harish', 'transfred', 'acnt', 'nowadays', 'showrooms', 'shaping', 'probs', 'doinat', 'callon', 'swatch', 'ganesh', 'pdate', 'yhl', 'collecting', 'configure', 'anal', 'pears', 'helloooo', 'welcomes', 'oooooh', '09058094454', '54', 'resubmit', 'expiry', '2geva', 'mint', 'humans', 'studyn', 'wuld', 'everyboy', 'xxxxxxxx', 'solved', '1thing', 'answr', 'liquor', 'flaked', 'loko', '730', 'tm', 'ing', 'laughs', 'fireplace', 'icon', '08712400200', 'woozles', 'weasels', '08718723815', 'gary', 'fucks', 'sake', 'ignorant', 'mys', 'bruce', 'downs', 'fletcher', '08714714011', 'bowls', 'cozy', 'buzzzz', 'chest', 'vibrator', 'shake', 'pros', 'cons', 'description', 'fusion', 'iter', 'jet', 'nowhere', 'ikno', 'doesdiscount', 'shitinnit', 'jabo', 'abi', 'slower', 'maniac', 'sapna', 'manege', 'hogidhe', 'chinnu', 'swalpa', 'agidhane', 'footbl', 'crckt', 'swell', 'tim', 'bollox', 'tol', 'ingredients', 'pocy', 'bell', '4qf2', 'senor', 'giggle', 'person2die', 'nvq', 'tiger', 'woods', 'reboot', 'grinder', 'pt2', 'figuring', 'phoned', 'disconnected', 'onluy', 'offcampus', 'riley', 'ew', 'wesley', 'lingo', '400mins', 'j5q', 'hm', '69200', 'chrgd', '2exit', 'salon', 'approaching', 'sankranti', 'republic', 'shivratri', 'ugadi', 'fools', 'childrens', 'dasara', 'mornings', 'afternoons', 'evenings', 'rememberi', 'raj', 'joys', 'lifeis', 'daywith', 'somewheresomeone', 'tosend', 'greeting', 'selflessness', 'initiate', 'tallent', 'wasting', 'portal', 't4get2text', 'lennon', 'bothering', 'crab', 'shore', 'waves', 'footprints', 'clearing', 'fox', 'frndsship', 'dwn', 'slaaaaave', 'summon', '33', 'appendix', 'slob', 'smiled', 'webpage', 'yeesh', 'unsubscribed', 'hunks', 'gotbabes', 'subscriptions', 'gopalettan', 'admin', 'xxsp', 'visionsms', 'stopcost', '08712400603', 'goodies', 'mat', 'ay', 'andros', 'steal', 'isaiah', 'penis', 'sigh', 'thinl', 'importantly', 'tightly', 'wnevr', 'fal', 'vth', 'fals', 'madodu', 'nav', 'pretsorginta', 'nammanna', 'pretsovru', 'alwa', 'eveb', 'lord', 'rings', 'soundtrack', 'stdtxtrate', 'sg', 'phyhcmk', 'pc1323', 'emigrated', 'hopeful', 'olol', 'stagwood', 'winterstone', 'victors', 'hill', 'jp', 'mofo', 'pathaya', 'enketa', 'maraikara', 'priest', 'intrude', 'walkabout', 'cashed', '28th', 'removal', '08708034412', 'footie', 'phil', 'neville', 'abbey', 'punj', 'str8', '200p', 'thurs', 'cancelled', 'sacked', 'lookatme', 'clip', '35p', 'mmsto', '32323', 'barred', 'twat', 'dungerees', 'decking', 'punch', 'mentionned', 'vat', 'grl', 'hogolo', 'kodstini', 'agalla', 'madstini', 'hogli', 'mutai', 'eerulli', 'kodthini', 'thasa', 'messed', 'tex', 'mecause', 'werebored', 'okden', 'uin', 'likeyour', 'gr8fun', 'updat', 'countinlots', 'xxxxx', 'tagged', 'hdd', 'casing', '09053750005', '310303', '08718725756', '140ppm', 'asus', 'randomly', 'reformat', 'otside', 'plumbers', 'wrench', 'bcum', 'thriller', 'elephant', 'shove', 'um', 'cr', 'pookie', 'wouldn', 'nri', '08712101358', 'x2', 'lick', 'diddy', 'toothpaste', 'av', 'poking', 'everyday', 'curious', 'coccooning', 'mus', 'newquay', 'postcard', '1im', 'talkin', 'bread', 'windy', '09066358361', 'y87', 'mahal', 'tirunelvai', 'dusk', 'puzzles', 'x29', '09065989180', 'stairs', 'phews', 'relation', 'luvs', 'praying', 'recycling', 'toledo', 'ding', 'tai', 'feng', 'reservations', 'swimsuit', 'squeeeeeze', 'hug', 'lik', 'frndshp', 'luvd', 'volcanoes', 'erupt', 'arise', 'hurricanes', 'sway', 'aroundn', 'disasters', 'lighters', 'lasagna', 'chickened', 'messaged', 'woould', '08718726978', 'deus', '44', '7732584351', '3510i', 'deliveredtomorrow', '300', 'tap', 'spile', 'canal', 'engin', 'raviyog', 'peripherals', 'bhayandar', 'sunoco', 'howard', 'leftovers', 'starving', 'cooked', 'cheat', 'fatty', 'badrith', 'owe', 'checkin', 'armenia', 'swann', '09058097189', '09061221066', 'fromm', '330', '1120', '1205', 'wylie', 'justify', 'ruining', 'meds', 'hunt', 'in2', '5226', 'hava', '1131', 'rct', 'thnq', 'adrian', 'vatian', 'everyones', 'babysitting', 'gonnamissu', 'buttheres', 'aboutas', 'merememberin', 'asthere', 'ofsi', 'breakin', 'yaxx', 'ee', 'poortiyagi', 'odalebeku', 'hanumanji', 'hanuman', 'bajarangabali', 'maruti', 'pavanaputra', 'sankatmochan', 'ramaduth', 'mahaveer', 'janarige', 'ivatte', 'kalisidare', 'olage', 'ondu', 'keluviri', 'maretare', 'inde', 'dodda', 'problum', 'nalli', 'siguviri', 'idu', 'matra', 'neglet', 'ijust', 'opps', 'gei', 'tron', 'dl', 'selfish', 'spiffing', 'workage', 'craving', 'supose', 'babysit', 'spaces', 'embassy', 'lightly', 'custom', 'checkboxes', 'sac', 'batsman', 'yetty', 'jiayin', '09050000928', 'pobox45w2tg150p', 'forgotten', 'cheating', 'mathematics', '2waxsto', 'emailed', 'yifeng', 'slurp', '3miles', 'brainless', 'doll', 'sariyag', 'madoke', 'barolla', '07090201529', 'postponed', 'stocked', 'elaine', 'tiime', 'tears', 'afternon', 'resizing', '09066364349', 'box434sk38wp150ppm18', 'drunken', 'billed', 'shortcode', '83332', '08081263000', 'refunded', 'somerset', 'nigpun', 'dismissial', 'screwd', '08712402972', 'bull', 'floating', 'mess', '09058095201', 'heehee', 'arithmetic', 'percentages', 'chillaxin', 'das', 'iknow', 'wellda', 'peril', 'studentfinancial', 'monster', 'ths', 'ias', 'obey', 'uhhhhrmm', 'mb', '600', '400', 'deltomorrow', '09066368470', '24m', 'smartcall', '68866', 'subscriptn3gbp', '08448714184', 'landlineonly', 'mths', 'callback', 'orno', 'fink', '09099726553', 'carlie', 'minmobsmore', 'lkpobox177hp51fl', 'youphone', 'athome', 'youwanna', 'jack', 'helpful', 'pretend', 'hypotheticalhuagauahahuagahyuhagga', 'brainy', 'reflection', 'desires', 'affections', 'traditions', 'cantdo', 'anythingtomorrow', 'myparents', 'aretaking', 'outfor', 'katexxx', 'gate', '89105', 'lingerie', 'bridal', 'petticoatdreams', 'weddingfriend', 'overheating', 'reslove', 'inst', 'outta', 'notixiquating', 'laxinorficated', 'bambling', 'entropication', 'oblisingately', 'opted', 'masteriastering', 'amplikater', 'fidalfication', 'champlaxigating', 'atrocious', 'wotz', 'junna', 'knickers', '01223585236', 'nikiyu4', 'a30', 'divert', 'wadebridge', 'vill', '1030', 'orc', 'bloomberg', '447797706009', 'careers', 'priscilla', 'wisdom', 'inform', 'wherre', 'phone750', 'frank', 'logoff', 'parkin', 'kent', 'vale', 'cann', 'asa', '09050000878', 'wan2', 'westlife', 'm8', 'unbreakable', 'untamed', 'unkempt', '83049', 'prince', 'charming', 'arnt', 'xxxxxxxxxxxxxx', 'dorothy', 'kiefer', 'granite', 'explosive', 'nasdaq', 'symbol', 'cdgt', 'alle', 'mone', 'eppolum', 'allalo', 'fundamentals', '1mega', 'pixels', '3optical', '5digital', 'dooms', 'noi', 'js', 'burgundy', 'captaining', 'placement', 'amrita', 'bpo', 'nighters', 'persevered', 'regretted', 'spouse', 'pmt', 'sumthin', '4give', 'shldxxxx', 'spun', 'wrld', '09071517866', '150ppmpobox10183bhamb64xe', 'pounded', 'lion', 'devouring', 'airtel', 'processed', 'tensed', 'coughing', 'sprint', 'prolly', 'gower', 'morrow', 'chik', 'filth', '69669', 'saristar', 'e14', '9yt', '08701752560', '450p', 'stop2', '420', '9061100010', 'wire3', '1st4terms', 'mobcudb', 'sabarish', 'jaya', '09050000460', 'j89', 'box245c2150pm', 'inpersonation', 'flea', 'forums', 'banneduk', '71', 'taj', 'lesser', 'mumtaz', 'shahjahan', 'wifes', 'arises', 'hari', '69101', 'rtf', 'sphosting', 'webadres', 'geting', 'o2fwd', '18p', 'maturity', 'passport', 'multiply', 'independently', 'twins', 'strt', 'ltdhelpdesk', '02085076972', 'uneventful', 'pesky', 'cyclists', 'adi', 'entey', 'nattil', 'kittum', 'kavalan', 'hitman', '09066660100', '2309', 'cps', 'outages', 'conserve', 'epi', 'bare', 'bhaskar', 'dubsack', 'gong', 'kaypoh', 'outdoors', 'macho', 'interfued', 'blank', 'apology', 'hustle', 'audition', 'harlem', 'workout', 'fats', 'zac', 'tonights', 'hui', 'xin', 'lib', 'underdtand', 'muchxxlove', 'locaxx', '07090298926', '9307622', 'skateboarding', 'bandages', 'html', 'gbp4', 'mfl', 'hectic', 'swoop', 'wamma', 'doggin', 'langport', 'senthil', 'apnt', 'pants', 'go2sri', 'lanka', 'wherevr', 'forevr', 'gudnyt', 'plum', 'smacks', '50s', 'alot', 'formatting', 'attracts', '8714714', 'vegas', 'lou', 'lancaster', 'neway', 'soc', 'bsn', 'advising', 'lobby', 'texted', 'showered', 'ything', 'vewy', 'lubly', '087147123779am', 'catches', 'specify', 'domain', 'nusstu', 'bari', 'hudgi', 'yorge', 'pataistha', 'ertini', 'hasbro', 'hoops', 'ummifying', 'rip', 'uterus', 'jacuzzi', 'x49', '09065989182', 'txtstar', '2nights', 'uve', 'wildest', 'aldrine', 'rtm', 'unhappiness', 'necesity', 'witout', 'colleg', 'wth', 'espe', 'irritated', '4wrd', 'wthout', 'takecare', 'univ', 'rajas', 'burrito', 'disconnect', 'confirmd', 'verified', 'cnn', 'ibn', 'stitch', 'trouser', '146tf150p', 'cheetos', 'synced', 'shangela', 'hppnss', 'sorrow', 'goodfriend', '08704439680', 'poo', 'gloucesterroad', 'uup', 'ouch', 'forgiveness', 'glo', '09058095107', 's3xy', 'wlcome', 'eaten', 'timi', 'mila', 'age23', 'blonde', 'mtalk', '69866', '30pp', '5free', 'increments', 'help08718728876', 'fishrman', 'sack', 'stones', 'strtd', 'throwin', 'atlast', '1stone', '08717895698', 'mobstorequiz10ppm', 'physics', 'praveesh', 'delicious', 'salad', 'desert', 'beers', 'whore', 'funk', 'tones2u', 'twinks', 'scallies', 'skins', 'jocks', '08712466669', 'nat', 'beads', 'wishlist', 'nitro', 'reffering', 'getiing', 'weirdy', 'brownies', '09061701851', 'k61', '12hours', 'restrict', 'vivek', '74355', 'tnc', 'brah', 'greece', 'sib', 'passwords', 'someday', 'grandfather', 'blu', 'november', '09061104276', '75max', 'yuou', 'ipad', 'lotto', 'bird', 'authorise', '45pm', 'gimmi', 'goss', 'ystrday', 'chile', 'subletting', 'ammae', 'steering', 'sleeps', 'rounder', 'lambu', 'ji', 'batchlor', 'zoom', '62220cncl', 'stopcs', '08717890890', 'cheese', 'tms', 'widelive', 'wml', '1b6a5ecef91ff9', '37819', 'true18', '0430', 'jul', 'xafter', 'cst', 'chg', 'pure', 'hearted', 'enemies', 'smiley', 'gail', 'l8tr', 'yaxxx', 'theoretically', 'hooked', 'formally', 'multimedia', 'hsbc', 'vague', 'renting', 'nicky', 'gumby', 'alto18', 'asp', '44345', 'sized', 'tarpon', 'springs', 'cab', 'hf8', '09061702893', '08719181259', '26', 'radiator', 'tongued', 'shorts', 'qi', 'flurries', 'melt', 'eek', 'real1', 'pushbutton', 'dontcha', 'babygoodbye', 'golddigger', 'webeburnin', 'rebooting', 'nigh', 'nooooooo', 'outage', 'sos', 'playin', 'guoyang', 'rahul', 'dengra', 'antelope', 'toplay', 'fieldof', 'selfindependence', 'contention', 'gnarls', 'barkleys', 'borderline', '545', 'nightnight', 'grooved', 'mising', 'unsecured', '195', '6669', 'lanre', 'fakeye', 'eckankar', '3000', '09061743386', 'heater', 'dodgey', '674', 'seing', 'asssssholeeee', 'ceri', 'rebel', 'dreamz', 'buddy', 'blokes', '84484', 'newport', 'juliana', 'nachos', 'eta', 'dizzamn', 'suitemates', 'nimbomsons', 'continent', 'housewives', '0871750', '77', 'landlines', '087104711148', 'fiend', 'impede', 'hesitant', '60', '400thousad', 'nose', 'essay', 'tram', 'vic', 'coherently', 'echo', 'gran', 'onlyfound', 'afew', 'cusoon', 'honi', 'dial', 'bx526', 'california', 'rayan', 'macleran', 'olave', 'mandara', 'trishul', 'woo', 'hoo', 'panties', 'thout', '09066364311', 'flatter', 'pints', 'carlin', 'literally', 'ciao', 'starve', 'impression', 'motivate', 'darkness', 'wknd', 'yalrigu', 'heltini', 'iyo', 'kothi', 'uttered', 'trusting', 'noice', 'esaplanade', 'accessible', '08709501522', '139', 'la3', '2wu', 'occurs', 'prof', 'sem', 'enna', 'kalaachutaarama', 'coco', 'sporadically', '09064017305', 'pobox75ldns7', 'tbs', 'persolvo', '38', 'kath', 'manchester', 'noworriesloans', '08717111821', 'nbme', 'sickness', 'villa', 'sathya', 'gam', 'smash', 'religiously', 'heroes', '07973788240', '08715203649', 'muhommad', 'penny', 'doc', 'fiting', 'mj', 'unconvinced', 'elaborate', 'willpower', 'answerin', 'evey', 'mnth', 'prin', 'gsoh', 'spam', 'gigolo', 'mens', 'oncall', 'mjzgroup', '08714342399', '50rcvd', 'ashwini', '08707500020', 'ukp', '09061790125', 'thet', 'skinny', 'casting', '116', 'hlday', 'amrca', 'serena', 'prescribed', 'kappa', 'meatballs', 'panalam', 'spjanuary', 'fortune', 'allday', 'piss', 'perf', 'outsider', 'receipts', '98321561', 'depression', 'infact', 'simpsons', 'shite', 'kip', 'hont', 'amanda', 'renewing', 'upgrading', 'nannys', 'conveying', 'debating', 'wtlp', 'guessing', 'jb', 'florida', 'hidden', 'royal', 'tog', 'swhrt', '0906346330', '47', 'po19', '2ez', 'jetton', 'cmon', 'sticky', 'replies', 'lunsford', '0796xxxxxx', 'prizeawaiting', 'kfc', 'meals', 'gravy', '07008009200', 'mw', 'tuth', 'eviction', 'spiral', 'michael', 'riddance', 'suffers', 'raglan', 'edward', 'closeby', 'skye', 'bookedthe', 'hut', 'drastic', '3750', 'garments', 'sez', 'arab', 'evry1', 'eshxxxxxxxxxxx', 'bimbo', 'ugo', '3lions', 'portege', 'm100', 'semiobscure', 'gprs', 'loosu', 'careless', 'freaking', 'myspace', 'logged', 'calculation', 'blur', 'jewelry', 'breaker', 'deluxe', 'graphics', 'bbdeluxe', 'lush', 'fumbling', '2find', 'stone', 'taunton', 'weekdays', 'haiz', 'nails', 'asia', 'courage', 'stil', 'fucked', 'tobed', '430', 'natalja', '440', 'nat27081980', 'asthma', 'spin', 'haiyoh', 'prsn', 'sunlight', 'audiitions', 'relocate', 'pocked', 'motivating', 'brison', 'spelled', 'caps', 'bullshit', 'motherfucker', 'kit', 'strip', '1013', 'ig11', 'oja', '08712402578', 'thesmszone', 'anonymous', 'masked', 'woodland', 'avenue', 'parish', 'billy', 'jogging', 'awww', 'useless', 'loo', 'ed', 'shelf', 'swollen', 'glands', 'bcaz', 'stu', 'truble', 'evone', 'hates', 'mokka', 'gays', 'dual', 'hostile', 'haircut', 'breezy', '09061744553', 'polyh', '1apple', '1tulsi', 'leaf', '1lemon', '1cup', 'bone', 'problms', 'litres', 'watr', 'diseases', 'snd', 'lavender', 'manky', 'scouse', 'steve', 'travelling', 'inmind', 'recreation', 'epsilon', 'mesages', 'judgemental', 'fridays', 'waheeda', 'bot', 'tolerance', '0789xxxxxxx', 'hellogorgeous', 'lst', 'nitw', 'texd', 'hopeu', '4ward', 'jaz', '09058091870', 'exorcism', 'emily', 'evry', 'emotion', 'dsn', 'prayrs', 'othrwise', 'ujhhhhhhh', 'sandiago', 'parantella', 'hugging', 'sweater', 'mango', 'landmark', 'bob', 'barry', '83738', 'absolutly', 'consent', 'tonexs', 'clubzed', 'billing', 'polo', '373', 'w1j', '6hl', 'mathews', 'tait', 'edwards', 'anderson', 'haunt', '8000930705', 'snowboarding', 'christmassy', 'recpt', 'baaaaaaaabe', 'ignoring', 'shola', 'sagamu', 'lautech', 'completes', 'zealand', 'qet', 'browser', 'surf', 'conversations', 'senses', 'overemphasise', 'headset', 'adp', 'extract', 'immed', 'skint', 'fancied', 'bevies', 'waz', 'othrs', 'spoon', 'watchng', 'comfey', 'quitting', 'least5times', 'wudn', 'cupboard', '2mro', 'floppy', 'snappy', 'grasp', 'flavour', 'laready', 'denying', 'dom', 'ffffuuuuuuu', 'julianaland', 'oblivious', 'dehydrated', 'mapquest', 'dogwood', 'suppose', 'archive', '08719839835', 'mgs', '89123', 'lengths', 'stunning', 'visa', 'gucci', 'sozi', 'culdnt', 'talkbut', 'wannatell', 'wenwecan', 'smsing', 'explicit', 'secs', '02073162414', '15pm', 'erutupalam', 'thandiyachu', 'invention', 'lyrics', 'nevr', 'unrecognized', 'somone', 'valuing', 'definitly', 'undrstnd', 'ger', 'toking', 'syd', 'khelate', 'kintu', 'opponenter', 'dhorte', 'lage', 'fried', 'spares', 'looovvve', 'warwick', 'tmw', 'havn', 'tops', 'grandma', 'proze', 'norcorp', '7cfca1a', 'grumble', 'linear', 'algebra', 'decorating', 'wining', '946', 'roomate', 'graduated', 'adjustable', 'cooperative', 'nottingham', '63miles', '40mph', 'mornin', 'thanku', 'guessed', '89938', 'strings', '50ea', 'otbox', '731', 'la1', '7ws', 'beside', 'brisk', 'sexiest', 'dirtiest', '89070', 'tellmiss', 'greatly', 'urgh', 'smells', 'duvet', 'predictive', 'w8in', '4utxt', '24th', 'beverage', 'pist', 'surrender', 'rdy', 'realise', 'backwards', 'abstract', 'africa', 'avin', 'chit', 'logon', '8883', '4217', 'w1a', '6zf', '118p', 'quiteamuzing', 'scool', '1000call', '09071512432', '300603t', 'callcost150ppmmobilesvary', 'rows', 'mnths', 'engagement', 'fixd', 'njan', 'vilikkam', 'sudn', 'maths', 'chop', 'noooooooo', '08718727870150ppm', 'firsg', 'wasnt', 'applyed', 'sumfing', '86888', 'subscribe6gbp', '3hrs', 'txtstop', 'hiphop', 'oxygen', 'roller', 'recorder', 'canname', 'australia', 'mquiz', 'showr', 'acted', 'ceiling', 'presnts', 'bcz', 'mis', 'jeevithathile', 'irulinae', 'neekunna', 'prakasamanu', 'sneham', 'prakasam', 'ennal', 'mns', 'blowing', '7634', '7684', 'firmware', 'vijaykanth', 'anythiing', 'ripped', 'clubmoby', '08717509990', 'keypad', 'btwn', 'goverment', 'loyal', '09066380611', 'spice', 'prasanth', 'ettans', '08718738002', '48922', 'appy', 'fizz', 'genus', 'robinson', 'soz', 'imat', 'mums', 'sometext', '07099833605', '9280114', 'chloe', 'wewa', '130', 'iriver', '255', '128', 'bw', 'surly', '07808726822', '9758', 'dokey', 'mmmmmmm', 'snuggles', 'contented', 'whispers', '2bold', 'scraped', 'misfits', 'sleepin', 'sections', 'clearer', 'peach', 'tasts', 'rayman', 'activ8', 'termsapply', 'shindig', 'phonebook', 'rocking', 'ashes', 'shijutta', 'dvg', 'vinobanagar', 'ovulate', '3wks', 'woah', 'realising', 'orh', 'hides', 'secrets', 'n8', 'axel', 'akon', 'eyed', 'cashbin', 'canteen', 'stressfull', '140', '180', 'pleasured', 'whens', '1172', 'watever', 'lonlines', 'lotz', 'gailxx', 'complacent', 'denis', 'mina', 'miwa', 'woulda', '09066649731from', 'dolls', 'patrick', 'swayze', 'santa', '09077818151', 'calls1', '50ppm', '30s', 'santacalling', 'miserable', 'limping', 'aa', '078498', '08719180219', 'oga', 'poorly', 'punishment', 'brb', 'predicte', 'loosing', 'shsex', 'netun', 'fgkslpopw', 'fgkslpo', '0871277810710p', 'defer', 'checkmate', 'chess', 'persian', 'phrase', 'shah', 'maat', 'rats', 'themes', 'photoshop', 'manageable', '08715203652', '42810', 'shoppin', 'carolina', 'texas', 'gre', 'breathing', 'lovly', 'msgrcvd', 'customercare', '08718726270', 'clas', 'lit', 'loooooool', 'couch', 'swashbuckling', 'cruel', 'joker', 'dip', 'gek1510', 'nuther', 'lyricalladie', '910', 'hmmross', 'happiest', 'antibiotic', 'abdomen', 'gynae', 'infections', '6times', 'chastity', 'beatings', 'gut', 'wrenching', 'tallahassee', 'ou', 'taka', 'pobox202', 'nr31', '7zs', '450pw', 'ritten', 'fold', 'warner', '83118', 'colin', 'farrell', 'swat', 'kiosk', 'mre', 'solihull', 'nhs', '2b', 'terminated', 'inconvenience', 'dentists', 'henry', 'bergkamp', '78', 'snot', 'unintentional', 'nonetheless', 'hooch', 'toaday', 'splat', 'grazed', 'knees', 'deny', 'hearin', 'yah', 'torture', 'hopeing', 'sisters', 'sexychat', 'lips', 'congratulation', 'chapel', 'frontierville', 'deer', 'mailed', 'varma', 'farting', 'ortxt', 'advisors', 'dialling', '402', 'woot', 'stuffing', 'ahhhh', 'dining', 'experiencehttp', 'vouch4me', 'etlp', 'kaila', '09058094507', 'donate', 'unicef', 'asian', 'tsunami', '864233', 'cme', 'hos', 'cumming', 'jade', 'paul', 'barmed', 'thinkthis', 'goldviking', '762', 'coulda', 'phony', 'okday', 'hmph', 'baller', 'punto', 'ayo', 'travelled', '125', 'freeentry', 'xt', 'toyota', 'camry', 'olayiwola', 'mileage', 'clover', 'achan', 'amma', 'rencontre', 'mountains', '08714712412', 'te', 'puppy', 'sarasota', 'meg', '08715203685', '4xx26', '13', 'crossing', 'deepest', 'darkest', '09094646631', 'inconvenient', 'adsense', 'dudette', 'perumbavoor', 'cherish', 'clarify', 'preponed', 'natalie', '165', 'natalie2k9', 'wallpaper', '08701213186', 'liver', 'guides', 'loneliness', 'skyving', 'onwords', 'mtnl', 'mumbai', '83039', '62735', '450', 'accommodationvouchers', 'mustprovide', '15541', 'rajitha', 'ranju', 'styles', 'tscs08714740323', '1winawk', '50perweeksub', 'slp', 'muah', '09066361921', 'disagreeable', 'afterwards', 'uawake', 'feellikw', 'justfound', 'aletter', 'thatmum', 'gotmarried', '4thnov', 'ourbacks', 'fuckinnice', 'rearrange', 'dormitory', 'astronomer', 'starer', 'recount', 'hitler', 'eleven', 'worms', 'dysentry', 'andre', 'virgil', 'gokila', 'shanil', 'exchanged', 'uncut', 'diamond', 'dino', 'kotees', 'panther', 'sugababes', 'zebra', 'animation', 'badass', 'hoody', 'resent', 'queries', 'customersqueries', 'netvision', 'hassling', 'andres', 'haughaighgtujhyguj', 'fassyole', 'blacko', 'londn', '4eva', 'responsibilities', '08715205273', 'vco', 'humanities', 'reassurance', 'aslamalaikkum', 'tohar', 'beeen', 'muht', 'albi', 'mufti', 'mahfuuz', '078', 'enufcredeit', 'tocall', 'ileave', 'treats', 'okors', 'ibored', 'zeros', 'goigng', 'perfume', 'sday', 'grocers', 'pubs', 'frankie', 'bennys', 'diapers', 'owed', 'turkeys', 'helens', 'princes', 'unintentionally', 'bulbs', 'seeds', 'scotsman', 'go2', 'notxt', 'wenever', 'tranquility', 'vibrant', 'colourful', 'bawling', 'velusamy', 'karnan', 'bluray', 'salt', 'wounds', 'logging', 'geoenvironmental', 'implications', 'fuuuuck', 'salmon', 'uploaded', 'wrkin', 'ree', 'awkward', 'splash', 'musta', 'overdid', 'telediscount', 'gastroenteritis', 'limiting', 'foned', 'chuck', 'stuffs', 'juswoke', 'boatin', 'docks', 'spinout', '08715203656', '42049', 'uworld', 'qbank', 'someonone', '09064015307', 'tke', 'temales', 'finishd', '09061213237', '177', 'm227xy', 'dull', 'anyones', 'treadmill', 'craigslist', 'swan', 'lamp', 'foward', '09061790126', 'misundrstud', '2u2', 'genes', 'com1win150ppmx3age16subscription', 'resuming', 'reapply', 'treatin', 'treacle', 'mumhas', 'beendropping', 'theplace', 'adress', 'oyster', 'sashimi', 'rumbling', 'marandratha', 'correctly', 'alaikkum', 'respectful', 'heaven', 'pisces', 'aquarius', '2yrs', 'steyn', 'wicket', 'sterm', 'resolved', 'jam', 'hannaford', 'wheat', 'chex', 'grownup', 'costume', 'jerk', 'stink', 'openings', 'upcharge', 'guai', 'bottle', 'amused', 'astrology', 'slacking', 'mentor', '09095350301', 'erotic', 'ecstacy', 'dept', '08717507382', 'coincidence', 'sane', '151', 'pause', 'gr8prizes', '8800', 'psp', 'spacebucks', '083', '6089', 'squeezed', 'dreading', 'thou', 'suggestion', 'lands', 'forgt', 'ajith', 'ooooooh', 'yoville', 'mega', 'asda', 'bffs', 'carly', 'seperated', 'ud', 'brolly', 'franxx', 'prometazine', 'syrup', '5mls', 'shu', 'singapore', 'victoria', 'pocay', 'wocay', '2morrowxxxx', 'broth', 'ramen', 'fowler', 'tats', '09058094583', 'tix', 'fne', 'youdoing', 'worc', 'foregate', 'shrub', 'get4an18th', '32000', 'legitimat', 'efreefone', 'pendent', 'toilet', 'cops', 'hu', 'navigate', 'choosing', 'chick', 'boobs', 'revealing', 'sparkling', '45', '0121', '2025050', 'shortbreaks', 'org', 'gyno', 'belong', 'gamb', 'treasure', '820554ad0a1705572711', '09050000332', 'hmmmm', 'stressful', 'holby', '09064017295', 'li', 'lecturer', 'repeating', 'yeovil', 'motor', 'rhode', 'bong', 'ofcourse', '2p', '08448350055', 'planettalkinstant', 'marvel', 'spider', '83338', '8ball', 'tamilnadu', '07808247860', '08719899229', '40411', 'identification', 'boundaries', 'endless', 'reassuring', 'referin', 'saibaba', 'colany', 'chic', 'declare', '49557', 'disappointment', 'irritation', 'tantrum', 'compliments', 'adventuring', 'gsex', '2667', 'wc1n', '3xx', '3mobile', 'chatlines', 'inclu', 'servs', 'l8er', 'bailiff', 'mouse', 'desk', 'childporn', 'jumpers', 'hat', 'belt', 'cribbs', 'spiritual', 'barring', 'influx', 'kane', 'shud', 'pshew', 'accent', '4years', 'dental', 'nmde', 'dump', 'heap', 'lowes', 'salesman', '087187272008', 'now1', 'pity', 'suggestions', 'bitching'])"
      ]
     },
     "execution_count": 28,
     "metadata": {},
     "output_type": "execute_result"
    }
   ],
   "source": [
    "embedding_results.keys()"
   ]
  },
  {
   "cell_type": "code",
   "execution_count": 29,
   "id": "3d9b5c17",
   "metadata": {},
   "outputs": [
    {
     "data": {
      "text/plain": [
       "array([-0.00946045,  0.07226562,  0.33007812,  0.16601562, -0.12695312,\n",
       "        0.10644531,  0.18457031, -0.31640625,  0.03076172, -0.03955078,\n",
       "       -0.12158203, -0.0324707 ,  0.10449219,  0.15917969, -0.22265625,\n",
       "       -0.09472656,  0.13964844,  0.10107422, -0.12109375, -0.02209473,\n",
       "        0.01031494, -0.14160156, -0.00518799,  0.04882812,  0.24316406,\n",
       "        0.03930664, -0.08496094, -0.01928711,  0.04980469,  0.14746094,\n",
       "        0.08154297,  0.11132812, -0.08984375, -0.02746582,  0.11279297,\n",
       "        0.01660156,  0.171875  ,  0.11767578, -0.012146  ,  0.04614258,\n",
       "        0.1328125 , -0.18164062,  0.02172852,  0.17480469, -0.18652344,\n",
       "       -0.29101562, -0.10107422, -0.05078125, -0.09277344, -0.27929688,\n",
       "       -0.0612793 ,  0.13671875, -0.07861328, -0.19335938, -0.24902344,\n",
       "        0.16503906, -0.18554688, -0.12792969,  0.01855469, -0.01586914,\n",
       "       -0.17285156,  0.08447266,  0.15527344, -0.03540039, -0.15234375,\n",
       "       -0.01757812, -0.24609375,  0.02453613, -0.1640625 ,  0.03100586,\n",
       "        0.05053711, -0.15917969,  0.12207031,  0.02111816,  0.01367188,\n",
       "       -0.16992188, -0.04492188, -0.04052734,  0.30664062,  0.39648438,\n",
       "       -0.29101562,  0.11035156, -0.20703125, -0.10742188, -0.09765625,\n",
       "       -0.3515625 , -0.10498047,  0.02453613, -0.18261719,  0.00170135,\n",
       "        0.26171875,  0.10595703,  0.06054688, -0.00309753,  0.11181641,\n",
       "       -0.37109375, -0.26367188,  0.171875  ,  0.23144531, -0.27929688,\n",
       "       -0.13378906, -0.1484375 ,  0.00994873,  0.05981445,  0.14257812,\n",
       "       -0.08105469, -0.13671875, -0.01708984, -0.08154297, -0.05566406,\n",
       "       -0.31835938, -0.01025391, -0.26171875,  0.29492188,  0.0112915 ,\n",
       "        0.06933594, -0.05004883, -0.09667969, -0.12988281,  0.20605469,\n",
       "       -0.16308594,  0.06738281,  0.00671387,  0.15820312, -0.21386719,\n",
       "       -0.16796875, -0.05053711, -0.08056641,  0.02001953, -0.00537109,\n",
       "       -0.14453125, -0.3984375 , -0.20703125,  0.23828125,  0.02185059,\n",
       "       -0.10644531, -0.00350952,  0.17578125,  0.00964355, -0.00427246,\n",
       "       -0.00160217,  0.36132812, -0.17480469,  0.01928711, -0.06298828,\n",
       "        0.1953125 ,  0.05297852,  0.02246094,  0.10058594,  0.07177734,\n",
       "        0.00349426,  0.18457031,  0.0324707 ,  0.01647949,  0.05004883,\n",
       "        0.00787354,  0.09326172, -0.11376953,  0.07373047, -0.04272461,\n",
       "        0.04394531,  0.33984375, -0.0300293 ,  0.125     , -0.11962891,\n",
       "       -0.328125  , -0.29101562, -0.13867188, -0.03491211,  0.10253906,\n",
       "       -0.04614258, -0.15039062,  0.30078125, -0.04125977,  0.0703125 ,\n",
       "        0.03125   , -0.12255859, -0.17480469,  0.06835938, -0.25390625,\n",
       "       -0.10400391,  0.10839844,  0.09765625,  0.02880859, -0.10009766,\n",
       "       -0.21484375,  0.17871094, -0.25      ,  0.01635742,  0.390625  ,\n",
       "       -0.13867188,  0.19726562, -0.05859375,  0.01300049,  0.13085938,\n",
       "       -0.10009766,  0.0255127 ,  0.14355469, -0.03564453, -0.10986328,\n",
       "       -0.3515625 ,  0.11572266, -0.05957031, -0.10400391, -0.23144531,\n",
       "       -0.32226562, -0.265625  ,  0.14550781,  0.02331543,  0.17382812,\n",
       "        0.04516602,  0.08691406,  0.08935547,  0.10205078, -0.07958984,\n",
       "        0.07226562,  0.03540039,  0.05517578, -0.08496094, -0.15429688,\n",
       "       -0.21679688, -0.08544922, -0.31835938, -0.2265625 , -0.00982666,\n",
       "       -0.359375  ,  0.2578125 , -0.02844238,  0.12695312,  0.08154297,\n",
       "       -0.05712891,  0.01879883,  0.11914062,  0.23339844,  0.24511719,\n",
       "       -0.03112793, -0.11279297, -0.10058594,  0.25585938,  0.06835938,\n",
       "       -0.14746094, -0.27929688,  0.05810547,  0.11425781, -0.10498047,\n",
       "       -0.03100586, -0.11376953, -0.03466797, -0.09912109,  0.09863281,\n",
       "        0.12597656,  0.40625   , -0.01281738, -0.01330566,  0.0390625 ,\n",
       "       -0.18164062,  0.05200195,  0.00424194, -0.01574707, -0.03759766,\n",
       "       -0.0703125 , -0.15625   , -0.12451172,  0.27929688,  0.14941406,\n",
       "        0.05078125,  0.15332031,  0.04223633, -0.02404785, -0.10351562,\n",
       "       -0.06054688,  0.04174805,  0.25390625, -0.10253906,  0.25195312,\n",
       "        0.12890625, -0.24121094, -0.08691406, -0.22070312, -0.05932617,\n",
       "       -0.04394531,  0.00671387,  0.0234375 ,  0.32421875,  0.10205078,\n",
       "       -0.04272461,  0.0045166 ,  0.18457031,  0.00552368, -0.07861328,\n",
       "        0.01123047,  0.09375   , -0.08740234, -0.22949219,  0.00671387,\n",
       "        0.03637695, -0.109375  ,  0.12255859, -0.22558594,  0.07324219],\n",
       "      dtype=float32)"
      ]
     },
     "execution_count": 29,
     "metadata": {},
     "output_type": "execute_result"
    }
   ],
   "source": [
    "embedding_results['respect']"
   ]
  },
  {
   "cell_type": "code",
   "execution_count": 30,
   "id": "4427abe1",
   "metadata": {},
   "outputs": [
    {
     "data": {
      "text/plain": [
       "11441"
      ]
     },
     "execution_count": 30,
     "metadata": {},
     "output_type": "execute_result"
    }
   ],
   "source": [
    "#총 단어 수+1 for unknown words\n",
    "\n",
    "vocab_size=len(TransferedModel.wv.vocab.keys())+1\n",
    "vocab_size"
   ]
  },
  {
   "cell_type": "code",
   "execution_count": 31,
   "id": "8be06231",
   "metadata": {},
   "outputs": [
    {
     "data": {
      "text/plain": [
       "(11441, 300)"
      ]
     },
     "execution_count": 31,
     "metadata": {},
     "output_type": "execute_result"
    }
   ],
   "source": [
    "#embedding matrix weight_matrix\n",
    "\n",
    "embedding_matrix=np.zeros((vocab_size, TransferedModel.wv.vector_size))\n",
    "embedding_matrix.shape"
   ]
  },
  {
   "cell_type": "code",
   "execution_count": 32,
   "id": "da67fc77",
   "metadata": {},
   "outputs": [
    {
     "data": {
      "text/plain": [
       "array([[0., 0., 0., ..., 0., 0., 0.],\n",
       "       [0., 0., 0., ..., 0., 0., 0.],\n",
       "       [0., 0., 0., ..., 0., 0., 0.],\n",
       "       ...,\n",
       "       [0., 0., 0., ..., 0., 0., 0.],\n",
       "       [0., 0., 0., ..., 0., 0., 0.],\n",
       "       [0., 0., 0., ..., 0., 0., 0.]])"
      ]
     },
     "execution_count": 32,
     "metadata": {},
     "output_type": "execute_result"
    }
   ],
   "source": [
    "embedding_matrix"
   ]
  },
  {
   "cell_type": "markdown",
   "id": "85e7cf25",
   "metadata": {},
   "source": [
    "# 정수화"
   ]
  },
  {
   "cell_type": "code",
   "execution_count": 33,
   "id": "1ff5f77a",
   "metadata": {},
   "outputs": [],
   "source": [
    "word_to_id = dict()\n",
    "id_to_word = dict()\n",
    "\n",
    "all_words=TransferedModel.wv.vocab.keys()\n",
    "\n",
    "for word in all_words:\n",
    "    if word not in word_to_id:\n",
    "        new_id=len(word_to_id)+1\n",
    "        word_to_id[word]=new_id\n",
    "        id_to_word[new_id]=word"
   ]
  },
  {
   "cell_type": "code",
   "execution_count": 34,
   "id": "85c3fd41",
   "metadata": {},
   "outputs": [
    {
     "data": {
      "text/plain": [
       "1652"
      ]
     },
     "execution_count": 34,
     "metadata": {},
     "output_type": "execute_result"
    }
   ],
   "source": [
    "word_to_id['respect']"
   ]
  },
  {
   "cell_type": "code",
   "execution_count": 35,
   "id": "60e424b8",
   "metadata": {},
   "outputs": [
    {
     "data": {
      "text/plain": [
       "'respect'"
      ]
     },
     "execution_count": 35,
     "metadata": {},
     "output_type": "execute_result"
    }
   ],
   "source": [
    "id_to_word[1652]"
   ]
  },
  {
   "cell_type": "code",
   "execution_count": 36,
   "id": "69e5c2a7",
   "metadata": {},
   "outputs": [
    {
     "data": {
      "text/plain": [
       "dict_items([('</s>', 1), ('in', 2), ('for', 3), ('that', 4), ('is', 5), ('on', 6), ('##', 7), ('The', 8), ('with', 9), ('said', 10), ('was', 11), ('the', 12), ('at', 13), ('not', 14), ('as', 15), ('it', 16), ('be', 17), ('from', 18), ('by', 19), ('are', 20), ('I', 21), ('have', 22), ('he', 23), ('will', 24), ('has', 25), ('####', 26), ('his', 27), ('an', 28), ('this', 29), ('or', 30), ('their', 31), ('who', 32), ('they', 33), ('but', 34), ('$', 35), ('had', 36), ('year', 37), ('were', 38), ('we', 39), ('more', 40), ('###', 41), ('up', 42), ('been', 43), ('you', 44), ('its', 45), ('one', 46), ('about', 47), ('would', 48), ('which', 49), ('out', 50), ('can', 51), ('It', 52), ('all', 53), ('also', 54), ('two', 55), ('after', 56), ('first', 57), ('He', 58), ('do', 59), ('time', 60), ('than', 61), ('when', 62), ('We', 63), ('over', 64), ('last', 65), ('new', 66), ('other', 67), ('her', 68), ('people', 69), ('into', 70), ('In', 71), ('our', 72), ('there', 73), ('A', 74), ('she', 75), ('could', 76), ('just', 77), ('years', 78), ('some', 79), ('U.S.', 80), ('three', 81), ('million', 82), ('them', 83), ('what', 84), ('But', 85), ('so', 86), ('no', 87), ('like', 88), ('if', 89), ('only', 90), ('percent', 91), ('get', 92), ('did', 93), ('him', 94), ('game', 95), ('back', 96), ('because', 97), ('now', 98), ('#.#', 99), ('before', 100), ('company', 101), ('any', 102), ('team', 103), ('against', 104), ('off', 105), ('This', 106), ('most', 107), ('made', 108), ('through', 109), ('make', 110), ('second', 111), ('state', 112), ('well', 113), ('day', 114), ('season', 115), ('says', 116), ('week', 117), ('where', 118), ('while', 119), ('down', 120), ('being', 121), ('government', 122), ('your', 123), ('#-#', 124), ('home', 125), ('going', 126), ('my', 127), ('good', 128), ('They', 129), (\"'re\", 130), ('should', 131), ('many', 132), ('way', 133), ('those', 134), ('four', 135), ('during', 136), ('such', 137), ('may', 138), ('very', 139), ('how', 140), ('since', 141), ('work', 142), ('take', 143), ('including', 144), ('high', 145), ('then', 146), ('%', 147), ('next', 148), ('#,###', 149), ('By', 150), ('much', 151), ('still', 152), ('go', 153), ('think', 154), ('old', 155), ('even', 156), ('#.##', 157), ('world', 158), ('see', 159), ('say', 160), ('business', 161), ('five', 162), ('told', 163), ('under', 164), ('us', 165), ('1', 166), ('these', 167), ('If', 168), ('right', 169), ('And', 170), ('me', 171), ('between', 172), ('play', 173), ('help', 174), ('##,###', 175), ('market', 176), ('That', 177), ('know', 178), ('end', 179), ('AP', 180), ('long', 181), ('information', 182), ('points', 183), ('does', 184), ('both', 185), ('There', 186), ('part', 187), ('around', 188), ('police', 189), ('want', 190), (\"'ve\", 191), ('based', 192), ('For', 193), ('got', 194), ('third', 195), ('school', 196), ('left', 197), ('another', 198), ('country', 199), ('need', 200), ('2', 201), ('best', 202), ('win', 203), ('quarter', 204), ('use', 205), ('today', 206), ('##.#', 207), ('same', 208), ('public', 209), ('run', 210), ('Friday', 211), ('set', 212), ('month', 213), ('top', 214), ('billion', 215), ('Tuesday', 216), ('come', 217), ('Monday', 218), ('She', 219), ('city', 220), ('place', 221), ('night', 222), ('six', 223), ('each', 224), ('Thursday', 225), ('###,###', 226), ('Wednesday', 227), ('here', 228), ('You', 229), ('group', 230), ('really', 231), ('found', 232), ('As', 233), ('used', 234), ('3', 235), ('lot', 236), (\"'m\", 237), ('money', 238), ('put', 239), ('games', 240), ('support', 241), ('program', 242), ('half', 243), ('report', 244), ('family', 245), ('months', 246), ('number', 247), ('officials', 248), ('am', 249), ('former', 250), ('own', 251), ('man', 252), ('Saturday', 253), ('too', 254), ('better', 255), ('days', 256), ('came', 257), ('lead', 258), ('life', 259), ('American', 260), ('##-##', 261), ('show', 262), ('past', 263), ('took', 264), ('added', 265), ('expected', 266), ('called', 267), ('great', 268), ('State', 269), ('services', 270), ('children', 271), ('hit', 272), ('area', 273), ('system', 274), ('every', 275), ('pm', 276), ('big', 277), ('service', 278), ('few', 279), ('per', 280), ('members', 281), ('Sunday', 282), ('early', 283), ('point', 284), ('start', 285), ('companies', 286), ('little', 287), ('&', 288), ('case', 289), ('ago', 290), ('local', 291), ('according', 292), ('never', 293), ('5', 294), ('without', 295), ('sales', 296), ('until', 297), ('went', 298), ('players', 299), ('##th', 300), ('New_York', 301), ('won', 302), ('financial', 303), ('news', 304), ('4', 305), ('When', 306), ('share', 307), ('several', 308), ('free', 309), ('away', 310), ('##.##', 311), ('already', 312), ('On', 313), ('industry', 314), (\"'ll\", 315), ('call', 316), ('With', 317), ('students', 318), ('line', 319), ('available', 320), ('County', 321), ('making', 322), ('held', 323), ('final', 324), ('#:##', 325), ('power', 326), ('plan', 327), ('might', 328), ('least', 329), ('look', 330), ('forward', 331), ('give', 332), ('At', 333), ('again', 334), ('later', 335), ('full', 336), ('must', 337), ('things', 338), ('major', 339), ('community', 340), ('announced', 341), ('open', 342), ('record', 343), ('reported', 344), ('court', 345), ('working', 346), ('able', 347), ('something', 348), ('president', 349), ('meeting', 350), ('keep', 351), ('March', 352), ('future', 353), ('far', 354), ('deal', 355), ('City', 356), ('May', 357), ('development', 358), ('University', 359), ('find', 360), ('times', 361), ('After', 362), ('office', 363), ('led', 364), ('among', 365), ('June', 366), ('increase', 367), ('China', 368), ('John', 369), ('whether', 370), ('cost', 371), ('security', 372), ('job', 373), ('less', 374), ('head', 375), ('seven', 376), ('growth', 377), ('lost', 378), ('pay', 379), ('looking', 380), ('provide', 381), ('6', 382), ('To', 383), ('plans', 384), ('products', 385), ('car', 386), ('recent', 387), ('hard', 388), ('always', 389), ('include', 390), ('women', 391), ('across', 392), ('tax', 393), ('water', 394), ('April', 395), ('continue', 396), ('important', 397), ('different', 398), ('close', 399), ('7', 400), ('One', 401), ('late', 402), ('decision', 403), ('current', 404), ('law', 405), ('within', 406), ('along', 407), ('played', 408), ('move', 409), ('United_States', 410), ('enough', 411), ('become', 412), ('side', 413), ('national', 414), ('Inc.', 415), ('results', 416), ('level', 417), ('loss', 418), ('economic', 419), ('coach', 420), ('near', 421), ('getting', 422), ('price', 423), ('Department', 424), ('event', 425), ('fourth', 426), ('change', 427), ('All', 428), ('small', 429), ('board', 430), ('National', 431), ('So', 432), ('goal', 433), ('taken', 434), ('field', 435), ('prices', 436), ('weeks', 437), ('men', 438), ('asked', 439), ('eight', 440), ('data', 441), ('shot', 442), ('New', 443), ('started', 444), ('July', 445), ('director', 446), ('President', 447), ('party', 448), ('federal', 449), ('done', 450), ('political', 451), ('minutes', 452), ('taking', 453), ('Company', 454), ('technology', 455), ('project', 456), ('center', 457), ('leading', 458), ('issue', 459), ('though', 460), ('having', 461), ('period', 462), ('likely', 463), ('scored', 464), ('8', 465), ('strong', 466), ('series', 467), ('military', 468), ('seen', 469), ('trying', 470), ('What', 471), ('coming', 472), ('process', 473), ('building', 474), ('behind', 475), ('performance', 476), ('management', 477), ('Iraq', 478), ('saying', 479), ('earlier', 480), ('believe', 481), ('oil', 482), ('given', 483), ('Police', 484), ('customers', 485), ('due', 486), ('following', 487), ('term', 488), ('others', 489), ('statement', 490), ('international', 491), ('economy', 492), ('health', 493), ('thing', 494), ('Obama', 495), ('return', 496), ('killed', 497), ('Washington', 498), ('further', 499), ('However', 500), ('doing', 501), ('face', 502), ('low', 503), ('higher', 504), ('site', 505), ('once', 506), ('yet', 507), ('hours', 508), ('America', 509), ('control', 510), ('received', 511), ('rate', 512), ('career', 513), ('Bush', 514), ('teams', 515), ('known', 516), ('offer', 517), ('race', 518), ('ever', 519), ('experience', 520), ('playing', 521), ('name', 522), ('possible', 523), ('countries', 524), ('Mr.', 525), ('average', 526), ('together', 527), ('using', 528), ('9', 529), ('cut', 530), ('While', 531), ('total', 532), ('round', 533), ('young', 534), ('nearly', 535), ('shares', 536), ('member', 537), ('campaign', 538), ('media', 539), ('needs', 540), ('why', 541), ('house', 542), ('issues', 543), ('costs', 544), ('fire', 545), ('##-#', 546), ('victory', 547), ('player', 548), ('began', 549), ('sure', 550), ('story', 551), ('per_cent', 552), ('North', 553), ('His', 554), ('staff', 555), ('order', 556), ('war', 557), ('large', 558), ('interest', 559), ('stock', 560), ('food', 561), ('research', 562), ('key', 563), ('India', 564), ('South', 565), ('morning', 566), ('conference', 567), ('senior', 568), ('global', 569), ('Center', 570), ('death', 571), ('person', 572), ('thought', 573), ('gave', 574), ('feel', 575), ('energy', 576), ('history', 577), ('recently', 578), ('largest', 579), ('No.', 580), ('general', 581), ('official', 582), ('released', 583), ('wanted', 584), ('meet', 585), ('short', 586), ('outside', 587), ('running', 588), ('live', 589), ('ball', 590), ('online', 591), ('real', 592), ('position', 593), ('fact', 594), ('fell', 595), ('nine', 596), ('December', 597), ('front', 598), ('action', 599), ('defense', 600), ('problem', 601), ('problems', 602), ('Mr', 603), ('nation', 604), ('needed', 605), ('special', 606), ('January', 607), ('almost', 608), ('chance', 609), (\"'d\", 610), ('result', 611), ('West', 612), ('September', 613), ('reports', 614), ('leader', 615), ('investment', 616), ('yesterday', 617), ('Some', 618), ('leaders', 619), ('ahead', 620), ('production', 621), ('comes', 622), ('No', 623), ('runs', 624), ('match', 625), ('role', 626), ('kind', 627), ('try', 628), ('ended', 629), ('risk', 630), ('areas', 631), ('election', 632), ('workers', 633), ('visit', 634), ('bring', 635), ('road', 636), ('music', 637), ('study', 638), ('makes', 639), ('often', 640), ('release', 641), ('woman', 642), ('vote', 643), ('care', 644), ('town', 645), ('clear', 646), ('comment', 647), ('budget', 648), ('potential', 649), ('single', 650), ('markets', 651), ('policy', 652), ('capital', 653), ('saw', 654), ('access', 655), ('weekend', 656), ('operations', 657), ('whose', 658), ('net', 659), ('House', 660), ('hand', 661), ('increased', 662), ('charges', 663), ('winning', 664), ('trade', 665), ('These', 666), ('income', 667), ('value', 668), ('involved', 669), ('Bank', 670), ('November', 671), ('bill', 672), ('compared', 673), ('anything', 674), ('manager', 675), ('Texas', 676), ('property', 677), ('stop', 678), ('annual', 679), ('private', 680), ('contract', 681), ('died', 682), ('Now', 683), ('hope', 684), ('product', 685), ('fans', 686), ('lower', 687), ('demand', 688), ('News', 689), ('David', 690), ('club', 691), ('comments', 692), ('film', 693), ('yards', 694), ('quality', 695), ('currently', 696), ('events', 697), ('addition', 698), ('couple', 699), ('schools', 700), ('attack', 701), ('region', 702), ('latest', 703), ('opportunity', 704), ('worked', 705), ('course', 706), ('bad', 707), ('fall', 708), ('Group', 709), ('October', 710), ('jobs', 711), ('list', 712), ('let', 713), ('however', 714), ('chief', 715), ('summer', 716), ('programs', 717), ('According', 718), ('revenue', 719), ('Our', 720), ('rose', 721), ('previous', 722), ('TV', 723), ('football', 724), ('biggest', 725), ('employees', 726), ('changes', 727), ('residents', 728), ('means', 729), ('agreement', 730), ('includes', 731), ('post', 732), ('Canada', 733), ('probably', 734), ('related', 735), ('training', 736), ('allowed', 737), ('class', 738), ('bit', 739), ('video', 740), ('Michael', 741), ('An', 742), ('sent', 743), ('education', 744), ('states', 745), ('straight', 746), ('love', 747), ('beat', 748), ('hold', 749), ('turn', 750), ('finished', 751), ('network', 752), ('Smith', 753), ('buy', 754), ('foreign', 755), ('especially', 756), ('groups', 757), ('wants', 758), ('title', 759), ('included', 760), ('turned', 761), ('bank', 762), ('Florida', 763), ('efforts', 764), ('personal', 765), ('businesses', 766), ('August', 767), ('California', 768), ('situation', 769), ('district', 770), ('allow', 771), ('helped', 772), ('body', 773), ('nothing', 774), ('soon', 775), ('safety', 776), ('officer', 777), ('cents', 778), ('Europe', 779), ('St.', 780), ('additional', 781), ('spokesman', 782), ('February', 783), ('wife', 784), ('showed', 785), ('leave', 786), ('investors', 787), ('parents', 788), ('medical', 789), ('spending', 790), ('non', 791), ('London', 792), ('Council', 793), ('matter', 794), ('spent', 795), ('child', 796), ('World', 797), ('effort', 798), ('opening', 799), ('either', 800), ('range', 801), ('question', 802), ('European', 803), ('goals', 804), ('administration', 805), ('friends', 806), ('himself', 807), ('shows', 808), ('difficult', 809), ('kids', 810), ('paid', 811), ('create', 812), ('cash', 813), ('age', 814), ('league', 815), ('form', 816), ('impact', 817), ('drive', 818), ('someone', 819), ('became', 820), ('stay', 821), ('fight', 822), ('significant', 823), ('firm', 824), ('Senate', 825), ('hospital', 826), ('charged', 827), ('operating', 828), ('main', 829), ('book', 830), ('success', 831), ('son', 832), ('trading', 833), ('###-####', 834), ('focus', 835), ('room', 836), ('continued', 837), ('Congress', 838), ('everything', 839), ('Park', 840), ('agency', 841), ('brought', 842), ('talk', 843), ('break', 844), ('air', 845), ('software', 846), ('decided', 847), ('Do', 848), ('ready', 849), ('arrested', 850), ('track', 851), ('provides', 852), ('mother', 853), ('base', 854), ('trial', 855), ('phone', 856), ('My', 857), ('build', 858), ('conditions', 859), ('rest', 860), ('Johnson', 861), ('terms', 862), ('expect', 863), ('England', 864), ('Israel', 865), ('despite', 866), ('closed', 867), ('starting', 868), ('provided', 869), ('pressure', 870), ('lives', 871), ('step', 872), ('remain', 873), ('similar', 874), ('charge', 875), ('date', 876), ('whole', 877), ('land', 878), ('growing', 879), ('James', 880), ('Internet', 881), ('projects', 882), ('British', 883), ('cases', 884), ('ground', 885), ('legal', 886), ('International', 887), ('agreed', 888), ('tell', 889), ('test', 890), ('everyone', 891), ('pretty', 892), ('authorities', 893), ('Two', 894), ('above', 895), ('moved', 896), ('profit', 897), ('throughout', 898), ('inside', 899), ('ability', 900), ('overall', 901), ('pass', 902), ('officers', 903), ('rather', 904), ('Australia', 905), ('actually', 906), ('county', 907), ('amount', 908), ('scheduled', 909), ('themselves', 910), ('organization', 911), ('giving', 912), ('credit', 913), ('father', 914), ('drug', 915), ('investigation', 916), ('families', 917), ('Republican', 918), ('funds', 919), ('patients', 920), ('takes', 921), ('systems', 922), ('Japan', 923), ('complete', 924), ('sold', 925), ('practice', 926), ('calls', 927), ('•', 928), ('UK', 929), ('force', 930), ('student', 931), ('idea', 932), ('reached', 933), ('reason', 934), ('levels', 935), ('space', 936), ('competition', 937), ('forces', 938), ('sector', 939), ('Last', 940), ('tried', 941), ('common', 942), ('homes', 943), ('stage', 944), ('department', 945), ('named', 946), ('earnings', 947), ('offers', 948), ('star', 949), ('certain', 950), ('double', 951), ('longer', 952), ('followed', 953), ('cause', 954), ('Association', 955), ('signed', 956), ('committee', 957), ('hour', 958), ('college', 959), ('Pakistan', 960), ('users', 961), ('Iran', 962), ('sign', 963), ('living', 964), ('failed', 965), ('reach', 966), ('quickly', 967), ('receive', 968), ('debt', 969), ('sale', 970), ('Board', 971), ('Americans', 972), ('Road', 973), ('Brown', 974), ('insurance', 975), ('##:##', 976), ('anyone', 977), ('tournament', 978), ('More', 979), ('gas', 980), ('talks', 981), ('serious', 982), ('required', 983), ('sell', 984), ('construction', 985), ('evidence', 986), ('remains', 987), ('black', 988), ('below', 989), ('improve', 990), ('crisis', 991), ('address', 992), ('questions', 993), ('easy', 994), ('begin', 995), ('view', 996), ('School', 997), ('heard', 998), ('executive', 999), ('raised', 1000), ('Paul', 1001), ('store', 1002), ('gets', 1003), ('filed', 1004), ('huge', 1005), ('moving', 1006), ('seems', 1007), ('met', 1008), ('####s', 1009), ('thousands', 1010), ('CEO', 1011), ('solutions', 1012), ('score', 1013), ('content', 1014), ('treatment', 1015), ('offered', 1016), ('built', 1017), ('hits', 1018), ('present', 1019), ('Chicago', 1020), ('attacks', 1021), ('although', 1022), ('social', 1023), ('afternoon', 1024), ('vehicle', 1025), ('read', 1026), ('example', 1027), ('rise', 1028), ('....', 1029), ('minute', 1030), ('banks', 1031), ('council', 1032), ('troops', 1033), ('rates', 1034), ('tough', 1035), ('Chinese', 1036), ('Even', 1037), ('works', 1038), ('fifth', 1039), ('knew', 1040), ('felt', 1041), ('Street', 1042), ('website', 1043), ('fund', 1044), ('issued', 1045), ('immediately', 1046), ('opened', 1047), ('goes', 1048), ('proposed', 1049), ('happy', 1050), ('guys', 1051), ('response', 1052), ('numbers', 1053), ('benefits', 1054), ('happened', 1055), ('###.#', 1056), ('light', 1057), ('positive', 1058), ('chairman', 1059), ('claims', 1060), ('People', 1061), ('details', 1062), ('Williams', 1063), ('East', 1064), ('accused', 1065), ('equipment', 1066), ('dropped', 1067), ('dollars', 1068), ('various', 1069), ('worth', 1070), ('judge', 1071), ('considered', 1072), ('commercial', 1073), ('activities', 1074), ('funding', 1075), ('dollar', 1076), ('plant', 1077), ('mobile', 1078), ('television', 1079), ('rules', 1080), ('rights', 1081), ('review', 1082), ('quite', 1083), ('regular', 1084), ('Dr.', 1085), ('served', 1086), ('kept', 1087), ('marketing', 1088), ('created', 1089), ('heart', 1090), ('wrote', 1091), ('prison', 1092), ('instead', 1093), ('concerns', 1094), ('offering', 1095), ('returned', 1096), ('benefit', 1097), ('designed', 1098), ('approved', 1099), ('foot', 1100), ('search', 1101), ('miles', 1102), ('planned', 1103), ('Health', 1104), ('Government', 1105), ('driving', 1106), ('Indian', 1107), ('entire', 1108), ('First', 1109), ('providing', 1110), ('host', 1111), ('ask', 1112), ('design', 1113), ('hearing', 1114), ('save', 1115), ('looked', 1116), ('Central', 1117), ('travel', 1118), ('_', 1119), ('successful', 1120), ('beginning', 1121), ('movie', 1122), ('adding', 1123), ('forced', 1124), ('toward', 1125), ('ensure', 1126), ('passed', 1127), ('unit', 1128), ('happen', 1129), ('mean', 1130), ('Associated_Press', 1131), ('Many', 1132), ('shooting', 1133), ('gone', 1134), ('winner', 1135), ('hopes', 1136), ('understand', 1137), ('planning', 1138), ('trip', 1139), ('raise', 1140), ('owner', 1141), ('popular', 1142), ('completed', 1143), ('ways', 1144), ('attention', 1145), ('feet', 1146), ('assets', 1147), ('traffic', 1148), ('Mike', 1149), ('Since', 1150), ('environment', 1151), ('Both', 1152), ('interview', 1153), ('consumers', 1154), ('Democrats', 1155), ('Jones', 1156), ('Not', 1157), ('hands', 1158), ('contact', 1159), ('cars', 1160), ('Although', 1161), ('dead', 1162), ('features', 1163), ('challenge', 1164), ('Canadian', 1165), ('particularly', 1166), ('basis', 1167), ('violence', 1168), ('stand', 1169), ('consumer', 1170), ('sense', 1171), ('attorney', 1172), ('driver', 1173), ('highest', 1174), ('£', 1175), ('posted', 1176), ('finish', 1177), ('limited', 1178), ('source', 1179), ('Hall', 1180), ('serve', 1181), ('Sept.', 1182), ('spot', 1183), ('Then', 1184), ('advantage', 1185), ('scoring', 1186), ('words', 1187), ('applications', 1188), ('Russia', 1189), ('reduce', 1190), ('How', 1191), ('white', 1192), ('appeared', 1193), ('itself', 1194), ('fuel', 1195), ('During', 1196), ('Afghanistan', 1197), ('simply', 1198), ('fiscal', 1199), ('Jackson', 1200), ('plays', 1201), ('account', 1202), ('follow', 1203), ('statements', 1204), ('organizations', 1205), ('pick', 1206), ('continues', 1207), ('session', 1208), ('nuclear', 1209), ('French', 1210), ('seconds', 1211), ('daughter', 1212), ('co', 1213), ('sports', 1214), ('Most', 1215), ('caused', 1216), ('injury', 1217), ('United', 1218), ('College', 1219), ('effect', 1220), ('selling', 1221), ('middle', 1222), ('cuts', 1223), ('drop', 1224), ('facility', 1225), ('true', 1226), ('target', 1227), ('consider', 1228), ('watch', 1229), ('noted', 1230), ('Other', 1231), ('resources', 1232), ('opportunities', 1233), ('strategy', 1234), ('learn', 1235), ('re', 1236), ('Mexico', 1237), ('message', 1238), ('injured', 1239), ('parties', 1240), ('seeking', 1241), ('missed', 1242), ('wrong', 1243), ('letter', 1244), ('From', 1245), ('looks', 1246), ('individual', 1247), ('approach', 1248), ('damage', 1249), ('else', 1250), ('speed', 1251), ('France', 1252), ('mind', 1253), ('Los_Angeles', 1254), ('bid', 1255), ('subject', 1256), ('ran', 1257), ('send', 1258), ('Mark', 1259), ('existing', 1260), ('fun', 1261), ('innings', 1262), ('press', 1263), ('voters', 1264), ('championship', 1265), ('leaving', 1266), ('earned', 1267), ('effective', 1268), ('poor', 1269), ('friend', 1270), ('customer', 1271), ('solution', 1272), ('corporate', 1273), ('independent', 1274), ('leadership', 1275), ('human', 1276), ('Democratic', 1277), ('shots', 1278), ('believes', 1279), ('computer', 1280), ('s', 1281), ('items', 1282), ('confidence', 1283), ('add', 1284), ('health_care', 1285), ('award', 1286), ('parts', 1287), ('cover', 1288), ('missing', 1289), ('fast', 1290), ('Iraqi', 1291), ('incident', 1292), ('husband', 1293), ('responsible', 1294), ('looking_statements', 1295), ('losses', 1296), ('estimated', 1297), ('approximately', 1298), ('guy', 1299), ('purchase', 1300), ('Australian', 1301), ('helping', 1302), ('finally', 1303), ('spend', 1304), ('scene', 1305), ('opposition', 1306), ('develop', 1307), ('Ohio', 1308), ('certainly', 1309), ('extra', 1310), ('UN', 1311), ('talking', 1312), ('spring', 1313), ('emergency', 1314), ('station', 1315), ('check', 1316), ('Chris', 1317), ('soldiers', 1318), ('vehicles', 1319), ('launch', 1320), ('Business', 1321), ('critical', 1322), ('professional', 1323), ('described', 1324), ('choice', 1325), ('moment', 1326), ('size', 1327), ('changed', 1328), ('holding', 1329), ('door', 1330), ('declined', 1331), ('R', 1332), ('launched', 1333), ('condition', 1334), ('lose', 1335), ('joined', 1336), ('gives', 1337), ('developed', 1338), ('Also', 1339), ('protect', 1340), ('girls', 1341), ('District', 1342), ('operation', 1343), ('necessary', 1344), ('taxes', 1345), ('sites', 1346), ('Day', 1347), ('beyond', 1348), ('African', 1349), ('daily', 1350), ('yard', 1351), ('calling', 1352), ('Those', 1353), ('options', 1354), ('stocks', 1355), ('newspaper', 1356), ('peace', 1357), ('proposal', 1358), ('Jan.', 1359), ('previously', 1360), ('Microsoft', 1361), ('owned', 1362), ('regional', 1363), ('Thomas', 1364), ('hear', 1365), ('housing', 1366), ('owners', 1367), ('exchange', 1368), ('majority', 1369), ('starts', 1370), ('victims', 1371), ('Times', 1372), ('model', 1373), ('struck', 1374), ('tour', 1375), ('basketball', 1376), ('###-###-####', 1377), ('published', 1378), ('twice', 1379), ('candidates', 1380), ('Commission', 1381), ('population', 1382), ('evening', 1383), ('lack', 1384), ('north', 1385), ('fighting', 1386), ('reporters', 1387), ('concerned', 1388), ('south', 1389), ('fine', 1390), ('weather', 1391), ('figures', 1392), ('floor', 1393), ('relationship', 1394), ('activity', 1395), ('remaining', 1396), ('believed', 1397), ('Scott', 1398), ('confirmed', 1399), ('anti', 1400), ('placed', 1401), ('caught', 1402), ('crime', 1403), ('crowd', 1404), ('appear', 1405), ('version', 1406), ('Western', 1407), ('Boston', 1408), ('girl', 1409), ('join', 1410), ('discuss', 1411), ('church', 1412), ('original', 1413), ('Michigan', 1414), ('aid', 1415), ('expectations', 1416), ('White_House', 1417), ('Bill', 1418), ('clients', 1419), ('located', 1420), ('Germany', 1421), ('Israeli', 1422), ('gold', 1423), ('killing', 1424), ('specific', 1425), ('Robert', 1426), ('act', 1427), ('High_School', 1428), ('partner', 1429), ('losing', 1430), ('claim', 1431), ('records', 1432), ('Office', 1433), ('offense', 1434), ('Dec.', 1435), ('Just', 1436), ('alone', 1437), ('Corp.', 1438), ('facilities', 1439), ('Another', 1440), ('division', 1441), ('Oct.', 1442), ('Nov.', 1443), ('retail', 1444), ('worst', 1445), ('legislation', 1446), ('page', 1447), ('Lee', 1448), ('measures', 1449), ('brand', 1450), ('expects', 1451), ('art', 1452), ('Services', 1453), ('standards', 1454), ('application', 1455), ('central', 1456), ('sixth', 1457), ('safe', 1458), ('style', 1459), ('elections', 1460), ('*', 1461), ('primary', 1462), ('greater', 1463), ('progress', 1464), ('managed', 1465), ('supply', 1466), ('gain', 1467), ('prior', 1468), ('Committee', 1469), ('wins', 1470), ('recovery', 1471), ('e_mail', 1472), ('upon', 1473), ('plus', 1474), ('type', 1475), ('paper', 1476), ('attempt', 1477), ('High', 1478), ('focused', 1479), ('claimed', 1480), ('survey', 1481), ('injuries', 1482), ('street', 1483), ('stores', 1484), ('block', 1485), ('analysts', 1486), ('Big', 1487), ('allows', 1488), ('hundreds', 1489), ('avoid', 1490), ('Conference', 1491), ('governor', 1492), ('figure', 1493), ('band', 1494), ('option', 1495), ('lines', 1496), ('sources', 1497), ('domestic', 1498), ('NFL', 1499), ('knows', 1500), ('seem', 1501), ('Open', 1502), ('Republicans', 1503), ('Britain', 1504), ('feature', 1505), ('walk', 1506), ('broke', 1507), ('factors', 1508), ('battle', 1509), ('developing', 1510), ('threat', 1511), ('worldwide', 1512), ('Feb.', 1513), ('written', 1514), ('Christmas', 1515), ('committed', 1516), ('green', 1517), ('agencies', 1518), ('improved', 1519), ('traditional', 1520), ('###.##', 1521), ('fair', 1522), ('border', 1523), ('About', 1524), ('Reuters', 1525), ('concern', 1526), ('mark', 1527), ('allowing', 1528), ('capacity', 1529), ('putting', 1530), ('appears', 1531), ('stories', 1532), ('grow', 1533), ('unique', 1534), ('favorite', 1535), ('nice', 1536), ('Today', 1537), ('vice_president', 1538), ('measure', 1539), ('debate', 1540), ('direct', 1541), ('stopped', 1542), ('index', 1543), ('drugs', 1544), ('tied', 1545), ('rising', 1546), ('risks', 1547), ('League', 1548), ('Despite', 1549), ('mid', 1550), ('arrived', 1551), ('communities', 1552), ('Meanwhile', 1553), ('increasing', 1554), ('presented', 1555), ('Her', 1556), ('boy', 1557), ('Court', 1558), ('standard', 1559), ('prevent', 1560), ('mission', 1561), ('deep', 1562), ('Chief', 1563), ('word', 1564), ('identified', 1565), ('pulled', 1566), ('inning', 1567), ('difference', 1568), ('pair', 1569), ('suffered', 1570), ('perfect', 1571), ('advanced', 1572), ('prepared', 1573), ('fully', 1574), ('blood', 1575), ('signs', 1576), ('showing', 1577), ('English', 1578), ('####-##', 1579), ('interested', 1580), ('material', 1581), ('article', 1582), ('experts', 1583), ('bottom', 1584), ('answer', 1585), ('D', 1586), ('George', 1587), ('usually', 1588), ('wait', 1589), ('spoke', 1590), ('Davis', 1591), ('laws', 1592), ('request', 1593), ('units', 1594), ('loan', 1595), ('directly', 1596), ('union', 1597), ('particular', 1598), ('baseball', 1599), ('loans', 1600), ('pre', 1601), ('born', 1602), ('affected', 1603), ('waiting', 1604), ('simple', 1605), ('Martin', 1606), ('picked', 1607), ('Arizona', 1608), ('faces', 1609), ('Russian', 1610), ('names', 1611), ('EU', 1612), ('generation', 1613), ('responsibility', 1614), ('combined', 1615), ('audience', 1616), ('hurt', 1617), ('seemed', 1618), ('red', 1619), ('revenues', 1620), ('candidate', 1621), ('Under', 1622), ('ranked', 1623), ('cities', 1624), ('places', 1625), ('ruling', 1626), ('Green', 1627), ('speak', 1628), ('strike', 1629), ('documents', 1630), ('Year', 1631), ('sometimes', 1632), ('King', 1633), ('seasons', 1634), ('via', 1635), ('carry', 1636), ('boys', 1637), ('facing', 1638), ('learned', 1639), ('hotel', 1640), ('produced', 1641), ('Google', 1642), ('seeing', 1643), ('seat', 1644), ('produce', 1645), ('millions', 1646), ('box', 1647), ('decisions', 1648), ('coverage', 1649), ('voice', 1650), ('rule', 1651), ('respect', 1652), ('World_Cup', 1653), ('cancer', 1654), ('shown', 1655), ('fired', 1656), ('decades', 1657), ('reasons', 1658), ('tonight', 1659), ('Aug.', 1660), ('commitment', 1661), ('alleged', 1662), ('competitive', 1663), ('rebounds', 1664), ('Miller', 1665), ('individuals', 1666), ('thinking', 1667), ('established', 1668), ('books', 1669), ('approval', 1670), ('deliver', 1671), ('remained', 1672), ('guard', 1673), ('Service', 1674), ('God', 1675), ('infrastructure', 1676), ('appeal', 1677), ('digital', 1678), ('Web', 1679), ('ordered', 1680), ('citizens', 1681), ('Research', 1682), ('speech', 1683), ('push', 1684), ('highly', 1685), ('Army', 1686), ('decline', 1687), ('holiday', 1688), ('self', 1689), ('Three', 1690), ('accident', 1691), ('radio', 1692), ('require', 1693), ('murder', 1694), ('wide', 1695), ('policies', 1696), ('park', 1697), ('Their', 1698), ('champion', 1699), ('platform', 1700), ('pleased', 1701), ('heavy', 1702), ('eventually', 1703), ('crash', 1704), ('minister', 1705), ('hot', 1706), ('serving', 1707), ('asking', 1708), ('Detroit', 1709), ('keeping', 1710), ('provider', 1711), ('partners', 1712), ('remember', 1713), ('seek', 1714), ('manufacturing', 1715), ('teachers', 1716), ('towards', 1717), ('buying', 1718), ('warned', 1719), ('Steve', 1720), ('initial', 1721), ('pounds', 1722), ('brother', 1723), ('panel', 1724), ('becoming', 1725), ('entered', 1726), ('sides', 1727), ('victim', 1728), ('setting', 1729), ('Co.', 1730), ('environmental', 1731), ('bus', 1732), ('Is', 1733), ('Asia', 1734), ('note', 1735), ('IT', 1736), ('carried', 1737), ('consecutive', 1738), ('older', 1739), ('criminal', 1740), ('Richard', 1741), ('bought', 1742), ('Georgia', 1743), ('Institute', 1744), ('announcement', 1745), ('Union', 1746), ('Rs', 1747), ('Division', 1748), ('decade', 1749), ('clean', 1750), ('stated', 1751), ('penalty', 1752), ('boost', 1753), ('attend', 1754), ('separate', 1755), ('enjoy', 1756), ('Web_site', 1757), ('table', 1758), ('analysis', 1759), ('Japanese', 1760), ('German', 1761), ('skills', 1762), ('jail', 1763), ('Valley', 1764), ('protection', 1765), ('analyst', 1766), ('mostly', 1767), ('paying', 1768), ('draw', 1769), ('Director', 1770), ('Taylor', 1771), ('perhaps', 1772), ('reading', 1773), ('cross', 1774), ('commission', 1775), ('drivers', 1776), ('offices', 1777), ('presence', 1778), ('meetings', 1779), ('votes', 1780), ('strength', 1781), ('Of', 1782), ('delivery', 1783), ('location', 1784), ('positions', 1785), ('regarding', 1786), ('hoping', 1787), ('Ryan', 1788), ('offensive', 1789), ('spread', 1790), ('White', 1791), ('whom', 1792), ('deficit', 1793), ('powerful', 1794), ('Club', 1795), ('continuing', 1796), ('natural', 1797), ('revealed', 1798), ('feeling', 1799), ('Jim', 1800), ('grew', 1801), ('watching', 1802), ('suggested', 1803), ('slow', 1804), ('challenges', 1805), ('Writer', 1806), ('larger', 1807), ('quick', 1808), ('definitely', 1809), ('flight', 1810), ('university', 1811), ('junior', 1812), ('inflation', 1813), ('ones', 1814), ('Apple', 1815), ('honor', 1816), ('active', 1817), ('voted', 1818), ('Community', 1819), ('solid', 1820), ('Clinton', 1821), ('Act', 1822), ('determine', 1823), ('reduced', 1824), ('fees', 1825), ('multiple', 1826), ('decide', 1827), ('advertising', 1828), ('language', 1829), ('expressed', 1830), ('steps', 1831), ('easily', 1832), ('bringing', 1833), ('physical', 1834), ('throw', 1835), ('forecast', 1836), ('schedule', 1837), ('denied', 1838), ('finding', 1839), ('ban', 1840), ('Game', 1841), ('agree', 1842), ('section', 1843), ('admitted', 1844), ('actions', 1845), ('normal', 1846), ('devices', 1847), ('Because', 1848), ('squad', 1849), ('creating', 1850), ('walked', 1851), ('chief_executive', 1852), ('streets', 1853), ('clearly', 1854), ('complex', 1855), ('lawyer', 1856), ('elected', 1857), ('increases', 1858), ('Energy', 1859), ('estimates', 1860), ('excited', 1861), ('helps', 1862), ('relief', 1863), ('determined', 1864), ('maybe', 1865), ('suspect', 1866), ('Hill', 1867), ('sound', 1868), ('piece', 1869), ('campus', 1870), ('southern', 1871), ('degree', 1872), ('smaller', 1873), ('status', 1874), ('headed', 1875), ('#-##', 1876), ('healthy', 1877), ('massive', 1878), ('testing', 1879), ('distribution', 1880), ('Why', 1881), ('completely', 1882), ('onto', 1883), ('hitting', 1884), ('closing', 1885), ('lawmakers', 1886), ('fresh', 1887), ('winter', 1888), ('Tom', 1889), ('contest', 1890), ('outstanding', 1891), ('exactly', 1892), ('percentage', 1893), ('Joe', 1894), ('contributed', 1895), ('movement', 1896), ('storm', 1897), ('seventh', 1898), ('fear', 1899), ('weight', 1900), ('Minnesota', 1901), ('McCain', 1902), ('C', 1903), ('secure', 1904), ('conducted', 1905), ('acquisition', 1906), ('Over', 1907), ('maintain', 1908), ('rally', 1909), ('knowledge', 1910), ('recorded', 1911), ('assistant', 1912), ('doctors', 1913), ('proud', 1914), ('advice', 1915), ('Secretary', 1916), ('finance', 1917), ('sex', 1918), ('Peter', 1919), ('WASHINGTON', 1920), ('refused', 1921), ('Miami', 1922), ('agent', 1923), ('draft', 1924), ('pitch', 1925), ('Justice', 1926), ('supporters', 1927), ('General', 1928), ('user', 1929), ('presidential', 1930), ('tie', 1931), ('Africa', 1932), ('New_Zealand', 1933), ('sort', 1934), ('Houston', 1935), ('disease', 1936), ('tomorrow', 1937), ('core', 1938), ('willing', 1939), ('patient', 1940), ('Hospital', 1941), ('considering', 1942), ('firms', 1943), ('Still', 1944), ('technical', 1945), ('trouble', 1946), ('Its', 1947), ('picture', 1948), ('extremely', 1949), ('confident', 1950), ('count', 1951), ('visitors', 1952), ('extended', 1953), ('Once', 1954), ('reality', 1955), ('expand', 1956), ('Christian', 1957), ('expansion', 1958), ('lived', 1959), ('Lake', 1960), ('Palestinian', 1961), ('downtown', 1962), ('doubt', 1963), ('nature', 1964), ('listed', 1965), ('leads', 1966), ('opinion', 1967), ('River', 1968), ('row', 1969), ('fellow', 1970), ('corner', 1971), ('author', 1972), ('Development', 1973), ('screen', 1974), ('shareholders', 1975), ('faced', 1976), ('Illinois', 1977), ('plants', 1978), ('arrest', 1979), ('society', 1980), ('character', 1981), ('labor', 1982), ('gains', 1983), ('science', 1984), ('teacher', 1985), ('web', 1986), ('restaurant', 1987), ('learning', 1988), ('recession', 1989), ('raising', 1990), ('failure', 1991), ('airport', 1992), ('intelligence', 1993), ('selected', 1994), ('zone', 1995), ('buildings', 1996), ('industrial', 1997), ('contracts', 1998), ('advance', 1999), ('fit', 2000), ('assists', 2001), ('tickets', 2002), ('youth', 2003), ('variety', 2004), ('matches', 2005), ('defensive', 2006), ('package', 2007), ('requirements', 2008), ('connection', 2009), ('writing', 2010), ('ongoing', 2011), ('Iowa', 2012), ('explained', 2013), ('accept', 2014), ('lawsuit', 2015), ('Wilson', 2016), ('profile', 2017), ('ending', 2018), ('expenses', 2019), ('employee', 2020), ('resident', 2021), ('myself', 2022), ('stuff', 2023), ('Supreme_Court', 2024), ('Toronto', 2025), ('standing', 2026), ('Corporation', 2027), ('covered', 2028), ('Young', 2029), ('politics', 2030), ('aware', 2031), ('Minister', 2032), ('device', 2033), ('display', 2034), ('culture', 2035), ('train', 2036), ('driven', 2037), ('closer', 2038), ('real_estate', 2039), ('illegal', 2040), ('meant', 2041), ('technologies', 2042), ('card', 2043), ('dog', 2044), ('in.', 2045), ('enter', 2046), ('communications', 2047), ('weapons', 2048), ('gained', 2049), ('supported', 2050), ('eye', 2051), ('NEW_YORK', 2052), ('associated', 2053), ('chances', 2054), ('Instead', 2055), ('centers', 2056), ('dangerous', 2057), ('views', 2058), ('worse', 2059), ('studies', 2060), ('discussion', 2061), ('Colorado', 2062), ('Atlanta', 2063), ('San_Francisco', 2064), ('attended', 2065), ('pace', 2066), ('Virginia', 2067), ('album', 2068), ('entertainment', 2069), ('camp', 2070), ('Before', 2071), ('trust', 2072), ('strategic', 2073), ('falling', 2074), ('favor', 2075), ('retired', 2076), ('removed', 2077), ('army', 2078), ('balance', 2079), ('plane', 2080), ('quarterback', 2081), ('Baghdad', 2082), ('banking', 2083), ('baby', 2084), ('truck', 2085), ('Ford', 2086), ('sought', 2087), ('write', 2088), ('partnership', 2089), ('nearby', 2090), ('image', 2091), ('stars', 2092), ('volume', 2093), ('effects', 2094), ('Cup', 2095), ('tests', 2096), ('South_Africa', 2097), ('Chairman', 2098), ('interests', 2099), ('occurred', 2100), ('Philadelphia', 2101), ('bond', 2102), ('introduced', 2103), ('sport', 2104), ('spokeswoman', 2105), ('behavior', 2106), ('defeat', 2107), ('treated', 2108), ('direction', 2109), ('Only', 2110), ('bigger', 2111), ('crew', 2112), ('allegedly', 2113), ('uses', 2114), ('Avenue', 2115), ('mortgage', 2116), ('miss', 2117), ('Among', 2118), ('catch', 2119), ('appearance', 2120), ('welcome', 2121), ('experienced', 2122), ('ideas', 2123), ('negotiations', 2124), ('Foundation', 2125), ('Asian', 2126), ('authority', 2127), ('slightly', 2128), ('urged', 2129), ('hole', 2130), ('reform', 2131), ('achieve', 2132), ('Education', 2133), ('Brian', 2134), ('assistance', 2135), ('delivered', 2136), ('compete', 2137), ('link', 2138), ('choose', 2139), ('possibility', 2140), ('ruled', 2141), ('interesting', 2142), ('seats', 2143), ('threw', 2144), ('drove', 2145), ('Anderson', 2146), ('B', 2147), ('immediate', 2148), ('investments', 2149), ('payments', 2150), ('northern', 2151), ('relations', 2152), ('license', 2153), ('discovered', 2154), ('prove', 2155), ('registered', 2156), ('perform', 2157), ('governments', 2158), ('debut', 2159), ('researchers', 2160), ('accounts', 2161), ('Well', 2162), ('limit', 2163), ('eyes', 2164), ('deaths', 2165), ('Here', 2166), ('neighborhood', 2167), ('handed', 2168), ('veteran', 2169), ('alternative', 2170), ('basic', 2171), ('manage', 2172), ('tools', 2173), ('negative', 2174), ('Each', 2175), ('secretary', 2176), ('kill', 2177), ('receiving', 2178), ('Jr.', 2179), ('collection', 2180), ('coaches', 2181), ('returns', 2182), ('Black', 2183), ('surgery', 2184), ('gun', 2185), ('replace', 2186), ('fan', 2187), ('institutions', 2188), ('personnel', 2189), ('golf', 2190), ('happens', 2191), ('surprise', 2192), ('changing', 2193), ('kick', 2194), ('ceremony', 2195), ('west', 2196), ('resolution', 2197), ('broken', 2198), ('plenty', 2199), ('nor', 2200), ('easier', 2201), ('passing', 2202), ('pain', 2203), ('Kevin', 2204), ('bar', 2205), ('Bob', 2206), ('Federal', 2207), ('everybody', 2208), ('talent', 2209), ('represent', 2210), ('Former', 2211), ('unless', 2212), ('pull', 2213), ('cast', 2214), ('deals', 2215), ('grade', 2216), ('song', 2217), ('filled', 2218), ('wish', 2219), ('begins', 2220), ('affect', 2221), ('nations', 2222), ('fee', 2223), ('Post', 2224), ('largely', 2225), ('New_Jersey', 2226), ('apparently', 2227), ('email', 2228), ('NBA', 2229), ('Management', 2230), ('portfolio', 2231), ('recognized', 2232), ('speaking', 2233), ('shut', 2234), ('sit', 2235), ('profits', 2236), ('reporting', 2237), ('holds', 2238), ('represents', 2239), ('dozen', 2240), ('practices', 2241), ('declared', 2242), ('rich', 2243), ('thanks', 2244), ('#####', 2245), ('supplies', 2246), ('convicted', 2247), ('native', 2248), ('Dallas', 2249), ('improvement', 2250), ('amid', 2251), ('classes', 2252), ('participate', 2253), ('accepted', 2254), ('jump', 2255), ('village', 2256), ('aircraft', 2257), ('poll', 2258), ('abuse', 2259), ('carrying', 2260), ('east', 2261), ('pro', 2262), ('client', 2263), ('equity', 2264), ('sitting', 2265), ('generally', 2266), ('notes', 2267), ('unable', 2268), ('ice', 2269), ('houses', 2270), ('stake', 2271), ('Carolina', 2272), ('rain', 2273), ('savings', 2274), ('warning', 2275), ('brings', 2276), ('USA', 2277), ('discussed', 2278), ('Fed', 2279), ('adults', 2280), ('GM', 2281), ('file', 2282), ('Spain', 2283), ('responded', 2284), ('parking', 2285), ('Let', 2286), ('returning', 2287), ('Sun', 2288), ('orders', 2289), ('telling', 2290), ('encourage', 2291), ('Like', 2292), ('identify', 2293), ('William', 2294), ('pushed', 2295), ('joint', 2296), ('conduct', 2297), ('suspended', 2298), ('wind', 2299), ('Tigers', 2300), ('edge', 2301), ('roads', 2302), ('female', 2303), ('sentence', 2304), ('Wall_Street', 2305), ('Oklahoma', 2306), ('backed', 2307), ('promote', 2308), ('eighth', 2309), ('influence', 2310), ('organized', 2311), ('Seattle', 2312), ('cold', 2313), ('bills', 2314), ('payment', 2315), ('properties', 2316), ('scale', 2317), ('Your', 2318), ('rival', 2319), ('religious', 2320), ('retirement', 2321), ('possibly', 2322), ('turning', 2323), ('civil', 2324), ('moves', 2325), ('currency', 2326), ('Team', 2327), ('aimed', 2328), ('Italy', 2329), ('breaking', 2330), ('alcohol', 2331), ('awards', 2332), ('talked', 2333), ('grant', 2334), ('wall', 2335), ('allegations', 2336), ('requires', 2337), ('Indiana', 2338), ('mayor', 2339), ('races', 2340), ('struggling', 2341), ('whatever', 2342), ('readers', 2343), ('appointed', 2344), ('Matt', 2345), ('voting', 2346), ('Will', 2347), ('Home', 2348), ('significantly', 2349), ('heat', 2350), ('Information', 2351), ('structure', 2352), ('transfer', 2353), ('supporting', 2354), ('trend', 2355), ('increasingly', 2356), ('networks', 2357), ('otherwise', 2358), ('conflict', 2359), ('cutting', 2360), ('modern', 2361), ('wearing', 2362), ('executives', 2363), ('entry', 2364), ('Beijing', 2365), ('playoff', 2366), ('wireless', 2367), ('T', 2368), ('Fire', 2369), ('Every', 2370), ('M', 2371), ('Centre', 2372), ('meaning', 2373), ('leg', 2374), ('intended', 2375), ('appropriate', 2376), ('excellent', 2377), ('North_Carolina', 2378), ('involving', 2379), ('stood', 2380), ('heads', 2381), ('rescue', 2382), ('walking', 2383), ('locations', 2384), ('materials', 2385), ('sending', 2386), ('bodies', 2387), ('snow', 2388), ('fish', 2389), ('feels', 2390), ('Mayor', 2391), ('deputy', 2392), ('mile', 2393), ('Olympic', 2394), ('passengers', 2395), ('except', 2396), ('Fox', 2397), ('Senior', 2398), ('storage', 2399), ('shop', 2400), ('Lewis', 2401), ('Middle_East', 2402), ('supposed', 2403), ('numerous', 2404), ('songs', 2405), ('awarded', 2406), ('traded', 2407), ('sister', 2408), ('possession', 2409), ('realize', 2410), ('understanding', 2411), ('ten', 2412), ('justice', 2413), ('rating', 2414), ('expensive', 2415), ('jumped', 2416), ('improving', 2417), ('fraud', 2418), ('animals', 2419), ('Howard', 2420), ('Technology', 2421), ('dedicated', 2422), ('tight', 2423), ('lawyers', 2424), ('sets', 2425), ('linked', 2426), ('providers', 2427), ('investigators', 2428), ('stands', 2429), ('terrorism', 2430), ('arm', 2431), ('freedom', 2432), ('notice', 2433), ('sentenced', 2434), ('coalition', 2435), ('touch', 2436), ('Women', 2437), ('exercise', 2438), ('Global', 2439), ('settlement', 2440), ('disaster', 2441), ('assist', 2442), ('electronic', 2443), ('playoffs', 2444), ('combination', 2445), ('apply', 2446), ('shared', 2447), ('doctor', 2448), ('US', 2449), ('comprehensive', 2450), ('Andrew', 2451), ('earn', 2452), ('fill', 2453), ('rock', 2454), ('Fund', 2455), ('giant', 2456), ('please', 2457), ('suit', 2458), ('Life', 2459), ('owns', 2460), ('electricity', 2461), ('exciting', 2462), ('winners', 2463), ('beating', 2464), ('protest', 2465), ('Though', 2466), ('rejected', 2467), ('ticket', 2468), ('Church', 2469), ('Charles', 2470), ('farmers', 2471), ('ride', 2472), ('maker', 2473), ('heading', 2474), ('Yet', 2475), ('regulations', 2476), ('Kelly', 2477), ('models', 2478), ('ends', 2479), ('Sports', 2480), ('innovative', 2481), ('Earlier', 2482), ('upcoming', 2483), ('writer', 2484), ('performed', 2485), ('films', 2486), ('arms', 2487), ('married', 2488), ('prosecutors', 2489), ('agents', 2490), ('##s', 2491), ('handle', 2492), ('Market', 2493), ('duty', 2494), ('captain', 2495), ('securities', 2496), ('employment', 2497), ('surprised', 2498), ('Securities', 2499), ('worried', 2500), ('ninth', 2501), ('Muslim', 2502), ('Sen.', 2503), ('pointed', 2504), ('magazine', 2505), ('threatened', 2506), ('headquarters', 2507), ('Italian', 2508), ('participants', 2509), ('visiting', 2510), ('Oregon', 2511), ('press_release', 2512), ('fly', 2513), ('Wisconsin', 2514), ('Jordan', 2515), ('primarily', 2516), ('respectively', 2517), ('Spanish', 2518), ('New_Orleans', 2519), ('transportation', 2520), ('younger', 2521), ('Media', 2522), ('jury', 2523), ('respond', 2524), ('rural', 2525), ('Ministry', 2526), ('acting', 2527), ('Party', 2528), ('factor', 2529), ('update', 2530), ('island', 2531), ('Afghan', 2532), ('flat', 2533), ('remove', 2534), ('photo', 2535), ('Mary', 2536), ('selection', 2537), ('scheme', 2538), ('Facebook', 2539), ('impressive', 2540), ('becomes', 2541), ('P', 2542), ('indicated', 2543), ('Yankees', 2544), ('Jeff', 2545), ('Financial', 2546), ('photos', 2547), ('professionals', 2548), ('fewer', 2549), ('shopping', 2550), ('split', 2551), ('San_Diego', 2552), ('Public', 2553), ('initiative', 2554), ('Moore', 2555), ('stretch', 2556), ('monthly', 2557), ('stronger', 2558), ('bench', 2559), ('racing', 2560), ('Tennessee', 2561), ('none', 2562), ('values', 2563), ('farm', 2564), ('producer', 2565), ('reduction', 2566), ('famous', 2567), ('Pennsylvania', 2568), ('Brazil', 2569), ('broadcast', 2570), ('promised', 2571), ('operate', 2572), ('Allen', 2573), ('acquired', 2574), ('goods', 2575), ('Paris', 2576), ('relatively', 2577), ('passes', 2578), ('purpose', 2579), ('movies', 2580), ('directors', 2581), ('Southern', 2582), ('SEC', 2583), ('clubs', 2584), ('conservative', 2585), ('Delhi', 2586), ('Call', 2587), ('comfortable', 2588), ('replaced', 2589), ('Clark', 2590), ('matters', 2591), ('hospitals', 2592), ('Top', 2593), ('Hollywood', 2594), ('Democrat', 2595), ('opponents', 2596), ('targets', 2597), ('suffering', 2598), ('festival', 2599), ('Network', 2600), ('compensation', 2601), ('guilty', 2602), ('efficient', 2603), ('managers', 2604), ('truly', 2605), ('faith', 2606), ('scores', 2607), ('busy', 2608), ('extend', 2609), ('faster', 2610), ('yourself', 2611), ('weak', 2612), ('rare', 2613), ('initially', 2614), ('importance', 2615), ('waste', 2616), ('suspected', 2617), ('margin', 2618), ('watched', 2619), ('meters', 2620), ('Ireland', 2621), ('franchise', 2622), ('fashion', 2623), ('pound', 2624), ('professor', 2625), ('Alabama', 2626), ('multi', 2627), ('grown', 2628), ('Officials', 2629), ('estimate', 2630), ('document', 2631), ('register', 2632), ('cable', 2633), ('obviously', 2634), ('familiar', 2635), ('scientists', 2636), ('Cleveland', 2637), ('artists', 2638), ('invited', 2639), ('#,###,###', 2640), ('vs.', 2641), ('crimes', 2642), ('Gulf', 2643), ('Hamas', 2644), ('prepare', 2645), ('volunteers', 2646), ('cool', 2647), ('financing', 2648), ('images', 2649), ('fixed', 2650), ('hired', 2651), ('enable', 2652), ('camera', 2653), ('Food', 2654), ('memory', 2655), ('historic', 2656), ('dinner', 2657), ('proved', 2658), ('Arab', 2659), ('sees', 2660), ('telephone', 2661), ('vision', 2662), ('reportedly', 2663), ('soccer', 2664), ('.###', 2665), ('Irish', 2666), ('ship', 2667), ('path', 2668), ('actor', 2669), ('circumstances', 2670), ('severe', 2671), ('expert', 2672), ('traveling', 2673), ('engineering', 2674), ('Manchester', 2675), ('Four', 2676), ('dance', 2677), ('Taliban', 2678), ('Jason', 2679), ('Turkey', 2680), ('Several', 2681), ('overseas', 2682), ('Thompson', 2683), ('bridge', 2684), ('lowest', 2685), ('auto', 2686), ('counts', 2687), ('attempts', 2688), ('reflect', 2689), ('color', 2690), ('Tim', 2691), ('wounded', 2692), ('secret', 2693), ('visited', 2694), ('greatest', 2695), ('leaves', 2696), ('types', 2697), ('representatives', 2698), ('worry', 2699), ('internal', 2700), ('Bay', 2701), ('adds', 2702), ('athletes', 2703), ('Harris', 2704), ('mix', 2705), ('industries', 2706), ('ministry', 2707), ('signing', 2708), ('Woods', 2709), ('targeted', 2710), ('tells', 2711), ('Please', 2712), ('serves', 2713), ('interest_rates', 2714), ('AP_Photo', 2715), ('Local', 2716), ('graduate', 2717), ('quoted', 2718), ('argued', 2719), ('association', 2720), ('lots', 2721), ('announce', 2722), ('shortly', 2723), ('featured', 2724), ('marriage', 2725), ('contained', 2726), ('Man', 2727), ('priority', 2728), ('terrorist', 2729), ('Commerce', 2730), ('Oil', 2731), ('Pittsburgh', 2732), ('unlikely', 2733), ('causing', 2734), ('directed', 2735), ('code', 2736), ('die', 2737), ('category', 2738), ('chosen', 2739), ('shift', 2740), ('Rangers', 2741), ('Gaza', 2742), ('maintenance', 2743), ('apartment', 2744), ('theater', 2745), ('effectively', 2746), ('Denver', 2747), ('mine', 2748), ('upset', 2749), ('western', 2750), ('nationwide', 2751), ('GOP', 2752), ('thinks', 2753), ('Pacific', 2754), ('euro', 2755), ('Joseph', 2756), ('Sales', 2757), ('closely', 2758), ('friendly', 2759), ('channel', 2760), ('brain', 2761), ('custody', 2762), ('barrel', 2763), ('afford', 2764), ('Who', 2765), ('Yes', 2766), ('dogs', 2767), ('residential', 2768), ('dream', 2769), ('actual', 2770), ('reaching', 2771), ('transaction', 2772), ('Kentucky', 2773), ('finals', 2774), ('#.###', 2775), ('cooperation', 2776), ('boat', 2777), ('investigating', 2778), ('communication', 2779), ('freshman', 2780), ('outlook', 2781), ('deadline', 2782), ('surface', 2783), ('parent', 2784), ('phase', 2785), ('eat', 2786), ('asset', 2787), ('truth', 2788), ('delay', 2789), ('enjoyed', 2790), ('shape', 2791), ('anticipated', 2792), ('representing', 2793), ('purchased', 2794), ('hoped', 2795), ('Judge', 2796), ('Rep.', 2797), ('portion', 2798), ('opposed', 2799), ('Security', 2800), ('enterprise', 2801), ('animal', 2802), ('controlled', 2803), ('politicians', 2804), ('Power', 2805), ('North_Korea', 2806), ('Dan', 2807), ('cards', 2808), ('suggest', 2809), ('Family', 2810), ('concert', 2811), ('uncertainties', 2812), ('Free', 2813), ('granted', 2814), ('beautiful', 2815), ('recognize', 2816), ('joining', 2817), ('####-####', 2818), ('flights', 2819), ('absolutely', 2820), ('Hamilton', 2821), ('dealing', 2822), ('cap', 2823), ('turns', 2824), ('Capital', 2825), ('ties', 2826), ('informed', 2827), ('Jack', 2828), ('#,###.##', 2829), ('window', 2830), (\"'##\", 2831), ('Best', 2832), ('pool', 2833), ('Hong_Kong', 2834), ('coaching', 2835), ('titles', 2836), ('blue', 2837), ('amazing', 2838), ('fears', 2839), ('demands', 2840), ('Missouri', 2841), ('cited', 2842), ('behalf', 2843), ('Edwards', 2844), ('bonds', 2845), ('shoulder', 2846), ('seriously', 2847), ('districts', 2848), ('aggressive', 2849), ('alive', 2850), ('Utah', 2851), ('bomb', 2852), ('suspects', 2853), ('dark', 2854), ('sea', 2855), ('therefore', 2856), ('overtime', 2857), ('submitted', 2858), ('agenda', 2859), ('establish', 2860), ('Kansas', 2861), ('engine', 2862), ('Program', 2863), ('mainly', 2864), ('NCAA', 2865), ('maximum', 2866), ('male', 2867), ('pushing', 2868), ('airline', 2869), ('principal', 2870), ('library', 2871), ('pieces', 2872), ('dispute', 2873), ('corruption', 2874), ('reserve', 2875), ('Children', 2876), ('sponsored', 2877), ('militants', 2878), ('reducing', 2879), ('Massachusetts', 2880), ('originally', 2881), ('Championship', 2882), ('sharing', 2883), ('mixed', 2884), ('complaint', 2885), ('J.', 2886), ('realized', 2887), ('crucial', 2888), ('province', 2889), ('ultimately', 2890), ('brands', 2891), ('capabilities', 2892), ('acknowledged', 2893), ('distance', 2894), ('struggle', 2895), ('Or', 2896), ('stations', 2897), ('discussions', 2898), ('judges', 2899), ('Maybe', 2900), ('extensive', 2901), ('Award', 2902), ('Giants', 2903), ('manufacturers', 2904), ('Jewish', 2905), ('Egypt', 2906), ('United_Nations', 2907), ('achieved', 2908), ('defeated', 2909), ('assault', 2910), ('worker', 2911), ('criticism', 2912), ('usual', 2913), ('Patrick', 2914), ('presentation', 2915), ('improvements', 2916), ('Of_course', 2917), ('Anthony', 2918), ('represented', 2919), ('Such', 2920), ('Shares', 2921), ('Any', 2922), ('findings', 2923), ('counties', 2924), ('stolen', 2925), ('K', 2926), ('expense', 2927), ('Daniel', 2928), ('Dr', 2929), ('editor', 2930), ('herself', 2931), ('Drive', 2932), ('complaints', 2933), ('buyers', 2934), ('A.', 2935), ('mentioned', 2936), ('stayed', 2937), ('efficiency', 2938), ('democracy', 2939), ('knee', 2940), ('connected', 2941), ('Islamic', 2942), ('Q', 2943), ('terror', 2944), ('operates', 2945), ('law_enforcement', 2946), ('prime_minister', 2947), ('Series', 2948), ('neighbors', 2949), ('successfully', 2950), ('permanent', 2951), ('Tony', 2952), ('parliament', 2953), ('adult', 2954), ('ages', 2955), ('Eagles', 2956), ('consistent', 2957), ('proposals', 2958), ('explain', 2959), ('formed', 2960), ('weekly', 2961), ('supports', 2962), ('coast', 2963), ('broad', 2964), ('iPhone', 2965), ('relevant', 2966), ('opener', 2967), ('detailed', 2968), ('Walker', 2969), ('human_rights', 2970), ('Iranian', 2971), ('letters', 2972), ('guess', 2973), ('internet', 2974), ('struggled', 2975), ('entering', 2976), ('widely', 2977), ('recovered', 2978), ('Law', 2979), ('happening', 2980), ('par', 2981), ('protests', 2982), ('II', 2983), ('colleagues', 2984), ('tool', 2985), ('trees', 2986), ('text', 2987), ('capable', 2988), ('Phoenix', 2989), ('monitoring', 2990), ('limits', 2991), ('eligible', 2992), ('#', 2993), ('passenger', 2994), ('expanded', 2995), ('Ms.', 2996), ('reputation', 2997), ('brief', 2998), ('motion', 2999), ('St._Louis', 3000), ('treat', 3001), ('fought', 3002), ('concluded', 3003), ('gap', 3004), ('unemployment', 3005), ('restaurants', 3006), ('ad', 3007), ('surrounding', 3008), ('stepped', 3009), ('drew', 3010), ('collected', 3011), ('Gold', 3012), ('#.####', 3013), ('retailers', 3014), ('preparing', 3015), ('wear', 3016), ('destroyed', 3017), ('threats', 3018), ('Chelsea', 3019), ('Singapore', 3020), ('invest', 3021), ('Town', 3022), ('concept', 3023), ('recommended', 3024), ('flying', 3025), ('Kerry', 3026), ('minimum', 3027), ('flow', 3028), ('resulted', 3029), ('marked', 3030), ('chain', 3031), ('combat', 3032), ('rookie', 3033), ('Stephen', 3034), ('noon', 3035), ('performances', 3036), ('Gary', 3037), ('founded', 3038), ('artist', 3039), ('reporter', 3040), ('celebrate', 3041), ('featuring', 3042), ('Air', 3043), ('Star', 3044), ('gathered', 3045), ('potentially', 3046), ('PC', 3047), ('publicly', 3048), ('Kennedy', 3049), ('disappointed', 3050), ('Agency', 3051), ('pictures', 3052), ('touchdowns', 3053), ('fallen', 3054), ('President_Barack_Obama', 3055), ('depth', 3056), ('auction', 3057), ('wonderful', 3058), ('criticized', 3059), ('attacked', 3060), ('essential', 3061), ('damaged', 3062), ('qualified', 3063), ('banned', 3064), ('suggests', 3065), ('specifically', 3066), ('sat', 3067), ('Scotland', 3068), ('Project', 3069), ('loved', 3070), ('dozens', 3071), ('representative', 3072), ('Authorities', 3073), ('typically', 3074), ('era', 3075), ('Stewart', 3076), ('singer', 3077), ('thus', 3078), ('creation', 3079), ('teaching', 3080), ('Sydney', 3081), ('NHL', 3082), ('acres', 3083), ('challenging', 3084), ('encouraged', 3085), ('Las_Vegas', 3086), ('Northern', 3087), ('seniors', 3088), ('quarters', 3089), ('momentum', 3090), ('Dave', 3091), ('producing', 3092), ('processing', 3093), ('inches', 3094), ('segment', 3095), ('versus', 3096), ('mining', 3097), ('route', 3098), ('expertise', 3099), ('Five', 3100), ('wing', 3101), ('touchdown', 3102), ('promise', 3103), ('Wright', 3104), ('healthcare', 3105), ('Are', 3106), ('yen', 3107), ('integrated', 3108), ('neither', 3109), ('Robinson', 3110), ('Academy', 3111), ('puts', 3112), ('Press', 3113), ('foundation', 3114), ('overnight', 3115), ('armed', 3116), ('ex', 3117), ('outcome', 3118), ('reaction', 3119), ('producers', 3120), ('follows', 3121), ('fields', 3122), ('stadium', 3123), ('Be', 3124), ('failing', 3125), ('aside', 3126), ('bed', 3127), ('doors', 3128), ('pilot', 3129), ('E', 3130), ('operators', 3131), ('forms', 3132), ('extension', 3133), ('mass', 3134), ('substantial', 3135), ('obtained', 3136), ('adopted', 3137), ('reserves', 3138), ('FBI', 3139), ('carries', 3140), ('NATO', 3141), ('trained', 3142), ('Dubai', 3143), ('contain', 3144), ('tackle', 3145), ('temporary', 3146), ('proven', 3147), ('regulatory', 3148), ('violent', 3149), ('danger', 3150), ('tree', 3151), ('boss', 3152), ('Frank', 3153), ('Maryland', 3154), ('apart', 3155), ('gift', 3156), ('musical', 3157), ('warm', 3158), ('creative', 3159), ('Prime_Minister', 3160), ('transport', 3161), ('developers', 3162), ('OK', 3163), ('likes', 3164), ('Henry', 3165), ('Ben', 3166), ('courts', 3167), ('wake', 3168), ('shoot', 3169), ('lineup', 3170), ('Report', 3171), ('regulation', 3172), ('kid', 3173), ('task', 3174), ('blog', 3175), ('hosted', 3176), ('Medical', 3177), ('eastern', 3178), ('South_Korea', 3179), ('drawn', 3180), ('Ave', 3181), ('regime', 3182), ('pending', 3183), ('ourselves', 3184), ('threatening', 3185), ('mistake', 3186), ('Through', 3187), ('laid', 3188), ('journalists', 3189), ('cultural', 3190), ('blame', 3191), ('copy', 3192), ('machine', 3193), ('mail', 3194), ('®', 3195), ('proper', 3196), ('listen', 3197), ('links', 3198), ('Officer', 3199), ('Columbia', 3200), ('relationships', 3201), ('natural_gas', 3202), ('premium', 3203), ('0', 3204), ('assessment', 3205), ('generated', 3206), ('chose', 3207), ('Campbell', 3208), ('Second', 3209), ('captured', 3210), ('Can', 3211), ('summit', 3212), ('climate', 3213), ('sophomore', 3214), ('Connecticut', 3215), ('keeps', 3216), ('teammates', 3217), ('dismissed', 3218), ('Time', 3219), ('generate', 3220), ('hockey', 3221), ('Vice_President', 3222), ('vital', 3223), ('E.', 3224), ('territory', 3225), ('Eastern', 3226), ('elsewhere', 3227), ('hair', 3228), ('resulting', 3229), ('Mississippi', 3230), ('veterans', 3231), ('recognition', 3232), ('BP', 3233), ('accounting', 3234), ('polls', 3235), ('holes', 3236), ('initiatives', 3237), ('amounts', 3238), ('Treasury', 3239), ('finishing', 3240), ('See', 3241), ('length', 3242), ('birth', 3243), ('rivals', 3244), ('gay', 3245), ('roughly', 3246), ('performing', 3247), ('futures', 3248), ('Royal', 3249), ('exports', 3250), ('tested', 3251), ('seed', 3252), ('blow', 3253), ('historical', 3254), ('starter', 3255), ('+', 3256), ('guests', 3257), ('river', 3258), ('minor', 3259), ('pop', 3260), ('predicted', 3261), ('roll', 3262), ('acts', 3263), ('recalled', 3264), ('anybody', 3265), ('strategies', 3266), ('sharp', 3267), ('horse', 3268), ('Games', 3269), ('prize', 3270), ('valuable', 3271), ('witness', 3272), ('Regional', 3273), ('drinking', 3274), ('contribute', 3275), ('Arkansas', 3276), ('computers', 3277), ('Louisiana', 3278), ('guidelines', 3279), ('funded', 3280), ('delayed', 3281), ('handling', 3282), ('Austin', 3283), ('Defense', 3284), ('exclusive', 3285), ('repeatedly', 3286), ('academic', 3287), ('Lebanon', 3288), ('resource', 3289), ('output', 3290), ('Mitchell', 3291), ('contributions', 3292), ('background', 3293), ('runner', 3294), ('prospects', 3295), ('filing', 3296), ('questioned', 3297), ('applied', 3298), ('Test', 3299), ('Manager', 3300), ('ratings', 3301), ('thank', 3302), ('Eric', 3303), ('Right', 3304), ('characters', 3305), ('wine', 3306), ('saving', 3307), ('lift', 3308), ('civilians', 3309), ('Bloomberg', 3310), ('identity', 3311), ('ownership', 3312), ('obvious', 3313), ('throwing', 3314), ('settle', 3315), ('tracks', 3316), ('smart', 3317), ('Stadium', 3318), ('developments', 3319), ('lunch', 3320), ('Twitter', 3321), ('Liverpool', 3322), ('bail', 3323), ('forget', 3324), ('transition', 3325), ('equal', 3326), ('founder', 3327), ('involvement', 3328), ('gotten', 3329), ('protesters', 3330), ('Class', 3331), ('ABC', 3332), ('euros', 3333), ('S.', 3334), ('homer', 3335), ('Music', 3336), ('opponent', 3337), ('Little', 3338), ('competing', 3339), ('submit', 3340), ('projected', 3341), ('cell', 3342), ('monitor', 3343), ('century', 3344), ('sessions', 3345), ('Parliament', 3346), ('meets', 3347), ('begun', 3348), ('Navy', 3349), ('metal', 3350), ('critics', 3351), ('forum', 3352), ('honored', 3353), ('ballot', 3354), ('affairs', 3355), ('desire', 3356), ('RBI', 3357), ('click', 3358), ('expanding', 3359), ('topic', 3360), ('Following', 3361), ('recommendations', 3362), ('sectors', 3363), ('Red', 3364), ('causes', 3365), ('Ontario', 3366), ('ease', 3367), ('marks', 3368), ('consumption', 3369), ('appointment', 3370), ('officially', 3371), ('argument', 3372), ('newly', 3373), ('Palestinians', 3374), ('wonder', 3375), ('`', 3376), ('spirit', 3377), ('Atlantic', 3378), ('ring', 3379), ('employers', 3380), ('strongly', 3381), ('registration', 3382), ('gasoline', 3383), ('Coach', 3384), ('Total', 3385), ('salary', 3386), ('blocks', 3387), ('classic', 3388), ('Week', 3389), ('educational', 3390), ('feed', 3391), ('managing', 3392), ('cells', 3393), ('stick', 3394), ('exploration', 3395), ('installed', 3396), ('Gordon', 3397), ('blamed', 3398), ('insisted', 3399), ('conversation', 3400), ('trends', 3401), ('elements', 3402), ('guidance', 3403), ('Baltimore', 3404), ('charity', 3405), ('emerged', 3406), ('blocked', 3407), ('replacement', 3408), ('covering', 3409), ('powers', 3410), ('tourism', 3411), ('enhance', 3412), ('operator', 3413), ('Roberts', 3414), ('saved', 3415), ('plate', 3416), ('engaged', 3417), ('expecting', 3418), ('ranks', 3419), ('donations', 3420), ('mention', 3421), ('immigration', 3422), ('pension', 3423), ('emerging', 3424), ('moments', 3425), ('testimony', 3426), ('witnesses', 3427), ('impossible', 3428), ('LLC', 3429), ('tries', 3430), ('rounds', 3431), ('exposure', 3432), ('Trust', 3433), ('celebration', 3434), ('instance', 3435), ('controversial', 3436), ('Alex', 3437), ('harder', 3438), ('stress', 3439), ('settled', 3440), ('remarks', 3441), ('articles', 3442), ('false', 3443), ('Get', 3444), ('dominated', 3445), ('Labor', 3446), ('Pakistani', 3447), ('Island', 3448), ('Murray', 3449), ('dramatic', 3450), ('collapse', 3451), ('attempted', 3452), ('drama', 3453), ('boards', 3454), ('museum', 3455), ('attract', 3456), ('remote', 3457), ('experiences', 3458), ('Show', 3459), ('chair', 3460), ('Toyota', 3461), ('anywhere', 3462), ('messages', 3463), ('developer', 3464), ('Vancouver', 3465), ('ads', 3466), ('opens', 3467), ('Journal', 3468), ('confirm', 3469), ('requested', 3470), ('error', 3471), ('Museum', 3472), ('print', 3473), ('pitcher', 3474), ('contains', 3475), ('Nelson', 3476), ('decrease', 3477), ('attending', 3478), ('System', 3479), ('integration', 3480), ('thrown', 3481), ('unusual', 3482), ('stability', 3483), ('Earth', 3484), ('makers', 3485), ('merger', 3486), ('steel', 3487), ('yield', 3488), ('knocked', 3489), ('square', 3490), ('glass', 3491), ('Lions', 3492), ('Taiwan', 3493), ('inspired', 3494), ('flag', 3495), ('Mumbai', 3496), ('volunteer', 3497), ('fishing', 3498), ('activists', 3499), ('Tokyo', 3500), ('firefighters', 3501), ('alongside', 3502), ('aim', 3503), ('guarantee', 3504), ('clinical', 3505), ('Good', 3506), ('claiming', 3507), ('staying', 3508), ('Duke', 3509), ('tremendous', 3510), ('contribution', 3511), ('terrorists', 3512), ('wave', 3513), ('electric', 3514), ('restrictions', 3515), ('recall', 3516), ('implementation', 3517), ('knowing', 3518), ('skin', 3519), ('utility', 3520), ('CBS', 3521), ('processes', 3522), ('Highway', 3523), ('halftime', 3524), ('fix', 3525), ('quarterly', 3526), ('emotional', 3527), ('maintained', 3528), ('counter', 3529), ('annually', 3530), ('repair', 3531), ('Craig', 3532), ('Lady', 3533), ('S_&', 3534), ('obtain', 3535), ('European_Union', 3536), ('Indians', 3537), ('abroad', 3538), ('Mexican', 3539), ('stable', 3540), ('PM', 3541), ('regions', 3542), ('tradition', 3543), ('totally', 3544), ('opinions', 3545), ('hosts', 3546), ('citing', 3547), ('Long', 3548), ('pitched', 3549), ('Larry', 3550), ('necessarily', 3551), ('beaten', 3552), ('Adam', 3553), ('reasonable', 3554), ('drink', 3555), ('poverty', 3556), ('properly', 3557), ('somebody', 3558), ('canceled', 3559), ('sounds', 3560), ('sick', 3561), ('saves', 3562), ('Deputy', 3563), ('Society', 3564), ('Nick', 3565), ('Carter', 3566), ('lucky', 3567), ('folks', 3568), ('Nigeria', 3569), ('Nevada', 3570), ('defend', 3571), ('Bell', 3572), ('lights', 3573), ('minority', 3574), ('posting', 3575), ('drilling', 3576), ('differences', 3577), ('Love', 3578), ('regularly', 3579), ('roster', 3580), ('bankruptcy', 3581), ('S', 3582), ('participation', 3583), ('Super_Bowl', 3584), ('interim', 3585), ('controls', 3586), ('competitors', 3587), ('stuck', 3588), ('delivering', 3589), ('viewers', 3590), ('Catholic', 3591), ('W.', 3592), ('agreements', 3593), ('subscribers', 3594), ('Sometimes', 3595), ('smoke', 3596), ('War', 3597), ('compliance', 3598), ('manner', 3599), ('trucks', 3600), ('Back', 3601), ('Wales', 3602), ('yes', 3603), ('Junior', 3604), ('M.', 3605), ('mistakes', 3606), ('Gov.', 3607), ('Baker', 3608), ('formal', 3609), ('investor', 3610), ('Vietnam', 3611), ('Oakland', 3612), ('speculation', 3613), ('Sam', 3614), ('qualifying', 3615), ('attorneys', 3616), ('Next', 3617), ('finds', 3618), ('quiet', 3619), ('cleared', 3620), ('Everyone', 3621), ('bag', 3622), ('explosion', 3623), ('taxpayers', 3624), ('guide', 3625), ('occur', 3626), ('encouraging', 3627), ('Net', 3628), ('highway', 3629), ('sleep', 3630), ('recover', 3631), ('interviews', 3632), ('Rock', 3633), ('Lincoln', 3634), ('satellite', 3635), ('entirely', 3636), ('dry', 3637), ('papers', 3638), ('Where', 3639), ('soldier', 3640), ('covers', 3641), ('exhibition', 3642), ('Science', 3643), ('blast', 3644), ('capture', 3645), ('FDA', 3646), ('function', 3647), ('availability', 3648), ('Commissioner', 3649), ('lending', 3650), ('peak', 3651), ('wild', 3652), ('facts', 3653), ('procedures', 3654), ('lap', 3655), ('awareness', 3656), ('Up', 3657), ('pursue', 3658), ('edition', 3659), ('studio', 3660), ('correct', 3661), ('inch', 3662), ('Great', 3663), ('Systems', 3664), ('switch', 3665), ('participating', 3666), ('tend', 3667), ('champions', 3668), ('Kim', 3669), ('Blue', 3670), ('lay', 3671), ('Trade', 3672), ('purposes', 3673), ('departments', 3674), ('THE', 3675), ('ranking', 3676), ('addressed', 3677), ('Olympics', 3678), ('perspective', 3679), ('Marshall', 3680), ('Ltd.', 3681), ('Moscow', 3682), ('components', 3683), ('Having', 3684), ('seized', 3685), ('clothing', 3686), ('Kansas_City', 3687), ('drawing', 3688), ('resistance', 3689), ('choices', 3690), ('recording', 3691), ('demanding', 3692), ('urban', 3693), ('pages', 3694), ('Windows', 3695), ('doubled', 3696), ('suspension', 3697), ('manufacturer', 3698), ('innovation', 3699), ('climbed', 3700), ('Mobile', 3701), ('Russell', 3702), ('Adams', 3703), ('Industry', 3704), ('Cardinals', 3705), ('port', 3706), ('Panthers', 3707), ('runners', 3708), ('G', 3709), ('brothers', 3710), ('visits', 3711), ('implement', 3712), ('All_Star', 3713), ('relatives', 3714), ('al_Qaida', 3715), ('atmosphere', 3716), ('defined', 3717), ('absence', 3718), ('steady', 3719), ('branch', 3720), ('pitching', 3721), ('NBC', 3722), ('normally', 3723), ('gathering', 3724), ('signal', 3725), ('administrative', 3726), ('empty', 3727), ('obligation', 3728), ('Legislature', 3729), ('commander', 3730), ('prompted', 3731), ('falls', 3732), ('taught', 3733), ('promotion', 3734), ('Muslims', 3735), ('incidents', 3736), ('operational', 3737), ('Water', 3738), ('pricing', 3739), ('silver', 3740), ('subsidiary', 3741), ('qualify', 3742), ('Art', 3743), ('escape', 3744), ('wealth', 3745), ('singles', 3746), ('roof', 3747), ('extent', 3748), ('privacy', 3749), ('Students', 3750), ('spots', 3751), ('tennis', 3752), ('grants', 3753), ('transactions', 3754), ('Speaking', 3755), ('scientific', 3756), ('export', 3757), ('Ray', 3758), ('referring', 3759), ('preliminary', 3760), ('rooms', 3761), ('sanctions', 3762), ('degrees', 3763), ('eating', 3764), ('legislative', 3765), ('Morgan', 3766), ('resume', 3767), ('involve', 3768), ('resolve', 3769), ('operated', 3770), ('sexual', 3771), ('prospect', 3772), ('typical', 3773), ('Bears', 3774), ('membership', 3775), ('Murphy', 3776), ('hiring', 3777), ('Rice', 3778), ('consideration', 3779), ('AT_&', 3780), ('civilian', 3781), ('fairly', 3782), ('climate_change', 3783), ('investigate', 3784), ('violations', 3785), ('pipeline', 3786), ('seeks', 3787), ('crore', 3788), ('hire', 3789), ('Investors', 3790), ('Online', 3791), ('Alaska', 3792), ('###th', 3793), ('theme', 3794), ('stressed', 3795), ('Exchange_Commission', 3796), ('resort', 3797), ('Tour', 3798), ('walks', 3799), ('roles', 3800), ('rebound', 3801), ('reference', 3802), ('Analysts', 3803), ('specialist', 3804), ('timing', 3805), ('Bureau', 3806), ('imagine', 3807), ('rapidly', 3808), ('angry', 3809), ('riding', 3810), ('violation', 3811), ('attitude', 3812), ('guest', 3813), ('select', 3814), ('tech', 3815), ('Cameron', 3816), ('barrels', 3817), ('sensitive', 3818), ('hosting', 3819), ('demanded', 3820), ('Graham', 3821), ('marijuana', 3822), ('intent', 3823), ('BBC', 3824), ('@', 3825), ('strengthen', 3826), ('channels', 3827), ('ministers', 3828), ('newspapers', 3829), ('referred', 3830), ('Building', 3831), ('testified', 3832), ('column', 3833), ('Ross', 3834), ('Terry', 3835), ('arrive', 3836), ('Unfortunately', 3837), ('rushed', 3838), ('kilometers', 3839), ('frame', 3840), ('provision', 3841), ('authorized', 3842), ('fail', 3843), ('completion', 3844), ('traveled', 3845), ('Daily', 3846), ('heavily', 3847), ('acquire', 3848), ('striking', 3849), ('virus', 3850), ('DVD', 3851), ('Index', 3852), ('secured', 3853), ('breaks', 3854), ('Greg', 3855), ('attractive', 3856), ('Portland', 3857), ('indeed', 3858), ('approve', 3859), ('survived', 3860), ('intense', 3861), ('somewhat', 3862), ('aims', 3863), ('crews', 3864), ('protected', 3865), ('checks', 3866), ('distributed', 3867), ('talented', 3868), ('kicked', 3869), ('permission', 3870), ('Tech', 3871), ('judgment', 3872), ('IBM', 3873), ('beer', 3874), ('clothes', 3875), ('Administration', 3876), ('Maine', 3877), ('coal', 3878), ('Intel', 3879), ('packed', 3880), ('promoting', 3881), ('flood', 3882), ('approached', 3883), ('Washington_DC', 3884), ('towns', 3885), ('disappointing', 3886), ('Old', 3887), ('collaboration', 3888), ('hopefully', 3889), ('streak', 3890), ('Based', 3891), ('balls', 3892), ('pleaded_guilty', 3893), ('sustained', 3894), ('noticed', 3895), ('permit', 3896), ('beach', 3897), ('Grant', 3898), ('collect', 3899), ('journey', 3900), ('victories', 3901), ('Greece', 3902), ('statistics', 3903), ('fantastic', 3904), ('rail', 3905), ('Take', 3906), ('hundred', 3907), ('pack', 3908), ('broadband', 3909), ('Air_Force', 3910), ('cycle', 3911), ('delays', 3912), ('comedy', 3913), ('thoughts', 3914), ('hardware', 3915), ('solar', 3916), ('Finance', 3917), ('bound', 3918), ('Price', 3919), ('proceeds', 3920), ('Cincinnati', 3921), ('suicide', 3922), ('prisoners', 3923), ('discovery', 3924), ('dad', 3925), ('searching', 3926), ('longtime', 3927), ('Pentagon', 3928), ('premier', 3929), ('command', 3930), ('enables', 3931), ('###-###', 3932), ('ranging', 3933), ('nobody', 3934), ('actress', 3935), ('aspects', 3936), ('fled', 3937), ('Melbourne', 3938), ('Orange', 3939), ('videos', 3940), ('Federal_Reserve', 3941), ('cricket', 3942), ('Asked', 3943), ('ratio', 3944), ('birthday', 3945), ('Radio', 3946), ('restructuring', 3947), ('episode', 3948), ('Field', 3949), ('Parker', 3950), ('cameras', 3951), ('persons', 3952), ('championships', 3953), ('answers', 3954), ('promises', 3955), ('unknown', 3956), ('argue', 3957), ('differ_materially', 3958), ('Rose', 3959), ('NYSE', 3960), ('Evans', 3961), ('surge', 3962), ('focusing', 3963), ('doubles', 3964), ('Bruce', 3965), ('donated', 3966), ('ideal', 3967), ('equivalent', 3968), ('reliable', 3969), ('sustainable', 3970), ('factory', 3971), ('Without', 3972), ('scenes', 3973), ('survive', 3974), ('contacted', 3975), ('mph', 3976), ('residence', 3977), ('trips', 3978), ('hotels', 3979), ('bat', 3980), ('unclear', 3981), ('gang', 3982), ('grounds', 3983), ('slipped', 3984), ('carrier', 3985), ('bases', 3986), ('prosecutor', 3987), ('categories', 3988), ('liked', 3989), ('accurate', 3990), ('advised', 3991), ('slowly', 3992), ('Read', 3993), ('abortion', 3994), ('mom', 3995), ('Mets', 3996), ('tons', 3997), ('Perhaps', 3998), ('requests', 3999), ('forcing', 4000), ('frequently', 4001), ('overcome', 4002), ('inquiry', 4003), ('situations', 4004), ('apparent', 4005), ('map', 4006), ('universities', 4007), ('bear', 4008), ('Staff', 4009), ('Whether', 4010), ('stroke', 4011), ('medicine', 4012), ('drives', 4013), ('reforms', 4014), ('vendors', 4015), ('defending', 4016), ('teach', 4017), ('medium', 4018), ('prime', 4019), ('Andy', 4020), ('Governor', 4021), ('basically', 4022), ('exposed', 4023), ('Hotel', 4024), ('F', 4025), ('Ms', 4026), ('dialogue', 4027), ('Indonesia', 4028), ('stimulus', 4029), ('Alliance', 4030), ('probe', 4031), ('Perry', 4032), ('Ron', 4033), ('methods', 4034), ('shall', 4035), ('landed', 4036), ('stages', 4037), ('credit_card', 4038), ('luxury', 4039), ('dates', 4040), ('vulnerable', 4041), ('preparation', 4042), ('regulators', 4043), ('indicate', 4044), ('appearances', 4045), ('theft', 4046), ('appreciate', 4047), ('complained', 4048), ('Memorial', 4049), ('Oh', 4050), ('chemical', 4051), ('relative', 4052), ('Transportation', 4053), ('consequences', 4054), ('imposed', 4055), ('rolled', 4056), ('alert', 4057), ('virtually', 4058), ('provincial', 4059), ('Sony', 4060), ('forecasts', 4061), ('Dean', 4062), ('strikes', 4063), ('athletic', 4064), ('neck', 4065), ('tourists', 4066), ('cell_phone', 4067), ('sad', 4068), ('pct', 4069), ('Arsenal', 4070), ('prominent', 4071), ('allies', 4072), ('Josh', 4073), ('writes', 4074), ('alliance', 4075), ('method', 4076), ('meanwhile', 4077), ('Simon', 4078), ('Morris', 4079), ('Beach', 4080), ('crude', 4081), ('suffer', 4082), ('files', 4083), ('quit', 4084), ('Syria', 4085), ('deployed', 4086), ('Phillips', 4087), ('shock', 4088), ('Communications', 4089), ('picking', 4090), ('clock', 4091), ('posts', 4092), ('regard', 4093), ('convention', 4094), ('penalties', 4095), ('backing', 4096), ('rapid', 4097), ('independence', 4098), ('novel', 4099), ('central_bank', 4100), ('Korean', 4101), ('scandal', 4102), ('campaigns', 4103), ('Assembly', 4104), ('widespread', 4105), ('species', 4106), ('audio', 4107), ('explains', 4108), ('investing', 4109), ('NASA', 4110), ('Tickets', 4111), ('welcomed', 4112), ('detail', 4113), ('unions', 4114), ('moderate', 4115), ('religion', 4116), ('earthquake', 4117), ('wedding', 4118), ('grabbed', 4119), ('Don', 4120), ('Thailand', 4121), ('Six', 4122), ('restore', 4123), ('plot', 4124), ('Milwaukee', 4125), ('lifted', 4126), ('coffee', 4127), ('Keep', 4128), ('sun', 4129), ('honest', 4130), ('passion', 4131), ('periods', 4132), ('publication', 4133), ('Saints', 4134), ('swing', 4135), ('Wood', 4136), ('Calif.', 4137), ('toll', 4138), ('master', 4139), ('useful', 4140), ('eliminate', 4141), ('answered', 4142), ('congressional', 4143), ('neighbor', 4144), ('dropping', 4145), ('weapon', 4146), ('promising', 4147), ('maintaining', 4148), ('seeded', 4149), ('arrival', 4150), ('soft', 4151), ('format', 4152), ('honors', 4153), ('trillion', 4154), ('teen', 4155), ('smoking', 4156), ('Collins', 4157), ('impressed', 4158), ('consultant', 4159), ('tiny', 4160), ('temperatures', 4161), ('adviser', 4162), ('windows', 4163), ('Cook', 4164), ('shelter', 4165), ('deadly', 4166), ('label', 4167), ('noting', 4168), ('foul', 4169), ('Form', 4170), ('commissioner', 4171), ('Sri_Lanka', 4172), ('Rogers', 4173), ('sheriff', 4174), ('Stanford', 4175), ('succeed', 4176), ('nomination', 4177), ('upgrade', 4178), ('Montreal', 4179), ('rely', 4180), ('string', 4181), ('trail', 4182), ('aged', 4183), ('traders', 4184), ('triple', 4185), ('personally', 4186), ('implemented', 4187), ('preferred', 4188), ('winds', 4189), ('lies', 4190), ('Victoria', 4191), ('Marketing', 4192), ('exist', 4193), ('Besides', 4194), ('Labour', 4195), ('Dutch', 4196), ('Attorney_General', 4197), ('proof', 4198), ('tank', 4199), ('etc.', 4200), ('zero', 4201), ('secondary', 4202), ('Special', 4203), ('consistently', 4204), ('delighted', 4205), ('Rodriguez', 4206), ('defender', 4207), ('suddenly', 4208), ('Wayne', 4209), ('Go', 4210), ('garden', 4211), ('e', 4212), ('routine', 4213), ('anonymity', 4214), ('Barack_Obama', 4215), ('postseason', 4216), ('introduce', 4217), ('venue', 4218), ('teens', 4219), ('free_throws', 4220), ('affordable', 4221), ('Others', 4222), ('Franklin', 4223), ('meat', 4224), ('resigned', 4225), ('Way', 4226), ('attendance', 4227), ('suppliers', 4228), ('concrete', 4229), ('#.##_ERA', 4230), ('repeat', 4231), ('anyway', 4232), ('solve', 4233), ('convinced', 4234), ('McDonald', 4235), ('St', 4236), ('Charlotte', 4237), ('legs', 4238), ('uncertainty', 4239), ('Given', 4240), ('cheap', 4241), ('programming', 4242), ('Theatre', 4243), ('neighboring', 4244), ('Solutions', 4245), ('helicopter', 4246), ('demonstrated', 4247), ('bright', 4248), ('comeback', 4249), ('offset', 4250), ('forth', 4251), ('harm', 4252), ('##st', 4253), ('protecting', 4254), ('detained', 4255), ('NY', 4256), ('meter', 4257), ('earning', 4258), ('glad', 4259), ('duties', 4260), ('#:##.##', 4261), ('rated', 4262), ('upper', 4263), ('dividend', 4264), ('senator', 4265), ('Jerry', 4266), ('Haiti', 4267), ('World_Series', 4268), ('pulling', 4269), ('organizers', 4270), ('exit', 4271), ('Ward', 4272), ('shoes', 4273), ('entitled', 4274), ('viewed', 4275), ('clash', 4276), ('Madison', 4277), ('courses', 4278), ('Area', 4279), ('Manhattan', 4280), ('bike', 4281), ('Insurance', 4282), ('afraid', 4283), ('billions', 4284), ('€', 4285), ('hardly', 4286), ('download', 4287), ('Stock_Exchange', 4288), ('petition', 4289), ('bonus', 4290), ('lying', 4291), ('elderly', 4292), ('reflects', 4293), ('hate', 4294), ('errors', 4295), ('kinds', 4296), ('Look', 4297), ('Arts', 4298), ('Chamber', 4299), ('Medicare', 4300), ('Lane', 4301), ('Senator', 4302), ('belief', 4303), ('Hawaii', 4304), ('Cooper', 4305), ('assigned', 4306), ('crazy', 4307), ('arts', 4308), ('Turner', 4309), ('retain', 4310), ('longest', 4311), ('crashed', 4312), ('TM', 4313), ('guards', 4314), ('Members', 4315), ('assume', 4316), ('mouth', 4317), ('sufficient', 4318), ('barely', 4319), ('Libya', 4320), ('sharply', 4321), ('Yahoo', 4322), ('connect', 4323), ('offerings', 4324), ('funeral', 4325), ('express', 4326), ('kitchen', 4327), ('Wal_Mart', 4328), ('purchases', 4329), ('Youth', 4330), ('averaged', 4331), ('gaming', 4332), ('disclosed', 4333), ('kills', 4334), ('investigations', 4335), ('constitution', 4336), ('flexibility', 4337), ('Red_Sox', 4338), ('Iraqis', 4339), ('Boeing', 4340), ('burning', 4341), ('extreme', 4342), ('updated', 4343), ('Festival', 4344), ('unprecedented', 4345), ('Reid', 4346), ('Al', 4347), ('dealers', 4348), ('acquisitions', 4349), ('backup', 4350), ('Lakers', 4351), ('faculty', 4352), ('prosecution', 4353), ('tired', 4354), ('Hughes', 4355), ('ups', 4356), ('Blair', 4357), ('Zimbabwe', 4358), ('optimistic', 4359), ('pledged', 4360), ('temperature', 4361), ('Lawrence', 4362), ('NASCAR', 4363), ('Bulldogs', 4364), ('funny', 4365), ('Alan', 4366), ('handful', 4367), ('targeting', 4368), ('broader', 4369), ('rape', 4370), ('intention', 4371), ('super', 4372), ('L.', 4373), ('regardless', 4374), ('nights', 4375), ('abandoned', 4376), ('Matthew', 4377), ('birds', 4378), ('sponsor', 4379), ('Cuba', 4380), ('airlines', 4381), ('Buffalo', 4382), ('tips', 4383), ('conviction', 4384), ('celebrated', 4385), ('Revenue', 4386), ('taste', 4387), ('relating', 4388), ('citizen', 4389), ('locked', 4390), ('Coast', 4391), ('Sarah', 4392), ('paint', 4393), ('load', 4394), ('essentially', 4395), ('symptoms', 4396), ('horses', 4397), ('#-#-#', 4398), ('Steven', 4399), ('reviewed', 4400), ('guns', 4401), ('Douglas', 4402), ('handled', 4403), ('Jets', 4404), ('emissions', 4405), ('hurricane', 4406), ('walls', 4407), ('counsel', 4408), ('consensus', 4409), ('DNA', 4410), ('reveal', 4411), ('everywhere', 4412), ('occasion', 4413), ('carefully', 4414), ('understood', 4415), ('inventory', 4416), ('engage', 4417), ('lease', 4418), ('incredible', 4419), ('constant', 4420), ('sons', 4421), ('compromise', 4422), ('Authority', 4423), ('Christopher', 4424), ('Mountain', 4425), ('shops', 4426), ('Turkish', 4427), ('worries', 4428), ('raises', 4429), ('Out', 4430), ('Cabinet', 4431), ('Obviously', 4432), ('opposite', 4433), ('fitness', 4434), ('database', 4435), ('Brandon', 4436), ('diverse', 4437), ('stops', 4438), ('battery', 4439), ('parks', 4440), ('Medical_Center', 4441), ('rush', 4442), ('Constitution', 4443), ('burden', 4444), ('controversy', 4445), ('departure', 4446), ('luck', 4447), ('rebels', 4448), ('repeated', 4449), ('involves', 4450), ('firing', 4451), ('troubled', 4452), ('Korea', 4453), ('benchmark', 4454), ('backs', 4455), ('anymore', 4456), ('Tyler', 4457), ('institution', 4458), ('keen', 4459), ('fighters', 4460), ('rallied', 4461), ('contrast', 4462), ('Village', 4463), ('invested', 4464), ('Video', 4465), ('assembly', 4466), ('Ottawa', 4467), ('LA', 4468), ('intends', 4469), ('Swiss', 4470), ('Bryant', 4471), ('plastic', 4472), ('New_Hampshire', 4473), ('converted', 4474), ('depending', 4475), ('Later', 4476), ('ordinary', 4477), ('West_Virginia', 4478), ('credits', 4479), ('flooding', 4480), ('Indianapolis', 4481), ('actors', 4482), ('productivity', 4483), ('democratic', 4484), ('Sean', 4485), ('transferred', 4486), ('tip', 4487), ('interactive', 4488), ('County_Sheriff', 4489), ('casino', 4490), ('basket', 4491), ('chip', 4492), ('bet', 4493), ('writers', 4494), ('execution', 4495), ('requirement', 4496), ('automatically', 4497), ('Jan', 4498), ('Fame', 4499), ('plea', 4500), ('Richmond', 4501), ('i', 4502), ('Justin', 4503), ('machines', 4504), ('please_visit', 4505), ('modest', 4506), ('Malaysia', 4507), ('procedure', 4508), ('Mrs.', 4509), ('calm', 4510), ('updates', 4511), ('unveiled', 4512), ('Golden', 4513), ('Warren', 4514), ('Jefferson', 4515), ('swept', 4516), ('loose', 4517), ('latter', 4518), ('nervous', 4519), ('agriculture', 4520), ('valued', 4521), ('pregnant', 4522), ('Awards', 4523), ('conclusion', 4524), ('homeowners', 4525), ('household', 4526), ('prefer', 4527), ('enforcement', 4528), ('Lord', 4529), ('Prosecutors', 4530), ('requiring', 4531), ('definition', 4532), ('demonstrate', 4533), ('parade', 4534), ('Anyone', 4535), (\"'##s\", 4536), ('hero', 4537), ('Sgt', 4538), ('economists', 4539), ('rushing', 4540), ('explore', 4541), ('decreased', 4542), ('patrol', 4543), ('surprising', 4544), ('diabetes', 4545), ('component', 4546), ('anger', 4547), ('incentives', 4548), ('Channel', 4549), ('Live', 4550), ('Nebraska', 4551), ('Premier_League', 4552), ('Republic', 4553), ('carriers', 4554), ('Sullivan', 4555), ('commented', 4556), ('teammate', 4557), ('legacy', 4558), ('Argentina', 4559), ('fleet', 4560), ('fat', 4561), ('presents', 4562), ('vacation', 4563), ('introduction', 4564), ('discount', 4565), ('Ken', 4566), ('provisions', 4567), ('GDP', 4568), ('praised', 4569), ('Note', 4570), ('lane', 4571), ('Saudi_Arabia', 4572), ('sells', 4573), ('enhanced', 4574), ('insurgents', 4575), ('copies', 4576), ('pride', 4577), ('odds', 4578), ('employed', 4579), ('challenged', 4580), ('singing', 4581), ('equally', 4582), ('collapsed', 4583), ('thousand', 4584), ('Football', 4585), ('landing', 4586), ('techniques', 4587), ('III', 4588), ('BC', 4589), ('Butler', 4590), ('item', 4591), ('objective', 4592), ('Stars', 4593), ('robbery', 4594), ('planes', 4595), ('supplier', 4596), ('comparison', 4597), ('Rick', 4598), ('Until', 4599), ('Investment', 4600), ('Township', 4601), ('gifts', 4602), ('engineers', 4603), ('San_Jose', 4604), ('burned', 4605), ('Attorney', 4606), ('arrests', 4607), ('Patriots', 4608), ('feedback', 4609), ('bags', 4610), ('revised', 4611), ('versions', 4612), ('agricultural', 4613), ('Plan', 4614), ('extraordinary', 4615), ('sight', 4616), ('Neither', 4617), ('Baseball', 4618), ('recruiting', 4619), ('attacking', 4620), ('Chrysler', 4621), ('describe', 4622), ('retailer', 4623), ('reflected', 4624), ('conspiracy', 4625), ('Point', 4626), ('Islam', 4627), ('Richardson', 4628), ('Library', 4629), ('calendar', 4630), ('Finally', 4631), ('creates', 4632), ('Broadway', 4633), ('minds', 4634), ('Wildcats', 4635), ('Have', 4636), ('midnight', 4637), ('Elizabeth', 4638), ('functions', 4639), ('Scottish', 4640), ('virtual', 4641), ('delivers', 4642), ('resignation', 4643), ('Tehran', 4644), ('badly', 4645), ('indication', 4646), ('commit', 4647), ('Orlando', 4648), ('pitches', 4649), ('gallon', 4650), ('ultimate', 4651), ('beauty', 4652), ('spoken', 4653), ('invasion', 4654), ('fires', 4655), ('concerning', 4656), ('waters', 4657), ('authors', 4658), ('tea', 4659), ('turnovers', 4660), ('advisory', 4661), ('Memphis', 4662), ('buried', 4663), ('rent', 4664), ('HIV', 4665), ('Rob', 4666), ('Jonathan', 4667), ('probation', 4668), ('excess', 4669), ('girlfriend', 4670), ('striker', 4671), ('colleges', 4672), ('Did', 4673), ('priced', 4674), ('fastest', 4675), ('robust', 4676), ('tracking', 4677), ('participated', 4678), ('lie', 4679), ('dating', 4680), ('Super', 4681), ('Shanghai', 4682), ('bowl', 4683), ('highlight', 4684), ('guaranteed', 4685), ('R.', 4686), ('chapter', 4687), ('Poor', 4688), ('tape', 4689), ('Express', 4690), ('server', 4691), ('deployment', 4692), ('shareholder', 4693), ('Marine', 4694), ('enormous', 4695), ('homeless', 4696), ('illness', 4697), ('hall', 4698), ('exhibit', 4699), ('soil', 4700), ('##nd', 4701), ('noise', 4702), ('outs', 4703), ('deserve', 4704), ('Disney', 4705), ('Currently', 4706), ('CIA', 4707), ('rolling', 4708), ('rarely', 4709), ('adoption', 4710), ('peaceful', 4711), ('C.', 4712), ('containing', 4713), ('felony', 4714), ('Warriors', 4715), ('elite', 4716), ('cabinet', 4717), ('sponsors', 4718), ('World_War_II', 4719), ('economies', 4720), ('hike', 4721), ('arena', 4722), ('solo', 4723), ('platforms', 4724), ('liability', 4725), ('outdoor', 4726), ('somewhere', 4727), ('Ed', 4728), ('displayed', 4729), ('Alexander', 4730), ('divided', 4731), ('context', 4732), ('Keith', 4733), ('clinic', 4734), ('lifestyle', 4735), ('flew', 4736), ('Part', 4737), ('de', 4738), ('screening', 4739), ('dramatically', 4740), ('Pirates', 4741), ('Watson', 4742), ('classroom', 4743), ('contractors', 4744), ('fundamental', 4745), ('partly', 4746), ('ensuring', 4747), ('Oscar', 4748), ('Entertainment', 4749), ('tackles', 4750), ('Gates', 4751), ('slide', 4752), ('suggesting', 4753), ('ill', 4754), ('imports', 4755), ('highlights', 4756), ('Airport', 4757), ('Garcia', 4758), ('assured', 4759), ('bunch', 4760), ('constantly', 4761), ('holidays', 4762), ('touched', 4763), ('attempting', 4764), ('fate', 4765), ('listening', 4766), ('»', 4767), ('legislators', 4768), ('decent', 4769), ('Pat', 4770), ('risen', 4771), ('hanging', 4772), ('certified', 4773), ('nominated', 4774), ('Executive', 4775), ('lists', 4776), ('averaging', 4777), ('lessons', 4778), ('closure', 4779), ('lifetime', 4780), ('CD', 4781), ('Sudan', 4782), ('Data', 4783), ('Head', 4784), ('Fisher', 4785), ('wider', 4786), ('shocked', 4787), ('Chief_Executive_Officer', 4788), ('RBIs', 4789), ('destination', 4790), ('tens', 4791), ('recommendation', 4792), ('buses', 4793), ('phones', 4794), ('Caribbean', 4795), ('acre', 4796), ('Delta', 4797), ('observed', 4798), ('trials', 4799), ('subsequent', 4800), ('scenario', 4801), ('shipping', 4802), ('liberal', 4803), ('lab', 4804), ('pet', 4805), ('Todd', 4806), ('milk', 4807), ('rumors', 4808), ('Kenya', 4809), ('IP', 4810), ('municipal', 4811), ('Phil', 4812), ('starters', 4813), ('Prior', 4814), ('2nd', 4815), ('bombing', 4816), ('popularity', 4817), ('thirds', 4818), ('bailout', 4819), ('menu', 4820), ('asks', 4821), ('Aaron', 4822), ('tragedy', 4823), ('packages', 4824), ('interviewed', 4825), ('Companies', 4826), ('licenses', 4827), ('Check', 4828), ('Additionally', 4829), ('memories', 4830), ('colors', 4831), ('consulting', 4832), ('constitutional', 4833), ('welfare', 4834), ('nonprofit', 4835), ('designs', 4836), ('verdict', 4837), ('defendants', 4838), ('ankle', 4839), ('sparked', 4840), ('Limited', 4841), ('Investigators', 4842), ('Contact', 4843), ('##th_century', 4844), ('remarkable', 4845), ('accompanied', 4846), ('briefly', 4847), ('AFP', 4848), ('Montana', 4849), ('letting', 4850), ('Hudson', 4851), ('receiver', 4852), ('Overall', 4853), ('wore', 4854), ('Kings', 4855), ('dynamic', 4856), ('Third', 4857), ('1st', 4858), ('Directors', 4859), ('attached', 4860), ('tone', 4861), ('reverse', 4862), ('Brazilian', 4863), ('Columbus', 4864), ('survival', 4865), ('establishment', 4866), ('meal', 4867), ('joint_venture', 4868), ('Country', 4869), ('reception', 4870), ('promoted', 4871), ('memorial', 4872), ('warrant', 4873), ('complicated', 4874), ('inmates', 4875), ('Does', 4876), ('rough', 4877), ('earth', 4878), ('merely', 4879), ('eliminated', 4880), ('smile', 4881), ('Miss', 4882), ('checked', 4883), ('J', 4884), ('adjusted', 4885), ('sweep', 4886), ('leverage', 4887), ('Sacramento', 4888), ('Annual', 4889), ('external', 4890), ('mountain', 4891), ('amendment', 4892), ('associate', 4893), ('Plus', 4894), ('preserve', 4895), ('attracted', 4896), ('defendant', 4897), ('sorry', 4898), ('recovering', 4899), ('subjects', 4900), ('Masters', 4901), ('N.', 4902), ('Peterson', 4903), ('diagnosed', 4904), ('enabling', 4905), ('legitimate', 4906), ('terrible', 4907), ('Philippines', 4908), ('studying', 4909), ('shed', 4910), ('achievement', 4911), ('delegation', 4912), ('launching', 4913), ('Classic', 4914), ('dress', 4915), ('DC', 4916), ('reward', 4917), ('Jennifer', 4918), ('circuit', 4919), ('Birmingham', 4920), ('boxes', 4921), ('vast', 4922), ('adopt', 4923), ('affair', 4924), ('formerly', 4925), ('Men', 4926), ('enjoying', 4927), ('predict', 4928), ('respective', 4929), ('recommend', 4930), ('Sweden', 4931), ('permits', 4932), ('pattern', 4933), ('admits', 4934), ('HP', 4935), ('Dennis', 4936), ('renewed', 4937), ('Vikings', 4938), ('Place', 4939), ('Blues', 4940), ('satisfied', 4941), ('principles', 4942), ('crossed', 4943), ('travelers', 4944), ('landscape', 4945), ('deposits', 4946), ('Construction', 4947), ('aboard', 4948), ('Susan', 4949), ('LONDON', 4950), ('narrow', 4951), ('practical', 4952), ('installation', 4953), ('D.', 4954), ('San_Antonio', 4955), ('samples', 4956), ('exception', 4957), ('halt', 4958), ('loaded', 4959), ('Delaware', 4960), ('Harrison', 4961), ('Station', 4962), ('Tribune', 4963), ('vaccine', 4964), ('cup', 4965), ('websites', 4966), ('Make', 4967), ('urging', 4968), ('unlike', 4969), ('purchasing', 4970), ('sudden', 4971), ('lined', 4972), ('Hunter', 4973), ('tonnes', 4974), ('Summit', 4975), ('wood', 4976), ('eager', 4977), ('climb', 4978), ('careful', 4979), ('mode', 4980), ('enemy', 4981), ('wanting', 4982), ('engineer', 4983), ('desperate', 4984), ('AIDS', 4985), ('Further', 4986), ('commissioners', 4987), ('Enterprise', 4988), ('powered', 4989), ('dealt', 4990), ('oldest', 4991), ('Indeed', 4992), ('admission', 4993), ('Friends', 4994), ('connections', 4995), ('therapy', 4996), ('Roy', 4997), ('topics', 4998), ('comfort', 4999), ('hang', 5000), ('jurong', 5001), ('bugis', 5002), ('n', 5003), ('la', 5004), ('buffet', 5005), ('cine', 5006), ('amore', 5007), ('wat', 5008), ('ok', 5009), ('lar', 5010), ('joking', 5011), ('wif', 5012), ('u', 5013), ('oni', 5014), ('a', 5015), ('wkly', 5016), ('comp', 5017), ('to', 5018), ('fa', 5019), ('tkts', 5020), ('21st', 5021), ('2005', 5022), ('87121', 5023), ('std', 5024), ('txt', 5025), ('t', 5026), ('c', 5027), ('08452810075over18', 5028), ('dun', 5029), ('hor', 5030), ('nah', 5031), ('don', 5032), ('usf', 5033), ('freemsg', 5034), ('hey', 5035), ('darling', 5036), ('and', 5037), ('d', 5038), ('tb', 5039), ('xxx', 5040), ('chgs', 5041), ('50', 5042), ('rcv', 5043), ('aids', 5044), ('patent', 5045), ('melle', 5046), ('oru', 5047), ('minnaminunginte', 5048), ('nurungu', 5049), ('vettam', 5050), ('callertune', 5051), ('callers', 5052), ('receivea', 5053), ('900', 5054), ('09061701461', 5055), ('kl341', 5056), ('valid', 5057), ('12', 5058), ('11', 5059), ('r', 5060), ('colour', 5061), ('mobiles', 5062), ('08002986030', 5063), ('m', 5064), ('gon', 5065), ('na', 5066), ('k', 5067), ('ve', 5068), ('cried', 5069), ('100', 5070), ('20', 5071), ('000', 5072), ('csh11', 5073), ('87575', 5074), ('150p', 5075), ('6days', 5076), ('16', 5077), ('tsandcs', 5078), ('reply', 5079), ('hl', 5080), ('info', 5081), ('urgent', 5082), ('jackpot', 5083), ('81010', 5084), ('www', 5085), ('dbuk', 5086), ('lccltd', 5087), ('pobox', 5088), ('4403ldnw1a7rw18', 5089), ('breather', 5090), ('wont', 5091), ('fulfil', 5092), ('blessing', 5093), ('sunday', 5094), ('xxxmobilemovieclub', 5095), ('wap', 5096), ('http', 5097), ('com', 5098), ('qjkgighjjgcbl', 5099), ('oh', 5100), ('eh', 5101), ('spell', 5102), ('v', 5103), ('naughty', 5104), ('wet', 5105), ('gota', 5106), ('b', 5107), ('england', 5108), ('macedonia', 5109), ('dont', 5110), ('ur', 5111), ('87077', 5112), ('eg', 5113), ('wales', 5114), ('scotland', 5115), ('4txt', 5116), ('poboxox36504w45wq', 5117), ('ha', 5118), ('da', 5119), ('comin', 5120), ('aft', 5121), ('str', 5122), ('lor', 5123), ('ard', 5124), ('smth', 5125), ('ffffffffff', 5126), ('alright', 5127), ('sooner', 5128), ('slice', 5129), ('hungry', 5130), ('tho', 5131), ('sucks', 5132), ('pizza', 5133), ('lol', 5134), ('convincing', 5135), ('frying', 5136), ('egg', 5137), ('amp', 5138), ('packing', 5139), ('ll', 5140), ('ahhh', 5141), ('vaguely', 5142), ('sarcastic', 5143), ('x', 5144), ('doesn', 5145), ('yeah', 5146), ('apologetic', 5147), ('actin', 5148), ('spoilt', 5149), ('till', 5150), ('cheers', 5151), ('of', 5152), ('fainting', 5153), ('housework', 5154), ('cuppa', 5155), ('subscription', 5156), ('ringtone', 5157), ('uk', 5158), ('replying', 5159), ('yup', 5160), ('timings', 5161), ('msg', 5162), ('xuhui', 5163), ('lesson', 5164), ('8am', 5165), ('oops', 5166), ('roommate', 5167), ('hello', 5168), ('saturday', 5169), ('texting', 5170), ('tomo', 5171), ('invite', 5172), ('pls', 5173), ('watts', 5174), ('abiola', 5175), ('crave', 5176), ('sweet', 5177), ('arabian', 5178), ('steed', 5179), ('mmmmmm', 5180), ('yummy', 5181), ('07732584351', 5182), ('rodger', 5183), ('burns', 5184), ('sms', 5185), ('nokia', 5186), ('camcorder', 5187), ('08000930705', 5188), ('endowed', 5189), ('lt', 5190), ('gt', 5191), ('didn', 5192), ('hep', 5193), ('immunisation', 5194), ('nigeria', 5195), ('tyler', 5196), ('stubborn', 5197), ('sucker', 5198), ('suckers', 5199), ('thinked', 5200), ('gram', 5201), ('smarter', 5202), ('fyi', 5203), ('crashing', 5204), ('wow', 5205), ('embarassed', 5206), ('accomodations', 5207), ('cave', 5208), ('embarassing', 5209), ('ac', 5210), ('sptv', 5211), ('jersey', 5212), ('devils', 5213), ('detroit', 5214), ('wings', 5215), ('incorrect', 5216), ('mallika', 5217), ('sherawat', 5218), ('url', 5219), ('congrats', 5220), ('cinema', 5221), ('yours', 5222), ('09061209465', 5223), ('suprman', 5224), ('matrix3', 5225), ('starwars3', 5226), ('etc', 5227), ('bx420', 5228), ('ip4', 5229), ('5we', 5230), ('150pm', 5231), ('gauti', 5232), ('sehwag', 5233), ('odi', 5234), ('burger', 5235), ('joke', 5236), ('seekers', 5237), ('checking', 5238), ('iq', 5239), ('roommates', 5240), ('forever', 5241), ('dresser', 5242), ('wun', 5243), ('advise', 5244), ('mob', 5245), ('1500', 5246), ('09066364589', 5247), ('dedicate', 5248), ('frnds', 5249), ('rply', 5250), ('complimentary', 5251), ('eurodisinc', 5252), ('trav', 5253), ('aco', 5254), ('entry41', 5255), ('1000', 5256), ('dis', 5257), ('18', 5258), ('morefrmmob', 5259), ('shracomorsglsuplt', 5260), ('10', 5261), ('ls1', 5262), ('3aj', 5263), ('divorce', 5264), ('barbie', 5265), ('ken', 5266), ('wah', 5267), ('hee', 5268), ('hi', 5269), ('babe', 5270), ('im', 5271), ('wan', 5272), ('xx', 5273), ('machan', 5274), ('thats', 5275), ('gentleman', 5276), ('dignity', 5277), ('peoples', 5278), ('shy', 5279), ('pa', 5280), ('ta', 5281), ('ah', 5282), ('urgnt', 5283), ('yo', 5284), ('jacket', 5285), ('multis', 5286), ('coins', 5287), ('nitros', 5288), ('ela', 5289), ('kano', 5290), ('il', 5291), ('wen', 5292), ('casualty', 5293), ('haven', 5294), ('y', 5295), ('stuff42moro', 5296), ('sheets', 5297), ('pleasure', 5298), ('pours', 5299), ('sum1', 5300), ('hurts', 5301), ('becoz', 5302), ('loves', 5303), ('smiling', 5304), ('0800', 5305), ('169', 5306), ('6031', 5307), ('10am', 5308), ('9pm', 5309), ('5000', 5310), ('havent', 5311), ('lido', 5312), ('530', 5313), ('password', 5314), ('85069', 5315), ('verify', 5316), ('usher', 5317), ('britney', 5318), ('fml', 5319), ('telugu', 5320), ('abt', 5321), ('loads', 5322), ('wk', 5323), ('hols', 5324), ('forgot', 5325), ('hairdressers', 5326), ('shower', 5327), ('beforehand', 5328), ('prob', 5329), ('ham', 5330), ('okay', 5331), ('ave', 5332), ('ams', 5333), ('4the', 5334), ('boston', 5335), ('nyc', 5336), ('cuz', 5337), ('signin', 5338), ('umma', 5339), ('vava', 5340), ('dear', 5341), ('wishes', 5342), ('memorable', 5343), ('aight', 5344), ('ip', 5345), ('isn', 5346), ('minecraft', 5347), ('grumpy', 5348), ('jokes', 5349), ('plural', 5350), ('noun', 5351), ('cos', 5352), ('scared', 5353), ('mah', 5354), ('loud', 5355), ('gent', 5356), ('weekends', 5357), ('09064012160', 5358), ('k52', 5359), ('12hrs', 5360), ('150ppm', 5361), ('wa', 5362), ('openin', 5363), ('juz', 5364), ('tt', 5365), ('eatin', 5366), ('puttin', 5367), ('haha', 5368), ('anythin', 5369), ('cabin', 5370), ('askd', 5371), ('specially', 5372), ('inc', 5373), ('0871277810910p', 5374), ('min', 5375), ('goodo', 5376), ('friday', 5377), ('potato', 5378), ('tortilla', 5379), ('hmm', 5380), ('uncle', 5381), ('2004', 5382), ('07742676969', 5383), ('786', 5384), ('unredeemed', 5385), ('08719180248', 5386), ('identifier', 5387), ('45239', 5388), ('expires', 5389), ('2000', 5390), ('caller', 5391), ('03', 5392), ('landline', 5393), ('09064019788', 5394), ('box42wr29c', 5395), ('apples', 5396), ('pairs', 5397), ('malarky', 5398), ('todays', 5399), ('voda', 5400), ('7548', 5401), ('350', 5402), ('08712300220', 5403), ('quoting', 5404), ('4041', 5405), ('app', 5406), ('sao', 5407), ('mu', 5408), ('yetunde', 5409), ('hasn', 5410), ('bother', 5411), ('shouldn', 5412), ('apologise', 5413), ('del', 5414), ('bak', 5415), ('sum', 5416), ('lucyxx', 5417), ('tmorrow', 5418), ('accomodate', 5419), ('sunshine', 5420), ('quiz', 5421), ('q', 5422), ('sony', 5423), ('dvd', 5424), ('algarve', 5425), ('ansr', 5426), ('82277', 5427), ('sp', 5428), ('tyrone', 5429), ('dogging', 5430), ('bt', 5431), ('txting', 5432), ('gravel', 5433), ('69888', 5434), ('nt', 5435), ('ec2a', 5436), ('31p', 5437), ('haf', 5438), ('msn', 5439), ('yijue', 5440), ('hotmail', 5441), ('befor', 5442), ('msgs', 5443), ('chat', 5444), ('svc', 5445), ('hardcore', 5446), ('69988', 5447), ('yr', 5448), ('lazy', 5449), ('lect', 5450), ('pouch', 5451), ('sir', 5452), ('swt', 5453), ('nver', 5454), ('lovable', 5455), ('coz', 5456), ('somtimes', 5457), ('occupy', 5458), ('hearts', 5459), ('gud', 5460), ('ni8', 5461), ('ya', 5462), ('dot', 5463), ('whats', 5464), ('replied', 5465), ('randy', 5466), ('sexy', 5467), ('luv', 5468), ('netcollex', 5469), ('ltd', 5470), ('08700621170150p', 5471), ('ummma', 5472), ('qatar', 5473), ('pray', 5474), ('deleted', 5475), ('sindu', 5476), ('birla', 5477), ('flowing', 5478), ('nevering', 5479), ('thk', 5480), ('plaza', 5481), ('dirt', 5482), ('shirt', 5483), ('chores', 5484), ('joy', 5485), ('tv', 5486), ('hail', 5487), ('mist', 5488), ('aaooooright', 5489), ('annoncement', 5490), ('07046744435', 5491), ('arrange', 5492), ('0871277810810', 5493), ('envy', 5494), ('bootydelious', 5495), ('32', 5496), ('f', 5497), ('inviting', 5498), ('434', 5499), ('frnd', 5500), ('62468', 5501), ('bangbabes', 5502), ('goto', 5503), ('bangb', 5504), ('cultures', 5505), ('module', 5506), ('09061701939', 5507), ('s89', 5508), ('missunderstding', 5509), ('wit', 5510), ('beloved', 5511), ('fancy', 5512), ('lager', 5513), ('clark', 5514), ('utter', 5515), ('axis', 5516), ('hmmm', 5517), ('hop', 5518), ('muz', 5519), ('liao', 5520), ('bloody', 5521), ('hell', 5522), ('cant', 5523), ('surname', 5524), ('mr', 5525), ('clue', 5526), ('spanish', 5527), ('bath', 5528), ('carlos', 5529), ('mall', 5530), ('til', 5531), ('doesnt', 5532), ('log', 5533), ('maneesha', 5534), ('approaches', 5535), ('anyways', 5536), ('gr8', 5537), ('bye', 5538), ('handsome', 5539), ('mummy', 5540), ('boytoy', 5541), ('awesome', 5542), ('freephone', 5543), ('0808', 5544), ('145', 5545), ('4742', 5546), ('9am', 5547), ('11pm', 5548), ('xmas', 5549), ('jus', 5550), ('bathe', 5551), ('sis', 5552), ('finishes', 5553), ('30th', 5554), ('august', 5555), ('areyouunique', 5556), ('stays', 5557), ('ors', 5558), ('stool', 5559), ('wishin', 5560), ('mrng', 5561), ('hav', 5562), ('hamster', 5563), ('tmr', 5564), ('1pm', 5565), ('orchard', 5566), ('mrt', 5567), ('kate', 5568), ('babyjontet', 5569), ('enc', 5570), ('bucks', 5571), ('darlin', 5572), ('ive', 5573), ('refilled', 5574), ('inr', 5575), ('decimal', 5576), ('keralacircle', 5577), ('prepaid', 5578), ('rs', 5579), ('id', 5580), ('kr', 5581), ('goodmorning', 5582), ('sleeping', 5583), ('ga', 5584), ('alter', 5585), ('dat', 5586), ('ericsson', 5587), ('oso', 5588), ('oredi', 5589), ('dats', 5590), ('dogg', 5591), ('refund', 5592), ('bruv', 5593), ('rewarding', 5594), ('semester', 5595), ('noe', 5596), ('leh', 5597), ('prediction', 5598), ('slept', 5599), ('sen', 5600), ('exam', 5601), ('march', 5602), ('atm', 5603), ('os', 5604), ('ubandu', 5605), ('installing', 5606), ('disk', 5607), ('romantic', 5608), ('nite', 5609), ('scenery', 5610), ('500', 5611), ('89545', 5612), ('tc', 5613), ('biz', 5614), ('2optout', 5615), ('087187262701', 5616), ('50gbp', 5617), ('mtmsg18', 5618), ('flyng', 5619), ('horo', 5620), ('g', 5621), ('aries', 5622), ('elama', 5623), ('po', 5624), ('mudyadhu', 5625), ('strict', 5626), ('bcoz', 5627), ('teaches', 5628), ('conducts', 5629), ('gandhipuram', 5630), ('rubber', 5631), ('flirt', 5632), ('10p', 5633), ('sam', 5634), ('25', 5635), ('recd', 5636), ('thirtyeight', 5637), ('pence', 5638), ('printed', 5639), ('upstairs', 5640), ('wil', 5641), ('theory', 5642), ('loses', 5643), ('447801259231', 5644), ('admirer', 5645), ('09058094597', 5646), ('tomarrow', 5647), ('laptop', 5648), ('pleassssssseeeeee', 5649), ('tel', 5650), ('avent', 5651), ('sportsx', 5652), ('shining', 5653), ('baig', 5654), ('watches', 5655), ('fr', 5656), ('thanx', 5657), ('slippers', 5658), ('kallis', 5659), ('didnt', 5660), ('goodnight', 5661), ('dearly', 5662), ('congratulations', 5663), ('cd', 5664), ('vouchers', 5665), ('125gift', 5666), ('87066', 5667), ('tncs', 5668), ('ldew', 5669), ('com1win150ppmx3age16', 5670), ('ranjith', 5671), ('cal', 5672), ('drpd', 5673), ('deeraj', 5674), ('deepak', 5675), ('5min', 5676), ('bcums', 5677), ('wid', 5678), ('dnt', 5679), ('childish', 5680), ('affection', 5681), ('kettoda', 5682), ('manda', 5683), ('3days', 5684), ('2wks', 5685), ('usps', 5686), ('lag', 5687), ('bribe', 5688), ('nipost', 5689), ('lem', 5690), ('headin', 5691), ('mmm', 5692), ('jolt', 5693), ('suzy', 5694), ('lover', 5695), ('handset', 5696), ('750', 5697), ('anytime', 5698), ('mins', 5699), ('unlimited', 5700), ('parked', 5701), ('mini', 5702), ('disturb', 5703), ('luton', 5704), ('0125698789', 5705), ('h', 5706), ('horny', 5707), ('naked', 5708), ('69698', 5709), ('unsubscribe', 5710), ('dint', 5711), ('wana', 5712), ('sometme', 5713), ('club4mobiles', 5714), ('87070', 5715), ('club4', 5716), ('box1146', 5717), ('mk45', 5718), ('2wt', 5719), ('evo', 5720), ('flash', 5721), ('jealous', 5722), ('chart', 5723), ('sorting', 5724), ('narcotics', 5725), ('sunny', 5726), ('rays', 5727), ('bay', 5728), ('hmv', 5729), ('genuine', 5730), ('86688', 5731), ('100percent', 5732), ('objection', 5733), ('bf', 5734), ('rob', 5735), ('mack', 5736), ('gf', 5737), ('celebrations', 5738), ('okie', 5739), ('ahold', 5740), ('lets', 5741), ('cruisin', 5742), ('fone', 5743), ('jenny', 5744), ('ge', 5745), ('tonite', 5746), ('varunnathu', 5747), ('edukkukayee', 5748), ('raksha', 5749), ('ollu', 5750), ('gautham', 5751), ('stupid', 5752), ('cam', 5753), ('buzy', 5754), ('accidentally', 5755), ('resend', 5756), ('sim', 5757), ('loyalty', 5758), ('0845', 5759), ('021', 5760), ('3680', 5761), ('28thfeb', 5762), ('gurl', 5763), ('tease', 5764), ('cry', 5765), ('plz', 5766), ('grave', 5767), ('bslvyl', 5768), ('diesel', 5769), ('shit', 5770), ('shocking', 5771), ('scary', 5772), ('def', 5773), ('taxi', 5774), ('fridge', 5775), ('womdarfull', 5776), ('blind', 5777), ('4u', 5778), ('rodds1', 5779), ('21', 5780), ('aberdeen', 5781), ('united', 5782), ('kingdom', 5783), ('img', 5784), ('w', 5785), ('icmb3cktz8r7', 5786), ('hide', 5787), ('remb', 5788), ('jos', 5789), ('friendship', 5790), ('thread', 5791), ('themob', 5792), ('newest', 5793), ('tones', 5794), ('gossip', 5795), ('babes', 5796), ('funky', 5797), ('82468', 5798), ('garage', 5799), ('keys', 5800), ('aren', 5801), ('bookshelf', 5802), ('dear1', 5803), ('best1', 5804), ('clos1', 5805), ('lvblefrnd', 5806), ('jstfrnd', 5807), ('cutefrnd', 5808), ('lifpartnr', 5809), ('belovd', 5810), ('swtheart', 5811), ('bstfrnd', 5812), ('200', 5813), ('85222', 5814), ('cs', 5815), ('winnersclub', 5816), ('84', 5817), ('m26', 5818), ('3uz', 5819), ('gbp1', 5820), ('2day', 5821), ('mylife', 5822), ('wot', 5823), ('pongal', 5824), ('kb', 5825), ('yoga', 5826), ('dunno', 5827), ('tahan', 5828), ('anot', 5829), ('lo', 5830), ('dude', 5831), ('december', 5832), ('11mths', 5833), ('08002986906', 5834), ('cake', 5835), ('merry', 5836), ('christmas', 5837), ('kisses', 5838), ('cud', 5839), ('ppl', 5840), ('gona', 5841), ('l8', 5842), ('waitin', 5843), ('pete', 5844), ('guild', 5845), ('bristol', 5846), ('apo', 5847), ('germany', 5848), ('0844', 5849), ('861', 5850), ('85', 5851), ('prepayment', 5852), ('evaporated', 5853), ('violated', 5854), ('stealing', 5855), ('employer', 5856), ('paperwork', 5857), ('supervisor', 5858), ('valentines', 5859), ('83600', 5860), ('rcvd', 5861), ('custcare', 5862), ('08718720201', 5863), ('daaaaa', 5864), ('wined', 5865), ('dined', 5866), ('surfing', 5867), ('1000s', 5868), ('texts', 5869), ('wiv', 5870), ('caroline', 5871), ('favourite', 5872), ('bless', 5873), ('hiding', 5874), ('stranger', 5875), ('gudnite', 5876), ('huiming', 5877), ('num', 5878), ('prestige', 5879), ('shag', 5880), ('sextextuk', 5881), ('xxuk', 5882), ('69876', 5883), ('txts', 5884), ('jeremiah', 5885), ('iphone', 5886), ('apeshit', 5887), ('misbehaved', 5888), ('slap', 5889), ('urself', 5890), ('fault', 5891), ('jay', 5892), ('safely', 5893), ('weed', 5894), ('ish', 5895), ('wtf', 5896), ('onam', 5897), ('sirji', 5898), ('remembered', 5899), ('insha', 5900), ('allah', 5901), ('rakhesh', 5902), ('tata', 5903), ('aig', 5904), ('tissco', 5905), ('tayseer', 5906), ('maximize', 5907), ('cc', 5908), ('08708800282', 5909), ('hg', 5910), ('suite342', 5911), ('2lands', 5912), ('w1j6hl', 5913), ('unemployed', 5914), ('st', 5915), ('andrews', 5916), ('chikku', 5917), ('db', 5918), ('audrey', 5919), ('dawns', 5920), ('refreshed', 5921), ('breathe', 5922), ('z', 5923), ('motorola', 5924), ('sonyericsson', 5925), ('bluetooth', 5926), ('orange', 5927), ('mobileupd8', 5928), ('08000839402', 5929), ('call2optout', 5930), ('f4q', 5931), ('rp176781', 5932), ('regalportfolio', 5933), ('08717205546', 5934), ('uniform', 5935), ('geeee', 5936), ('woke', 5937), ('cuddling', 5938), ('spoil', 5939), ('t91', 5940), ('gbp', 5941), ('09057039994', 5942), ('recognise', 5943), ('lindsay', 5944), ('sighs', 5945), ('bars', 5946), ('ptbo', 5947), ('heron', 5948), ('payasam', 5949), ('rinu', 5950), ('becaus', 5951), ('hes', 5952), ('verifying', 5953), ('prabu', 5954), ('repairs', 5955), ('ovulation', 5956), ('relax', 5957), ('followin', 5958), ('wallet', 5959), ('945', 5960), ('6months', 5961), ('n9dx', 5962), ('owl', 5963), ('licks', 5964), ('mm', 5965), ('4mths', 5966), ('rental', 5967), ('mobilesdirect', 5968), ('08000938767', 5969), ('or2stoptxt', 5970), ('huh', 5971), ('intro', 5972), ('pilates', 5973), ('kickboxing', 5974), ('bout', 5975), ('30ish', 5976), ('calculated', 5977), ('ass', 5978), ('facebook', 5979), ('al', 5980), ('salam', 5981), ('wahleykkum', 5982), ('grace', 5983), ('god', 5984), ('inshah', 5985), ('sometime', 5986), ('visitor', 5987), ('india', 5988), ('administrator', 5989), ('87131', 5990), ('poly', 5991), ('2814032', 5992), ('3x', 5993), ('150pw', 5994), ('nd', 5995), ('chechi', 5996), ('cream', 5997), ('shipped', 5998), ('yep', 5999), ('loxahatchee', 6000), ('stoners', 6001), ('disastrous', 6002), ('fav', 6003), ('darlings', 6004), ('wld', 6005), ('busetop', 6006), ('sender', 6007), ('fullonsms', 6008), ('iron', 6009), ('okies', 6010), ('yan', 6011), ('jiu', 6012), ('skip', 6013), ('den', 6014), ('blah', 6015), ('wendy', 6016), ('l', 6017), ('09064012103', 6018), ('box334sk38ch', 6019), ('whatsup', 6020), ('250', 6021), ('80086', 6022), ('txttowin', 6023), ('logo', 6024), ('name1', 6025), ('name2', 6026), ('mobno', 6027), ('adam', 6028), ('eve', 6029), ('07123456789', 6030), ('yahoo', 6031), ('pobox36504w45wq', 6032), ('txtno', 6033), ('09111032124', 6034), ('pobox12n146tf150p', 6035), ('siva', 6036), ('hostel', 6037), ('aha', 6038), ('09058094455', 6039), ('3030', 6040), ('expression', 6041), ('sentiment', 6042), ('rowdy', 6043), ('ful', 6044), ('irritating', 6045), ('aathi', 6046), ('urination', 6047), ('esplanade', 6048), ('wnt', 6049), ('bmw', 6050), ('urgently', 6051), ('vry', 6052), ('hv', 6053), ('shortage', 6054), ('lacs', 6055), ('arng', 6056), ('amt', 6057), ('fifteen', 6058), ('fucking', 6059), ('3650', 6060), ('09066382422', 6061), ('3mins', 6062), ('vary', 6063), ('300603', 6064), ('bcm4284', 6065), ('ldn', 6066), ('wc1n3xx', 6067), ('booked', 6068), ('hillsborough', 6069), ('th', 6070), ('askin', 6071), ('shoul', 6072), ('iouri', 6073), ('applebees', 6074), ('hasnt', 6075), ('gd', 6076), ('bhaji', 6077), ('cricketer', 6078), ('sachin', 6079), ('oic', 6080), ('tot', 6081), ('din', 6082), ('werethe', 6083), ('monkeespeople', 6084), ('monkeyaround', 6085), ('howdy', 6086), ('gorgeous', 6087), ('blimey', 6088), ('kinda', 6089), ('concentration', 6090), ('hanks', 6091), ('lotsly', 6092), ('acc', 6093), ('75', 6094), ('tenants', 6095), ('1956669', 6096), ('si', 6097), ('oreo', 6098), ('truffles', 6099), ('amy', 6100), ('ure', 6101), ('intelligent', 6102), ('practicum', 6103), ('ears', 6104), ('ttyl', 6105), ('isnt', 6106), ('thru', 6107), ('wavering', 6108), ('coping', 6109), ('heal', 6110), ('upgrdcentre', 6111), ('0207', 6112), ('153', 6113), ('9153', 6114), ('26th', 6115), ('july', 6116), ('opt', 6117), ('railway', 6118), ('princess', 6119), ('oral', 6120), ('doggy', 6121), ('fave', 6122), ('slippery', 6123), ('okmail', 6124), ('dave', 6125), ('tenerife', 6126), ('09061743806', 6127), ('tcs', 6128), ('sae', 6129), ('box326', 6130), ('cw25wx', 6131), ('screamed', 6132), ('enters', 6133), ('transfered', 6134), ('differ', 6135), ('9ja', 6136), ('moan', 6137), ('69888nyt', 6138), ('cum', 6139), ('infront', 6140), ('wise', 6141), ('9t', 6142), ('tension', 6143), ('machi', 6144), ('8th', 6145), ('mcr', 6146), ('sec', 6147), ('fb', 6148), ('jaykwon', 6149), ('thuglyfe', 6150), ('falconerf', 6151), ('activate', 6152), ('07781482378', 6153), ('depends', 6154), ('boye', 6155), ('faded', 6156), ('glory', 6157), ('ralphs', 6158), ('reunion', 6159), ('meh', 6160), ('nope', 6161), ('monday', 6162), ('accenture', 6163), ('jackson', 6164), ('rec', 6165), ('7ish', 6166), ('reache', 6167), ('fightng', 6168), ('some1', 6169), ('dificult', 6170), ('nuerologist', 6171), ('lolnice', 6172), ('123', 6173), ('1450', 6174), ('09050002311', 6175), ('b4280703', 6176), ('08718727868', 6177), ('bored', 6178), ('westshore', 6179), ('hyde', 6180), ('anthony', 6181), ('significance', 6182), ('jada', 6183), ('kusruthi', 6184), ('silent', 6185), ('spl', 6186), ('matured', 6187), ('stylish', 6188), ('scrounge', 6189), ('ammo', 6190), ('ak', 6191), ('prabha', 6192), ('soryda', 6193), ('realy', 6194), ('frm', 6195), ('sory', 6196), ('forgiven', 6197), ('jst', 6198), ('tat', 6199), ('40gb', 6200), ('ipod', 6201), ('mp3', 6202), ('83355', 6203), ('ibhltd', 6204), ('ldnw15h', 6205), ('mtmsgrcvd18', 6206), ('boltblue', 6207), ('mono', 6208), ('poly3', 6209), ('cha', 6210), ('jamz', 6211), ('toxic', 6212), ('topped', 6213), ('bubbletext', 6214), ('renewal', 6215), ('pin', 6216), ('tgxxrz', 6217), ('problematic', 6218), ('bday', 6219), ('definite', 6220), ('nos', 6221), ('booking', 6222), ('fri', 6223), ('unconscious', 6224), ('behave', 6225), ('abnormally', 6226), ('ebay', 6227), ('pickle', 6228), ('tacos', 6229), ('rude', 6230), ('02', 6231), ('09', 6232), ('0871', 6233), ('872', 6234), ('9755', 6235), ('box95qu', 6236), ('mas', 6237), ('150', 6238), ('85023', 6239), ('savamob', 6240), ('08717898035', 6241), ('00', 6242), ('sub', 6243), ('unsub', 6244), ('lady', 6245), ('recieve', 6246), ('24hrs', 6247), ('teletext', 6248), ('pg', 6249), ('faggot', 6250), ('2003', 6251), ('07815296484', 6252), ('800', 6253), ('un', 6254), ('redeemed', 6255), ('08718738001', 6256), ('41782', 6257), ('04', 6258), ('l8r', 6259), ('malaria', 6260), ('bani', 6261), ('passionate', 6262), ('kiss', 6263), ('fingers', 6264), ('buttons', 6265), ('ummmmmaah', 6266), ('tirupur', 6267), ('applausestore', 6268), ('monthlysubscription', 6269), ('50p', 6270), ('max6', 6271), ('csc', 6272), ('age16', 6273), ('2stop', 6274), ('quote', 6275), ('unconditionally', 6276), ('temper', 6277), ('oclock', 6278), ('bash', 6279), ('cooped', 6280), ('invitation', 6281), ('cali', 6282), ('english', 6283), ('bloke', 6284), ('weddin', 6285), ('omw', 6286), ('btw', 6287), ('alibi', 6288), ('sink', 6289), ('paces', 6290), ('cage', 6291), ('cock', 6292), ('surrounded', 6293), ('reminding', 6294), ('cuck', 6295), ('hurry', 6296), ('deficient', 6297), ('acknowledgement', 6298), ('astoundingly', 6299), ('tactless', 6300), ('faggy', 6301), ('oath', 6302), ('fo', 6303), ('magic', 6304), ('pan', 6305), ('silly', 6306), ('o', 6307), ('uv', 6308), ('mutations', 6309), ('sunscreen', 6310), ('thesedays', 6311), ('pics', 6312), ('aiyo', 6313), ('mei', 6314), ('workin', 6315), ('bao', 6316), ('sugardad', 6317), ('gee', 6318), ('brownie', 6319), ('geeeee', 6320), ('fuck', 6321), ('2mrw', 6322), ('ninish', 6323), ('icky', 6324), ('american', 6325), ('freek', 6326), ('callin', 6327), ('jen', 6328), ('oooh', 6329), ('ridden', 6330), ('ey', 6331), ('gym', 6332), ('smiles', 6333), ('daddy', 6334), ('scream', 6335), ('dick', 6336), ('missy', 6337), ('yar', 6338), ('mum', 6339), ('sch', 6340), ('goggles', 6341), ('call09050000327', 6342), ('arguing', 6343), ('09050005321', 6344), ('arngd', 6345), ('walkin', 6346), ('unfortuntly', 6347), ('snake', 6348), ('bites', 6349), ('dancing', 6350), ('frnt', 6351), ('sayin', 6352), ('bite', 6353), ('izzit', 6354), ('textand', 6355), ('08002988890', 6356), ('jjc', 6357), ('tendencies', 6358), ('headache', 6359), ('jazz', 6360), ('yogasana', 6361), ('em', 6362), ('meive', 6363), ('gotany', 6364), ('srsly', 6365), ('yi', 6366), ('spree', 6367), ('80878', 6368), ('08715705022', 6369), ('1x150p', 6370), ('08712402050', 6371), ('10ppm', 6372), ('ag', 6373), ('promo', 6374), ('07753741225', 6375), ('08715203677', 6376), ('42478', 6377), ('24', 6378), ('grand', 6379), ('prix', 6380), ('nitz', 6381), ('542', 6382), ('0825', 6383), ('exhausted', 6384), ('pie', 6385), ('ar', 6386), ('blastin', 6387), ('tsunamis', 6388), ('rajnikant', 6389), ('swimming', 6390), ('indian', 6391), ('ocean', 6392), ('xclusive', 6393), ('clubsaisai', 6394), ('2morow', 6395), ('28', 6396), ('soiree', 6397), ('speciale', 6398), ('zouk', 6399), ('nichols', 6400), ('paris', 6401), ('roses', 6402), ('ladies', 6403), ('07946746291', 6404), ('07880867867', 6405), ('bridgwater', 6406), ('banter', 6407), ('neva', 6408), ('imma', 6409), ('somethin', 6410), ('22', 6411), ('euro2004', 6412), ('83222', 6413), ('valentine', 6414), ('ques', 6415), ('suits', 6416), ('dependents', 6417), ('thanx4', 6418), ('cer', 6419), ('handsomes', 6420), ('beauties', 6421), ('aunties', 6422), ('uncles', 6423), ('shuhui', 6424), ('leona', 6425), ('happiness', 6426), ('friendships', 6427), ('dismay', 6428), ('alex', 6429), ('pub', 6430), ('bud', 6431), ('drinks', 6432), ('tootsie', 6433), ('darren', 6434), ('textbuddy', 6435), ('25p', 6436), ('postcode', 6437), ('gaytextbuddy', 6438), ('89693', 6439), ('vodafone', 6440), ('4882', 6441), ('09064019014', 6442), ('forwarded', 6443), ('seventeen', 6444), ('ml', 6445), ('voucher', 6446), ('holder', 6447), ('pc', 6448), ('tlp', 6449), ('expressoffer', 6450), ('ts', 6451), ('80062', 6452), ('sweetheart', 6453), ('biola', 6454), ('login', 6455), ('fetching', 6456), ('restock', 6457), ('thanksgiving', 6458), ('brighten', 6459), ('wee', 6460), ('thursday', 6461), ('allo', 6462), ('braved', 6463), ('trains', 6464), ('triumphed', 6465), ('jolly', 6466), ('cartoon', 6467), ('temple', 6468), ('uncomfortable', 6469), ('08715203694', 6470), ('40533', 6471), ('31', 6472), ('rstm', 6473), ('sw7', 6474), ('3ss', 6475), ('gentle', 6476), ('sonetimes', 6477), ('panic', 6478), ('tuesday', 6479), ('wesleys', 6480), ('hella', 6481), ('dealer', 6482), ('impatient', 6483), ('cloud', 6484), ('evng', 6485), ('wikipedia', 6486), ('88800', 6487), ('89034', 6488), ('08718711108', 6489), ('lays', 6490), ('envelope', 6491), ('repent', 6492), ('fetch', 6493), ('kama', 6494), ('sutra', 6495), ('en', 6496), ('nange', 6497), ('bakra', 6498), ('kalstiya', 6499), ('lakhs', 6500), ('ho', 6501), ('belly', 6502), ('laugh', 6503), ('sun0819', 6504), ('08452810071', 6505), ('ditto', 6506), ('knw', 6507), ('wetherspoons', 6508), ('piggy', 6509), ('awake', 6510), ('freaky', 6511), ('yelling', 6512), ('scrappy', 6513), ('lonely', 6514), ('hex', 6515), ('sdryb8i', 6516), ('xy', 6517), ('sue', 6518), ('lapdancer', 6519), ('bedroom', 6520), ('89555', 6521), ('textoperator', 6522), ('g2', 6523), ('1da', 6524), ('150ppmsg', 6525), ('king', 6526), ('crying', 6527), ('imprtant', 6528), ('tomorw', 6529), ('cherthala', 6530), ('cochin', 6531), ('bfore', 6532), ('accordingly', 6533), ('tmorow', 6534), ('ans', 6535), ('torch', 6536), ('bold', 6537), ('448712404000', 6538), ('08712404000', 6539), ('4d', 6540), ('1405', 6541), ('1680', 6542), ('1843', 6543), ('poop', 6544), ('gpu', 6545), ('entrepreneurs', 6546), ('corporation', 6547), ('dehydration', 6548), ('fluids', 6549), ('weird', 6550), ('trek', 6551), ('harri', 6552), ('drivin', 6553), ('gage', 6554), ('deck', 6555), ('cnupdates', 6556), ('newsletter', 6557), ('alerts', 6558), ('height', 6559), ('aeronautics', 6560), ('professors', 6561), ('wer', 6562), ('calld', 6563), ('aeroplane', 6564), ('aftr', 6565), ('ws', 6566), ('dey', 6567), ('hurried', 6568), ('shitstorm', 6569), ('attributed', 6570), ('08714712388', 6571), ('7pm', 6572), ('dorm', 6573), ('449071512431', 6574), ('1250', 6575), ('09071512433', 6576), ('b4', 6577), ('050703', 6578), ('csbcm4235wc1n3xx', 6579), ('callcost', 6580), ('mobilesvary', 6581), ('max', 6582), ('sth', 6583), ('specs', 6584), ('px3748', 6585), ('08714712394', 6586), ('macha', 6587), ('mindset', 6588), ('wondar', 6589), ('flim', 6590), ('cookies', 6591), ('jelly', 6592), ('admit', 6593), ('mad', 6594), ('correction', 6595), ('scrumptious', 6596), ('ba', 6597), ('dao', 6598), ('half8th', 6599), ('jide', 6600), ('alertfrom', 6601), ('jeri', 6602), ('stewartsize', 6603), ('2kbsubject', 6604), ('prescripiton', 6605), ('drvgsto', 6606), ('yay', 6607), ('steak', 6608), ('neglect', 6609), ('prayers', 6610), ('nokia6650', 6611), ('txtauction', 6612), ('81151', 6613), ('4t', 6614), ('ctxt', 6615), ('mtmsg', 6616), ('mayb', 6617), ('rite', 6618), ('gals', 6619), ('hadn', 6620), ('clocks', 6621), ('shouted', 6622), ('realised', 6623), ('wahay', 6624), ('shorter', 6625), ('gaze', 6626), ('930', 6627), ('subscribed', 6628), ('82324', 6629), ('helpline', 6630), ('08706091795', 6631), ('gist', 6632), ('40', 6633), ('tattoos', 6634), ('gim', 6635), ('lip', 6636), ('caveboy', 6637), ('confused', 6638), ('holla', 6639), ('spare', 6640), ('vibrate', 6641), ('79', 6642), ('08704439680ts', 6643), ('grandmas', 6644), ('hungover', 6645), ('unclaimed', 6646), ('09066368327', 6647), ('closingdate04', 6648), ('claimcode', 6649), ('m39m51', 6650), ('50pmmorefrommobile2bremoved', 6651), ('mobypobox734ls27yf', 6652), ('gua', 6653), ('mt', 6654), ('faber', 6655), ('yest', 6656), ('wishing', 6657), ('88039', 6658), ('skilgme', 6659), ('tscs087147403231winawk', 6660), ('50perwksub', 6661), ('goin', 6662), ('meetin', 6663), ('tis', 6664), ('damn', 6665), ('hunting', 6666), ('drunkard', 6667), ('wats', 6668), ('idc', 6669), ('weaseling', 6670), ('trash', 6671), ('smokes', 6672), ('begging', 6673), ('lovely', 6674), ('sing', 6675), ('slave', 6676), ('punish', 6677), ('beerage', 6678), ('0578', 6679), ('randomlly', 6680), ('couldn', 6681), ('fixes', 6682), ('spelling', 6683), ('diff', 6684), ('100p', 6685), ('polyphonic', 6686), ('087018728737', 6687), ('toppoly', 6688), ('tune', 6689), ('subpoly', 6690), ('81618', 6691), ('pole', 6692), ('08718727870', 6693), ('fondly', 6694), ('bein', 6695), ('thot', 6696), ('dogbreath', 6697), ('sounding', 6698), ('jan', 6699), ('omg', 6700), ('weighed', 6701), ('woohoo', 6702), ('uncountable', 6703), ('dictionary', 6704), ('9996', 6705), ('14thmarch', 6706), ('availa', 6707), ('petey', 6708), ('whereare', 6709), ('friendsare', 6710), ('thekingshead', 6711), ('canlove', 6712), ('nic', 6713), ('pobox84', 6714), ('m263uz', 6715), ('appt', 6716), ('no1', 6717), ('8077', 6718), ('mates', 6719), ('getzed', 6720), ('36504', 6721), ('w45wq', 6722), ('norm150p', 6723), ('cashto', 6724), ('08000407165', 6725), ('getstop', 6726), ('88222', 6727), ('php', 6728), ('rg21', 6729), ('4jx', 6730), ('dled', 6731), ('3d', 6732), ('imp', 6733), ('ain', 6734), ('smokin', 6735), ('boooo', 6736), ('bec', 6737), ('ugh', 6738), ('costumes', 6739), ('yowifes', 6740), ('hint', 6741), ('borrow', 6742), ('outbid', 6743), ('simonwatson5120', 6744), ('shinco', 6745), ('plyr', 6746), ('smsrewards', 6747), ('notifications', 6748), ('youi', 6749), ('galileo', 6750), ('dobby', 6751), ('responding', 6752), ('boo', 6753), ('enjoyin', 6754), ('yourjob', 6755), ('gettin', 6756), ('hunny', 6757), ('llspeak', 6758), ('2u', 6759), ('soonlots', 6760), ('loveme', 6761), ('xxxx', 6762), ('starshine', 6763), ('ache', 6764), ('sips', 6765), ('cappuccino', 6766), ('teasing', 6767), ('smsservices', 6768), ('yourinclusive', 6769), ('comuk', 6770), ('3qxj9', 6771), ('08702840625', 6772), ('220', 6773), ('cm2', 6774), ('9ae', 6775), ('alfie', 6776), ('moon', 6777), ('m8s', 6778), ('8007', 6779), ('nokias', 6780), ('polys', 6781), ('zed', 6782), ('08701417012', 6783), ('bits', 6784), ('hahaha', 6785), ('burial', 6786), ('mojibiola', 6787), ('09065174042', 6788), ('cust', 6789), ('07821230901', 6790), ('mate', 6791), ('rv', 6792), ('hol', 6793), ('rvx', 6794), ('skyped', 6795), ('kz', 6796), ('sura', 6797), ('ultimatum', 6798), ('countin', 6799), ('aburo', 6800), ('surely', 6801), ('08002888812', 6802), ('inconsiderate', 6803), ('nag', 6804), ('hence', 6805), ('wed', 6806), ('soo', 6807), ('2morrow', 6808), ('prashanthettan', 6809), ('09066350750', 6810), ('ibiza', 6811), ('await', 6812), ('sk3', 6813), ('8wp', 6814), ('ppm', 6815), ('suite', 6816), ('xavier', 6817), ('samantha', 6818), ('guitar', 6819), ('impress', 6820), ('doug', 6821), ('realizes', 6822), ('stomach', 6823), ('trauma', 6824), ('swear', 6825), ('inner', 6826), ('tigress', 6827), ('urfeeling', 6828), ('bettersn', 6829), ('probthat', 6830), ('overdose', 6831), ('spk', 6832), ('sn', 6833), ('lovejen', 6834), ('worlds', 6835), ('discreet', 6836), ('vip', 6837), ('83110', 6838), ('hai', 6839), ('ana', 6840), ('sathy', 6841), ('rto', 6842), ('spoons', 6843), ('tampa', 6844), ('genius', 6845), ('whenever', 6846), ('lotta', 6847), ('corvettes', 6848), ('lately', 6849), ('yrs', 6850), ('cds', 6851), ('virgin', 6852), ('mystery', 6853), ('09061104283', 6854), ('smsco', 6855), ('50pm', 6856), ('approx', 6857), ('bunkers', 6858), ('07808', 6859), ('xxxxxx', 6860), ('08719899217', 6861), ('41685', 6862), ('07', 6863), ('posh', 6864), ('chaps', 6865), ('prods', 6866), ('champneys', 6867), ('dob', 6868), ('asap', 6869), ('0721072', 6870), ('philosophical', 6871), ('cuddle', 6872), ('nap', 6873), ('atleast', 6874), ('shakespeare', 6875), ('shesil', 6876), ('10k', 6877), ('5k', 6878), ('09064011000', 6879), ('ntt', 6880), ('cr01327bt', 6881), ('fixedline', 6882), ('castor', 6883), ('liverpool', 6884), ('09058094565', 6885), ('09065171142', 6886), ('stopsms', 6887), ('08', 6888), ('reminder', 6889), ('downloaded', 6890), ('doit', 6891), ('mymoby', 6892), ('woul', 6893), ('curfew', 6894), ('gibe', 6895), ('getsleep', 6896), ('studdying', 6897), ('ear', 6898), ('massages', 6899), ('sup', 6900), ('yoyyooo', 6901), ('permissions', 6902), ('mac', 6903), ('usb', 6904), ('gibbs', 6905), ('unsold', 6906), ('mike', 6907), ('hussey', 6908), ('unbelievable', 6909), ('faglord', 6910), ('nutter', 6911), ('cutter', 6912), ('ctter', 6913), ('cttergg', 6914), ('cttargg', 6915), ('ctargg', 6916), ('ctagg', 6917), ('ie', 6918), ('superb', 6919), ('grateful', 6920), ('happier', 6921), ('experiment', 6922), ('invoices', 6923), ('smell', 6924), ('tobacco', 6925), ('derek', 6926), ('taylor', 6927), ('assumed', 6928), ('charles', 6929), ('lastest', 6930), ('stereophonics', 6931), ('marley', 6932), ('dizzee', 6933), ('racal', 6934), ('libertines', 6935), ('strokes', 6936), ('nookii', 6937), ('bookmark', 6938), ('grinule', 6939), ('greet', 6940), ('fudge', 6941), ('oreos', 6942), ('january', 6943), ('cheaper', 6944), ('08709222922', 6945), ('5p', 6946), ('8p', 6947), ('08712460324', 6948), ('zaher', 6949), ('ym', 6950), ('nauseous', 6951), ('pissed', 6952), ('sweets', 6953), ('pig', 6954), ('dieting', 6955), ('iam', 6956), ('addicted', 6957), ('msging', 6958), ('yck', 6959), ('ma', 6960), ('ashley', 6961), ('avalarr', 6962), ('hollalater', 6963), ('blogging', 6964), ('magicalsongs', 6965), ('blogspot', 6966), ('diet', 6967), ('ate', 6968), ('slices', 6969), ('kvb', 6970), ('88600', 6971), ('1million', 6972), ('ppt150x3', 6973), ('box403', 6974), ('w1t1jy', 6975), ('ore', 6976), ('mo', 6977), ('owo', 6978), ('fro', 6979), ('wherever', 6980), ('samus', 6981), ('shoulders', 6982), ('matthew', 6983), ('09063440451', 6984), ('lux', 6985), ('ppm150', 6986), ('box334', 6987), ('sk38xh', 6988), ('jeans', 6989), ('fever', 6990), ('vomitin', 6991), ('09061749602', 6992), ('528', 6993), ('hp20', 6994), ('1yf', 6995), ('stuffed', 6996), ('bleh', 6997), ('writhing', 6998), ('paypal', 6999), ('voila', 7000), ('pockets', 7001), ('theyre', 7002), ('sorta', 7003), ('blown', 7004), ('sophas', 7005), ('applying', 7006), ('ogunrinde', 7007), ('114', 7008), ('14', 7009), ('tcr', 7010), ('w1', 7011), ('lodging', 7012), ('chk', 7013), ('ms', 7014), ('dict', 7015), ('shb', 7016), ('gravity', 7017), ('filthy', 7018), ('simpler', 7019), ('magical', 7020), ('welp', 7021), ('natwest', 7022), ('09050001808', 7023), ('m95', 7024), ('valid12hrs', 7025), ('chad', 7026), ('gymnastics', 7027), ('christians', 7028), ('necklace', 7029), ('token', 7030), ('liking', 7031), ('aptitude', 7032), ('15', 7033), ('chicken', 7034), ('rice', 7035), ('closes', 7036), ('wrongly', 7037), ('crap', 7038), ('borin', 7039), ('boggy', 7040), ('boring', 7041), ('biatch', 7042), ('nxt', 7043), ('hesitate', 7044), ('weakness', 7045), ('notebook', 7046), ('chocolate', 7047), ('reckon', 7048), ('eightish', 7049), ('carpark', 7050), ('3g', 7051), ('videophones', 7052), ('09063458130', 7053), ('videochat', 7054), ('java', 7055), ('dload', 7056), ('polyph', 7057), ('noline', 7058), ('rentl', 7059), ('fuckin', 7060), ('loving', 7061), ('yun', 7062), ('ubi', 7063), ('67441233', 7064), ('irene', 7065), ('ere', 7066), ('bus8', 7067), ('65', 7068), ('61', 7069), ('66', 7070), ('382', 7071), ('cres', 7072), ('6ph', 7073), ('5wkg', 7074), ('sd', 7075), ('butt', 7076), ('sore', 7077), ('relaxing', 7078), ('7am', 7079), ('5ish', 7080), ('stripes', 7081), ('skirt', 7082), ('miracle', 7083), ('jesus', 7084), ('blessed', 7085), ('escalator', 7086), ('beth', 7087), ('aunts', 7088), ('charlie', 7089), ('helen', 7090), ('syllabus', 7091), ('panasonic', 7092), ('bluetoothhdset', 7093), ('doublemins', 7094), ('doubletxt', 7095), ('30pm', 7096), ('poyyarikatur', 7097), ('kolathupalayam', 7098), ('unjalur', 7099), ('erode', 7100), ('apt', 7101), ('kerala', 7102), ('lovers', 7103), ('supreme', 7104), ('regret', 7105), ('cudnt', 7106), ('ctla', 7107), ('ente', 7108), ('ishtamayoo', 7109), ('bakrid', 7110), ('exe', 7111), ('glorious', 7112), ('anniversary', 7113), ('j', 7114), ('prey', 7115), ('coaxing', 7116), ('fond', 7117), ('souveniers', 7118), ('cougar', 7119), ('pen', 7120), ('secretly', 7121), ('fancies', 7122), ('09065394514', 7123), ('datebox1282essexcm61xn', 7124), ('throat', 7125), ('scratches', 7126), ('plm', 7127), ('asleep', 7128), ('stamps', 7129), ('lecture', 7130), ('sheffield', 7131), ('nanny', 7132), ('zoe', 7133), ('shitin', 7134), ('defo', 7135), ('hardest', 7136), ('lekdog', 7137), ('filling', 7138), ('loverboy', 7139), ('blankets', 7140), ('thx', 7141), ('nyt', 7142), ('edison', 7143), ('rightly', 7144), ('fool', 7145), ('speechless', 7146), ('viva', 7147), ('gm', 7148), ('atten', 7149), ('roast', 7150), ('09058097218', 7151), ('ls15hb', 7152), ('concentrate', 7153), ('flirting', 7154), ('chatting', 7155), ('kickoff', 7156), ('june', 7157), ('3rd', 7158), ('thesis', 7159), ('belligerent', 7160), ('hiya', 7161), ('april', 7162), ('les', 7163), ('rudi', 7164), ('snoring', 7165), ('drunk', 7166), ('sends', 7167), ('ink', 7168), ('515', 7169), ('deciding', 7170), ('eastenders', 7171), ('flower', 7172), ('compare', 7173), ('violet', 7174), ('tulip', 7175), ('lily', 7176), ('84025', 7177), ('wkent', 7178), ('150p16', 7179), ('networking', 7180), ('finalise', 7181), ('flirtparty', 7182), ('replys150', 7183), ('bitch', 7184), ('dentist', 7185), ('09058091854', 7186), ('box385', 7187), ('m6', 7188), ('6wu', 7189), ('bathing', 7190), ('09050003091', 7191), ('c52', 7192), ('xchat', 7193), ('lul', 7194), ('juicy', 7195), ('nurses', 7196), ('shes', 7197), ('obese', 7198), ('oyea', 7199), ('oi', 7200), ('ami', 7201), ('parchi', 7202), ('kicchu', 7203), ('kaaj', 7204), ('korte', 7205), ('iccha', 7206), ('korche', 7207), ('tul', 7208), ('sculpture', 7209), ('convey', 7210), ('regards', 7211), ('surya', 7212), ('vijay', 7213), ('pokkiri', 7214), ('pic', 7215), ('dearer', 7216), ('dem', 7217), ('attraction', 7218), ('breath', 7219), ('sorrows', 7220), ('craziest', 7221), ('proove', 7222), ('planet', 7223), ('praises', 7224), ('curry', 7225), ('makiing', 7226), ('sambar', 7227), ('ndship', 7228), ('needle', 7229), ('evn', 7230), ('itz', 7231), ('4few', 7232), ('alwys', 7233), ('conected', 7234), ('spatula', 7235), ('sipix', 7236), ('09061221061', 7237), ('28days', 7238), ('box177', 7239), ('m221bp', 7240), ('2yr', 7241), ('warranty', 7242), ('p', 7243), ('99', 7244), ('09061790121', 7245), ('complexities', 7246), ('freely', 7247), ('outrageous', 7248), ('tomorro', 7249), ('ryder', 7250), ('subscriber', 7251), ('receipt', 7252), ('elvis', 7253), ('presleys', 7254), ('fret', 7255), ('strips', 7256), ('postal', 7257), ('cliff', 7258), ('ne', 7259), ('wrking', 7260), ('uni', 7261), ('depressed', 7262), ('sittin', 7263), ('drops', 7264), ('aiyah', 7265), ('o2', 7266), ('urawinner', 7267), ('awaiting', 7268), ('hen', 7269), ('italian', 7270), ('grins', 7271), ('smoked', 7272), ('math', 7273), ('dhoni', 7274), ('rocks', 7275), ('teju', 7276), ('hourish', 7277), ('amla', 7278), ('durban', 7279), ('convenience', 7280), ('evaluation', 7281), ('449050000301', 7282), ('09050000301', 7283), ('speedchat', 7284), ('80155', 7285), ('swap', 7286), ('chatter', 7287), ('chat80155', 7288), ('rcd', 7289), ('cancel', 7290), ('cheyyamo', 7291), ('08000776320', 7292), ('aiyar', 7293), ('80160', 7294), ('txt43', 7295), ('catching', 7296), ('throws', 7297), ('gal', 7298), ('whos', 7299), ('hmv1', 7300), ('difficulties', 7301), ('howz', 7302), ('tau', 7303), ('sar', 7304), ('piah', 7305), ('1stchoice', 7306), ('08707808226', 7307), ('shade', 7308), ('copied', 7309), ('notified', 7310), ('84122', 7311), ('08450542832', 7312), ('raining', 7313), ('virgins', 7314), ('4fil', 7315), ('theirs', 7316), ('cute', 7317), ('69911', 7318), ('sitter', 7319), ('kaitlyn', 7320), ('peeps', 7321), ('veggie', 7322), ('computerless', 7323), ('balloon', 7324), ('silently', 7325), ('drms', 7326), ('wrc', 7327), ('oz', 7328), ('lucozade', 7329), ('le', 7330), ('61200', 7331), ('packs', 7332), ('itcould', 7333), ('melody', 7334), ('horrible', 7335), ('macs', 7336), ('toot', 7337), ('nw', 7338), ('hme', 7339), ('islands', 7340), ('chennai', 7341), ('velachery', 7342), ('flippin', 7343), ('cstore', 7344), ('annoying', 7345), ('hangin', 7346), ('makin', 7347), ('lodge', 7348), ('worrying', 7349), ('shame', 7350), ('quizzes', 7351), ('popcorn', 7352), ('jordan', 7353), ('celeb', 7354), ('pocketbabe', 7355), ('087016248', 7356), ('voicemail', 7357), ('08719181503', 7358), ('thin', 7359), ('arguments', 7360), ('fed', 7361), ('himso', 7362), ('2go', 7363), ('neft', 7364), ('credited', 7365), ('beneficiary', 7366), ('tuition', 7367), ('subs16', 7368), ('1win150ppmx3', 7369), ('appreciated', 7370), ('semi', 7371), ('exp', 7372), ('30apr', 7373), ('maaaan', 7374), ('guessin', 7375), ('walmart', 7376), ('ilol', 7377), ('wuldnt', 7378), ('mite', 7379), ('creepy', 7380), ('lunchtime', 7381), ('organise', 7382), ('08719181513', 7383), ('passable', 7384), ('phd', 7385), ('5years', 7386), ('nok', 7387), ('87021', 7388), ('txtin', 7389), ('4info', 7390), ('prakesh', 7391), ('apps', 7392), ('rofl', 7393), ('betta', 7394), ('aging', 7395), ('1hr', 7396), ('accommodation', 7397), ('phb1', 7398), ('ph', 7399), ('08700435505150p', 7400), ('submitting', 7401), ('84128', 7402), ('textcomp', 7403), ('08712405020', 7404), ('snatch', 7405), ('purse', 7406), ('drivby', 7407), ('0quit', 7408), ('edrunk', 7409), ('iff', 7410), ('pthis', 7411), ('senrd', 7412), ('dnot', 7413), ('dancce', 7414), ('drum', 7415), ('basq', 7416), ('ihave', 7417), ('2nhite', 7418), ('ros', 7419), ('xxxxxxx', 7420), ('morn', 7421), ('relieved', 7422), ('westonzoyland', 7423), ('greatness', 7424), ('europe', 7425), ('chinese', 7426), ('docs', 7427), ('havin', 7428), ('goin2bed', 7429), ('only1more', 7430), ('mc', 7431), ('hun', 7432), ('2nite', 7433), ('every1', 7434), ('ava', 7435), ('goodtime', 7436), ('oli', 7437), ('rang', 7438), ('melnite', 7439), ('ifink', 7440), ('sorted', 7441), ('everythin', 7442), ('mon', 7443), ('l8rs', 7444), ('08712402779', 7445), ('flip', 7446), ('shun', 7447), ('bian', 7448), ('el', 7449), ('nino', 7450), ('cbe', 7451), ('honey', 7452), ('jd', 7453), ('downstem', 7454), ('08718730555', 7455), ('wahala', 7456), ('inperialmusic', 7457), ('listening2the', 7458), ('weirdest', 7459), ('leafcutter', 7460), ('john', 7461), ('insects', 7462), ('molested', 7463), ('plumbing', 7464), ('remixed', 7465), ('evil', 7466), ('acid', 7467), ('didntgive', 7468), ('bellearlier', 7469), ('exact', 7470), ('09096102316', 7471), ('2moro', 7472), ('jane', 7473), ('minmoremobsemspobox45po139wa', 7474), ('tee', 7475), ('cheery', 7476), ('thts', 7477), ('dough', 7478), ('80488', 7479), ('weirdo', 7480), ('stalk', 7481), ('profiles', 7482), ('jerry', 7483), ('irritates', 7484), ('fails', 7485), ('drinkin', 7486), ('wondering', 7487), ('5pm', 7488), ('95', 7489), ('pax', 7490), ('deposit', 7491), ('jap', 7492), ('disappeared', 7493), ('birthdate', 7494), ('certificate', 7495), ('publish', 7496), ('dreams', 7497), ('nydc', 7498), ('wheellock', 7499), ('fifty', 7500), ('favour', 7501), ('settling', 7502), ('happenin', 7503), ('ola', 7504), ('cocksuckers', 7505), ('ipads', 7506), ('worthless', 7507), ('garbage', 7508), ('novelty', 7509), ('fran', 7510), ('knackered', 7511), ('janx', 7512), ('dads', 7513), ('designation', 7514), ('jamster', 7515), ('videosound', 7516), ('videosounds', 7517), ('logos', 7518), ('musicnews', 7519), ('09701213186', 7520), ('lions', 7521), ('lionm', 7522), ('lionp', 7523), ('ringtones', 7524), ('3gbp', 7525), ('jokin', 7526), ('bb', 7527), ('shattered', 7528), ('alrite', 7529), ('idiot', 7530), ('girlie', 7531), ('colours', 7532), ('darker', 7533), ('styling', 7534), ('whenevr', 7535), ('gray', 7536), ('remembr', 7537), ('listn', 7538), ('watevr', 7539), ('harry', 7540), ('potter', 7541), ('phoenix', 7542), ('shd', 7543), ('minus', 7544), ('paragraphs', 7545), ('coveragd', 7546), ('vasai', 7547), ('retard', 7548), ('bathroom', 7549), ('sang', 7550), ('uptown', 7551), ('80', 7552), ('february', 7553), ('icic', 7554), ('syria', 7555), ('canada', 7556), ('cares', 7557), ('goodnoon', 7558), ('gauge', 7559), ('patty', 7560), ('vl', 7561), ('completing', 7562), ('ax', 7563), ('chill', 7564), ('6hrs', 7565), ('surgical', 7566), ('unfolds', 7567), ('frens', 7568), ('korean', 7569), ('fredericksburg', 7570), ('que', 7571), ('pases', 7572), ('buen', 7573), ('tiempo', 7574), ('chillin', 7575), ('free2day', 7576), ('george', 7577), ('89080', 7578), ('saucy', 7579), ('0870241182716', 7580), ('theres', 7581), ('tmrw', 7582), ('compass', 7583), ('soul', 7584), ('gnun', 7585), ('way2sms', 7586), ('baaaaabe', 7587), ('misss', 7588), ('youuuuu', 7589), ('ned', 7590), ('convince', 7591), ('tht', 7592), ('witot', 7593), ('hurting', 7594), ('sweetie', 7595), ('blackberry', 7596), ('buyer', 7597), ('4a', 7598), ('pple', 7599), ('marry', 7600), ('becz', 7601), ('undrstndng', 7602), ('avoids', 7603), ('whn', 7604), ('suntec', 7605), ('steamboat', 7606), ('moji', 7607), ('forgive', 7608), ('messenger', 7609), ('tp', 7610), ('fantasies', 7611), ('08707509020', 7612), ('20p', 7613), ('1327', 7614), ('croydon', 7615), ('cr9', 7616), ('5wb', 7617), ('0870', 7618), ('bbq', 7619), ('6ish', 7620), ('everyso', 7621), ('panicks', 7622), ('gently', 7623), ('bears', 7624), ('nick', 7625), ('tom', 7626), ('upload', 7627), ('08718730666', 7628), ('auntie', 7629), ('huai', 7630), ('juan', 7631), ('linerental', 7632), ('lf56', 7633), ('tlk', 7634), ('paths', 7635), ('thirunelvali', 7636), ('tirunelvali', 7637), ('storming', 7638), ('phne', 7639), ('wt', 7640), ('margaret', 7641), ('girlfrnd', 7642), ('grahmbell', 7643), ('invnted', 7644), ('telphone', 7645), ('moral', 7646), ('4get', 7647), ('popped', 7648), ('tonght', 7649), ('ploughing', 7650), ('pile', 7651), ('ironing', 7652), ('chinky', 7653), ('wi', 7654), ('nz', 7655), ('aust', 7656), ('bk', 7657), ('cafe', 7658), ('recharged', 7659), ('kidding', 7660), ('papa', 7661), ('shld', 7662), ('sinco', 7663), ('payee', 7664), ('icicibank', 7665), ('urn', 7666), ('beware', 7667), ('frauds', 7668), ('disclose', 7669), ('caring', 7670), ('losers', 7671), ('kaiez', 7672), ('beta', 7673), ('practicing', 7674), ('babies', 7675), ('noncomittal', 7676), ('beneath', 7677), ('pale', 7678), ('goodnite', 7679), ('msgrcvdhg', 7680), ('snickering', 7681), ('chords', 7682), ('rem', 7683), ('lmao', 7684), ('silence', 7685), ('win150ppmx3age16', 7686), ('exams', 7687), ('revision', 7688), ('boyf', 7689), ('interviw', 7690), ('exeter', 7691), ('spreadsheet', 7692), ('arsenal', 7693), ('dartboard', 7694), ('trebles', 7695), ('coat', 7696), ('painful', 7697), ('recognises', 7698), ('wisheds', 7699), ('intrepid', 7700), ('duo', 7701), ('missin', 7702), ('aiya', 7703), ('cardiff', 7704), ('addie', 7705), ('tues', 7706), ('breeze', 7707), ('twittering', 7708), ('textpod', 7709), ('pod', 7710), ('ducking', 7711), ('chinchillas', 7712), ('headstart', 7713), ('rummer', 7714), ('monkeys', 7715), ('optin', 7716), ('bbc', 7717), ('charts', 7718), ('thanks2', 7719), ('rajini', 7720), ('summers', 7721), ('matched', 7722), ('optout', 7723), ('help08714742804', 7724), ('spys', 7725), ('mails', 7726), ('claire', 7727), ('09099725823', 7728), ('costing', 7729), ('yalru', 7730), ('lyfu', 7731), ('astne', 7732), ('innu', 7733), ('mundhe', 7734), ('lyf', 7735), ('ali', 7736), ('halla', 7737), ('ke', 7738), ('bilo', 7739), ('edhae', 7740), ('ovr', 7741), ('vargu', 7742), ('meow', 7743), ('twelve', 7744), ('aah', 7745), ('09066362231', 7746), ('07xxxxxxxxx', 7747), ('06', 7748), ('prone', 7749), ('07801543489', 7750), ('latests', 7751), ('llc', 7752), ('ny', 7753), ('usa', 7754), ('msgrcvd18', 7755), ('lucy', 7756), ('hubby', 7757), ('meetins', 7758), ('cumin', 7759), ('09099726395', 7760), ('minmobsmorelkpobox177hp51fl', 7761), ('wonders', 7762), ('7th', 7763), ('6th', 7764), ('5th', 7765), ('4th', 7766), ('personality', 7767), ('dose', 7768), ('tablet', 7769), ('incomm', 7770), ('blake', 7771), ('lotr', 7772), ('google', 7773), ('maps', 7774), ('tiring', 7775), ('modules', 7776), ('concentrating', 7777), ('browsin', 7778), ('compulsory', 7779), ('purity', 7780), ('musthu', 7781), ('vomit', 7782), ('aint', 7783), ('sha', 7784), ('vitamin', 7785), ('centre', 7786), ('jsco', 7787), ('2channel', 7788), ('psychic', 7789), ('idps', 7790), ('linux', 7791), ('converter', 7792), ('karaoke', 7793), ('sayy', 7794), ('nit', 7795), ('leanne', 7796), ('disc', 7797), ('hows', 7798), ('champ', 7799), ('glasgow', 7800), ('lovin', 7801), ('install', 7802), ('browse', 7803), ('corect', 7804), ('speling', 7805), ('sarcasm', 7806), ('4719', 7807), ('523', 7808), ('ron', 7809), ('cts', 7810), ('aunt', 7811), ('nike', 7812), ('sooo', 7813), ('screaming', 7814), ('shouting', 7815), ('dang', 7816), ('unfortunately', 7817), ('7250i', 7818), ('86021', 7819), ('w1jhl', 7820), ('earliest', 7821), ('nordstrom', 7822), ('konw', 7823), ('waht', 7824), ('rael', 7825), ('gving', 7826), ('yuo', 7827), ('exmpel', 7828), ('jsut', 7829), ('ese', 7830), ('tihs', 7831), ('evrey', 7832), ('splleing', 7833), ('wrnog', 7834), ('sitll', 7835), ('raed', 7836), ('wihtuot', 7837), ('ayn', 7838), ('mitsake', 7839), ('ow', 7840), ('bleak', 7841), ('shant', 7842), ('jia', 7843), ('bishan', 7844), ('nearer', 7845), ('sux', 7846), ('raiden', 7847), ('buff', 7848), ('preferably', 7849), ('kegger', 7850), ('totes', 7851), ('pierre', 7852), ('cardin', 7853), ('rhythm', 7854), ('truro', 7855), ('ext', 7856), ('adventure', 7857), ('cloth', 7858), ('tablets', 7859), ('sunroof', 7860), ('wifi', 7861), ('blanked', 7862), ('rumour', 7863), ('kalainar', 7864), ('thenampet', 7865), ('7250', 7866), ('nosy', 7867), ('idk', 7868), ('reacting', 7869), ('freaked', 7870), ('satanic', 7871), ('imposter', 7872), ('destiny', 7873), ('companion', 7874), ('chef', 7875), ('listener', 7876), ('organizer', 7877), ('boyfriend', 7878), ('sympathetic', 7879), ('courageous', 7880), ('dependable', 7881), ('psychologist', 7882), ('pest', 7883), ('exterminator', 7884), ('psychiatrist', 7885), ('healer', 7886), ('stylist', 7887), ('aaniye', 7888), ('pudunga', 7889), ('venaam', 7890), ('brothas', 7891), ('chasing', 7892), ('chez', 7893), ('jules', 7894), ('hhahhaahahah', 7895), ('nig', 7896), ('leonardo', 7897), ('kicks', 7898), ('2years', 7899), ('strain', 7900), ('dime', 7901), ('withdraw', 7902), ('anyhow', 7903), ('smeone', 7904), ('millers', 7905), ('spark', 7906), ('flame', 7907), ('rawring', 7908), ('xoxo', 7909), ('somewhr', 7910), ('crushes', 7911), ('honeymoon', 7912), ('outfit', 7913), ('propose', 7914), ('08719899230', 7915), ('gods', 7916), ('blessings', 7917), ('cheque', 7918), ('olympics', 7919), ('leo', 7920), ('haul', 7921), ('wildlife', 7922), ('want2come', 7923), ('that2worzels', 7924), ('wizzle', 7925), ('dippeditinadew', 7926), ('lovingly', 7927), ('itwhichturnedinto', 7928), ('gifted', 7929), ('tomeandsaid', 7930), ('shanghai', 7931), ('cya', 7932), ('freezing', 7933), ('645', 7934), ('rt', 7935), ('ringtoneking', 7936), ('08701237397', 7937), ('redeemable', 7938), ('thnx', 7939), ('sef', 7940), ('anjie', 7941), ('batch', 7942), ('fring', 7943), ('flaky', 7944), ('sooooo', 7945), ('laughing', 7946), ('tooo', 7947), ('nte', 7948), ('09058094599', 7949), ('confuses', 7950), ('wating', 7951), ('british', 7952), ('london', 7953), ('02072069400', 7954), ('bx', 7955), ('526', 7956), ('sw73ss', 7957), ('talents', 7958), ('6pm', 7959), ('buzz', 7960), ('adoring', 7961), ('eerie', 7962), ('dracula', 7963), ('ghost', 7964), ('addamsfa', 7965), ('munsters', 7966), ('exorcist', 7967), ('twilight', 7968), ('shiny', 7969), ('warming', 7970), ('cared', 7971), ('wasn', 7972), ('french', 7973), ('fooled', 7974), ('0a', 7975), ('feelin', 7976), ('lnly', 7977), ('moby', 7978), ('82242', 7979), ('msg150p', 7980), ('2rcv', 7981), ('hlp', 7982), ('08712317606', 7983), ('dammit', 7984), ('wright', 7985), ('laden', 7986), ('wrecked', 7987), ('spontaneously', 7988), ('goodevening', 7989), ('lei', 7990), ('80608', 7991), ('movietrivia', 7992), ('08712405022', 7993), ('waking', 7994), ('rgent', 7995), ('lookin', 7996), ('daytime', 7997), ('busty', 7998), ('09099726429', 7999), ('janinexx', 8000), ('spageddies', 8001), ('phasing', 8002), ('dimension', 8003), ('meaningful', 8004), ('compromised', 8005), ('09050001295', 8006), ('a21', 8007), ('mobsi', 8008), ('391784', 8009), ('dub', 8010), ('je', 8011), ('toughest', 8012), ('sh', 8013), ('jas', 8014), ('squatting', 8015), ('cramps', 8016), ('0089', 8017), ('digits', 8018), ('09063442151', 8019), ('nan', 8020), ('sonathaya', 8021), ('soladha', 8022), ('raping', 8023), ('dudes', 8024), ('poker', 8025), ('weightloss', 8026), ('mushy', 8027), ('embarrassed', 8028), ('stash', 8029), ('priya', 8030), ('81303', 8031), ('messy', 8032), ('kilos', 8033), ('accidant', 8034), ('tookplace', 8035), ('ghodbandar', 8036), ('rd', 8037), ('slovely', 8038), ('slip', 8039), ('wkg', 8040), ('nus', 8041), ('sc', 8042), ('specialise', 8043), ('wad', 8044), ('dislikes', 8045), ('queen', 8046), ('desparately', 8047), ('fren', 8048), ('stereo', 8049), ('mi', 8050), ('121', 8051), ('60p', 8052), ('09094646899', 8053), ('vu', 8054), ('bcm1896wc1n3xx', 8055), ('classmates', 8056), ('2007', 8057), ('trackmarque', 8058), ('vipclub4u', 8059), ('missionary', 8060), ('hook', 8061), ('entertaining', 8062), ('hugh', 8063), ('laurie', 8064), ('praps', 8065), ('jon', 8066), ('bin', 8067), ('spain', 8068), ('dinero', 8069), ('rents', 8070), ('000pes', 8071), ('48', 8072), ('james', 8073), ('maangalyam', 8074), ('alaipayuthe', 8075), ('complaining', 8076), ('mandy', 8077), ('sullivan', 8078), ('hotmix', 8079), ('fm', 8080), ('easter', 8081), ('09041940223', 8082), ('29', 8083), ('05', 8084), ('finn', 8085), ('di', 8086), ('bahamas', 8087), ('callfreefone', 8088), ('08081560665', 8089), ('cruise', 8090), ('07786200117', 8091), ('downon', 8092), ('theacusations', 8093), ('itxt', 8094), ('iwana', 8095), ('wotu', 8096), ('doin', 8097), ('thew', 8098), ('haventcn', 8099), ('up4', 8100), ('nething', 8101), ('dine', 8102), ('conacted', 8103), ('09111030116', 8104), ('pobox12n146tf15', 8105), ('inspection', 8106), ('nursery', 8107), ('habit', 8108), ('panren', 8109), ('paru', 8110), ('chuckin', 8111), ('trainners', 8112), ('carryin', 8113), ('bac', 8114), ('dhanush', 8115), ('needing', 8116), ('habba', 8117), ('hw', 8118), ('dileep', 8119), ('muchand', 8120), ('contacts', 8121), ('venugopal', 8122), ('remembrs', 8123), ('forgets', 8124), ('everytime', 8125), ('mandan', 8126), ('07734396839', 8127), ('ibh', 8128), ('nokia6600', 8129), ('3230', 8130), ('textbook', 8131), ('algorithms', 8132), ('buns', 8133), ('adore', 8134), ('invaders', 8135), ('orig', 8136), ('arcade', 8137), ('console', 8138), ('settings', 8139), ('09064018838', 8140), ('cro1327', 8141), ('atlanta', 8142), ('recharge', 8143), ('fills', 8144), ('gaps', 8145), ('arun', 8146), ('transfr', 8147), ('takin', 8148), ('philosophy', 8149), ('intend', 8150), ('iwas', 8151), ('marine', 8152), ('itried2tell', 8153), ('urmom', 8154), ('careabout', 8155), ('foley', 8156), ('prizes', 8157), ('82050', 8158), ('desparate', 8159), ('fake', 8160), ('answering', 8161), ('iraq', 8162), ('afghanistan', 8163), ('1225', 8164), ('50award', 8165), ('3100', 8166), ('pai', 8167), ('seh', 8168), ('combine', 8169), ('walsall', 8170), ('tue', 8171), ('terry', 8172), ('jess', 8173), ('sian', 8174), ('ccna', 8175), ('shrek', 8176), ('dirty', 8177), ('dying', 8178), ('lifting', 8179), ('teresa', 8180), ('dec', 8181), ('ld', 8182), ('bam', 8183), ('usmle', 8184), ('squishy', 8185), ('mwahs', 8186), ('hottest', 8187), ('g696ga', 8188), ('cheek', 8189), ('september', 8190), ('hack', 8191), ('backdoor', 8192), ('fraction', 8193), ('neo69', 8194), ('09050280520', 8195), ('subscribe', 8196), ('dps', 8197), ('bcm', 8198), ('8027', 8199), ('norm', 8200), ('joanna', 8201), ('comingdown', 8202), ('murali', 8203), ('sts', 8204), ('engalnd', 8205), ('telly', 8206), ('mia', 8207), ('elliot', 8208), ('kissing', 8209), ('upto', 8210), ('12mths', 8211), ('2price', 8212), ('100txt', 8213), ('mth', 8214), ('tooth', 8215), ('08001950382', 8216), ('d3wv', 8217), ('wipro', 8218), ('matric', 8219), ('850', 8220), ('toa', 8221), ('payoh', 8222), ('650', 8223), ('08718726970', 8224), ('fedex', 8225), ('entertain', 8226), ('delete', 8227), ('tag', 8228), ('wednesday', 8229), ('skype', 8230), ('laundry', 8231), ('underwear', 8232), ('bras', 8233), ('strewn', 8234), ('pillows', 8235), ('waheed', 8236), ('fathima', 8237), ('mmmm', 8238), ('weaknesses', 8239), ('pushes', 8240), ('exposes', 8241), ('pulls', 8242), ('wicked', 8243), ('srt', 8244), ('thnk', 8245), ('ps3', 8246), ('jontin', 8247), ('biro', 8248), ('masters', 8249), ('09058094594', 8250), ('shell', 8251), ('unconsciously', 8252), ('avoiding', 8253), ('unhappy', 8254), ('excuse', 8255), ('jog', 8256), ('0776xxxxxxx', 8257), ('18yrs', 8258), ('09061743811', 8259), ('abta', 8260), ('326', 8261), ('lark', 8262), ('09090900040', 8263), ('sic', 8264), ('7mp', 8265), ('0870753331018', 8266), ('fones', 8267), ('stop2stop', 8268), ('uh', 8269), ('lim', 8270), ('vday', 8271), ('parachute', 8272), ('80182', 8273), ('08452810073', 8274), ('lambda', 8275), ('snowman', 8276), ('angels', 8277), ('snowball', 8278), ('fights', 8279), ('ello', 8280), ('ikea', 8281), ('ofice', 8282), ('cn', 8283), ('duffer', 8284), ('grr', 8285), ('prescription', 8286), ('pharmacy', 8287), ('cook', 8288), ('08715500022', 8289), ('rpl', 8290), ('cnl', 8291), ('fffff', 8292), ('kadeem', 8293), ('fujitsu', 8294), ('lifebook', 8295), ('scold', 8296), ('zhong', 8297), ('se', 8298), ('qing', 8299), ('hypertension', 8300), ('wud', 8301), ('annoyin', 8302), ('08702490080', 8303), ('09066358152', 8304), ('prompts', 8305), ('vpod', 8306), ('disturbing', 8307), ('avatar', 8308), ('nigro', 8309), ('scratching', 8310), ('anyplaces', 8311), ('cleaning', 8312), ('ecstasy', 8313), ('09090204448', 8314), ('minded', 8315), ('minapn', 8316), ('ls278bb', 8317), ('flies', 8318), ('hittng', 8319), ('reflex', 8320), ('costa', 8321), ('sol', 8322), ('09050090044', 8323), ('toclaim', 8324), ('pobox334', 8325), ('stockport', 8326), ('max10mins', 8327), ('lousy', 8328), ('cat', 8329), ('woken', 8330), ('hip', 8331), ('adewale', 8332), ('aka', 8333), ('egbon', 8334), ('ic', 8335), ('mary', 8336), ('deduct', 8337), ('wrks', 8338), ('monkey', 8339), ('asshole', 8340), ('grab', 8341), ('sliding', 8342), ('09065394973', 8343), ('payback', 8344), ('honeybee', 8345), ('sweetest', 8346), ('laughed', 8347), ('havnt', 8348), ('crack', 8349), ('gn', 8350), ('tescos', 8351), ('feathery', 8352), ('bowa', 8353), ('infra', 8354), ('nvm', 8355), ('gep', 8356), ('delhi', 8357), ('thinkin', 8358), ('2006', 8359), ('fifa', 8360), ('87239', 8361), ('moms', 8362), ('shhhhh', 8363), ('arul', 8364), ('amk', 8365), ('09061743810', 8366), ('fringe', 8367), ('distract', 8368), ('antha', 8369), ('corrct', 8370), ('dane', 8371), ('rupaul', 8372), ('61610', 8373), ('08712400602450p', 8374), ('tones2you', 8375), ('practising', 8376), ('curtsey', 8377), ('yeh', 8378), ('downloads', 8379), ('african', 8380), ('outreach', 8381), ('mel', 8382), ('8lb', 8383), ('7oz', 8384), ('brilliantly', 8385), ('forwarding', 8386), ('bend', 8387), ('thia', 8388), ('inlude', 8389), ('previews', 8390), ('freefone', 8391), ('08006344447', 8392), ('ambrith', 8393), ('madurai', 8394), ('dha', 8395), ('marrge', 8396), ('kitty', 8397), ('shaved', 8398), ('onwards', 8399), ('tactful', 8400), ('tscs', 8401), ('skillgame', 8402), ('1winaweek', 8403), ('150ppermesssubscription', 8404), ('theatre', 8405), ('eggs', 8406), ('pert', 8407), ('crammed', 8408), ('satsgettin', 8409), ('47per', 8410), ('apologize', 8411), ('pei', 8412), ('subtoitles', 8413), ('jot', 8414), ('cereals', 8415), ('gari', 8416), ('infernal', 8417), ('bold2', 8418), ('calicut', 8419), ('09094100151', 8420), ('aom', 8421), ('gbp5', 8422), ('box61', 8423), ('m60', 8424), ('1er', 8425), ('thkin', 8426), ('parco', 8427), ('nb', 8428), ('resubbing', 8429), ('shadow', 8430), ('breadstick', 8431), ('ahmad', 8432), ('saeed', 8433), ('hallaq', 8434), ('09066362220', 8435), ('box97n7qp', 8436), ('purple', 8437), ('pink', 8438), ('lyk', 8439), ('yelow', 8440), ('bck', 8441), ('brown', 8442), ('giv', 8443), ('arranging', 8444), ('eldest', 8445), ('drugdealer', 8446), ('gender', 8447), ('wither', 8448), ('23f', 8449), ('23g', 8450), ('sleepwell', 8451), ('wondarfull', 8452), ('web2mobile', 8453), ('txt250', 8454), ('box139', 8455), ('la32wu', 8456), ('txtx', 8457), ('onbus', 8458), ('donyt', 8459), ('latelyxxx', 8460), ('85233', 8461), ('mca', 8462), ('yer', 8463), ('84199', 8464), ('eng', 8465), ('box39822', 8466), ('w111wx', 8467), ('yor', 8468), ('jason', 8469), ('soooo', 8470), ('tming', 8471), ('subs', 8472), ('cutest', 8473), ('dice', 8474), ('inclusive', 8475), ('08700469649', 8476), ('box420', 8477), ('howda', 8478), ('mathe', 8479), ('samachara', 8480), ('audrie', 8481), ('autocorrect', 8482), ('simulate', 8483), ('readiness', 8484), ('armand', 8485), ('vomiting', 8486), ('rub', 8487), ('lara', 8488), ('clever', 8489), ('guesses', 8490), ('attach', 8491), ('087123002209am', 8492), ('med', 8493), ('stamped', 8494), ('113', 8495), ('bray', 8496), ('wicklow', 8497), ('eire', 8498), ('washob', 8499), ('nobbing', 8500), ('nickey', 8501), ('platt', 8502), ('ryan', 8503), ('vikky', 8504), ('idew', 8505), ('argh', 8506), ('spotty', 8507), ('sterling', 8508), ('xam', 8509), ('hesitation', 8510), ('intha', 8511), ('ponnungale', 8512), ('ipaditan', 8513), ('shitload', 8514), ('diamonds', 8515), ('tessy', 8516), ('nimya', 8517), ('shijas', 8518), ('aunty', 8519), ('china', 8520), ('noisy', 8521), ('needa', 8522), ('mcat', 8523), ('manual', 8524), ('reset', 8525), ('troubleshooting', 8526), ('b4u', 8527), ('27', 8528), ('marsms', 8529), ('b4utele', 8530), ('08717168528', 8531), ('sacrifice', 8532), ('beg', 8533), ('creativity', 8534), ('stifled', 8535), ('morphine', 8536), ('stayin', 8537), ('2getha', 8538), ('buffy', 8539), ('satisfy', 8540), ('pix', 8541), ('qlynnbv', 8542), ('help08700621170150p', 8543), ('30', 8544), ('cld', 8545), ('nosh', 8546), ('waaaat', 8547), ('lololo', 8548), ('occupied', 8549), ('kindly', 8550), ('stapati', 8551), ('cutie', 8552), ('hills', 8553), ('sed', 8554), ('mood', 8555), ('minuts', 8556), ('latr', 8557), ('kidz', 8558), ('sofa', 8559), ('honesty', 8560), ('specialisation', 8561), ('shakara', 8562), ('beggar', 8563), ('smashed', 8564), ('dent', 8565), ('crickiting', 8566), ('imin', 8567), ('dontmatter', 8568), ('urgoin', 8569), ('outl8r', 8570), ('yavnt', 8571), ('popping', 8572), ('ibuprofens', 8573), ('sip', 8574), ('ps', 8575), ('chinatown', 8576), ('porridge', 8577), ('claypot', 8578), ('yam', 8579), ('fishhead', 8580), ('beehoon', 8581), ('tok', 8582), ('jaklin', 8583), ('cliffs', 8584), ('49', 8585), ('ntwk', 8586), ('bundle', 8587), ('avble', 8588), ('mf', 8589), ('ooh', 8590), ('4got', 8591), ('moseley', 8592), ('weds', 8593), ('thankyou', 8594), ('aluable', 8595), ('ffectionate', 8596), ('oveable', 8597), ('ternal', 8598), ('oble', 8599), ('ruthful', 8600), ('ntimate', 8601), ('atural', 8602), ('namous', 8603), ('textin', 8604), ('cousin', 8605), ('frndship', 8606), ('excuses', 8607), ('raji', 8608), ('amigos', 8609), ('burn', 8610), ('holy', 8611), ('weren', 8612), ('arty', 8613), ('collages', 8614), ('tryin', 8615), ('2hrs', 8616), ('waliking', 8617), ('cartons', 8618), ('shelves', 8619), ('08714712379', 8620), ('mirror', 8621), ('youre', 8622), ('freak', 8623), ('ref', 8624), ('k718', 8625), ('09065069120', 8626), ('jod', 8627), ('keris', 8628), ('smidgin', 8629), ('belive', 8630), ('intentions', 8631), ('slots', 8632), ('accordin', 8633), ('knocking', 8634), ('como', 8635), ('listened2the', 8636), ('plaid', 8637), ('air1', 8638), ('hilarious', 8639), ('braindance', 8640), ('ofstuff', 8641), ('aphex', 8642), ('abel', 8643), ('nelson', 8644), ('temp', 8645), ('unmits', 8646), ('soup', 8647), ('yummmm', 8648), ('puzzeles', 8649), ('4goten', 8650), ('scammers', 8651), ('prem', 8652), ('2morro', 8653), ('09099726481', 8654), ('dena', 8655), ('spoiled', 8656), ('r836', 8657), ('09065069154', 8658), ('shifad', 8659), ('reminds', 8660), ('lounge', 8661), ('lk', 8662), ('lov', 8663), ('splashmobile', 8664), ('subscrition', 8665), ('300p', 8666), ('dust', 8667), ('u4', 8668), ('01223585334', 8669), ('2c', 8670), ('shagged', 8671), ('8552', 8672), ('2end', 8673), ('88877', 8674), ('88066', 8675), ('3pound', 8676), ('watchin', 8677), ('meaningless', 8678), ('brdget', 8679), ('jones', 8680), ('inever', 8681), ('hype', 8682), ('700', 8683), ('bedrm', 8684), ('waited', 8685), ('velly', 8686), ('wkend', 8687), ('marking', 8688), ('mids', 8689), ('oranges', 8690), ('upd8', 8691), ('2stoptx', 8692), ('annie', 8693), ('remind', 8694), ('08718738034', 8695), ('21870000', 8696), ('mailbox', 8697), ('messaging', 8698), ('09056242159', 8699), ('retrieve', 8700), ('va', 8701), ('hrishi', 8702), ('nothin', 8703), ('hanger', 8704), ('poem', 8705), ('cheer', 8706), ('tear', 8707), ('duchess', 8708), ('cornwall', 8709), ('008704050406', 8710), ('arrow', 8711), ('blanket', 8712), ('08718726971', 8713), ('tddnewsletter', 8714), ('emc1', 8715), ('thedailydraw', 8716), ('prizeswith', 8717), ('waqt', 8718), ('pehle', 8719), ('naseeb', 8720), ('zyada', 8721), ('kisi', 8722), ('ko', 8723), ('kuch', 8724), ('nahi', 8725), ('milta', 8726), ('zindgi', 8727), ('wo', 8728), ('jo', 8729), ('hum', 8730), ('sochte', 8731), ('jeetey', 8732), ('stalking', 8733), ('dan', 8734), ('reminded', 8735), ('varaya', 8736), ('elaya', 8737), ('09066368753', 8738), ('97n7qp', 8739), ('anand', 8740), ('aww', 8741), ('jez', 8742), ('iscoming', 8743), ('todo', 8744), ('workand', 8745), ('whilltake', 8746), ('zogtorius', 8747), ('staring', 8748), ('alian', 8749), ('or2optout', 8750), ('hv9d', 8751), ('posible', 8752), ('cm', 8753), ('frwd', 8754), ('unnecessarily', 8755), ('affectionate', 8756), ('sorts', 8757), ('buddys', 8758), ('80082', 8759), ('08712402902', 8760), ('possessive', 8761), ('clarification', 8762), ('spook', 8763), ('halloween', 8764), ('08701417012150p', 8765), ('weigh', 8766), ('fantasy', 8767), ('sky', 8768), ('gamestar', 8769), ('250k', 8770), ('88088', 8771), ('coimbatore', 8772), ('expired', 8773), ('monoc', 8774), ('monos', 8775), ('polyc', 8776), ('stream', 8777), ('0871212025016', 8778), ('ethnicity', 8779), ('census', 8780), ('transcribing', 8781), ('propsd', 8782), ('gv', 8783), ('lv', 8784), ('lttrs', 8785), ('thm', 8786), ('aproach', 8787), ('dt', 8788), ('speeding', 8789), ('wn', 8790), ('instantly', 8791), ('thy', 8792), ('happily', 8793), ('2gthr', 8794), ('evrydy', 8795), ('paragon', 8796), ('arent', 8797), ('cakes', 8798), ('bluff', 8799), ('draws', 8800), ('goodmate', 8801), ('sary', 8802), ('asusual', 8803), ('cheered', 8804), ('franyxxxxx', 8805), ('batt', 8806), ('pussy', 8807), ('becausethey', 8808), ('09058098002', 8809), ('pobox1', 8810), ('w14rg', 8811), ('responce', 8812), ('happend', 8813), ('wiskey', 8814), ('brandy', 8815), ('rum', 8816), ('gin', 8817), ('vodka', 8818), ('scotch', 8819), ('shampain', 8820), ('kudi', 8821), ('yarasu', 8822), ('dhina', 8823), ('vaazhthukkal', 8824), ('kg', 8825), ('sugar', 8826), ('dumb', 8827), ('thangam', 8828), ('okey', 8829), ('doke', 8830), ('dressed', 8831), ('laying', 8832), ('neshanth', 8833), ('byatch', 8834), ('whassup', 8835), ('kay', 8836), ('roger', 8837), ('cl', 8838), ('nasty', 8839), ('filthyguys', 8840), ('slo', 8841), ('4msgs', 8842), ('wasted', 8843), ('chiong', 8844), ('christ', 8845), ('reltnship', 8846), ('murdered', 8847), ('cooking', 8848), ('gardener', 8849), ('vegetables', 8850), ('maid', 8851), ('neighbour', 8852), ('murderer', 8853), ('brilliant', 8854), ('pose', 8855), ('comb', 8856), ('dryer', 8857), ('fps', 8858), ('computational', 8859), ('madam', 8860), ('disturbance', 8861), ('dlf', 8862), ('premarica', 8863), ('rgds', 8864), ('gotto', 8865), ('220cm2', 8866), ('err', 8867), ('8pm', 8868), ('bloo', 8869), ('hitter', 8870), ('offline', 8871), ('anjola', 8872), ('asjesus', 8873), ('indians', 8874), ('swiss', 8875), ('lac', 8876), ('deposited', 8877), ('taxless', 8878), ('suply', 8879), ('imf', 8880), ('corrupt', 8881), ('itna', 8882), ('karo', 8883), ('ki', 8884), ('pura', 8885), ('padhe', 8886), ('torrents', 8887), ('slowing', 8888), ('random', 8889), ('83370', 8890), ('trivia', 8891), ('rightio', 8892), ('brum', 8893), ('donno', 8894), ('scorable', 8895), ('paranoid', 8896), ('brin', 8897), ('sheet', 8898), ('complain', 8899), ('bettr', 8900), ('bsnl', 8901), ('offc', 8902), ('payed', 8903), ('suganya', 8904), ('dessert', 8905), ('abeg', 8906), ('onum', 8907), ('poet', 8908), ('imagination', 8909), ('rr', 8910), ('famamus', 8911), ('630', 8912), ('sry', 8913), ('furniture', 8914), ('lock', 8915), ('locks', 8916), ('jenne', 8917), ('easiest', 8918), ('barcelona', 8919), ('ru', 8920), ('sppok', 8921), ('09066612661', 8922), ('complementary', 8923), ('wa14', 8924), ('2px', 8925), ('pansy', 8926), ('jungle', 8927), ('kanji', 8928), ('srs', 8929), ('drizzling', 8930), ('appointments', 8931), ('shoving', 8932), ('greetings', 8933), ('excused', 8934), ('strange', 8935), ('ego', 8936), ('necessity', 8937), ('reppurcussions', 8938), ('cosign', 8939), ('hvae', 8940), ('09061701444', 8941), ('acl03530150pm', 8942), ('hcl', 8943), ('freshers', 8944), ('suman', 8945), ('telephonic', 8946), ('indyarocks', 8947), ('dai', 8948), ('bids', 8949), ('reliant', 8950), ('fwiw', 8951), ('whr', 8952), ('maga', 8953), ('sq825', 8954), ('yunny', 8955), ('citylink', 8956), ('er', 8957), ('props', 8958), ('pleasant', 8959), ('6230', 8960), ('83383', 8961), ('pobox114', 8962), ('14tcr', 8963), ('bognor', 8964), ('splendid', 8965), ('ktv', 8966), ('misplaced', 8967), ('mmmmm', 8968), ('residency', 8969), ('predicting', 8970), ('accumulation', 8971), ('belongs', 8972), ('fated', 8973), ('shoranur', 8974), ('fuelled', 8975), ('grief', 8976), ('terrific', 8977), ('text82228', 8978), ('txt82228', 8979), ('honestly', 8980), ('promptly', 8981), ('burnt', 8982), ('snap', 8983), ('quizclub', 8984), ('80122300p', 8985), ('rwm', 8986), ('08704050406', 8987), ('gmw', 8988), ('someplace', 8989), ('pressies', 8990), ('dr', 8991), ('superior', 8992), ('tor', 8993), ('motive', 8994), ('tui', 8995), ('korli', 8996), ('dock', 8997), ('newscaster', 8998), ('dabbles', 8999), ('flute', 9000), ('wheel', 9001), ('picsfree1', 9002), ('vid', 9003), ('keyword', 9004), ('ruin', 9005), ('erm', 9006), ('the4th', 9007), ('october', 9008), ('83435', 9009), ('elaborating', 9010), ('tarot', 9011), ('85555', 9012), ('ours', 9013), ('hr', 9014), ('conform', 9015), ('horniest', 9016), ('instructions', 9017), ('3lp', 9018), ('ovarian', 9019), ('cysts', 9020), ('bc', 9021), ('shrink', 9022), ('upping', 9023), ('grams', 9024), ('timin', 9025), ('apes', 9026), ('ibm', 9027), ('hp', 9028), ('toshiba', 9029), ('gosh', 9030), ('spose', 9031), ('rimac', 9032), ('arestaurant', 9033), ('squid', 9034), ('dosomething', 9035), ('wrk', 9036), ('dabooks', 9037), ('hrs', 9038), ('eachother', 9039), ('luckily', 9040), ('starring', 9041), ('restocked', 9042), ('knock', 9043), ('tkls', 9044), ('stoptxtstop', 9045), ('innocent', 9046), ('mental', 9047), ('smoothly', 9048), ('2marrow', 9049), ('hon', 9050), ('breakfast', 9051), ('hamper', 9052), ('cc100p', 9053), ('0870737910216yrs', 9054), ('unni', 9055), ('lacking', 9056), ('dramastorm', 9057), ('forfeit', 9058), ('digi', 9059), ('fab', 9060), ('coupla', 9061), ('wks', 9062), ('077xxx', 9063), ('09066362206', 9064), ('sundayish', 9065), ('prasad', 9066), ('tiwary', 9067), ('rcb', 9068), ('bang', 9069), ('kochi', 9070), ('checkup', 9071), ('pap', 9072), ('smear', 9073), ('gobi', 9074), ('pandy', 9075), ('4w', 9076), ('olowoyey', 9077), ('usc', 9078), ('edu', 9079), ('argentina', 9080), ('taxt', 9081), ('massage', 9082), ('pos', 9083), ('lool', 9084), ('shaking', 9085), ('booty', 9086), ('lil', 9087), ('scarcasim', 9088), ('naal', 9089), ('eruku', 9090), ('w4', 9091), ('5wq', 9092), ('bro', 9093), ('amongst', 9094), ('bros', 9095), ('impressively', 9096), ('sensible', 9097), ('69696', 9098), ('nalla', 9099), ('obedient', 9100), ('ft', 9101), ('needy', 9102), ('pouts', 9103), ('stomps', 9104), ('northampton', 9105), ('abj', 9106), ('playng', 9107), ('mcfly', 9108), ('ab', 9109), ('sara', 9110), ('jorge', 9111), ('smith', 9112), ('anna', 9113), ('nagar', 9114), ('yupz', 9115), ('ericson', 9116), ('der', 9117), ('luks', 9118), ('modl', 9119), ('cheesy', 9120), ('frosty', 9121), ('witin', 9122), ('0870141701216', 9123), ('120p', 9124), ('10th', 9125), ('sept', 9126), ('09050000555', 9127), ('ba128nnfwfly150ppm', 9128), ('shirts', 9129), ('nudist', 9130), ('themed', 9131), ('pump', 9132), ('petrol', 9133), ('feb', 9134), ('ignore', 9135), ('evr', 9136), ('hugs', 9137), ('snogs', 9138), ('palm', 9139), ('printing', 9140), ('handing', 9141), ('uks', 9142), ('83021', 9143), ('chase', 9144), ('tariffs', 9145), ('2stoptxt', 9146), ('perpetual', 9147), ('dd', 9148), ('steam', 9149), ('reg', 9150), ('pract', 9151), ('flung', 9152), ('govt', 9153), ('instituitions', 9154), ('justbeen', 9155), ('overa', 9156), ('brains', 9157), ('mush', 9158), ('tunde', 9159), ('missions', 9160), ('canary', 9161), ('20m12aq', 9162), ('eh74rr', 9163), ('sleepy', 9164), ('dare', 9165), ('ben', 9166), ('mag', 9167), ('avo', 9168), ('cuddled', 9169), ('chachi', 9170), ('pl', 9171), ('tiz', 9172), ('kanagu', 9173), ('ringing', 9174), ('houseful', 9175), ('brats', 9176), ('diwali', 9177), ('tick', 9178), ('onion', 9179), ('derp', 9180), ('abusers', 9181), ('lipo', 9182), ('netflix', 9183), ('thgt', 9184), ('arr', 9185), ('oscar', 9186), ('rebtel', 9187), ('firefox', 9188), ('69969', 9189), ('bcmsfwc1n3xx', 9190), ('funs', 9191), ('footy', 9192), ('coca', 9193), ('cola', 9194), ('teenager', 9195), ('exhaust', 9196), ('replacing', 9197), ('mittelschmertz', 9198), ('paracetamol', 9199), ('pee', 9200), ('cthen', 9201), ('enuff', 9202), ('contents', 9203), ('references', 9204), ('instant', 9205), ('08715203028', 9206), ('9th', 9207), ('rugby', 9208), ('affidavit', 9209), ('twiggs', 9210), ('courtroom', 9211), ('creep', 9212), ('showers', 9213), ('possessiveness', 9214), ('poured', 9215), ('golden', 9216), ('lasting', 9217), ('mobs', 9218), ('breathe1', 9219), ('crazyin', 9220), ('sleepingwith', 9221), ('finest', 9222), ('ymca', 9223), ('pobox365o4w45wq', 9224), ('wtc', 9225), ('weiyi', 9226), ('interflora', 9227), ('flowers', 9228), ('505060', 9229), ('teeth', 9230), ('paining', 9231), ('romcapspam', 9232), ('outgoing', 9233), ('maggi', 9234), ('mee', 9235), ('08712103738', 9236), ('cough', 9237), ('09058099801', 9238), ('b4190604', 9239), ('7876150ppm', 9240), ('bbd', 9241), ('pooja', 9242), ('pimples', 9243), ('sweatter', 9244), ('ambitious', 9245), ('miiiiiiissssssssss', 9246), ('tunji', 9247), ('iz', 9248), ('yellow', 9249), ('misscall', 9250), ('frndz', 9251), ('6missed', 9252), ('frog', 9253), ('mad1', 9254), ('mad2', 9255), ('88888', 9256), ('tall', 9257), ('robs', 9258), ('avenge', 9259), ('japanese', 9260), ('proverb', 9261), ('toss', 9262), ('coin', 9263), ('gudni8', 9264), ('dancin', 9265), ('explicitly', 9266), ('nora', 9267), ('gayle', 9268), ('crucify', 9269), ('butting', 9270), ('vs', 9271), ('cedar', 9272), ('twenty', 9273), ('durham', 9274), ('reserved', 9275), ('porn', 9276), ('69855', 9277), ('stopbcm', 9278), ('sf', 9279), ('painting', 9280), ('printer', 9281), ('groovy', 9282), ('groovying', 9283), ('harish', 9284), ('transfred', 9285), ('acnt', 9286), ('nowadays', 9287), ('showrooms', 9288), ('shaping', 9289), ('probs', 9290), ('doinat', 9291), ('callon', 9292), ('swatch', 9293), ('ganesh', 9294), ('pdate', 9295), ('yhl', 9296), ('collecting', 9297), ('configure', 9298), ('anal', 9299), ('pears', 9300), ('helloooo', 9301), ('welcomes', 9302), ('oooooh', 9303), ('09058094454', 9304), ('54', 9305), ('resubmit', 9306), ('expiry', 9307), ('2geva', 9308), ('mint', 9309), ('humans', 9310), ('studyn', 9311), ('wuld', 9312), ('everyboy', 9313), ('xxxxxxxx', 9314), ('solved', 9315), ('1thing', 9316), ('answr', 9317), ('liquor', 9318), ('flaked', 9319), ('loko', 9320), ('730', 9321), ('tm', 9322), ('ing', 9323), ('laughs', 9324), ('fireplace', 9325), ('icon', 9326), ('08712400200', 9327), ('woozles', 9328), ('weasels', 9329), ('08718723815', 9330), ('gary', 9331), ('fucks', 9332), ('sake', 9333), ('ignorant', 9334), ('mys', 9335), ('bruce', 9336), ('downs', 9337), ('fletcher', 9338), ('08714714011', 9339), ('bowls', 9340), ('cozy', 9341), ('buzzzz', 9342), ('chest', 9343), ('vibrator', 9344), ('shake', 9345), ('pros', 9346), ('cons', 9347), ('description', 9348), ('fusion', 9349), ('iter', 9350), ('jet', 9351), ('nowhere', 9352), ('ikno', 9353), ('doesdiscount', 9354), ('shitinnit', 9355), ('jabo', 9356), ('abi', 9357), ('slower', 9358), ('maniac', 9359), ('sapna', 9360), ('manege', 9361), ('hogidhe', 9362), ('chinnu', 9363), ('swalpa', 9364), ('agidhane', 9365), ('footbl', 9366), ('crckt', 9367), ('swell', 9368), ('tim', 9369), ('bollox', 9370), ('tol', 9371), ('ingredients', 9372), ('pocy', 9373), ('bell', 9374), ('4qf2', 9375), ('senor', 9376), ('giggle', 9377), ('person2die', 9378), ('nvq', 9379), ('tiger', 9380), ('woods', 9381), ('reboot', 9382), ('grinder', 9383), ('pt2', 9384), ('figuring', 9385), ('phoned', 9386), ('disconnected', 9387), ('onluy', 9388), ('offcampus', 9389), ('riley', 9390), ('ew', 9391), ('wesley', 9392), ('lingo', 9393), ('400mins', 9394), ('j5q', 9395), ('hm', 9396), ('69200', 9397), ('chrgd', 9398), ('2exit', 9399), ('salon', 9400), ('approaching', 9401), ('sankranti', 9402), ('republic', 9403), ('shivratri', 9404), ('ugadi', 9405), ('fools', 9406), ('childrens', 9407), ('dasara', 9408), ('mornings', 9409), ('afternoons', 9410), ('evenings', 9411), ('rememberi', 9412), ('raj', 9413), ('joys', 9414), ('lifeis', 9415), ('daywith', 9416), ('somewheresomeone', 9417), ('tosend', 9418), ('greeting', 9419), ('selflessness', 9420), ('initiate', 9421), ('tallent', 9422), ('wasting', 9423), ('portal', 9424), ('t4get2text', 9425), ('lennon', 9426), ('bothering', 9427), ('crab', 9428), ('shore', 9429), ('waves', 9430), ('footprints', 9431), ('clearing', 9432), ('fox', 9433), ('frndsship', 9434), ('dwn', 9435), ('slaaaaave', 9436), ('summon', 9437), ('33', 9438), ('appendix', 9439), ('slob', 9440), ('smiled', 9441), ('webpage', 9442), ('yeesh', 9443), ('unsubscribed', 9444), ('hunks', 9445), ('gotbabes', 9446), ('subscriptions', 9447), ('gopalettan', 9448), ('admin', 9449), ('xxsp', 9450), ('visionsms', 9451), ('stopcost', 9452), ('08712400603', 9453), ('goodies', 9454), ('mat', 9455), ('ay', 9456), ('andros', 9457), ('steal', 9458), ('isaiah', 9459), ('penis', 9460), ('sigh', 9461), ('thinl', 9462), ('importantly', 9463), ('tightly', 9464), ('wnevr', 9465), ('fal', 9466), ('vth', 9467), ('fals', 9468), ('madodu', 9469), ('nav', 9470), ('pretsorginta', 9471), ('nammanna', 9472), ('pretsovru', 9473), ('alwa', 9474), ('eveb', 9475), ('lord', 9476), ('rings', 9477), ('soundtrack', 9478), ('stdtxtrate', 9479), ('sg', 9480), ('phyhcmk', 9481), ('pc1323', 9482), ('emigrated', 9483), ('hopeful', 9484), ('olol', 9485), ('stagwood', 9486), ('winterstone', 9487), ('victors', 9488), ('hill', 9489), ('jp', 9490), ('mofo', 9491), ('pathaya', 9492), ('enketa', 9493), ('maraikara', 9494), ('priest', 9495), ('intrude', 9496), ('walkabout', 9497), ('cashed', 9498), ('28th', 9499), ('removal', 9500), ('08708034412', 9501), ('footie', 9502), ('phil', 9503), ('neville', 9504), ('abbey', 9505), ('punj', 9506), ('str8', 9507), ('200p', 9508), ('thurs', 9509), ('cancelled', 9510), ('sacked', 9511), ('lookatme', 9512), ('clip', 9513), ('35p', 9514), ('mmsto', 9515), ('32323', 9516), ('barred', 9517), ('twat', 9518), ('dungerees', 9519), ('decking', 9520), ('punch', 9521), ('mentionned', 9522), ('vat', 9523), ('grl', 9524), ('hogolo', 9525), ('kodstini', 9526), ('agalla', 9527), ('madstini', 9528), ('hogli', 9529), ('mutai', 9530), ('eerulli', 9531), ('kodthini', 9532), ('thasa', 9533), ('messed', 9534), ('tex', 9535), ('mecause', 9536), ('werebored', 9537), ('okden', 9538), ('uin', 9539), ('likeyour', 9540), ('gr8fun', 9541), ('updat', 9542), ('countinlots', 9543), ('xxxxx', 9544), ('tagged', 9545), ('hdd', 9546), ('casing', 9547), ('09053750005', 9548), ('310303', 9549), ('08718725756', 9550), ('140ppm', 9551), ('asus', 9552), ('randomly', 9553), ('reformat', 9554), ('otside', 9555), ('plumbers', 9556), ('wrench', 9557), ('bcum', 9558), ('thriller', 9559), ('elephant', 9560), ('shove', 9561), ('um', 9562), ('cr', 9563), ('pookie', 9564), ('wouldn', 9565), ('nri', 9566), ('08712101358', 9567), ('x2', 9568), ('lick', 9569), ('diddy', 9570), ('toothpaste', 9571), ('av', 9572), ('poking', 9573), ('everyday', 9574), ('curious', 9575), ('coccooning', 9576), ('mus', 9577), ('newquay', 9578), ('postcard', 9579), ('1im', 9580), ('talkin', 9581), ('bread', 9582), ('windy', 9583), ('09066358361', 9584), ('y87', 9585), ('mahal', 9586), ('tirunelvai', 9587), ('dusk', 9588), ('puzzles', 9589), ('x29', 9590), ('09065989180', 9591), ('stairs', 9592), ('phews', 9593), ('relation', 9594), ('luvs', 9595), ('praying', 9596), ('recycling', 9597), ('toledo', 9598), ('ding', 9599), ('tai', 9600), ('feng', 9601), ('reservations', 9602), ('swimsuit', 9603), ('squeeeeeze', 9604), ('hug', 9605), ('lik', 9606), ('frndshp', 9607), ('luvd', 9608), ('volcanoes', 9609), ('erupt', 9610), ('arise', 9611), ('hurricanes', 9612), ('sway', 9613), ('aroundn', 9614), ('disasters', 9615), ('lighters', 9616), ('lasagna', 9617), ('chickened', 9618), ('messaged', 9619), ('woould', 9620), ('08718726978', 9621), ('deus', 9622), ('44', 9623), ('7732584351', 9624), ('3510i', 9625), ('deliveredtomorrow', 9626), ('300', 9627), ('tap', 9628), ('spile', 9629), ('canal', 9630), ('engin', 9631), ('raviyog', 9632), ('peripherals', 9633), ('bhayandar', 9634), ('sunoco', 9635), ('howard', 9636), ('leftovers', 9637), ('starving', 9638), ('cooked', 9639), ('cheat', 9640), ('fatty', 9641), ('badrith', 9642), ('owe', 9643), ('checkin', 9644), ('armenia', 9645), ('swann', 9646), ('09058097189', 9647), ('09061221066', 9648), ('fromm', 9649), ('330', 9650), ('1120', 9651), ('1205', 9652), ('wylie', 9653), ('justify', 9654), ('ruining', 9655), ('meds', 9656), ('hunt', 9657), ('in2', 9658), ('5226', 9659), ('hava', 9660), ('1131', 9661), ('rct', 9662), ('thnq', 9663), ('adrian', 9664), ('vatian', 9665), ('everyones', 9666), ('babysitting', 9667), ('gonnamissu', 9668), ('buttheres', 9669), ('aboutas', 9670), ('merememberin', 9671), ('asthere', 9672), ('ofsi', 9673), ('breakin', 9674), ('yaxx', 9675), ('ee', 9676), ('poortiyagi', 9677), ('odalebeku', 9678), ('hanumanji', 9679), ('hanuman', 9680), ('bajarangabali', 9681), ('maruti', 9682), ('pavanaputra', 9683), ('sankatmochan', 9684), ('ramaduth', 9685), ('mahaveer', 9686), ('janarige', 9687), ('ivatte', 9688), ('kalisidare', 9689), ('olage', 9690), ('ondu', 9691), ('keluviri', 9692), ('maretare', 9693), ('inde', 9694), ('dodda', 9695), ('problum', 9696), ('nalli', 9697), ('siguviri', 9698), ('idu', 9699), ('matra', 9700), ('neglet', 9701), ('ijust', 9702), ('opps', 9703), ('gei', 9704), ('tron', 9705), ('dl', 9706), ('selfish', 9707), ('spiffing', 9708), ('workage', 9709), ('craving', 9710), ('supose', 9711), ('babysit', 9712), ('spaces', 9713), ('embassy', 9714), ('lightly', 9715), ('custom', 9716), ('checkboxes', 9717), ('sac', 9718), ('batsman', 9719), ('yetty', 9720), ('jiayin', 9721), ('09050000928', 9722), ('pobox45w2tg150p', 9723), ('forgotten', 9724), ('cheating', 9725), ('mathematics', 9726), ('2waxsto', 9727), ('emailed', 9728), ('yifeng', 9729), ('slurp', 9730), ('3miles', 9731), ('brainless', 9732), ('doll', 9733), ('sariyag', 9734), ('madoke', 9735), ('barolla', 9736), ('07090201529', 9737), ('postponed', 9738), ('stocked', 9739), ('elaine', 9740), ('tiime', 9741), ('tears', 9742), ('afternon', 9743), ('resizing', 9744), ('09066364349', 9745), ('box434sk38wp150ppm18', 9746), ('drunken', 9747), ('billed', 9748), ('shortcode', 9749), ('83332', 9750), ('08081263000', 9751), ('refunded', 9752), ('somerset', 9753), ('nigpun', 9754), ('dismissial', 9755), ('screwd', 9756), ('08712402972', 9757), ('bull', 9758), ('floating', 9759), ('mess', 9760), ('09058095201', 9761), ('heehee', 9762), ('arithmetic', 9763), ('percentages', 9764), ('chillaxin', 9765), ('das', 9766), ('iknow', 9767), ('wellda', 9768), ('peril', 9769), ('studentfinancial', 9770), ('monster', 9771), ('ths', 9772), ('ias', 9773), ('obey', 9774), ('uhhhhrmm', 9775), ('mb', 9776), ('600', 9777), ('400', 9778), ('deltomorrow', 9779), ('09066368470', 9780), ('24m', 9781), ('smartcall', 9782), ('68866', 9783), ('subscriptn3gbp', 9784), ('08448714184', 9785), ('landlineonly', 9786), ('mths', 9787), ('callback', 9788), ('orno', 9789), ('fink', 9790), ('09099726553', 9791), ('carlie', 9792), ('minmobsmore', 9793), ('lkpobox177hp51fl', 9794), ('youphone', 9795), ('athome', 9796), ('youwanna', 9797), ('jack', 9798), ('helpful', 9799), ('pretend', 9800), ('hypotheticalhuagauahahuagahyuhagga', 9801), ('brainy', 9802), ('reflection', 9803), ('desires', 9804), ('affections', 9805), ('traditions', 9806), ('cantdo', 9807), ('anythingtomorrow', 9808), ('myparents', 9809), ('aretaking', 9810), ('outfor', 9811), ('katexxx', 9812), ('gate', 9813), ('89105', 9814), ('lingerie', 9815), ('bridal', 9816), ('petticoatdreams', 9817), ('weddingfriend', 9818), ('overheating', 9819), ('reslove', 9820), ('inst', 9821), ('outta', 9822), ('notixiquating', 9823), ('laxinorficated', 9824), ('bambling', 9825), ('entropication', 9826), ('oblisingately', 9827), ('opted', 9828), ('masteriastering', 9829), ('amplikater', 9830), ('fidalfication', 9831), ('champlaxigating', 9832), ('atrocious', 9833), ('wotz', 9834), ('junna', 9835), ('knickers', 9836), ('01223585236', 9837), ('nikiyu4', 9838), ('a30', 9839), ('divert', 9840), ('wadebridge', 9841), ('vill', 9842), ('1030', 9843), ('orc', 9844), ('bloomberg', 9845), ('447797706009', 9846), ('careers', 9847), ('priscilla', 9848), ('wisdom', 9849), ('inform', 9850), ('wherre', 9851), ('phone750', 9852), ('frank', 9853), ('logoff', 9854), ('parkin', 9855), ('kent', 9856), ('vale', 9857), ('cann', 9858), ('asa', 9859), ('09050000878', 9860), ('wan2', 9861), ('westlife', 9862), ('m8', 9863), ('unbreakable', 9864), ('untamed', 9865), ('unkempt', 9866), ('83049', 9867), ('prince', 9868), ('charming', 9869), ('arnt', 9870), ('xxxxxxxxxxxxxx', 9871), ('dorothy', 9872), ('kiefer', 9873), ('granite', 9874), ('explosive', 9875), ('nasdaq', 9876), ('symbol', 9877), ('cdgt', 9878), ('alle', 9879), ('mone', 9880), ('eppolum', 9881), ('allalo', 9882), ('fundamentals', 9883), ('1mega', 9884), ('pixels', 9885), ('3optical', 9886), ('5digital', 9887), ('dooms', 9888), ('noi', 9889), ('js', 9890), ('burgundy', 9891), ('captaining', 9892), ('placement', 9893), ('amrita', 9894), ('bpo', 9895), ('nighters', 9896), ('persevered', 9897), ('regretted', 9898), ('spouse', 9899), ('pmt', 9900), ('sumthin', 9901), ('4give', 9902), ('shldxxxx', 9903), ('spun', 9904), ('wrld', 9905), ('09071517866', 9906), ('150ppmpobox10183bhamb64xe', 9907), ('pounded', 9908), ('lion', 9909), ('devouring', 9910), ('airtel', 9911), ('processed', 9912), ('tensed', 9913), ('coughing', 9914), ('sprint', 9915), ('prolly', 9916), ('gower', 9917), ('morrow', 9918), ('chik', 9919), ('filth', 9920), ('69669', 9921), ('saristar', 9922), ('e14', 9923), ('9yt', 9924), ('08701752560', 9925), ('450p', 9926), ('stop2', 9927), ('420', 9928), ('9061100010', 9929), ('wire3', 9930), ('1st4terms', 9931), ('mobcudb', 9932), ('sabarish', 9933), ('jaya', 9934), ('09050000460', 9935), ('j89', 9936), ('box245c2150pm', 9937), ('inpersonation', 9938), ('flea', 9939), ('forums', 9940), ('banneduk', 9941), ('71', 9942), ('taj', 9943), ('lesser', 9944), ('mumtaz', 9945), ('shahjahan', 9946), ('wifes', 9947), ('arises', 9948), ('hari', 9949), ('69101', 9950), ('rtf', 9951), ('sphosting', 9952), ('webadres', 9953), ('geting', 9954), ('o2fwd', 9955), ('18p', 9956), ('maturity', 9957), ('passport', 9958), ('multiply', 9959), ('independently', 9960), ('twins', 9961), ('strt', 9962), ('ltdhelpdesk', 9963), ('02085076972', 9964), ('uneventful', 9965), ('pesky', 9966), ('cyclists', 9967), ('adi', 9968), ('entey', 9969), ('nattil', 9970), ('kittum', 9971), ('kavalan', 9972), ('hitman', 9973), ('09066660100', 9974), ('2309', 9975), ('cps', 9976), ('outages', 9977), ('conserve', 9978), ('epi', 9979), ('bare', 9980), ('bhaskar', 9981), ('dubsack', 9982), ('gong', 9983), ('kaypoh', 9984), ('outdoors', 9985), ('macho', 9986), ('interfued', 9987), ('blank', 9988), ('apology', 9989), ('hustle', 9990), ('audition', 9991), ('harlem', 9992), ('workout', 9993), ('fats', 9994), ('zac', 9995), ('tonights', 9996), ('hui', 9997), ('xin', 9998), ('lib', 9999), ('underdtand', 10000), ('muchxxlove', 10001), ('locaxx', 10002), ('07090298926', 10003), ('9307622', 10004), ('skateboarding', 10005), ('bandages', 10006), ('html', 10007), ('gbp4', 10008), ('mfl', 10009), ('hectic', 10010), ('swoop', 10011), ('wamma', 10012), ('doggin', 10013), ('langport', 10014), ('senthil', 10015), ('apnt', 10016), ('pants', 10017), ('go2sri', 10018), ('lanka', 10019), ('wherevr', 10020), ('forevr', 10021), ('gudnyt', 10022), ('plum', 10023), ('smacks', 10024), ('50s', 10025), ('alot', 10026), ('formatting', 10027), ('attracts', 10028), ('8714714', 10029), ('vegas', 10030), ('lou', 10031), ('lancaster', 10032), ('neway', 10033), ('soc', 10034), ('bsn', 10035), ('advising', 10036), ('lobby', 10037), ('texted', 10038), ('showered', 10039), ('ything', 10040), ('vewy', 10041), ('lubly', 10042), ('087147123779am', 10043), ('catches', 10044), ('specify', 10045), ('domain', 10046), ('nusstu', 10047), ('bari', 10048), ('hudgi', 10049), ('yorge', 10050), ('pataistha', 10051), ('ertini', 10052), ('hasbro', 10053), ('hoops', 10054), ('ummifying', 10055), ('rip', 10056), ('uterus', 10057), ('jacuzzi', 10058), ('x49', 10059), ('09065989182', 10060), ('txtstar', 10061), ('2nights', 10062), ('uve', 10063), ('wildest', 10064), ('aldrine', 10065), ('rtm', 10066), ('unhappiness', 10067), ('necesity', 10068), ('witout', 10069), ('colleg', 10070), ('wth', 10071), ('espe', 10072), ('irritated', 10073), ('4wrd', 10074), ('wthout', 10075), ('takecare', 10076), ('univ', 10077), ('rajas', 10078), ('burrito', 10079), ('disconnect', 10080), ('confirmd', 10081), ('verified', 10082), ('cnn', 10083), ('ibn', 10084), ('stitch', 10085), ('trouser', 10086), ('146tf150p', 10087), ('cheetos', 10088), ('synced', 10089), ('shangela', 10090), ('hppnss', 10091), ('sorrow', 10092), ('goodfriend', 10093), ('08704439680', 10094), ('poo', 10095), ('gloucesterroad', 10096), ('uup', 10097), ('ouch', 10098), ('forgiveness', 10099), ('glo', 10100), ('09058095107', 10101), ('s3xy', 10102), ('wlcome', 10103), ('eaten', 10104), ('timi', 10105), ('mila', 10106), ('age23', 10107), ('blonde', 10108), ('mtalk', 10109), ('69866', 10110), ('30pp', 10111), ('5free', 10112), ('increments', 10113), ('help08718728876', 10114), ('fishrman', 10115), ('sack', 10116), ('stones', 10117), ('strtd', 10118), ('throwin', 10119), ('atlast', 10120), ('1stone', 10121), ('08717895698', 10122), ('mobstorequiz10ppm', 10123), ('physics', 10124), ('praveesh', 10125), ('delicious', 10126), ('salad', 10127), ('desert', 10128), ('beers', 10129), ('whore', 10130), ('funk', 10131), ('tones2u', 10132), ('twinks', 10133), ('scallies', 10134), ('skins', 10135), ('jocks', 10136), ('08712466669', 10137), ('nat', 10138), ('beads', 10139), ('wishlist', 10140), ('nitro', 10141), ('reffering', 10142), ('getiing', 10143), ('weirdy', 10144), ('brownies', 10145), ('09061701851', 10146), ('k61', 10147), ('12hours', 10148), ('restrict', 10149), ('vivek', 10150), ('74355', 10151), ('tnc', 10152), ('brah', 10153), ('greece', 10154), ('sib', 10155), ('passwords', 10156), ('someday', 10157), ('grandfather', 10158), ('blu', 10159), ('november', 10160), ('09061104276', 10161), ('75max', 10162), ('yuou', 10163), ('ipad', 10164), ('lotto', 10165), ('bird', 10166), ('authorise', 10167), ('45pm', 10168), ('gimmi', 10169), ('goss', 10170), ('ystrday', 10171), ('chile', 10172), ('subletting', 10173), ('ammae', 10174), ('steering', 10175), ('sleeps', 10176), ('rounder', 10177), ('lambu', 10178), ('ji', 10179), ('batchlor', 10180), ('zoom', 10181), ('62220cncl', 10182), ('stopcs', 10183), ('08717890890', 10184), ('cheese', 10185), ('tms', 10186), ('widelive', 10187), ('wml', 10188), ('1b6a5ecef91ff9', 10189), ('37819', 10190), ('true18', 10191), ('0430', 10192), ('jul', 10193), ('xafter', 10194), ('cst', 10195), ('chg', 10196), ('pure', 10197), ('hearted', 10198), ('enemies', 10199), ('smiley', 10200), ('gail', 10201), ('l8tr', 10202), ('yaxxx', 10203), ('theoretically', 10204), ('hooked', 10205), ('formally', 10206), ('multimedia', 10207), ('hsbc', 10208), ('vague', 10209), ('renting', 10210), ('nicky', 10211), ('gumby', 10212), ('alto18', 10213), ('asp', 10214), ('44345', 10215), ('sized', 10216), ('tarpon', 10217), ('springs', 10218), ('cab', 10219), ('hf8', 10220), ('09061702893', 10221), ('08719181259', 10222), ('26', 10223), ('radiator', 10224), ('tongued', 10225), ('shorts', 10226), ('qi', 10227), ('flurries', 10228), ('melt', 10229), ('eek', 10230), ('real1', 10231), ('pushbutton', 10232), ('dontcha', 10233), ('babygoodbye', 10234), ('golddigger', 10235), ('webeburnin', 10236), ('rebooting', 10237), ('nigh', 10238), ('nooooooo', 10239), ('outage', 10240), ('sos', 10241), ('playin', 10242), ('guoyang', 10243), ('rahul', 10244), ('dengra', 10245), ('antelope', 10246), ('toplay', 10247), ('fieldof', 10248), ('selfindependence', 10249), ('contention', 10250), ('gnarls', 10251), ('barkleys', 10252), ('borderline', 10253), ('545', 10254), ('nightnight', 10255), ('grooved', 10256), ('mising', 10257), ('unsecured', 10258), ('195', 10259), ('6669', 10260), ('lanre', 10261), ('fakeye', 10262), ('eckankar', 10263), ('3000', 10264), ('09061743386', 10265), ('heater', 10266), ('dodgey', 10267), ('674', 10268), ('seing', 10269), ('asssssholeeee', 10270), ('ceri', 10271), ('rebel', 10272), ('dreamz', 10273), ('buddy', 10274), ('blokes', 10275), ('84484', 10276), ('newport', 10277), ('juliana', 10278), ('nachos', 10279), ('eta', 10280), ('dizzamn', 10281), ('suitemates', 10282), ('nimbomsons', 10283), ('continent', 10284), ('housewives', 10285), ('0871750', 10286), ('77', 10287), ('landlines', 10288), ('087104711148', 10289), ('fiend', 10290), ('impede', 10291), ('hesitant', 10292), ('60', 10293), ('400thousad', 10294), ('nose', 10295), ('essay', 10296), ('tram', 10297), ('vic', 10298), ('coherently', 10299), ('echo', 10300), ('gran', 10301), ('onlyfound', 10302), ('afew', 10303), ('cusoon', 10304), ('honi', 10305), ('dial', 10306), ('bx526', 10307), ('california', 10308), ('rayan', 10309), ('macleran', 10310), ('olave', 10311), ('mandara', 10312), ('trishul', 10313), ('woo', 10314), ('hoo', 10315), ('panties', 10316), ('thout', 10317), ('09066364311', 10318), ('flatter', 10319), ('pints', 10320), ('carlin', 10321), ('literally', 10322), ('ciao', 10323), ('starve', 10324), ('impression', 10325), ('motivate', 10326), ('darkness', 10327), ('wknd', 10328), ('yalrigu', 10329), ('heltini', 10330), ('iyo', 10331), ('kothi', 10332), ('uttered', 10333), ('trusting', 10334), ('noice', 10335), ('esaplanade', 10336), ('accessible', 10337), ('08709501522', 10338), ('139', 10339), ('la3', 10340), ('2wu', 10341), ('occurs', 10342), ('prof', 10343), ('sem', 10344), ('enna', 10345), ('kalaachutaarama', 10346), ('coco', 10347), ('sporadically', 10348), ('09064017305', 10349), ('pobox75ldns7', 10350), ('tbs', 10351), ('persolvo', 10352), ('38', 10353), ('kath', 10354), ('manchester', 10355), ('noworriesloans', 10356), ('08717111821', 10357), ('nbme', 10358), ('sickness', 10359), ('villa', 10360), ('sathya', 10361), ('gam', 10362), ('smash', 10363), ('religiously', 10364), ('heroes', 10365), ('07973788240', 10366), ('08715203649', 10367), ('muhommad', 10368), ('penny', 10369), ('doc', 10370), ('fiting', 10371), ('mj', 10372), ('unconvinced', 10373), ('elaborate', 10374), ('willpower', 10375), ('answerin', 10376), ('evey', 10377), ('mnth', 10378), ('prin', 10379), ('gsoh', 10380), ('spam', 10381), ('gigolo', 10382), ('mens', 10383), ('oncall', 10384), ('mjzgroup', 10385), ('08714342399', 10386), ('50rcvd', 10387), ('ashwini', 10388), ('08707500020', 10389), ('ukp', 10390), ('09061790125', 10391), ('thet', 10392), ('skinny', 10393), ('casting', 10394), ('116', 10395), ('hlday', 10396), ('amrca', 10397), ('serena', 10398), ('prescribed', 10399), ('kappa', 10400), ('meatballs', 10401), ('panalam', 10402), ('spjanuary', 10403), ('fortune', 10404), ('allday', 10405), ('piss', 10406), ('perf', 10407), ('outsider', 10408), ('receipts', 10409), ('98321561', 10410), ('depression', 10411), ('infact', 10412), ('simpsons', 10413), ('shite', 10414), ('kip', 10415), ('hont', 10416), ('amanda', 10417), ('renewing', 10418), ('upgrading', 10419), ('nannys', 10420), ('conveying', 10421), ('debating', 10422), ('wtlp', 10423), ('guessing', 10424), ('jb', 10425), ('florida', 10426), ('hidden', 10427), ('royal', 10428), ('tog', 10429), ('swhrt', 10430), ('0906346330', 10431), ('47', 10432), ('po19', 10433), ('2ez', 10434), ('jetton', 10435), ('cmon', 10436), ('sticky', 10437), ('replies', 10438), ('lunsford', 10439), ('0796xxxxxx', 10440), ('prizeawaiting', 10441), ('kfc', 10442), ('meals', 10443), ('gravy', 10444), ('07008009200', 10445), ('mw', 10446), ('tuth', 10447), ('eviction', 10448), ('spiral', 10449), ('michael', 10450), ('riddance', 10451), ('suffers', 10452), ('raglan', 10453), ('edward', 10454), ('closeby', 10455), ('skye', 10456), ('bookedthe', 10457), ('hut', 10458), ('drastic', 10459), ('3750', 10460), ('garments', 10461), ('sez', 10462), ('arab', 10463), ('evry1', 10464), ('eshxxxxxxxxxxx', 10465), ('bimbo', 10466), ('ugo', 10467), ('3lions', 10468), ('portege', 10469), ('m100', 10470), ('semiobscure', 10471), ('gprs', 10472), ('loosu', 10473), ('careless', 10474), ('freaking', 10475), ('myspace', 10476), ('logged', 10477), ('calculation', 10478), ('blur', 10479), ('jewelry', 10480), ('breaker', 10481), ('deluxe', 10482), ('graphics', 10483), ('bbdeluxe', 10484), ('lush', 10485), ('fumbling', 10486), ('2find', 10487), ('stone', 10488), ('taunton', 10489), ('weekdays', 10490), ('haiz', 10491), ('nails', 10492), ('asia', 10493), ('courage', 10494), ('stil', 10495), ('fucked', 10496), ('tobed', 10497), ('430', 10498), ('natalja', 10499), ('440', 10500), ('nat27081980', 10501), ('asthma', 10502), ('spin', 10503), ('haiyoh', 10504), ('prsn', 10505), ('sunlight', 10506), ('audiitions', 10507), ('relocate', 10508), ('pocked', 10509), ('motivating', 10510), ('brison', 10511), ('spelled', 10512), ('caps', 10513), ('bullshit', 10514), ('motherfucker', 10515), ('kit', 10516), ('strip', 10517), ('1013', 10518), ('ig11', 10519), ('oja', 10520), ('08712402578', 10521), ('thesmszone', 10522), ('anonymous', 10523), ('masked', 10524), ('woodland', 10525), ('avenue', 10526), ('parish', 10527), ('billy', 10528), ('jogging', 10529), ('awww', 10530), ('useless', 10531), ('loo', 10532), ('ed', 10533), ('shelf', 10534), ('swollen', 10535), ('glands', 10536), ('bcaz', 10537), ('stu', 10538), ('truble', 10539), ('evone', 10540), ('hates', 10541), ('mokka', 10542), ('gays', 10543), ('dual', 10544), ('hostile', 10545), ('haircut', 10546), ('breezy', 10547), ('09061744553', 10548), ('polyh', 10549), ('1apple', 10550), ('1tulsi', 10551), ('leaf', 10552), ('1lemon', 10553), ('1cup', 10554), ('bone', 10555), ('problms', 10556), ('litres', 10557), ('watr', 10558), ('diseases', 10559), ('snd', 10560), ('lavender', 10561), ('manky', 10562), ('scouse', 10563), ('steve', 10564), ('travelling', 10565), ('inmind', 10566), ('recreation', 10567), ('epsilon', 10568), ('mesages', 10569), ('judgemental', 10570), ('fridays', 10571), ('waheeda', 10572), ('bot', 10573), ('tolerance', 10574), ('0789xxxxxxx', 10575), ('hellogorgeous', 10576), ('lst', 10577), ('nitw', 10578), ('texd', 10579), ('hopeu', 10580), ('4ward', 10581), ('jaz', 10582), ('09058091870', 10583), ('exorcism', 10584), ('emily', 10585), ('evry', 10586), ('emotion', 10587), ('dsn', 10588), ('prayrs', 10589), ('othrwise', 10590), ('ujhhhhhhh', 10591), ('sandiago', 10592), ('parantella', 10593), ('hugging', 10594), ('sweater', 10595), ('mango', 10596), ('landmark', 10597), ('bob', 10598), ('barry', 10599), ('83738', 10600), ('absolutly', 10601), ('consent', 10602), ('tonexs', 10603), ('clubzed', 10604), ('billing', 10605), ('polo', 10606), ('373', 10607), ('w1j', 10608), ('6hl', 10609), ('mathews', 10610), ('tait', 10611), ('edwards', 10612), ('anderson', 10613), ('haunt', 10614), ('8000930705', 10615), ('snowboarding', 10616), ('christmassy', 10617), ('recpt', 10618), ('baaaaaaaabe', 10619), ('ignoring', 10620), ('shola', 10621), ('sagamu', 10622), ('lautech', 10623), ('completes', 10624), ('zealand', 10625), ('qet', 10626), ('browser', 10627), ('surf', 10628), ('conversations', 10629), ('senses', 10630), ('overemphasise', 10631), ('headset', 10632), ('adp', 10633), ('extract', 10634), ('immed', 10635), ('skint', 10636), ('fancied', 10637), ('bevies', 10638), ('waz', 10639), ('othrs', 10640), ('spoon', 10641), ('watchng', 10642), ('comfey', 10643), ('quitting', 10644), ('least5times', 10645), ('wudn', 10646), ('cupboard', 10647), ('2mro', 10648), ('floppy', 10649), ('snappy', 10650), ('grasp', 10651), ('flavour', 10652), ('laready', 10653), ('denying', 10654), ('dom', 10655), ('ffffuuuuuuu', 10656), ('julianaland', 10657), ('oblivious', 10658), ('dehydrated', 10659), ('mapquest', 10660), ('dogwood', 10661), ('suppose', 10662), ('archive', 10663), ('08719839835', 10664), ('mgs', 10665), ('89123', 10666), ('lengths', 10667), ('stunning', 10668), ('visa', 10669), ('gucci', 10670), ('sozi', 10671), ('culdnt', 10672), ('talkbut', 10673), ('wannatell', 10674), ('wenwecan', 10675), ('smsing', 10676), ('explicit', 10677), ('secs', 10678), ('02073162414', 10679), ('15pm', 10680), ('erutupalam', 10681), ('thandiyachu', 10682), ('invention', 10683), ('lyrics', 10684), ('nevr', 10685), ('unrecognized', 10686), ('somone', 10687), ('valuing', 10688), ('definitly', 10689), ('undrstnd', 10690), ('ger', 10691), ('toking', 10692), ('syd', 10693), ('khelate', 10694), ('kintu', 10695), ('opponenter', 10696), ('dhorte', 10697), ('lage', 10698), ('fried', 10699), ('spares', 10700), ('looovvve', 10701), ('warwick', 10702), ('tmw', 10703), ('havn', 10704), ('tops', 10705), ('grandma', 10706), ('proze', 10707), ('norcorp', 10708), ('7cfca1a', 10709), ('grumble', 10710), ('linear', 10711), ('algebra', 10712), ('decorating', 10713), ('wining', 10714), ('946', 10715), ('roomate', 10716), ('graduated', 10717), ('adjustable', 10718), ('cooperative', 10719), ('nottingham', 10720), ('63miles', 10721), ('40mph', 10722), ('mornin', 10723), ('thanku', 10724), ('guessed', 10725), ('89938', 10726), ('strings', 10727), ('50ea', 10728), ('otbox', 10729), ('731', 10730), ('la1', 10731), ('7ws', 10732), ('beside', 10733), ('brisk', 10734), ('sexiest', 10735), ('dirtiest', 10736), ('89070', 10737), ('tellmiss', 10738), ('greatly', 10739), ('urgh', 10740), ('smells', 10741), ('duvet', 10742), ('predictive', 10743), ('w8in', 10744), ('4utxt', 10745), ('24th', 10746), ('beverage', 10747), ('pist', 10748), ('surrender', 10749), ('rdy', 10750), ('realise', 10751), ('backwards', 10752), ('abstract', 10753), ('africa', 10754), ('avin', 10755), ('chit', 10756), ('logon', 10757), ('8883', 10758), ('4217', 10759), ('w1a', 10760), ('6zf', 10761), ('118p', 10762), ('quiteamuzing', 10763), ('scool', 10764), ('1000call', 10765), ('09071512432', 10766), ('300603t', 10767), ('callcost150ppmmobilesvary', 10768), ('rows', 10769), ('mnths', 10770), ('engagement', 10771), ('fixd', 10772), ('njan', 10773), ('vilikkam', 10774), ('sudn', 10775), ('maths', 10776), ('chop', 10777), ('noooooooo', 10778), ('08718727870150ppm', 10779), ('firsg', 10780), ('wasnt', 10781), ('applyed', 10782), ('sumfing', 10783), ('86888', 10784), ('subscribe6gbp', 10785), ('3hrs', 10786), ('txtstop', 10787), ('hiphop', 10788), ('oxygen', 10789), ('roller', 10790), ('recorder', 10791), ('canname', 10792), ('australia', 10793), ('mquiz', 10794), ('showr', 10795), ('acted', 10796), ('ceiling', 10797), ('presnts', 10798), ('bcz', 10799), ('mis', 10800), ('jeevithathile', 10801), ('irulinae', 10802), ('neekunna', 10803), ('prakasamanu', 10804), ('sneham', 10805), ('prakasam', 10806), ('ennal', 10807), ('mns', 10808), ('blowing', 10809), ('7634', 10810), ('7684', 10811), ('firmware', 10812), ('vijaykanth', 10813), ('anythiing', 10814), ('ripped', 10815), ('clubmoby', 10816), ('08717509990', 10817), ('keypad', 10818), ('btwn', 10819), ('goverment', 10820), ('loyal', 10821), ('09066380611', 10822), ('spice', 10823), ('prasanth', 10824), ('ettans', 10825), ('08718738002', 10826), ('48922', 10827), ('appy', 10828), ('fizz', 10829), ('genus', 10830), ('robinson', 10831), ('soz', 10832), ('imat', 10833), ('mums', 10834), ('sometext', 10835), ('07099833605', 10836), ('9280114', 10837), ('chloe', 10838), ('wewa', 10839), ('130', 10840), ('iriver', 10841), ('255', 10842), ('128', 10843), ('bw', 10844), ('surly', 10845), ('07808726822', 10846), ('9758', 10847), ('dokey', 10848), ('mmmmmmm', 10849), ('snuggles', 10850), ('contented', 10851), ('whispers', 10852), ('2bold', 10853), ('scraped', 10854), ('misfits', 10855), ('sleepin', 10856), ('sections', 10857), ('clearer', 10858), ('peach', 10859), ('tasts', 10860), ('rayman', 10861), ('activ8', 10862), ('termsapply', 10863), ('shindig', 10864), ('phonebook', 10865), ('rocking', 10866), ('ashes', 10867), ('shijutta', 10868), ('dvg', 10869), ('vinobanagar', 10870), ('ovulate', 10871), ('3wks', 10872), ('woah', 10873), ('realising', 10874), ('orh', 10875), ('hides', 10876), ('secrets', 10877), ('n8', 10878), ('axel', 10879), ('akon', 10880), ('eyed', 10881), ('cashbin', 10882), ('canteen', 10883), ('stressfull', 10884), ('140', 10885), ('180', 10886), ('pleasured', 10887), ('whens', 10888), ('1172', 10889), ('watever', 10890), ('lonlines', 10891), ('lotz', 10892), ('gailxx', 10893), ('complacent', 10894), ('denis', 10895), ('mina', 10896), ('miwa', 10897), ('woulda', 10898), ('09066649731from', 10899), ('dolls', 10900), ('patrick', 10901), ('swayze', 10902), ('santa', 10903), ('09077818151', 10904), ('calls1', 10905), ('50ppm', 10906), ('30s', 10907), ('santacalling', 10908), ('miserable', 10909), ('limping', 10910), ('aa', 10911), ('078498', 10912), ('08719180219', 10913), ('oga', 10914), ('poorly', 10915), ('punishment', 10916), ('brb', 10917), ('predicte', 10918), ('loosing', 10919), ('shsex', 10920), ('netun', 10921), ('fgkslpopw', 10922), ('fgkslpo', 10923), ('0871277810710p', 10924), ('defer', 10925), ('checkmate', 10926), ('chess', 10927), ('persian', 10928), ('phrase', 10929), ('shah', 10930), ('maat', 10931), ('rats', 10932), ('themes', 10933), ('photoshop', 10934), ('manageable', 10935), ('08715203652', 10936), ('42810', 10937), ('shoppin', 10938), ('carolina', 10939), ('texas', 10940), ('gre', 10941), ('breathing', 10942), ('lovly', 10943), ('msgrcvd', 10944), ('customercare', 10945), ('08718726270', 10946), ('clas', 10947), ('lit', 10948), ('loooooool', 10949), ('couch', 10950), ('swashbuckling', 10951), ('cruel', 10952), ('joker', 10953), ('dip', 10954), ('gek1510', 10955), ('nuther', 10956), ('lyricalladie', 10957), ('910', 10958), ('hmmross', 10959), ('happiest', 10960), ('antibiotic', 10961), ('abdomen', 10962), ('gynae', 10963), ('infections', 10964), ('6times', 10965), ('chastity', 10966), ('beatings', 10967), ('gut', 10968), ('wrenching', 10969), ('tallahassee', 10970), ('ou', 10971), ('taka', 10972), ('pobox202', 10973), ('nr31', 10974), ('7zs', 10975), ('450pw', 10976), ('ritten', 10977), ('fold', 10978), ('warner', 10979), ('83118', 10980), ('colin', 10981), ('farrell', 10982), ('swat', 10983), ('kiosk', 10984), ('mre', 10985), ('solihull', 10986), ('nhs', 10987), ('2b', 10988), ('terminated', 10989), ('inconvenience', 10990), ('dentists', 10991), ('henry', 10992), ('bergkamp', 10993), ('78', 10994), ('snot', 10995), ('unintentional', 10996), ('nonetheless', 10997), ('hooch', 10998), ('toaday', 10999), ('splat', 11000), ('grazed', 11001), ('knees', 11002), ('deny', 11003), ('hearin', 11004), ('yah', 11005), ('torture', 11006), ('hopeing', 11007), ('sisters', 11008), ('sexychat', 11009), ('lips', 11010), ('congratulation', 11011), ('chapel', 11012), ('frontierville', 11013), ('deer', 11014), ('mailed', 11015), ('varma', 11016), ('farting', 11017), ('ortxt', 11018), ('advisors', 11019), ('dialling', 11020), ('402', 11021), ('woot', 11022), ('stuffing', 11023), ('ahhhh', 11024), ('dining', 11025), ('experiencehttp', 11026), ('vouch4me', 11027), ('etlp', 11028), ('kaila', 11029), ('09058094507', 11030), ('donate', 11031), ('unicef', 11032), ('asian', 11033), ('tsunami', 11034), ('864233', 11035), ('cme', 11036), ('hos', 11037), ('cumming', 11038), ('jade', 11039), ('paul', 11040), ('barmed', 11041), ('thinkthis', 11042), ('goldviking', 11043), ('762', 11044), ('coulda', 11045), ('phony', 11046), ('okday', 11047), ('hmph', 11048), ('baller', 11049), ('punto', 11050), ('ayo', 11051), ('travelled', 11052), ('125', 11053), ('freeentry', 11054), ('xt', 11055), ('toyota', 11056), ('camry', 11057), ('olayiwola', 11058), ('mileage', 11059), ('clover', 11060), ('achan', 11061), ('amma', 11062), ('rencontre', 11063), ('mountains', 11064), ('08714712412', 11065), ('te', 11066), ('puppy', 11067), ('sarasota', 11068), ('meg', 11069), ('08715203685', 11070), ('4xx26', 11071), ('13', 11072), ('crossing', 11073), ('deepest', 11074), ('darkest', 11075), ('09094646631', 11076), ('inconvenient', 11077), ('adsense', 11078), ('dudette', 11079), ('perumbavoor', 11080), ('cherish', 11081), ('clarify', 11082), ('preponed', 11083), ('natalie', 11084), ('165', 11085), ('natalie2k9', 11086), ('wallpaper', 11087), ('08701213186', 11088), ('liver', 11089), ('guides', 11090), ('loneliness', 11091), ('skyving', 11092), ('onwords', 11093), ('mtnl', 11094), ('mumbai', 11095), ('83039', 11096), ('62735', 11097), ('450', 11098), ('accommodationvouchers', 11099), ('mustprovide', 11100), ('15541', 11101), ('rajitha', 11102), ('ranju', 11103), ('styles', 11104), ('tscs08714740323', 11105), ('1winawk', 11106), ('50perweeksub', 11107), ('slp', 11108), ('muah', 11109), ('09066361921', 11110), ('disagreeable', 11111), ('afterwards', 11112), ('uawake', 11113), ('feellikw', 11114), ('justfound', 11115), ('aletter', 11116), ('thatmum', 11117), ('gotmarried', 11118), ('4thnov', 11119), ('ourbacks', 11120), ('fuckinnice', 11121), ('rearrange', 11122), ('dormitory', 11123), ('astronomer', 11124), ('starer', 11125), ('recount', 11126), ('hitler', 11127), ('eleven', 11128), ('worms', 11129), ('dysentry', 11130), ('andre', 11131), ('virgil', 11132), ('gokila', 11133), ('shanil', 11134), ('exchanged', 11135), ('uncut', 11136), ('diamond', 11137), ('dino', 11138), ('kotees', 11139), ('panther', 11140), ('sugababes', 11141), ('zebra', 11142), ('animation', 11143), ('badass', 11144), ('hoody', 11145), ('resent', 11146), ('queries', 11147), ('customersqueries', 11148), ('netvision', 11149), ('hassling', 11150), ('andres', 11151), ('haughaighgtujhyguj', 11152), ('fassyole', 11153), ('blacko', 11154), ('londn', 11155), ('4eva', 11156), ('responsibilities', 11157), ('08715205273', 11158), ('vco', 11159), ('humanities', 11160), ('reassurance', 11161), ('aslamalaikkum', 11162), ('tohar', 11163), ('beeen', 11164), ('muht', 11165), ('albi', 11166), ('mufti', 11167), ('mahfuuz', 11168), ('078', 11169), ('enufcredeit', 11170), ('tocall', 11171), ('ileave', 11172), ('treats', 11173), ('okors', 11174), ('ibored', 11175), ('zeros', 11176), ('goigng', 11177), ('perfume', 11178), ('sday', 11179), ('grocers', 11180), ('pubs', 11181), ('frankie', 11182), ('bennys', 11183), ('diapers', 11184), ('owed', 11185), ('turkeys', 11186), ('helens', 11187), ('princes', 11188), ('unintentionally', 11189), ('bulbs', 11190), ('seeds', 11191), ('scotsman', 11192), ('go2', 11193), ('notxt', 11194), ('wenever', 11195), ('tranquility', 11196), ('vibrant', 11197), ('colourful', 11198), ('bawling', 11199), ('velusamy', 11200), ('karnan', 11201), ('bluray', 11202), ('salt', 11203), ('wounds', 11204), ('logging', 11205), ('geoenvironmental', 11206), ('implications', 11207), ('fuuuuck', 11208), ('salmon', 11209), ('uploaded', 11210), ('wrkin', 11211), ('ree', 11212), ('awkward', 11213), ('splash', 11214), ('musta', 11215), ('overdid', 11216), ('telediscount', 11217), ('gastroenteritis', 11218), ('limiting', 11219), ('foned', 11220), ('chuck', 11221), ('stuffs', 11222), ('juswoke', 11223), ('boatin', 11224), ('docks', 11225), ('spinout', 11226), ('08715203656', 11227), ('42049', 11228), ('uworld', 11229), ('qbank', 11230), ('someonone', 11231), ('09064015307', 11232), ('tke', 11233), ('temales', 11234), ('finishd', 11235), ('09061213237', 11236), ('177', 11237), ('m227xy', 11238), ('dull', 11239), ('anyones', 11240), ('treadmill', 11241), ('craigslist', 11242), ('swan', 11243), ('lamp', 11244), ('foward', 11245), ('09061790126', 11246), ('misundrstud', 11247), ('2u2', 11248), ('genes', 11249), ('com1win150ppmx3age16subscription', 11250), ('resuming', 11251), ('reapply', 11252), ('treatin', 11253), ('treacle', 11254), ('mumhas', 11255), ('beendropping', 11256), ('theplace', 11257), ('adress', 11258), ('oyster', 11259), ('sashimi', 11260), ('rumbling', 11261), ('marandratha', 11262), ('correctly', 11263), ('alaikkum', 11264), ('respectful', 11265), ('heaven', 11266), ('pisces', 11267), ('aquarius', 11268), ('2yrs', 11269), ('steyn', 11270), ('wicket', 11271), ('sterm', 11272), ('resolved', 11273), ('jam', 11274), ('hannaford', 11275), ('wheat', 11276), ('chex', 11277), ('grownup', 11278), ('costume', 11279), ('jerk', 11280), ('stink', 11281), ('openings', 11282), ('upcharge', 11283), ('guai', 11284), ('bottle', 11285), ('amused', 11286), ('astrology', 11287), ('slacking', 11288), ('mentor', 11289), ('09095350301', 11290), ('erotic', 11291), ('ecstacy', 11292), ('dept', 11293), ('08717507382', 11294), ('coincidence', 11295), ('sane', 11296), ('151', 11297), ('pause', 11298), ('gr8prizes', 11299), ('8800', 11300), ('psp', 11301), ('spacebucks', 11302), ('083', 11303), ('6089', 11304), ('squeezed', 11305), ('dreading', 11306), ('thou', 11307), ('suggestion', 11308), ('lands', 11309), ('forgt', 11310), ('ajith', 11311), ('ooooooh', 11312), ('yoville', 11313), ('mega', 11314), ('asda', 11315), ('bffs', 11316), ('carly', 11317), ('seperated', 11318), ('ud', 11319), ('brolly', 11320), ('franxx', 11321), ('prometazine', 11322), ('syrup', 11323), ('5mls', 11324), ('shu', 11325), ('singapore', 11326), ('victoria', 11327), ('pocay', 11328), ('wocay', 11329), ('2morrowxxxx', 11330), ('broth', 11331), ('ramen', 11332), ('fowler', 11333), ('tats', 11334), ('09058094583', 11335), ('tix', 11336), ('fne', 11337), ('youdoing', 11338), ('worc', 11339), ('foregate', 11340), ('shrub', 11341), ('get4an18th', 11342), ('32000', 11343), ('legitimat', 11344), ('efreefone', 11345), ('pendent', 11346), ('toilet', 11347), ('cops', 11348), ('hu', 11349), ('navigate', 11350), ('choosing', 11351), ('chick', 11352), ('boobs', 11353), ('revealing', 11354), ('sparkling', 11355), ('45', 11356), ('0121', 11357), ('2025050', 11358), ('shortbreaks', 11359), ('org', 11360), ('gyno', 11361), ('belong', 11362), ('gamb', 11363), ('treasure', 11364), ('820554ad0a1705572711', 11365), ('09050000332', 11366), ('hmmmm', 11367), ('stressful', 11368), ('holby', 11369), ('09064017295', 11370), ('li', 11371), ('lecturer', 11372), ('repeating', 11373), ('yeovil', 11374), ('motor', 11375), ('rhode', 11376), ('bong', 11377), ('ofcourse', 11378), ('2p', 11379), ('08448350055', 11380), ('planettalkinstant', 11381), ('marvel', 11382), ('spider', 11383), ('83338', 11384), ('8ball', 11385), ('tamilnadu', 11386), ('07808247860', 11387), ('08719899229', 11388), ('40411', 11389), ('identification', 11390), ('boundaries', 11391), ('endless', 11392), ('reassuring', 11393), ('referin', 11394), ('saibaba', 11395), ('colany', 11396), ('chic', 11397), ('declare', 11398), ('49557', 11399), ('disappointment', 11400), ('irritation', 11401), ('tantrum', 11402), ('compliments', 11403), ('adventuring', 11404), ('gsex', 11405), ('2667', 11406), ('wc1n', 11407), ('3xx', 11408), ('3mobile', 11409), ('chatlines', 11410), ('inclu', 11411), ('servs', 11412), ('l8er', 11413), ('bailiff', 11414), ('mouse', 11415), ('desk', 11416), ('childporn', 11417), ('jumpers', 11418), ('hat', 11419), ('belt', 11420), ('cribbs', 11421), ('spiritual', 11422), ('barring', 11423), ('influx', 11424), ('kane', 11425), ('shud', 11426), ('pshew', 11427), ('accent', 11428), ('4years', 11429), ('dental', 11430), ('nmde', 11431), ('dump', 11432), ('heap', 11433), ('lowes', 11434), ('salesman', 11435), ('087187272008', 11436), ('now1', 11437), ('pity', 11438), ('suggestions', 11439), ('bitching', 11440)])"
      ]
     },
     "execution_count": 36,
     "metadata": {},
     "output_type": "execute_result"
    }
   ],
   "source": [
    "word_to_id.items()"
   ]
  },
  {
   "cell_type": "code",
   "execution_count": 37,
   "id": "f78d8d93",
   "metadata": {},
   "outputs": [],
   "source": [
    "#step vocab, store vectors using the Tokenizer's integer mapping\n",
    "\n",
    "for word, i in word_to_id.items():\n",
    "    embedding_matrix[i,:]=embedding_results[word]"
   ]
  },
  {
   "cell_type": "code",
   "execution_count": 38,
   "id": "688adf9c",
   "metadata": {},
   "outputs": [
    {
     "data": {
      "text/plain": [
       "array([0., 0., 0., 0., 0., 0., 0., 0., 0., 0., 0., 0., 0., 0., 0., 0., 0.,\n",
       "       0., 0., 0., 0., 0., 0., 0., 0., 0., 0., 0., 0., 0., 0., 0., 0., 0.,\n",
       "       0., 0., 0., 0., 0., 0., 0., 0., 0., 0., 0., 0., 0., 0., 0., 0., 0.,\n",
       "       0., 0., 0., 0., 0., 0., 0., 0., 0., 0., 0., 0., 0., 0., 0., 0., 0.,\n",
       "       0., 0., 0., 0., 0., 0., 0., 0., 0., 0., 0., 0., 0., 0., 0., 0., 0.,\n",
       "       0., 0., 0., 0., 0., 0., 0., 0., 0., 0., 0., 0., 0., 0., 0., 0., 0.,\n",
       "       0., 0., 0., 0., 0., 0., 0., 0., 0., 0., 0., 0., 0., 0., 0., 0., 0.,\n",
       "       0., 0., 0., 0., 0., 0., 0., 0., 0., 0., 0., 0., 0., 0., 0., 0., 0.,\n",
       "       0., 0., 0., 0., 0., 0., 0., 0., 0., 0., 0., 0., 0., 0., 0., 0., 0.,\n",
       "       0., 0., 0., 0., 0., 0., 0., 0., 0., 0., 0., 0., 0., 0., 0., 0., 0.,\n",
       "       0., 0., 0., 0., 0., 0., 0., 0., 0., 0., 0., 0., 0., 0., 0., 0., 0.,\n",
       "       0., 0., 0., 0., 0., 0., 0., 0., 0., 0., 0., 0., 0., 0., 0., 0., 0.,\n",
       "       0., 0., 0., 0., 0., 0., 0., 0., 0., 0., 0., 0., 0., 0., 0., 0., 0.,\n",
       "       0., 0., 0., 0., 0., 0., 0., 0., 0., 0., 0., 0., 0., 0., 0., 0., 0.,\n",
       "       0., 0., 0., 0., 0., 0., 0., 0., 0., 0., 0., 0., 0., 0., 0., 0., 0.,\n",
       "       0., 0., 0., 0., 0., 0., 0., 0., 0., 0., 0., 0., 0., 0., 0., 0., 0.,\n",
       "       0., 0., 0., 0., 0., 0., 0., 0., 0., 0., 0., 0., 0., 0., 0., 0., 0.,\n",
       "       0., 0., 0., 0., 0., 0., 0., 0., 0., 0., 0.])"
      ]
     },
     "execution_count": 38,
     "metadata": {},
     "output_type": "execute_result"
    }
   ],
   "source": [
    "embedding_matrix[0,:]"
   ]
  },
  {
   "cell_type": "code",
   "execution_count": 39,
   "id": "b1fb565d",
   "metadata": {},
   "outputs": [
    {
     "data": {
      "text/plain": [
       "array([ 1.12915039e-03, -8.96453857e-04,  3.18527222e-04,  1.53350830e-03,\n",
       "        1.10626221e-03, -1.40380859e-03, -3.05175781e-05, -4.19616699e-04,\n",
       "       -5.76019287e-04,  1.07574463e-03, -1.02233887e-03, -6.17980957e-04,\n",
       "       -7.55310059e-04,  1.40380859e-03, -1.64031982e-03, -6.33239746e-04,\n",
       "        1.63269043e-03, -1.00708008e-03, -1.26647949e-03,  6.52313232e-04,\n",
       "       -4.15802002e-04, -1.07574463e-03,  1.52587891e-03, -2.74658203e-04,\n",
       "        1.40190125e-04,  1.57165527e-03,  1.35803223e-03, -8.31604004e-04,\n",
       "       -1.40380859e-03,  1.57928467e-03,  2.53677368e-04, -7.32421875e-04,\n",
       "       -1.05381012e-04, -1.16729736e-03,  1.57928467e-03,  6.56127930e-04,\n",
       "       -6.59942627e-04,  2.92062759e-06,  1.12915039e-03,  4.27246094e-04,\n",
       "       -3.70025635e-04, -1.15203857e-03,  1.26647949e-03, -3.51667404e-06,\n",
       "        2.65121460e-04, -4.02450562e-04,  1.41143799e-04, -3.36170197e-05,\n",
       "        7.59124756e-04, -5.18798828e-04, -7.10487366e-05,  6.02722168e-04,\n",
       "       -5.07354736e-04, -1.62506104e-03, -4.36782837e-04, -9.91821289e-04,\n",
       "       -1.22070312e-03, -3.22341919e-04,  6.86645508e-05, -1.16729736e-03,\n",
       "       -5.11169434e-04,  1.41143799e-03,  3.35693359e-04, -4.74929810e-04,\n",
       "       -1.37329102e-03,  3.66210938e-04, -1.44195557e-03, -6.06536865e-04,\n",
       "        8.01086426e-04,  1.12915039e-03, -8.35418701e-04, -1.15966797e-03,\n",
       "        9.15527344e-04,  5.22613525e-04, -3.28063965e-04,  1.59454346e-03,\n",
       "       -1.57928467e-03, -3.56674194e-04,  4.95910645e-04,  1.01470947e-03,\n",
       "       -1.09863281e-03, -1.65939331e-04, -1.42097473e-04, -2.61306763e-04,\n",
       "        1.25885010e-03,  3.86238098e-05,  1.68800354e-04, -1.02996826e-03,\n",
       "        1.60980225e-03,  6.29425049e-04,  4.17709351e-04, -1.35040283e-03,\n",
       "        3.49044800e-04,  1.14440918e-03, -1.20544434e-03, -1.18255615e-03,\n",
       "        9.49859619e-04,  6.05583191e-05,  1.07288361e-05, -6.67572021e-04,\n",
       "        1.24359131e-03,  6.90460205e-04,  5.55515289e-05, -8.62121582e-04,\n",
       "       -1.16729736e-03,  1.21307373e-03, -8.04901123e-04, -8.77380371e-04,\n",
       "        2.27928162e-04, -3.96728516e-04, -8.58306885e-04,  2.88009644e-04,\n",
       "       -1.58691406e-03,  4.84466553e-04, -1.12152100e-03,  1.96695328e-06,\n",
       "       -3.79562378e-04,  7.05718994e-04, -1.58691406e-03,  1.62506104e-03,\n",
       "        1.55639648e-03, -4.31060791e-04,  9.84191895e-04,  9.04083252e-04,\n",
       "       -1.39617920e-03,  1.20544434e-03, -7.01904297e-04,  2.70843506e-04,\n",
       "       -1.23596191e-03,  6.90460205e-04, -8.43048096e-04,  1.34277344e-03,\n",
       "       -1.43432617e-03, -6.71386719e-04,  1.54876709e-03, -1.09863281e-03,\n",
       "        1.19018555e-03, -1.42669678e-03, -6.82830811e-04, -7.85827637e-04,\n",
       "        4.80651855e-04,  4.08172607e-04, -6.37054443e-04,  1.44958496e-04,\n",
       "       -9.76562500e-04,  1.44958496e-03,  8.45640898e-07, -1.66320801e-03,\n",
       "       -3.28063965e-04,  6.29425049e-04, -1.43432617e-03, -3.41415405e-04,\n",
       "        1.15203857e-03, -5.30242920e-04, -4.71115112e-04, -8.50677490e-04,\n",
       "       -1.38092041e-03, -1.24359131e-03, -1.32751465e-03,  1.07574463e-03,\n",
       "        1.31988525e-03, -3.03268433e-04, -3.74317169e-05,  1.18255615e-03,\n",
       "       -1.35803223e-03, -1.04522705e-03,  5.67436218e-05, -1.01470947e-03,\n",
       "        4.32968140e-04, -1.57165527e-03, -9.10758972e-05,  1.06048584e-03,\n",
       "       -6.02722168e-04, -1.53350830e-03, -1.53350830e-03,  5.41687012e-04,\n",
       "        1.33514404e-03,  4.11987305e-04, -3.10897827e-04,  1.76429749e-04,\n",
       "       -1.37329102e-04, -6.98089600e-04, -8.62121582e-04, -1.08337402e-03,\n",
       "       -2.98023224e-05,  8.01086426e-04,  6.79016113e-04,  3.35693359e-04,\n",
       "       -1.38854980e-03,  1.35040283e-03,  2.34603882e-04, -1.33514404e-03,\n",
       "       -8.73565674e-04, -7.43865967e-04,  1.08337402e-03,  6.05583191e-05,\n",
       "       -1.26647949e-03,  1.19018555e-03, -6.21795654e-04,  1.35973096e-07,\n",
       "        1.27410889e-03, -9.84191895e-04, -1.54876709e-03,  1.55639648e-03,\n",
       "       -1.31225586e-03, -7.93457031e-04,  1.53350830e-03,  1.29699707e-03,\n",
       "       -1.80244446e-04,  9.19342041e-04,  1.20544434e-03,  7.70568848e-04,\n",
       "       -1.65557861e-03,  7.70568848e-04,  1.44958496e-03, -1.30462646e-03,\n",
       "        6.10351562e-04,  6.59942627e-04,  1.25885010e-03,  1.41906738e-03,\n",
       "       -1.22070312e-03, -1.51062012e-03,  1.12915039e-03,  1.34277344e-03,\n",
       "        1.66320801e-03, -5.72204590e-04, -5.56945801e-04,  3.98635864e-04,\n",
       "       -2.70843506e-04,  4.95910645e-04,  1.60980225e-03, -7.05718994e-04,\n",
       "        6.25610352e-04, -9.76562500e-04, -1.89781189e-04,  9.53674316e-05,\n",
       "       -5.18798828e-04, -2.04086304e-04, -8.27789307e-04, -1.23023987e-04,\n",
       "        7.62939453e-04,  3.22341919e-04, -1.24359131e-03,  9.91821289e-04,\n",
       "        1.06048584e-03, -1.41143799e-03,  9.67979431e-05, -1.55639648e-03,\n",
       "        2.19345093e-04, -5.53131104e-05, -9.11712646e-04, -1.48773193e-03,\n",
       "        1.36566162e-03, -8.43048096e-04, -4.19616699e-04,  3.24249268e-04,\n",
       "       -1.00708008e-03,  1.25885010e-04, -4.55856323e-04,  1.92642212e-04,\n",
       "       -2.68936157e-04,  1.49536133e-03, -1.58691406e-03,  5.91278076e-04,\n",
       "       -1.46484375e-03,  9.65118408e-04, -1.28173828e-03,  1.60217285e-03,\n",
       "        1.09100342e-03, -1.31225586e-03,  1.09100342e-03, -5.11169434e-04,\n",
       "        3.45230103e-04,  1.04522705e-03, -2.06947327e-04,  9.04083252e-04,\n",
       "        6.67572021e-04,  1.10626221e-03, -8.73565674e-04, -3.75747681e-04,\n",
       "       -2.57492065e-04, -9.15527344e-05,  1.43432617e-03, -1.18255615e-03,\n",
       "       -8.72612000e-05,  1.32751465e-03, -1.58309937e-04,  1.28936768e-03,\n",
       "       -9.84191895e-04, -5.49316406e-04, -1.54876709e-03,  1.37329102e-03,\n",
       "       -6.07967377e-05, -8.23974609e-04,  1.32751465e-03,  1.15966797e-03,\n",
       "        5.68389893e-04, -1.56402588e-03, -1.23023987e-04, -8.63075256e-05])"
      ]
     },
     "execution_count": 39,
     "metadata": {},
     "output_type": "execute_result"
    }
   ],
   "source": [
    "embedding_matrix[1]"
   ]
  },
  {
   "cell_type": "code",
   "execution_count": 40,
   "id": "dc018461",
   "metadata": {},
   "outputs": [
    {
     "data": {
      "text/plain": [
       "array([-0.0189209 , -0.11035156, -0.06542969,  0.13183594, -0.00125122,\n",
       "        0.27734375,  0.05249023,  0.05981445,  0.04760742,  0.16503906,\n",
       "       -0.28710938, -0.12890625, -0.11816406,  0.02160645, -0.02478027,\n",
       "        0.22949219,  0.20703125,  0.14257812, -0.006073  , -0.19628906,\n",
       "       -0.13378906,  0.19238281,  0.02355957, -0.17089844,  0.16015625,\n",
       "        0.44921875, -0.01660156,  0.00442505,  0.05712891, -0.24609375,\n",
       "       -0.03833008, -0.16601562,  0.04638672,  0.08349609,  0.02075195,\n",
       "       -0.12353516,  0.1640625 , -0.125     ,  0.35546875, -0.00946045,\n",
       "        0.00309753, -0.3046875 ,  0.26757812, -0.06933594, -0.30664062,\n",
       "       -0.03930664, -0.01611328, -0.0378418 , -0.24121094,  0.01159668,\n",
       "       -0.25390625, -0.11376953, -0.046875  ,  0.21386719,  0.06933594,\n",
       "        0.140625  , -0.13476562, -0.16113281,  0.17675781, -0.08398438,\n",
       "        0.00854492,  0.1640625 ,  0.012146  , -0.22558594,  0.14453125,\n",
       "       -0.10546875, -0.22949219, -0.13574219, -0.23632812,  0.19921875,\n",
       "        0.08349609,  0.39257812,  0.13183594,  0.50390625, -0.30859375,\n",
       "       -0.09326172, -0.04492188, -0.00698853, -0.02331543,  0.25585938,\n",
       "       -0.234375  ,  0.3671875 , -0.09472656, -0.18652344, -0.29101562,\n",
       "       -0.15039062,  0.17285156,  0.375     ,  0.18164062,  0.26171875,\n",
       "       -0.07080078,  0.14746094, -0.15429688,  0.3828125 , -0.265625  ,\n",
       "        0.18261719,  0.12988281, -0.16894531,  0.03710938,  0.02319336,\n",
       "       -0.04931641, -0.00552368,  0.28710938,  0.08007812,  0.05004883,\n",
       "        0.02539062, -0.05004883,  0.29882812,  0.22460938, -0.25390625,\n",
       "        0.01550293, -0.28125   ,  0.12597656,  0.02392578,  0.01708984,\n",
       "       -0.20898438,  0.37890625, -0.21386719,  0.15234375, -0.12011719,\n",
       "       -0.07226562, -0.046875  , -0.09521484, -0.12353516,  0.08789062,\n",
       "       -0.296875  , -0.44726562,  0.11474609, -0.18066406, -0.24511719,\n",
       "       -0.15234375, -0.19335938, -0.24609375,  0.13574219, -0.140625  ,\n",
       "        0.06176758, -0.21679688, -0.01239014, -0.06103516, -0.11279297,\n",
       "        0.20800781, -0.19238281,  0.05639648, -0.2578125 ,  0.17382812,\n",
       "       -0.01916504,  0.06152344, -0.12207031,  0.16113281, -0.26367188,\n",
       "        0.16503906,  0.26757812,  0.21484375, -0.14160156, -0.265625  ,\n",
       "       -0.12792969, -0.00239563, -0.1484375 , -0.15136719, -0.35351562,\n",
       "       -0.01000977,  0.15820312, -0.19921875, -0.08105469, -0.15429688,\n",
       "       -0.32226562,  0.09326172,  0.00830078, -0.04174805,  0.33984375,\n",
       "       -0.19238281, -0.1171875 ,  0.2890625 ,  0.22363281, -0.14160156,\n",
       "       -0.08544922,  0.09570312, -0.30078125,  0.12695312,  0.24511719,\n",
       "        0.2890625 ,  0.03588867,  0.46484375,  0.234375  , -0.09912109,\n",
       "        0.20507812, -0.23144531, -0.05249023,  0.20507812, -0.40625   ,\n",
       "        0.23925781, -0.04882812, -0.10302734, -0.02087402,  0.02099609,\n",
       "        0.23925781, -0.11425781,  0.1328125 , -0.04150391,  0.05053711,\n",
       "       -0.36328125,  0.3515625 , -0.22753906,  0.10791016, -0.15234375,\n",
       "       -0.0456543 , -0.328125  ,  0.07861328, -0.21191406,  0.07373047,\n",
       "        0.18164062,  0.22363281,  0.06542969, -0.203125  , -0.06835938,\n",
       "        0.05273438, -0.07421875,  0.10400391, -0.23632812,  0.02331543,\n",
       "       -0.37890625,  0.12304688,  0.15917969,  0.29101562,  0.04443359,\n",
       "        0.07910156, -0.04199219,  0.17773438,  0.2109375 , -0.19628906,\n",
       "       -0.04858398, -0.21289062, -0.03735352,  0.01940918,  0.17382812,\n",
       "       -0.29101562,  0.19140625, -0.00799561,  0.28515625,  0.11523438,\n",
       "        0.14746094,  0.19335938, -0.06079102, -0.23339844, -0.17285156,\n",
       "        0.07324219,  0.12890625,  0.22851562, -0.10595703,  0.08251953,\n",
       "        0.296875  ,  0.12597656, -0.06591797,  0.3359375 ,  0.02514648,\n",
       "       -0.10595703,  0.02990723,  0.04418945,  0.01123047,  0.05126953,\n",
       "       -0.00105286, -0.00128174, -0.07519531, -0.05908203, -0.21484375,\n",
       "       -0.11376953, -0.22265625,  0.1328125 ,  0.23339844, -0.00273132,\n",
       "       -0.06689453,  0.18164062,  0.27929688, -0.02124023,  0.04223633,\n",
       "       -0.19921875, -0.44726562,  0.12451172, -0.10742188,  0.01159668,\n",
       "        0.13769531, -0.265625  ,  0.00236511, -0.0625    ,  0.02734375,\n",
       "       -0.10498047, -0.12158203,  0.08544922,  0.453125  , -0.15234375,\n",
       "        0.15917969,  0.24121094, -0.00102997,  0.03808594,  0.00509644,\n",
       "       -0.18164062,  0.2109375 , -0.05664062, -0.12109375,  0.20996094])"
      ]
     },
     "execution_count": 40,
     "metadata": {},
     "output_type": "execute_result"
    }
   ],
   "source": [
    "embedding_matrix[-1]"
   ]
  },
  {
   "cell_type": "markdown",
   "id": "beb7356a",
   "metadata": {},
   "source": [
    "# (6) CNN 기반 데이터 분석"
   ]
  },
  {
   "cell_type": "markdown",
   "id": "18f3f5a6",
   "metadata": {},
   "source": [
    "## (1) Text 정수화 "
   ]
  },
  {
   "cell_type": "code",
   "execution_count": 41,
   "id": "e689b664",
   "metadata": {},
   "outputs": [
    {
     "data": {
      "text/plain": [
       "['go',\n",
       " 'until',\n",
       " 'jurong',\n",
       " 'point',\n",
       " 'crazy',\n",
       " 'available',\n",
       " 'only',\n",
       " 'in',\n",
       " 'bugis',\n",
       " 'n',\n",
       " 'great',\n",
       " 'world',\n",
       " 'la',\n",
       " 'e',\n",
       " 'buffet',\n",
       " 'cine',\n",
       " 'there',\n",
       " 'got',\n",
       " 'amore',\n",
       " 'wat']"
      ]
     },
     "execution_count": 41,
     "metadata": {},
     "output_type": "execute_result"
    }
   ],
   "source": [
    "result[0]"
   ]
  },
  {
   "cell_type": "code",
   "execution_count": 42,
   "id": "fd97adc8",
   "metadata": {},
   "outputs": [],
   "source": [
    "#각 단어를 이미 정해진 인덱스로 변환\n",
    "\n",
    "encoded_result=[]\n",
    "\n",
    "for sent in result:\n",
    "    temp_id=[]\n",
    "    for word in sent:\n",
    "        temp_id.append(word_to_id[word])\n",
    "    encoded_result.append(temp_id)"
   ]
  },
  {
   "cell_type": "code",
   "execution_count": 43,
   "id": "47bf1ee0",
   "metadata": {},
   "outputs": [
    {
     "data": {
      "text/plain": [
       "['ok', 'lar', 'joking', 'wif', 'u', 'oni']"
      ]
     },
     "execution_count": 43,
     "metadata": {},
     "output_type": "execute_result"
    }
   ],
   "source": [
    "result[1]"
   ]
  },
  {
   "cell_type": "code",
   "execution_count": 44,
   "id": "1048c8b8",
   "metadata": {},
   "outputs": [
    {
     "data": {
      "text/plain": [
       "[5009, 5010, 5011, 5012, 5013, 5014]"
      ]
     },
     "execution_count": 44,
     "metadata": {},
     "output_type": "execute_result"
    }
   ],
   "source": [
    "encoded_result[1]"
   ]
  },
  {
   "cell_type": "code",
   "execution_count": 45,
   "id": "00bcd484",
   "metadata": {},
   "outputs": [
    {
     "data": {
      "text/plain": [
       "'ok'"
      ]
     },
     "execution_count": 45,
     "metadata": {},
     "output_type": "execute_result"
    }
   ],
   "source": [
    "id_to_word[5009]"
   ]
  },
  {
   "cell_type": "code",
   "execution_count": 46,
   "id": "12048e3d",
   "metadata": {},
   "outputs": [
    {
     "data": {
      "text/plain": [
       "'oni'"
      ]
     },
     "execution_count": 46,
     "metadata": {},
     "output_type": "execute_result"
    }
   ],
   "source": [
    "id_to_word[5014]"
   ]
  },
  {
   "cell_type": "code",
   "execution_count": 47,
   "id": "1125bdf4",
   "metadata": {},
   "outputs": [
    {
     "name": "stdout",
     "output_type": "stream",
     "text": [
      "190\n"
     ]
    }
   ],
   "source": [
    "#가장 길이가 긴 email의 길이 계산\n",
    "#190으로 다른 이메일도 고정 시킬것(나머지를 0으로 채울 것)\n",
    "\n",
    "max_len=max(len(encoded_email) for encoded_email in encoded_result )\n",
    "print(max_len)"
   ]
  },
  {
   "cell_type": "code",
   "execution_count": 48,
   "id": "5ebcf52d",
   "metadata": {},
   "outputs": [
    {
     "data": {
      "text/plain": [
       "20"
      ]
     },
     "execution_count": 48,
     "metadata": {},
     "output_type": "execute_result"
    }
   ],
   "source": [
    "len(encoded_result[0])"
   ]
  },
  {
   "cell_type": "code",
   "execution_count": 49,
   "id": "4b76dd75",
   "metadata": {},
   "outputs": [
    {
     "data": {
      "text/plain": [
       "6"
      ]
     },
     "execution_count": 49,
     "metadata": {},
     "output_type": "execute_result"
    }
   ],
   "source": [
    "len(encoded_result[1])"
   ]
  },
  {
   "cell_type": "markdown",
   "id": "575d4647",
   "metadata": {},
   "source": [
    "## 고정된 길이 padding"
   ]
  },
  {
   "cell_type": "code",
   "execution_count": 50,
   "id": "34e25c46",
   "metadata": {},
   "outputs": [],
   "source": [
    "from tensorflow.keras.preprocessing.sequence import pad_sequences"
   ]
  },
  {
   "cell_type": "code",
   "execution_count": 51,
   "id": "96d192cc",
   "metadata": {},
   "outputs": [],
   "source": [
    "padded_encoded_result=pad_sequences(encoded_result)"
   ]
  },
  {
   "cell_type": "code",
   "execution_count": 52,
   "id": "be6897de",
   "metadata": {},
   "outputs": [
    {
     "data": {
      "text/plain": [
       "(190,)"
      ]
     },
     "execution_count": 52,
     "metadata": {},
     "output_type": "execute_result"
    }
   ],
   "source": [
    "padded_encoded_result[0].shape"
   ]
  },
  {
   "cell_type": "code",
   "execution_count": 53,
   "id": "69c5d376",
   "metadata": {},
   "outputs": [
    {
     "data": {
      "text/plain": [
       "array([   0,    0,    0,    0,    0,    0,    0,    0,    0,    0,    0,\n",
       "          0,    0,    0,    0,    0,    0,    0,    0,    0,    0,    0,\n",
       "          0,    0,    0,    0,    0,    0,    0,    0,    0,    0,    0,\n",
       "          0,    0,    0,    0,    0,    0,    0,    0,    0,    0,    0,\n",
       "          0,    0,    0,    0,    0,    0,    0,    0,    0,    0,    0,\n",
       "          0,    0,    0,    0,    0,    0,    0,    0,    0,    0,    0,\n",
       "          0,    0,    0,    0,    0,    0,    0,    0,    0,    0,    0,\n",
       "          0,    0,    0,    0,    0,    0,    0,    0,    0,    0,    0,\n",
       "          0,    0,    0,    0,    0,    0,    0,    0,    0,    0,    0,\n",
       "          0,    0,    0,    0,    0,    0,    0,    0,    0,    0,    0,\n",
       "          0,    0,    0,    0,    0,    0,    0,    0,    0,    0,    0,\n",
       "          0,    0,    0,    0,    0,    0,    0,    0,    0,    0,    0,\n",
       "          0,    0,    0,    0,    0,    0,    0,    0,    0,    0,    0,\n",
       "          0,    0,    0,    0,    0,    0,    0,    0,    0,    0,    0,\n",
       "          0,    0,    0,    0,    0,    0,    0,    0,    0,    0,    0,\n",
       "          0,    0,    0,    0,    0,  153,  297, 5001,  284, 4307,  320,\n",
       "         90,    2, 5002, 5003,  268,  158, 5004, 4212, 5005, 5006,   73,\n",
       "        194, 5007, 5008])"
      ]
     },
     "execution_count": 53,
     "metadata": {},
     "output_type": "execute_result"
    }
   ],
   "source": [
    "padded_encoded_result[0]"
   ]
  },
  {
   "cell_type": "code",
   "execution_count": 54,
   "id": "c7084eb2",
   "metadata": {},
   "outputs": [],
   "source": [
    "#post: 뒷 부분에 0을 채워넣겠다는 것\n",
    "#maxlen: 최대 길이\n",
    "\n",
    "padded_encoded_result=pad_sequences(encoded_result,padding='post',maxlen=5) #뒤에서 다섯개 자른 것"
   ]
  },
  {
   "cell_type": "code",
   "execution_count": 55,
   "id": "c6e4d92d",
   "metadata": {},
   "outputs": [
    {
     "data": {
      "text/plain": [
       "array([5006,   73,  194, 5007, 5008])"
      ]
     },
     "execution_count": 55,
     "metadata": {},
     "output_type": "execute_result"
    }
   ],
   "source": [
    "padded_encoded_result[0]"
   ]
  },
  {
   "cell_type": "code",
   "execution_count": 56,
   "id": "97e25b41",
   "metadata": {},
   "outputs": [],
   "source": [
    "padded_encoded_result=pad_sequences(encoded_result,padding='post')"
   ]
  },
  {
   "cell_type": "code",
   "execution_count": 57,
   "id": "ce944bd0",
   "metadata": {},
   "outputs": [
    {
     "data": {
      "text/plain": [
       "array([ 153,  297, 5001,  284, 4307,  320,   90,    2, 5002, 5003,  268,\n",
       "        158, 5004, 4212, 5005, 5006,   73,  194, 5007, 5008,    0,    0,\n",
       "          0,    0,    0,    0,    0,    0,    0,    0,    0,    0,    0,\n",
       "          0,    0,    0,    0,    0,    0,    0,    0,    0,    0,    0,\n",
       "          0,    0,    0,    0,    0,    0,    0,    0,    0,    0,    0,\n",
       "          0,    0,    0,    0,    0,    0,    0,    0,    0,    0,    0,\n",
       "          0,    0,    0,    0,    0,    0,    0,    0,    0,    0,    0,\n",
       "          0,    0,    0,    0,    0,    0,    0,    0,    0,    0,    0,\n",
       "          0,    0,    0,    0,    0,    0,    0,    0,    0,    0,    0,\n",
       "          0,    0,    0,    0,    0,    0,    0,    0,    0,    0,    0,\n",
       "          0,    0,    0,    0,    0,    0,    0,    0,    0,    0,    0,\n",
       "          0,    0,    0,    0,    0,    0,    0,    0,    0,    0,    0,\n",
       "          0,    0,    0,    0,    0,    0,    0,    0,    0,    0,    0,\n",
       "          0,    0,    0,    0,    0,    0,    0,    0,    0,    0,    0,\n",
       "          0,    0,    0,    0,    0,    0,    0,    0,    0,    0,    0,\n",
       "          0,    0,    0,    0,    0,    0,    0,    0,    0,    0,    0,\n",
       "          0,    0,    0,    0,    0,    0,    0,    0,    0,    0,    0,\n",
       "          0,    0,    0])"
      ]
     },
     "execution_count": 57,
     "metadata": {},
     "output_type": "execute_result"
    }
   ],
   "source": [
    "padded_encoded_result[0]"
   ]
  },
  {
   "cell_type": "markdown",
   "id": "4793afda",
   "metadata": {},
   "source": [
    "## (2) Train Test 분리"
   ]
  },
  {
   "cell_type": "code",
   "execution_count": 58,
   "id": "15c7897a",
   "metadata": {},
   "outputs": [
    {
     "data": {
      "text/plain": [
       "5169"
      ]
     },
     "execution_count": 58,
     "metadata": {},
     "output_type": "execute_result"
    }
   ],
   "source": [
    "#인덱스를 만드는 것\n",
    "\n",
    "indices=np.arange(len(padded_encoded_result))\n",
    "len(indices)"
   ]
  },
  {
   "cell_type": "code",
   "execution_count": 59,
   "id": "186a0bbd",
   "metadata": {},
   "outputs": [
    {
     "data": {
      "text/plain": [
       "(5169, 2)"
      ]
     },
     "execution_count": 59,
     "metadata": {},
     "output_type": "execute_result"
    }
   ],
   "source": [
    "data.shape"
   ]
  },
  {
   "cell_type": "code",
   "execution_count": 60,
   "id": "a2d5e743",
   "metadata": {},
   "outputs": [],
   "source": [
    "Y=data['Y']"
   ]
  },
  {
   "cell_type": "code",
   "execution_count": 61,
   "id": "0121752d",
   "metadata": {},
   "outputs": [],
   "source": [
    "#shuffle: 뒤죽 박죽 섞는 것\n",
    "\n",
    "indices_train, indices_test = train_test_split(indices, test_size=0.2, shuffle=True, random_state=0, stratify=Y)"
   ]
  },
  {
   "cell_type": "code",
   "execution_count": 72,
   "id": "6025afcd",
   "metadata": {},
   "outputs": [],
   "source": [
    "train_X=padded_encoded_result[indices_train]\n",
    "train_Y=Y.iloc[indices_train]\n",
    "\n",
    "test_X=padded_encoded_result[indices_test]\n",
    "test_Y=Y.iloc[indices_test]"
   ]
  },
  {
   "cell_type": "markdown",
   "id": "dc29a456",
   "metadata": {},
   "source": [
    "## (3) Convolutional Neural Network 구축"
   ]
  },
  {
   "cell_type": "code",
   "execution_count": 63,
   "id": "a5a4a6be",
   "metadata": {},
   "outputs": [
    {
     "data": {
      "text/plain": [
       "array([4502,   77,  231,  200, 5770,  100, 1937, 5037, 4502,  178,   44,\n",
       "        302, 5026,   17, 6510,  100,   88,  382,    0,    0,    0,    0,\n",
       "          0,    0,    0,    0,    0,    0,    0,    0,    0,    0,    0,\n",
       "          0,    0,    0,    0,    0,    0,    0,    0,    0,    0,    0,\n",
       "          0,    0,    0,    0,    0,    0,    0,    0,    0,    0,    0,\n",
       "          0,    0,    0,    0,    0,    0,    0,    0,    0,    0,    0,\n",
       "          0,    0,    0,    0,    0,    0,    0,    0,    0,    0,    0,\n",
       "          0,    0,    0,    0,    0,    0,    0,    0,    0,    0,    0,\n",
       "          0,    0,    0,    0,    0,    0,    0,    0,    0,    0,    0,\n",
       "          0,    0,    0,    0,    0,    0,    0,    0,    0,    0,    0,\n",
       "          0,    0,    0,    0,    0,    0,    0,    0,    0,    0,    0,\n",
       "          0,    0,    0,    0,    0,    0,    0,    0,    0,    0,    0,\n",
       "          0,    0,    0,    0,    0,    0,    0,    0,    0,    0,    0,\n",
       "          0,    0,    0,    0,    0,    0,    0,    0,    0,    0,    0,\n",
       "          0,    0,    0,    0,    0,    0,    0,    0,    0,    0,    0,\n",
       "          0,    0,    0,    0,    0,    0,    0,    0,    0,    0,    0,\n",
       "          0,    0,    0,    0,    0,    0,    0,    0,    0,    0,    0,\n",
       "          0,    0,    0])"
      ]
     },
     "execution_count": 63,
     "metadata": {},
     "output_type": "execute_result"
    }
   ],
   "source": [
    "train_X[0]"
   ]
  },
  {
   "cell_type": "code",
   "execution_count": 64,
   "id": "0208bef1",
   "metadata": {},
   "outputs": [],
   "source": [
    "from tensorflow.keras.models import Sequential\n",
    "from tensorflow.keras.layers import Dense\n",
    "from tensorflow.keras.layers import Flatten\n",
    "from tensorflow.keras.layers import Embedding\n",
    "from tensorflow.keras.layers import Conv1D#Conv2D\n",
    "from tensorflow.keras.layers import GlobalMaxPooling1D"
   ]
  },
  {
   "cell_type": "code",
   "execution_count": 65,
   "id": "5ceddc69",
   "metadata": {},
   "outputs": [],
   "source": [
    "#vocab_size: row의 길이\n",
    "#TransferedModel.wv.vector_size: column의 길이\n",
    "#원래 weights를 알아서 학습시키는 것이지만 우리는 이미 있는것을 가져다 쓸 것\n",
    "#trainable=False: embedding_matrix를 train시킬 것이냐 라고 했을 때 안한다는 것\n",
    "\n",
    "embedding_layer=Embedding(vocab_size, TransferedModel.wv.vector_size, weights=[embedding_matrix], input_length=max_len, trainable=False)"
   ]
  },
  {
   "cell_type": "code",
   "execution_count": 66,
   "id": "41fd8941",
   "metadata": {},
   "outputs": [
    {
     "name": "stdout",
     "output_type": "stream",
     "text": [
      "Model: \"sequential\"\n",
      "_________________________________________________________________\n",
      "Layer (type)                 Output Shape              Param #   \n",
      "=================================================================\n",
      "embedding (Embedding)        (None, 190, 300)          3432300   \n",
      "_________________________________________________________________\n",
      "conv1d (Conv1D)              (None, 190, 50)           15050     \n",
      "_________________________________________________________________\n",
      "global_max_pooling1d (Global (None, 50)                0         \n",
      "_________________________________________________________________\n",
      "flatten (Flatten)            (None, 50)                0         \n",
      "_________________________________________________________________\n",
      "dense (Dense)                (None, 1)                 51        \n",
      "=================================================================\n",
      "Total params: 3,447,401\n",
      "Trainable params: 15,101\n",
      "Non-trainable params: 3,432,300\n",
      "_________________________________________________________________\n",
      "None\n"
     ]
    }
   ],
   "source": [
    "#Architecture 구성\n",
    "#Conv1D로 하면 input에 맞게끔 너비가 결정, 높이만 결정하면 됨\n",
    "\n",
    "CNN=Sequential() #순서대로 구성하겠다\n",
    "CNN.add(embedding_layer)\n",
    "CNN.add(Conv1D(filters=50, kernel_size=1, activation='relu')) #필터의 개수 50개, kernel_size는 높이(1칸), kernel_size=1이면 190X1짜리가 50개 생김\n",
    "CNN.add(GlobalMaxPooling1D()) #가장 큰 값을 뽑아서 하나로 요약(50개 만들어짐)\n",
    "CNN.add(Flatten())\n",
    "CNN.add(Dense(1, activation='sigmoid')) #fully-connected->Dense, output이 한개\n",
    "print(CNN.summary())\n",
    "\n",
    "#3432300짜리 이 파라미터들은 더 이상 학습을 시키지 않는 것"
   ]
  },
  {
   "cell_type": "code",
   "execution_count": 67,
   "id": "caf916ae",
   "metadata": {},
   "outputs": [],
   "source": [
    "#학습 요소 구성\n",
    "#loss: 어떤 손실 함수를 쓸 것인지\n",
    "#optimizer: adam방식의 경사하강법 사용\n",
    "#metrics: 이 모델이 잘 구축되었는지 아닌지 볼 지표\n",
    "\n",
    "CNN.compile(loss='binary_crossentropy', optimizer='adam', metrics=['accuracy'])"
   ]
  },
  {
   "cell_type": "code",
   "execution_count": 73,
   "id": "9f6e62ee",
   "metadata": {},
   "outputs": [
    {
     "name": "stdout",
     "output_type": "stream",
     "text": [
      "130/130 [==============================] - 3s 17ms/step - loss: 0.2621 - accuracy: 0.9037 - val_loss: 0.1323 - val_accuracy: 0.9536\n"
     ]
    },
    {
     "data": {
      "text/plain": [
       "<tensorflow.python.keras.callbacks.History at 0x1fec9fa1c70>"
      ]
     },
     "execution_count": 73,
     "metadata": {},
     "output_type": "execute_result"
    }
   ],
   "source": [
    "#x: Input\n",
    "#y: Output\n",
    "#epochs: 반복 횟수\n",
    "#w를 한 번 업데이트할 때 배치사이즈 만큼의 데이터를 사용\n",
    "\n",
    "CNN.fit(x=train_X, y=np.array(train_Y), epochs=1, verbose=1, batch_size=32, validation_data=(test_X, np.array(test_Y)))"
   ]
  },
  {
   "cell_type": "code",
   "execution_count": 74,
   "id": "3823dbe4",
   "metadata": {},
   "outputs": [
    {
     "name": "stdout",
     "output_type": "stream",
     "text": [
      "Epoch 1/100\n",
      "130/130 [==============================] - 1s 11ms/step - loss: 0.0966 - accuracy: 0.9756 - val_loss: 0.0774 - val_accuracy: 0.9758\n",
      "Epoch 2/100\n",
      "130/130 [==============================] - 1s 11ms/step - loss: 0.0652 - accuracy: 0.9838 - val_loss: 0.0605 - val_accuracy: 0.9778\n",
      "Epoch 3/100\n",
      "130/130 [==============================] - 2s 12ms/step - loss: 0.0500 - accuracy: 0.9877 - val_loss: 0.0527 - val_accuracy: 0.9826\n",
      "Epoch 4/100\n",
      "130/130 [==============================] - 1s 11ms/step - loss: 0.0402 - accuracy: 0.9901 - val_loss: 0.0491 - val_accuracy: 0.9826\n",
      "Epoch 5/100\n",
      "130/130 [==============================] - 2s 12ms/step - loss: 0.0329 - accuracy: 0.9906 - val_loss: 0.0445 - val_accuracy: 0.9845\n",
      "Epoch 6/100\n",
      "130/130 [==============================] - 1s 12ms/step - loss: 0.0273 - accuracy: 0.9940 - val_loss: 0.0445 - val_accuracy: 0.9845\n",
      "Epoch 7/100\n",
      "130/130 [==============================] - 1s 11ms/step - loss: 0.0223 - accuracy: 0.9964 - val_loss: 0.0431 - val_accuracy: 0.9865\n",
      "Epoch 8/100\n",
      "130/130 [==============================] - 1s 11ms/step - loss: 0.0190 - accuracy: 0.9964 - val_loss: 0.0393 - val_accuracy: 0.9855\n",
      "Epoch 9/100\n",
      "130/130 [==============================] - 1s 11ms/step - loss: 0.0157 - accuracy: 0.9973 - val_loss: 0.0387 - val_accuracy: 0.9855\n",
      "Epoch 10/100\n",
      "130/130 [==============================] - 1s 11ms/step - loss: 0.0137 - accuracy: 0.9978 - val_loss: 0.0389 - val_accuracy: 0.9855\n",
      "Epoch 11/100\n",
      "130/130 [==============================] - 1s 11ms/step - loss: 0.0111 - accuracy: 0.9981 - val_loss: 0.0400 - val_accuracy: 0.9845\n",
      "Epoch 12/100\n",
      "130/130 [==============================] - 1s 12ms/step - loss: 0.0095 - accuracy: 0.9985 - val_loss: 0.0397 - val_accuracy: 0.9865\n",
      "Epoch 13/100\n",
      "130/130 [==============================] - 1s 11ms/step - loss: 0.0081 - accuracy: 0.9985 - val_loss: 0.0382 - val_accuracy: 0.9855\n",
      "Epoch 14/100\n",
      "130/130 [==============================] - 1s 11ms/step - loss: 0.0068 - accuracy: 0.9995 - val_loss: 0.0384 - val_accuracy: 0.9855\n",
      "Epoch 15/100\n",
      "130/130 [==============================] - 1s 12ms/step - loss: 0.0060 - accuracy: 0.9995 - val_loss: 0.0403 - val_accuracy: 0.9865\n",
      "Epoch 16/100\n",
      "130/130 [==============================] - 1s 12ms/step - loss: 0.0051 - accuracy: 0.9995 - val_loss: 0.0403 - val_accuracy: 0.9855\n",
      "Epoch 17/100\n",
      "130/130 [==============================] - 2s 12ms/step - loss: 0.0043 - accuracy: 1.0000 - val_loss: 0.0392 - val_accuracy: 0.9865\n",
      "Epoch 18/100\n",
      "130/130 [==============================] - 1s 11ms/step - loss: 0.0039 - accuracy: 0.9998 - val_loss: 0.0405 - val_accuracy: 0.9855\n",
      "Epoch 19/100\n",
      "130/130 [==============================] - 1s 11ms/step - loss: 0.0033 - accuracy: 1.0000 - val_loss: 0.0400 - val_accuracy: 0.9865\n",
      "Epoch 20/100\n",
      "130/130 [==============================] - 1s 11ms/step - loss: 0.0030 - accuracy: 1.0000 - val_loss: 0.0398 - val_accuracy: 0.9865\n",
      "Epoch 21/100\n",
      "130/130 [==============================] - 1s 12ms/step - loss: 0.0026 - accuracy: 1.0000 - val_loss: 0.0406 - val_accuracy: 0.9865\n",
      "Epoch 22/100\n",
      "130/130 [==============================] - 1s 11ms/step - loss: 0.0023 - accuracy: 1.0000 - val_loss: 0.0422 - val_accuracy: 0.9845\n",
      "Epoch 23/100\n",
      "130/130 [==============================] - 2s 12ms/step - loss: 0.0021 - accuracy: 1.0000 - val_loss: 0.0399 - val_accuracy: 0.9845\n",
      "Epoch 24/100\n",
      "130/130 [==============================] - 1s 11ms/step - loss: 0.0019 - accuracy: 1.0000 - val_loss: 0.0415 - val_accuracy: 0.9874\n",
      "Epoch 25/100\n",
      "130/130 [==============================] - 1s 12ms/step - loss: 0.0017 - accuracy: 1.0000 - val_loss: 0.0425 - val_accuracy: 0.9865\n",
      "Epoch 26/100\n",
      "130/130 [==============================] - 1s 11ms/step - loss: 0.0015 - accuracy: 1.0000 - val_loss: 0.0428 - val_accuracy: 0.9865\n",
      "Epoch 27/100\n",
      "130/130 [==============================] - 2s 12ms/step - loss: 0.0014 - accuracy: 1.0000 - val_loss: 0.0436 - val_accuracy: 0.9874\n",
      "Epoch 28/100\n",
      "130/130 [==============================] - 2s 12ms/step - loss: 0.0012 - accuracy: 1.0000 - val_loss: 0.0438 - val_accuracy: 0.9874\n",
      "Epoch 29/100\n",
      "130/130 [==============================] - 1s 11ms/step - loss: 0.0011 - accuracy: 1.0000 - val_loss: 0.0439 - val_accuracy: 0.9874\n",
      "Epoch 30/100\n",
      "130/130 [==============================] - 1s 12ms/step - loss: 0.0010 - accuracy: 1.0000 - val_loss: 0.0447 - val_accuracy: 0.9865\n",
      "Epoch 31/100\n",
      "130/130 [==============================] - 1s 11ms/step - loss: 9.2117e-04 - accuracy: 1.0000 - val_loss: 0.0464 - val_accuracy: 0.9855\n",
      "Epoch 32/100\n",
      "130/130 [==============================] - 1s 11ms/step - loss: 8.4541e-04 - accuracy: 1.0000 - val_loss: 0.0448 - val_accuracy: 0.9865\n",
      "Epoch 33/100\n",
      "130/130 [==============================] - 1s 11ms/step - loss: 7.6991e-04 - accuracy: 1.0000 - val_loss: 0.0464 - val_accuracy: 0.9855\n",
      "Epoch 34/100\n",
      "130/130 [==============================] - 1s 12ms/step - loss: 6.9947e-04 - accuracy: 1.0000 - val_loss: 0.0477 - val_accuracy: 0.9865\n",
      "Epoch 35/100\n",
      "130/130 [==============================] - 1s 11ms/step - loss: 6.5557e-04 - accuracy: 1.0000 - val_loss: 0.0451 - val_accuracy: 0.9855\n",
      "Epoch 36/100\n",
      "130/130 [==============================] - 1s 11ms/step - loss: 5.9823e-04 - accuracy: 1.0000 - val_loss: 0.0468 - val_accuracy: 0.9855\n",
      "Epoch 37/100\n",
      "130/130 [==============================] - 1s 11ms/step - loss: 5.3254e-04 - accuracy: 1.0000 - val_loss: 0.0505 - val_accuracy: 0.9855\n",
      "Epoch 38/100\n",
      "130/130 [==============================] - 1s 12ms/step - loss: 4.9704e-04 - accuracy: 1.0000 - val_loss: 0.0492 - val_accuracy: 0.9865\n",
      "Epoch 39/100\n",
      "130/130 [==============================] - 1s 11ms/step - loss: 4.5452e-04 - accuracy: 1.0000 - val_loss: 0.0469 - val_accuracy: 0.9855\n",
      "Epoch 40/100\n",
      "130/130 [==============================] - 1s 11ms/step - loss: 4.1838e-04 - accuracy: 1.0000 - val_loss: 0.0503 - val_accuracy: 0.9865\n",
      "Epoch 41/100\n",
      "130/130 [==============================] - 1s 11ms/step - loss: 3.9146e-04 - accuracy: 1.0000 - val_loss: 0.0498 - val_accuracy: 0.9845\n",
      "Epoch 42/100\n",
      "130/130 [==============================] - 1s 11ms/step - loss: 3.5728e-04 - accuracy: 1.0000 - val_loss: 0.0493 - val_accuracy: 0.9855\n",
      "Epoch 43/100\n",
      "130/130 [==============================] - 1s 11ms/step - loss: 3.2768e-04 - accuracy: 1.0000 - val_loss: 0.0509 - val_accuracy: 0.9855\n",
      "Epoch 44/100\n",
      "130/130 [==============================] - 1s 11ms/step - loss: 3.0409e-04 - accuracy: 1.0000 - val_loss: 0.0498 - val_accuracy: 0.9855\n",
      "Epoch 45/100\n",
      "130/130 [==============================] - 1s 11ms/step - loss: 2.8095e-04 - accuracy: 1.0000 - val_loss: 0.0509 - val_accuracy: 0.9855\n",
      "Epoch 46/100\n",
      "130/130 [==============================] - 1s 11ms/step - loss: 2.5701e-04 - accuracy: 1.0000 - val_loss: 0.0533 - val_accuracy: 0.9865\n",
      "Epoch 47/100\n",
      "130/130 [==============================] - 2s 12ms/step - loss: 2.3798e-04 - accuracy: 1.0000 - val_loss: 0.0518 - val_accuracy: 0.9855\n",
      "Epoch 48/100\n",
      "130/130 [==============================] - 2s 12ms/step - loss: 2.2152e-04 - accuracy: 1.0000 - val_loss: 0.0531 - val_accuracy: 0.9845\n",
      "Epoch 49/100\n",
      "130/130 [==============================] - 1s 11ms/step - loss: 2.0529e-04 - accuracy: 1.0000 - val_loss: 0.0537 - val_accuracy: 0.9855\n",
      "Epoch 50/100\n",
      "130/130 [==============================] - 1s 11ms/step - loss: 1.8795e-04 - accuracy: 1.0000 - val_loss: 0.0548 - val_accuracy: 0.9855\n",
      "Epoch 51/100\n",
      "130/130 [==============================] - 1s 11ms/step - loss: 1.7585e-04 - accuracy: 1.0000 - val_loss: 0.0552 - val_accuracy: 0.9855\n",
      "Epoch 52/100\n",
      "130/130 [==============================] - 2s 12ms/step - loss: 1.6344e-04 - accuracy: 1.0000 - val_loss: 0.0558 - val_accuracy: 0.9855\n",
      "Epoch 53/100\n",
      "130/130 [==============================] - 2s 12ms/step - loss: 1.4863e-04 - accuracy: 1.0000 - val_loss: 0.0570 - val_accuracy: 0.9855\n",
      "Epoch 54/100\n",
      "130/130 [==============================] - 2s 12ms/step - loss: 1.4061e-04 - accuracy: 1.0000 - val_loss: 0.0552 - val_accuracy: 0.9855\n",
      "Epoch 55/100\n",
      "130/130 [==============================] - 1s 11ms/step - loss: 1.3056e-04 - accuracy: 1.0000 - val_loss: 0.0582 - val_accuracy: 0.9855\n",
      "Epoch 56/100\n",
      "130/130 [==============================] - 2s 12ms/step - loss: 1.2004e-04 - accuracy: 1.0000 - val_loss: 0.0577 - val_accuracy: 0.9855\n"
     ]
    },
    {
     "name": "stdout",
     "output_type": "stream",
     "text": [
      "Epoch 57/100\n",
      "130/130 [==============================] - 2s 12ms/step - loss: 1.1081e-04 - accuracy: 1.0000 - val_loss: 0.0580 - val_accuracy: 0.9855\n",
      "Epoch 58/100\n",
      "130/130 [==============================] - 1s 11ms/step - loss: 1.0202e-04 - accuracy: 1.0000 - val_loss: 0.0564 - val_accuracy: 0.9855\n",
      "Epoch 59/100\n",
      "130/130 [==============================] - 2s 12ms/step - loss: 9.5477e-05 - accuracy: 1.0000 - val_loss: 0.0587 - val_accuracy: 0.9855\n",
      "Epoch 60/100\n",
      "130/130 [==============================] - 1s 11ms/step - loss: 8.9784e-05 - accuracy: 1.0000 - val_loss: 0.0590 - val_accuracy: 0.9855\n",
      "Epoch 61/100\n",
      "130/130 [==============================] - 2s 12ms/step - loss: 8.2230e-05 - accuracy: 1.0000 - val_loss: 0.0584 - val_accuracy: 0.9855\n",
      "Epoch 62/100\n",
      "130/130 [==============================] - 1s 11ms/step - loss: 7.6844e-05 - accuracy: 1.0000 - val_loss: 0.0593 - val_accuracy: 0.9865\n",
      "Epoch 63/100\n",
      "130/130 [==============================] - 2s 12ms/step - loss: 6.9967e-05 - accuracy: 1.0000 - val_loss: 0.0607 - val_accuracy: 0.9855\n",
      "Epoch 64/100\n",
      "130/130 [==============================] - 1s 11ms/step - loss: 6.5753e-05 - accuracy: 1.0000 - val_loss: 0.0593 - val_accuracy: 0.9855\n",
      "Epoch 65/100\n",
      "130/130 [==============================] - 2s 12ms/step - loss: 6.2160e-05 - accuracy: 1.0000 - val_loss: 0.0605 - val_accuracy: 0.9855\n",
      "Epoch 66/100\n",
      "130/130 [==============================] - 1s 11ms/step - loss: 5.7196e-05 - accuracy: 1.0000 - val_loss: 0.0605 - val_accuracy: 0.9855\n",
      "Epoch 67/100\n",
      "130/130 [==============================] - 1s 11ms/step - loss: 5.2674e-05 - accuracy: 1.0000 - val_loss: 0.0624 - val_accuracy: 0.9855\n",
      "Epoch 68/100\n",
      "130/130 [==============================] - 1s 11ms/step - loss: 4.9322e-05 - accuracy: 1.0000 - val_loss: 0.0642 - val_accuracy: 0.9855\n",
      "Epoch 69/100\n",
      "130/130 [==============================] - 1s 11ms/step - loss: 4.6104e-05 - accuracy: 1.0000 - val_loss: 0.0612 - val_accuracy: 0.9855\n",
      "Epoch 70/100\n",
      "130/130 [==============================] - 1s 11ms/step - loss: 4.2496e-05 - accuracy: 1.0000 - val_loss: 0.0628 - val_accuracy: 0.9865\n",
      "Epoch 71/100\n",
      "130/130 [==============================] - 1s 11ms/step - loss: 3.9001e-05 - accuracy: 1.0000 - val_loss: 0.0637 - val_accuracy: 0.9855\n",
      "Epoch 72/100\n",
      "130/130 [==============================] - 1s 11ms/step - loss: 3.6119e-05 - accuracy: 1.0000 - val_loss: 0.0642 - val_accuracy: 0.9855\n",
      "Epoch 73/100\n",
      "130/130 [==============================] - 1s 11ms/step - loss: 3.3856e-05 - accuracy: 1.0000 - val_loss: 0.0634 - val_accuracy: 0.9865\n",
      "Epoch 74/100\n",
      "130/130 [==============================] - 1s 11ms/step - loss: 3.1297e-05 - accuracy: 1.0000 - val_loss: 0.0645 - val_accuracy: 0.9865\n",
      "Epoch 75/100\n",
      "130/130 [==============================] - 1s 11ms/step - loss: 2.8853e-05 - accuracy: 1.0000 - val_loss: 0.0658 - val_accuracy: 0.9855\n",
      "Epoch 76/100\n",
      "130/130 [==============================] - 1s 11ms/step - loss: 2.7355e-05 - accuracy: 1.0000 - val_loss: 0.0654 - val_accuracy: 0.9865\n",
      "Epoch 77/100\n",
      "130/130 [==============================] - 1s 11ms/step - loss: 2.5182e-05 - accuracy: 1.0000 - val_loss: 0.0666 - val_accuracy: 0.9855\n",
      "Epoch 78/100\n",
      "130/130 [==============================] - 1s 11ms/step - loss: 2.3186e-05 - accuracy: 1.0000 - val_loss: 0.0679 - val_accuracy: 0.9855\n",
      "Epoch 79/100\n",
      "130/130 [==============================] - 1s 11ms/step - loss: 2.2149e-05 - accuracy: 1.0000 - val_loss: 0.0668 - val_accuracy: 0.9865\n",
      "Epoch 80/100\n",
      "130/130 [==============================] - 1s 11ms/step - loss: 2.0037e-05 - accuracy: 1.0000 - val_loss: 0.0659 - val_accuracy: 0.9855\n",
      "Epoch 81/100\n",
      "130/130 [==============================] - 1s 11ms/step - loss: 1.9595e-05 - accuracy: 1.0000 - val_loss: 0.0683 - val_accuracy: 0.9855\n",
      "Epoch 82/100\n",
      "130/130 [==============================] - 1s 11ms/step - loss: 1.7194e-05 - accuracy: 1.0000 - val_loss: 0.0693 - val_accuracy: 0.9855\n",
      "Epoch 83/100\n",
      "130/130 [==============================] - 2s 12ms/step - loss: 1.6444e-05 - accuracy: 1.0000 - val_loss: 0.0691 - val_accuracy: 0.9865\n",
      "Epoch 84/100\n",
      "130/130 [==============================] - 1s 11ms/step - loss: 1.4883e-05 - accuracy: 1.0000 - val_loss: 0.0691 - val_accuracy: 0.9865\n",
      "Epoch 85/100\n",
      "130/130 [==============================] - 1s 11ms/step - loss: 1.3757e-05 - accuracy: 1.0000 - val_loss: 0.0697 - val_accuracy: 0.9865\n",
      "Epoch 86/100\n",
      "130/130 [==============================] - 1s 11ms/step - loss: 1.2875e-05 - accuracy: 1.0000 - val_loss: 0.0706 - val_accuracy: 0.9855\n",
      "Epoch 87/100\n",
      "130/130 [==============================] - 1s 11ms/step - loss: 1.2155e-05 - accuracy: 1.0000 - val_loss: 0.0715 - val_accuracy: 0.9855\n",
      "Epoch 88/100\n",
      "130/130 [==============================] - 2s 12ms/step - loss: 1.1261e-05 - accuracy: 1.0000 - val_loss: 0.0711 - val_accuracy: 0.9865\n",
      "Epoch 89/100\n",
      "130/130 [==============================] - 1s 11ms/step - loss: 1.0557e-05 - accuracy: 1.0000 - val_loss: 0.0712 - val_accuracy: 0.9865\n",
      "Epoch 90/100\n",
      "130/130 [==============================] - 1s 12ms/step - loss: 9.7129e-06 - accuracy: 1.0000 - val_loss: 0.0737 - val_accuracy: 0.9855\n",
      "Epoch 91/100\n",
      "130/130 [==============================] - 1s 12ms/step - loss: 9.2050e-06 - accuracy: 1.0000 - val_loss: 0.0734 - val_accuracy: 0.9855\n",
      "Epoch 92/100\n",
      "130/130 [==============================] - 2s 12ms/step - loss: 8.4668e-06 - accuracy: 1.0000 - val_loss: 0.0744 - val_accuracy: 0.9855\n",
      "Epoch 93/100\n",
      "130/130 [==============================] - 2s 12ms/step - loss: 7.8794e-06 - accuracy: 1.0000 - val_loss: 0.0747 - val_accuracy: 0.9855\n",
      "Epoch 94/100\n",
      "130/130 [==============================] - 2s 12ms/step - loss: 7.3209e-06 - accuracy: 1.0000 - val_loss: 0.0747 - val_accuracy: 0.9855\n",
      "Epoch 95/100\n",
      "130/130 [==============================] - 1s 11ms/step - loss: 6.7715e-06 - accuracy: 1.0000 - val_loss: 0.0745 - val_accuracy: 0.9865\n",
      "Epoch 96/100\n",
      "130/130 [==============================] - 2s 12ms/step - loss: 6.2632e-06 - accuracy: 1.0000 - val_loss: 0.0743 - val_accuracy: 0.9865\n",
      "Epoch 97/100\n",
      "130/130 [==============================] - 1s 11ms/step - loss: 5.8765e-06 - accuracy: 1.0000 - val_loss: 0.0742 - val_accuracy: 0.9865\n",
      "Epoch 98/100\n",
      "130/130 [==============================] - 1s 11ms/step - loss: 5.5329e-06 - accuracy: 1.0000 - val_loss: 0.0771 - val_accuracy: 0.9855\n",
      "Epoch 99/100\n",
      "130/130 [==============================] - 1s 11ms/step - loss: 5.1266e-06 - accuracy: 1.0000 - val_loss: 0.0768 - val_accuracy: 0.9855\n",
      "Epoch 100/100\n",
      "130/130 [==============================] - 2s 12ms/step - loss: 4.7703e-06 - accuracy: 1.0000 - val_loss: 0.0773 - val_accuracy: 0.9855\n"
     ]
    }
   ],
   "source": [
    "history=CNN.fit(x=train_X, y=np.array(train_Y), epochs=100, verbose=1, batch_size=32, validation_data=(test_X, np.array(test_Y)))"
   ]
  },
  {
   "cell_type": "code",
   "execution_count": 75,
   "id": "593ea598",
   "metadata": {},
   "outputs": [
    {
     "name": "stderr",
     "output_type": "stream",
     "text": [
      "findfont: Font family ['MaruBuri-SemiBold'] not found. Falling back to DejaVu Sans.\n",
      "findfont: Font family ['MaruBuri-SemiBold'] not found. Falling back to DejaVu Sans.\n"
     ]
    },
    {
     "data": {
      "image/png": "[encoded data removed]",
      "text/plain": [
       "<Figure size 432x288 with 1 Axes>"
      ]
     },
     "metadata": {
      "needs_background": "light"
     },
     "output_type": "display_data"
    }
   ],
   "source": [
    "loss_train=history.history['loss']\n",
    "loss_val=history.history['val_loss']\n",
    "\n",
    "epochs=range(1,101)\n",
    "plt.plot(epochs, loss_train, 'b-o',label='Training loss')\n",
    "plt.plot(epochs, loss_val, 'r-o',label='validation loss')\n",
    "plt.title('Training and Validation loss')\n",
    "plt.xlabel('Epochs')\n",
    "plt.ylabel('Loss')\n",
    "plt.legend\n",
    "plt.show()"
   ]
  },
  {
   "cell_type": "code",
   "execution_count": 77,
   "id": "c9c62bcb",
   "metadata": {},
   "outputs": [
    {
     "name": "stdout",
     "output_type": "stream",
     "text": [
      "Model: \"sequential\"\n",
      "_________________________________________________________________\n",
      "Layer (type)                 Output Shape              Param #   \n",
      "=================================================================\n",
      "embedding (Embedding)        (None, 190, 300)          3432300   \n",
      "_________________________________________________________________\n",
      "conv1d (Conv1D)              (None, 190, 50)           15050     \n",
      "_________________________________________________________________\n",
      "global_max_pooling1d (Global (None, 50)                0         \n",
      "_________________________________________________________________\n",
      "flatten (Flatten)            (None, 50)                0         \n",
      "_________________________________________________________________\n",
      "dense (Dense)                (None, 1)                 51        \n",
      "=================================================================\n",
      "Total params: 3,447,401\n",
      "Trainable params: 15,101\n",
      "Non-trainable params: 3,432,300\n",
      "_________________________________________________________________\n",
      "None\n"
     ]
    }
   ],
   "source": [
    "#무작위로 노드들 몇개를 선택해서 학습을 안시키겠다는 것\n",
    "from tensorflow.keras.layers import Dropout\n",
    "\n",
    "#Architecture 구성\n",
    "#Conv1D로 하면 input에 맞게끔 너비가 결정, 높이만 결정하면 됨\n",
    "\n",
    "CNN2=Sequential() #순서대로 구성하겠다\n",
    "CNN2.add(embedding_layer)\n",
    "CNN2.add(Conv1D(filters=50, kernel_size=1, activation='relu')) #필터의 개수 50개, kernel_size는 높이(1칸), kernel_size=1이면 190X1짜리가 50개 생김\n",
    "CNN2.add(GlobalMaxPooling1D()) #가장 큰 값을 뽑아서 하나로 요약(50개 만들어짐)\n",
    "CNN2.add(Flatten())\n",
    "CNN2.add(Dropout(rate=0.3)) #10개면 3개를 drop\n",
    "CNN2.add(Dense(1, activation='sigmoid')) #fully-connected->Dense, output이 한개\n",
    "print(CNN.summary())\n"
   ]
  },
  {
   "cell_type": "code",
   "execution_count": 78,
   "id": "b93c1993",
   "metadata": {},
   "outputs": [],
   "source": [
    "#학습 요소 구성\n",
    "#loss: 어떤 손실 함수를 쓸 것인지\n",
    "#optimizer: adam방식의 경사하강법 사용\n",
    "#metrics: 이 모델이 잘 구축되었는지 아닌지 볼 지표\n",
    "\n",
    "CNN2.compile(loss='binary_crossentropy', optimizer='adam', metrics=['accuracy'])"
   ]
  },
  {
   "cell_type": "code",
   "execution_count": 80,
   "id": "22ed5dfc",
   "metadata": {},
   "outputs": [
    {
     "name": "stdout",
     "output_type": "stream",
     "text": [
      "Epoch 1/100\n",
      "130/130 [==============================] - 1s 11ms/step - loss: 0.0204 - accuracy: 0.9940 - val_loss: 0.0389 - val_accuracy: 0.9903\n",
      "Epoch 2/100\n",
      "130/130 [==============================] - 1s 11ms/step - loss: 0.0180 - accuracy: 0.9952 - val_loss: 0.0396 - val_accuracy: 0.9865\n",
      "Epoch 3/100\n",
      "130/130 [==============================] - 1s 11ms/step - loss: 0.0140 - accuracy: 0.9966 - val_loss: 0.0390 - val_accuracy: 0.9865\n",
      "Epoch 4/100\n",
      "130/130 [==============================] - 2s 12ms/step - loss: 0.0167 - accuracy: 0.9956 - val_loss: 0.0375 - val_accuracy: 0.9884\n",
      "Epoch 5/100\n",
      "130/130 [==============================] - 2s 13ms/step - loss: 0.0148 - accuracy: 0.9954 - val_loss: 0.0386 - val_accuracy: 0.9884\n",
      "Epoch 6/100\n",
      "130/130 [==============================] - 2s 12ms/step - loss: 0.0133 - accuracy: 0.9973 - val_loss: 0.0392 - val_accuracy: 0.9894\n",
      "Epoch 7/100\n",
      "130/130 [==============================] - 1s 11ms/step - loss: 0.0150 - accuracy: 0.9969 - val_loss: 0.0408 - val_accuracy: 0.9894\n",
      "Epoch 8/100\n",
      "130/130 [==============================] - 2s 13ms/step - loss: 0.0135 - accuracy: 0.9971 - val_loss: 0.0414 - val_accuracy: 0.9874\n",
      "Epoch 9/100\n",
      "130/130 [==============================] - 2s 14ms/step - loss: 0.0128 - accuracy: 0.9971 - val_loss: 0.0406 - val_accuracy: 0.9874\n",
      "Epoch 10/100\n",
      "130/130 [==============================] - 2s 13ms/step - loss: 0.0110 - accuracy: 0.9978 - val_loss: 0.0420 - val_accuracy: 0.9894\n",
      "Epoch 11/100\n",
      "130/130 [==============================] - 2s 13ms/step - loss: 0.0120 - accuracy: 0.9961 - val_loss: 0.0442 - val_accuracy: 0.9874\n",
      "Epoch 12/100\n",
      "130/130 [==============================] - 2s 12ms/step - loss: 0.0148 - accuracy: 0.9947 - val_loss: 0.0429 - val_accuracy: 0.9865\n",
      "Epoch 13/100\n",
      "130/130 [==============================] - 2s 13ms/step - loss: 0.0108 - accuracy: 0.9978 - val_loss: 0.0422 - val_accuracy: 0.9874\n",
      "Epoch 14/100\n",
      "130/130 [==============================] - 2s 12ms/step - loss: 0.0110 - accuracy: 0.9971 - val_loss: 0.0429 - val_accuracy: 0.9894\n",
      "Epoch 15/100\n",
      "130/130 [==============================] - 2s 12ms/step - loss: 0.0122 - accuracy: 0.9969 - val_loss: 0.0441 - val_accuracy: 0.9894\n",
      "Epoch 16/100\n",
      "130/130 [==============================] - 1s 11ms/step - loss: 0.0107 - accuracy: 0.9971 - val_loss: 0.0440 - val_accuracy: 0.9855\n",
      "Epoch 17/100\n",
      "130/130 [==============================] - 2s 14ms/step - loss: 0.0103 - accuracy: 0.9969 - val_loss: 0.0438 - val_accuracy: 0.9884\n",
      "Epoch 18/100\n",
      "130/130 [==============================] - 2s 12ms/step - loss: 0.0100 - accuracy: 0.9966 - val_loss: 0.0438 - val_accuracy: 0.9884\n",
      "Epoch 19/100\n",
      "130/130 [==============================] - 1s 11ms/step - loss: 0.0088 - accuracy: 0.9981 - val_loss: 0.0469 - val_accuracy: 0.9865\n",
      "Epoch 20/100\n",
      "130/130 [==============================] - 1s 11ms/step - loss: 0.0097 - accuracy: 0.9981 - val_loss: 0.0430 - val_accuracy: 0.9874\n",
      "Epoch 21/100\n",
      "130/130 [==============================] - 2s 12ms/step - loss: 0.0091 - accuracy: 0.9969 - val_loss: 0.0444 - val_accuracy: 0.9865\n",
      "Epoch 22/100\n",
      "130/130 [==============================] - 2s 12ms/step - loss: 0.0118 - accuracy: 0.9954 - val_loss: 0.0442 - val_accuracy: 0.9865\n",
      "Epoch 23/100\n",
      "130/130 [==============================] - 1s 11ms/step - loss: 0.0095 - accuracy: 0.9973 - val_loss: 0.0449 - val_accuracy: 0.9874 accu\n",
      "Epoch 24/100\n",
      "130/130 [==============================] - 1s 11ms/step - loss: 0.0074 - accuracy: 0.9983 - val_loss: 0.0469 - val_accuracy: 0.9874\n",
      "Epoch 25/100\n",
      "130/130 [==============================] - 2s 12ms/step - loss: 0.0083 - accuracy: 0.9969 - val_loss: 0.0452 - val_accuracy: 0.9874\n",
      "Epoch 26/100\n",
      "130/130 [==============================] - 2s 12ms/step - loss: 0.0064 - accuracy: 0.9988 - val_loss: 0.0434 - val_accuracy: 0.9874\n",
      "Epoch 27/100\n",
      "130/130 [==============================] - 1s 11ms/step - loss: 0.0072 - accuracy: 0.9976 - val_loss: 0.0448 - val_accuracy: 0.9894\n",
      "Epoch 28/100\n",
      "130/130 [==============================] - 2s 12ms/step - loss: 0.0058 - accuracy: 0.9981 - val_loss: 0.0466 - val_accuracy: 0.9884\n",
      "Epoch 29/100\n",
      "130/130 [==============================] - 2s 12ms/step - loss: 0.0056 - accuracy: 0.9985 - val_loss: 0.0466 - val_accuracy: 0.9874\n",
      "Epoch 30/100\n",
      "130/130 [==============================] - 2s 12ms/step - loss: 0.0063 - accuracy: 0.9981 - val_loss: 0.0487 - val_accuracy: 0.9874\n",
      "Epoch 31/100\n",
      "130/130 [==============================] - 1s 11ms/step - loss: 0.0071 - accuracy: 0.9985 - val_loss: 0.0486 - val_accuracy: 0.9865\n",
      "Epoch 32/100\n",
      "130/130 [==============================] - 2s 12ms/step - loss: 0.0063 - accuracy: 0.9988 - val_loss: 0.0492 - val_accuracy: 0.9865\n",
      "Epoch 33/100\n",
      "130/130 [==============================] - 2s 12ms/step - loss: 0.0073 - accuracy: 0.9973 - val_loss: 0.0480 - val_accuracy: 0.9865\n",
      "Epoch 34/100\n",
      "130/130 [==============================] - 2s 13ms/step - loss: 0.0087 - accuracy: 0.9973 - val_loss: 0.0491 - val_accuracy: 0.9874\n",
      "Epoch 35/100\n",
      "130/130 [==============================] - 1s 11ms/step - loss: 0.0050 - accuracy: 0.9988 - val_loss: 0.0543 - val_accuracy: 0.9874\n",
      "Epoch 36/100\n",
      "130/130 [==============================] - 1s 11ms/step - loss: 0.0093 - accuracy: 0.9973 - val_loss: 0.0516 - val_accuracy: 0.9865\n",
      "Epoch 37/100\n",
      "130/130 [==============================] - 1s 11ms/step - loss: 0.0059 - accuracy: 0.9983 - val_loss: 0.0507 - val_accuracy: 0.9865\n",
      "Epoch 38/100\n",
      "130/130 [==============================] - 2s 12ms/step - loss: 0.0050 - accuracy: 0.9988 - val_loss: 0.0507 - val_accuracy: 0.9874\n",
      "Epoch 39/100\n",
      "130/130 [==============================] - 1s 11ms/step - loss: 0.0050 - accuracy: 0.9988 - val_loss: 0.0505 - val_accuracy: 0.9874\n",
      "Epoch 40/100\n",
      "130/130 [==============================] - 1s 11ms/step - loss: 0.0073 - accuracy: 0.9971 - val_loss: 0.0517 - val_accuracy: 0.9874\n",
      "Epoch 41/100\n",
      "130/130 [==============================] - 1s 11ms/step - loss: 0.0052 - accuracy: 0.9988 - val_loss: 0.0514 - val_accuracy: 0.9884\n",
      "Epoch 42/100\n",
      "130/130 [==============================] - 2s 12ms/step - loss: 0.0081 - accuracy: 0.9976 - val_loss: 0.0533 - val_accuracy: 0.9884\n",
      "Epoch 43/100\n",
      "130/130 [==============================] - 2s 12ms/step - loss: 0.0048 - accuracy: 0.9988 - val_loss: 0.0526 - val_accuracy: 0.9865\n",
      "Epoch 44/100\n",
      "130/130 [==============================] - 2s 12ms/step - loss: 0.0038 - accuracy: 0.9990 - val_loss: 0.0531 - val_accuracy: 0.9884\n",
      "Epoch 45/100\n",
      "130/130 [==============================] - 1s 11ms/step - loss: 0.0061 - accuracy: 0.9988 - val_loss: 0.0529 - val_accuracy: 0.9874\n",
      "Epoch 46/100\n",
      "130/130 [==============================] - 1s 11ms/step - loss: 0.0035 - accuracy: 0.9993 - val_loss: 0.0527 - val_accuracy: 0.9874\n",
      "Epoch 47/100\n",
      "130/130 [==============================] - 2s 12ms/step - loss: 0.0050 - accuracy: 0.9988 - val_loss: 0.0541 - val_accuracy: 0.9884\n",
      "Epoch 48/100\n",
      "130/130 [==============================] - 2s 12ms/step - loss: 0.0084 - accuracy: 0.9978 - val_loss: 0.0540 - val_accuracy: 0.9845\n",
      "Epoch 49/100\n",
      "130/130 [==============================] - 1s 11ms/step - loss: 0.0061 - accuracy: 0.9983 - val_loss: 0.0545 - val_accuracy: 0.9884\n",
      "Epoch 50/100\n",
      "130/130 [==============================] - 1s 11ms/step - loss: 0.0046 - accuracy: 0.9988 - val_loss: 0.0566 - val_accuracy: 0.9874\n",
      "Epoch 51/100\n",
      "130/130 [==============================] - 2s 12ms/step - loss: 0.0050 - accuracy: 0.9985 - val_loss: 0.0572 - val_accuracy: 0.9874\n",
      "Epoch 52/100\n",
      "130/130 [==============================] - 2s 12ms/step - loss: 0.0033 - accuracy: 0.9995 - val_loss: 0.0569 - val_accuracy: 0.9874\n",
      "Epoch 53/100\n",
      "130/130 [==============================] - 1s 11ms/step - loss: 0.0032 - accuracy: 0.9993 - val_loss: 0.0534 - val_accuracy: 0.9874\n",
      "Epoch 54/100\n",
      "130/130 [==============================] - 1s 11ms/step - loss: 0.0042 - accuracy: 0.9985 - val_loss: 0.0522 - val_accuracy: 0.9884\n",
      "Epoch 55/100\n",
      "130/130 [==============================] - 2s 13ms/step - loss: 0.0039 - accuracy: 0.9993 - val_loss: 0.0549 - val_accuracy: 0.9884\n",
      "Epoch 56/100\n",
      "130/130 [==============================] - 2s 13ms/step - loss: 0.0034 - accuracy: 0.9988 - val_loss: 0.0562 - val_accuracy: 0.9826\n",
      "Epoch 57/100\n"
     ]
    },
    {
     "name": "stdout",
     "output_type": "stream",
     "text": [
      "130/130 [==============================] - 2s 13ms/step - loss: 0.0051 - accuracy: 0.9983 - val_loss: 0.0552 - val_accuracy: 0.9865\n",
      "Epoch 58/100\n",
      "130/130 [==============================] - 1s 11ms/step - loss: 0.0033 - accuracy: 0.9993 - val_loss: 0.0558 - val_accuracy: 0.9884\n",
      "Epoch 59/100\n",
      "130/130 [==============================] - 1s 11ms/step - loss: 0.0029 - accuracy: 0.9995 - val_loss: 0.0551 - val_accuracy: 0.9874\n",
      "Epoch 60/100\n",
      "130/130 [==============================] - 2s 12ms/step - loss: 0.0043 - accuracy: 0.9983 - val_loss: 0.0593 - val_accuracy: 0.9865\n",
      "Epoch 61/100\n",
      "130/130 [==============================] - 2s 12ms/step - loss: 0.0087 - accuracy: 0.9978 - val_loss: 0.0581 - val_accuracy: 0.9865\n",
      "Epoch 62/100\n",
      "130/130 [==============================] - 1s 11ms/step - loss: 0.0063 - accuracy: 0.9978 - val_loss: 0.0595 - val_accuracy: 0.9884\n",
      "Epoch 63/100\n",
      "130/130 [==============================] - 1s 11ms/step - loss: 0.0036 - accuracy: 0.9995 - val_loss: 0.0614 - val_accuracy: 0.9865\n",
      "Epoch 64/100\n",
      "130/130 [==============================] - 1s 11ms/step - loss: 0.0038 - accuracy: 0.9990 - val_loss: 0.0611 - val_accuracy: 0.9865\n",
      "Epoch 65/100\n",
      "130/130 [==============================] - 2s 12ms/step - loss: 0.0037 - accuracy: 0.9990 - val_loss: 0.0652 - val_accuracy: 0.9865\n",
      "Epoch 66/100\n",
      "130/130 [==============================] - 1s 11ms/step - loss: 0.0048 - accuracy: 0.9988 - val_loss: 0.0634 - val_accuracy: 0.9874\n",
      "Epoch 67/100\n",
      "130/130 [==============================] - 1s 11ms/step - loss: 0.0037 - accuracy: 0.9990 - val_loss: 0.0630 - val_accuracy: 0.9865\n",
      "Epoch 68/100\n",
      "130/130 [==============================] - 1s 11ms/step - loss: 0.0021 - accuracy: 0.9993 - val_loss: 0.0685 - val_accuracy: 0.9845\n",
      "Epoch 69/100\n",
      "130/130 [==============================] - 2s 12ms/step - loss: 0.0048 - accuracy: 0.9978 - val_loss: 0.0661 - val_accuracy: 0.9816\n",
      "Epoch 70/100\n",
      "130/130 [==============================] - 2s 12ms/step - loss: 0.0034 - accuracy: 0.9995 - val_loss: 0.0629 - val_accuracy: 0.9865\n",
      "Epoch 71/100\n",
      "130/130 [==============================] - 1s 11ms/step - loss: 0.0027 - accuracy: 0.9993 - val_loss: 0.0663 - val_accuracy: 0.9865\n",
      "Epoch 72/100\n",
      "130/130 [==============================] - 1s 11ms/step - loss: 0.0027 - accuracy: 0.9993 - val_loss: 0.0634 - val_accuracy: 0.9874\n",
      "Epoch 73/100\n",
      "130/130 [==============================] - 2s 12ms/step - loss: 0.0032 - accuracy: 0.9988 - val_loss: 0.0633 - val_accuracy: 0.9874\n",
      "Epoch 74/100\n",
      "130/130 [==============================] - 2s 12ms/step - loss: 0.0042 - accuracy: 0.9993 - val_loss: 0.0654 - val_accuracy: 0.9884\n",
      "Epoch 75/100\n",
      "130/130 [==============================] - 1s 11ms/step - loss: 0.0034 - accuracy: 0.9993 - val_loss: 0.0664 - val_accuracy: 0.9865\n",
      "Epoch 76/100\n",
      "130/130 [==============================] - 1s 11ms/step - loss: 0.0028 - accuracy: 0.9995 - val_loss: 0.0643 - val_accuracy: 0.9874\n",
      "Epoch 77/100\n",
      "130/130 [==============================] - 1s 11ms/step - loss: 0.0033 - accuracy: 0.9990 - val_loss: 0.0664 - val_accuracy: 0.9874\n",
      "Epoch 78/100\n",
      "130/130 [==============================] - 2s 12ms/step - loss: 0.0043 - accuracy: 0.9993 - val_loss: 0.0619 - val_accuracy: 0.9884\n",
      "Epoch 79/100\n",
      "130/130 [==============================] - 2s 12ms/step - loss: 0.0023 - accuracy: 0.9995 - val_loss: 0.0606 - val_accuracy: 0.9884\n",
      "Epoch 80/100\n",
      "130/130 [==============================] - 1s 11ms/step - loss: 0.0031 - accuracy: 0.9985 - val_loss: 0.0654 - val_accuracy: 0.9826\n",
      "Epoch 81/100\n",
      "130/130 [==============================] - 2s 12ms/step - loss: 0.0033 - accuracy: 0.9988 - val_loss: 0.0631 - val_accuracy: 0.9884\n",
      "Epoch 82/100\n",
      "130/130 [==============================] - 2s 12ms/step - loss: 0.0070 - accuracy: 0.9978 - val_loss: 0.0653 - val_accuracy: 0.9874\n",
      "Epoch 83/100\n",
      "130/130 [==============================] - 1s 11ms/step - loss: 0.0038 - accuracy: 0.9985 - val_loss: 0.0629 - val_accuracy: 0.9884\n",
      "Epoch 84/100\n",
      "130/130 [==============================] - 1s 11ms/step - loss: 0.0034 - accuracy: 0.9990 - val_loss: 0.0627 - val_accuracy: 0.9884\n",
      "Epoch 85/100\n",
      "130/130 [==============================] - 1s 11ms/step - loss: 0.0035 - accuracy: 0.9988 - val_loss: 0.0637 - val_accuracy: 0.9874\n",
      "Epoch 86/100\n",
      "130/130 [==============================] - 2s 13ms/step - loss: 0.0039 - accuracy: 0.9993 - val_loss: 0.0613 - val_accuracy: 0.9865\n",
      "Epoch 87/100\n",
      "130/130 [==============================] - 2s 12ms/step - loss: 0.0027 - accuracy: 0.9988 - val_loss: 0.0614 - val_accuracy: 0.9874\n",
      "Epoch 88/100\n",
      "130/130 [==============================] - 1s 11ms/step - loss: 0.0024 - accuracy: 0.9998 - val_loss: 0.0657 - val_accuracy: 0.9884\n",
      "Epoch 89/100\n",
      "130/130 [==============================] - 2s 12ms/step - loss: 0.0022 - accuracy: 0.9998 - val_loss: 0.0633 - val_accuracy: 0.9874\n",
      "Epoch 90/100\n",
      "130/130 [==============================] - 2s 12ms/step - loss: 0.0035 - accuracy: 0.9990 - val_loss: 0.0658 - val_accuracy: 0.9884\n",
      "Epoch 91/100\n",
      "130/130 [==============================] - 2s 12ms/step - loss: 0.0012 - accuracy: 1.0000 - val_loss: 0.0691 - val_accuracy: 0.9874\n",
      "Epoch 92/100\n",
      "130/130 [==============================] - 1s 11ms/step - loss: 0.0044 - accuracy: 0.9981 - val_loss: 0.0662 - val_accuracy: 0.9884\n",
      "Epoch 93/100\n",
      "130/130 [==============================] - 1s 11ms/step - loss: 0.0020 - accuracy: 0.9995 - val_loss: 0.0657 - val_accuracy: 0.9874\n",
      "Epoch 94/100\n",
      "130/130 [==============================] - 2s 12ms/step - loss: 0.0017 - accuracy: 0.9998 - val_loss: 0.0682 - val_accuracy: 0.9884\n",
      "Epoch 95/100\n",
      "130/130 [==============================] - 2s 12ms/step - loss: 0.0031 - accuracy: 0.9990 - val_loss: 0.0674 - val_accuracy: 0.9865\n",
      "Epoch 96/100\n",
      "130/130 [==============================] - 1s 12ms/step - loss: 0.0038 - accuracy: 0.9983 - val_loss: 0.0671 - val_accuracy: 0.9874\n",
      "Epoch 97/100\n",
      "130/130 [==============================] - 1s 11ms/step - loss: 0.0021 - accuracy: 0.9995 - val_loss: 0.0653 - val_accuracy: 0.9865\n",
      "Epoch 98/100\n",
      "130/130 [==============================] - 2s 12ms/step - loss: 0.0051 - accuracy: 0.9981 - val_loss: 0.0678 - val_accuracy: 0.9865\n",
      "Epoch 99/100\n",
      "130/130 [==============================] - 2s 12ms/step - loss: 0.0046 - accuracy: 0.9985 - val_loss: 0.0677 - val_accuracy: 0.9884\n",
      "Epoch 100/100\n",
      "130/130 [==============================] - 2s 12ms/step - loss: 0.0032 - accuracy: 0.9995 - val_loss: 0.0689 - val_accuracy: 0.9874\n"
     ]
    }
   ],
   "source": [
    "history2=CNN2.fit(x=train_X, y=np.array(train_Y), epochs=100, verbose=1, batch_size=32, validation_data=(test_X, np.array(test_Y)))"
   ]
  },
  {
   "cell_type": "code",
   "execution_count": 81,
   "id": "130c5c6d",
   "metadata": {},
   "outputs": [
    {
     "data": {
      "image/png": "[encoded data removed]",
      "text/plain": [
       "<Figure size 432x288 with 1 Axes>"
      ]
     },
     "metadata": {
      "needs_background": "light"
     },
     "output_type": "display_data"
    }
   ],
   "source": [
    "loss_train=history2.history['loss']\n",
    "loss_val=history2.history['val_loss']\n",
    "\n",
    "epochs=range(1,101)\n",
    "plt.plot(epochs, loss_train, 'b-o',label='Training loss')\n",
    "plt.plot(epochs, loss_val, 'r-o',label='validation loss')\n",
    "plt.title('Training and Validation loss')\n",
    "plt.xlabel('Epochs')\n",
    "plt.ylabel('Loss')\n",
    "plt.legend\n",
    "plt.show()"
   ]
  },
  {
   "cell_type": "code",
   "execution_count": 82,
   "id": "f2666c7f",
   "metadata": {},
   "outputs": [
    {
     "name": "stdout",
     "output_type": "stream",
     "text": [
      "Model: \"sequential\"\n",
      "_________________________________________________________________\n",
      "Layer (type)                 Output Shape              Param #   \n",
      "=================================================================\n",
      "embedding (Embedding)        (None, 190, 300)          3432300   \n",
      "_________________________________________________________________\n",
      "conv1d (Conv1D)              (None, 190, 50)           15050     \n",
      "_________________________________________________________________\n",
      "global_max_pooling1d (Global (None, 50)                0         \n",
      "_________________________________________________________________\n",
      "flatten (Flatten)            (None, 50)                0         \n",
      "_________________________________________________________________\n",
      "dense (Dense)                (None, 1)                 51        \n",
      "=================================================================\n",
      "Total params: 3,447,401\n",
      "Trainable params: 15,101\n",
      "Non-trainable params: 3,432,300\n",
      "_________________________________________________________________\n",
      "None\n"
     ]
    }
   ],
   "source": [
    "#Architecture 구성\n",
    "#Conv1D로 하면 input에 맞게끔 너비가 결정, 높이만 결정하면 됨\n",
    "\n",
    "CNN3=Sequential() #순서대로 구성하겠다\n",
    "CNN3.add(embedding_layer)\n",
    "CNN3.add(Conv1D(filters=10, kernel_size=1, activation='relu')) \n",
    "CNN3.add(GlobalMaxPooling1D()) #가장 큰 값을 뽑아서 하나로 요약(50개 만들어짐)\n",
    "CNN3.add(Flatten())\n",
    "CNN3.add(Dropout(rate=0.3)) #10개면 3개를 drop\n",
    "CNN3.add(Dense(1, activation='sigmoid')) #fully-connected->Dense, output이 한개\n",
    "\n",
    "print(CNN.summary())"
   ]
  },
  {
   "cell_type": "code",
   "execution_count": 83,
   "id": "a8ad18b3",
   "metadata": {},
   "outputs": [],
   "source": [
    "#학습 요소 구성\n",
    "#loss: 어떤 손실 함수를 쓸 것인지\n",
    "#optimizer: adam방식의 경사하강법 사용\n",
    "#metrics: 이 모델이 잘 구축되었는지 아닌지 볼 지표\n",
    "\n",
    "CNN3.compile(loss='binary_crossentropy', optimizer='adam', metrics=['accuracy'])"
   ]
  },
  {
   "cell_type": "code",
   "execution_count": 84,
   "id": "2ee4e138",
   "metadata": {},
   "outputs": [
    {
     "name": "stdout",
     "output_type": "stream",
     "text": [
      "Epoch 1/100\n",
      "130/130 [==============================] - 2s 9ms/step - loss: 0.4054 - accuracy: 0.8631 - val_loss: 0.2862 - val_accuracy: 0.8733\n",
      "Epoch 2/100\n",
      "130/130 [==============================] - 1s 10ms/step - loss: 0.2619 - accuracy: 0.9011 - val_loss: 0.1730 - val_accuracy: 0.9439\n",
      "Epoch 3/100\n",
      "130/130 [==============================] - 1s 9ms/step - loss: 0.1870 - accuracy: 0.9374 - val_loss: 0.1246 - val_accuracy: 0.9652\n",
      "Epoch 4/100\n",
      "130/130 [==============================] - 1s 8ms/step - loss: 0.1572 - accuracy: 0.9439 - val_loss: 0.1068 - val_accuracy: 0.9691\n",
      "Epoch 5/100\n",
      "130/130 [==============================] - 1s 9ms/step - loss: 0.1469 - accuracy: 0.9524 - val_loss: 0.0944 - val_accuracy: 0.9710\n",
      "Epoch 6/100\n",
      "130/130 [==============================] - 1s 8ms/step - loss: 0.1390 - accuracy: 0.9548 - val_loss: 0.0855 - val_accuracy: 0.9749\n",
      "Epoch 7/100\n",
      "130/130 [==============================] - 1s 8ms/step - loss: 0.1365 - accuracy: 0.9550 - val_loss: 0.0844 - val_accuracy: 0.9739\n",
      "Epoch 8/100\n",
      "130/130 [==============================] - 1s 8ms/step - loss: 0.1336 - accuracy: 0.9565 - val_loss: 0.0834 - val_accuracy: 0.9739\n",
      "Epoch 9/100\n",
      "130/130 [==============================] - 1s 8ms/step - loss: 0.1227 - accuracy: 0.9603 - val_loss: 0.0765 - val_accuracy: 0.9778\n",
      "Epoch 10/100\n",
      "130/130 [==============================] - 1s 8ms/step - loss: 0.1284 - accuracy: 0.9565 - val_loss: 0.0756 - val_accuracy: 0.9787\n",
      "Epoch 11/100\n",
      "130/130 [==============================] - 1s 7ms/step - loss: 0.1115 - accuracy: 0.9642 - val_loss: 0.0741 - val_accuracy: 0.9797\n",
      "Epoch 12/100\n",
      "130/130 [==============================] - 1s 8ms/step - loss: 0.1191 - accuracy: 0.9640 - val_loss: 0.0719 - val_accuracy: 0.9836\n",
      "Epoch 13/100\n",
      "130/130 [==============================] - 1s 7ms/step - loss: 0.1075 - accuracy: 0.9647 - val_loss: 0.0700 - val_accuracy: 0.9807\n",
      "Epoch 14/100\n",
      "130/130 [==============================] - 1s 8ms/step - loss: 0.1065 - accuracy: 0.9649 - val_loss: 0.0709 - val_accuracy: 0.9807\n",
      "Epoch 15/100\n",
      "130/130 [==============================] - 1s 7ms/step - loss: 0.1023 - accuracy: 0.9666 - val_loss: 0.0660 - val_accuracy: 0.9855\n",
      "Epoch 16/100\n",
      "130/130 [==============================] - 1s 7ms/step - loss: 0.0996 - accuracy: 0.9703 - val_loss: 0.0661 - val_accuracy: 0.9836\n",
      "Epoch 17/100\n",
      "130/130 [==============================] - 1s 7ms/step - loss: 0.1081 - accuracy: 0.9608 - val_loss: 0.0669 - val_accuracy: 0.9816\n",
      "Epoch 18/100\n",
      "130/130 [==============================] - 1s 7ms/step - loss: 0.0991 - accuracy: 0.9690 - val_loss: 0.0651 - val_accuracy: 0.9826\n",
      "Epoch 19/100\n",
      "130/130 [==============================] - 1s 7ms/step - loss: 0.0881 - accuracy: 0.9739 - val_loss: 0.0629 - val_accuracy: 0.9836\n",
      "Epoch 20/100\n",
      "130/130 [==============================] - 1s 7ms/step - loss: 0.0926 - accuracy: 0.9712 - val_loss: 0.0620 - val_accuracy: 0.9836\n",
      "Epoch 21/100\n",
      "130/130 [==============================] - 1s 10ms/step - loss: 0.0789 - accuracy: 0.9753 - val_loss: 0.0639 - val_accuracy: 0.9826\n",
      "Epoch 22/100\n",
      "130/130 [==============================] - 1s 9ms/step - loss: 0.0847 - accuracy: 0.9722 - val_loss: 0.0629 - val_accuracy: 0.9845\n",
      "Epoch 23/100\n",
      "130/130 [==============================] - 1s 9ms/step - loss: 0.0804 - accuracy: 0.9761 - val_loss: 0.0608 - val_accuracy: 0.9836\n",
      "Epoch 24/100\n",
      "130/130 [==============================] - 1s 9ms/step - loss: 0.0848 - accuracy: 0.9748 - val_loss: 0.0600 - val_accuracy: 0.9826\n",
      "Epoch 25/100\n",
      "130/130 [==============================] - 1s 8ms/step - loss: 0.0868 - accuracy: 0.9712 - val_loss: 0.0605 - val_accuracy: 0.9826\n",
      "Epoch 26/100\n",
      "130/130 [==============================] - 1s 9ms/step - loss: 0.0810 - accuracy: 0.9739 - val_loss: 0.0595 - val_accuracy: 0.9826\n",
      "Epoch 27/100\n",
      "130/130 [==============================] - 1s 10ms/step - loss: 0.0759 - accuracy: 0.9761 - val_loss: 0.0612 - val_accuracy: 0.9826\n",
      "Epoch 28/100\n",
      "130/130 [==============================] - 1s 9ms/step - loss: 0.0743 - accuracy: 0.9763 - val_loss: 0.0589 - val_accuracy: 0.9816\n",
      "Epoch 29/100\n",
      "130/130 [==============================] - 1s 8ms/step - loss: 0.0770 - accuracy: 0.9746 - val_loss: 0.0575 - val_accuracy: 0.9836\n",
      "Epoch 30/100\n",
      "130/130 [==============================] - 1s 8ms/step - loss: 0.0734 - accuracy: 0.9768 - val_loss: 0.0580 - val_accuracy: 0.9836\n",
      "Epoch 31/100\n",
      "130/130 [==============================] - 1s 8ms/step - loss: 0.0722 - accuracy: 0.9758 - val_loss: 0.0566 - val_accuracy: 0.9816\n",
      "Epoch 32/100\n",
      "130/130 [==============================] - 1s 8ms/step - loss: 0.0673 - accuracy: 0.9770 - val_loss: 0.0584 - val_accuracy: 0.9836\n",
      "Epoch 33/100\n",
      "130/130 [==============================] - 1s 9ms/step - loss: 0.0700 - accuracy: 0.9770 - val_loss: 0.0549 - val_accuracy: 0.9836\n",
      "Epoch 34/100\n",
      "130/130 [==============================] - 1s 8ms/step - loss: 0.0749 - accuracy: 0.9778 - val_loss: 0.0567 - val_accuracy: 0.9836\n",
      "Epoch 35/100\n",
      "130/130 [==============================] - 1s 8ms/step - loss: 0.0738 - accuracy: 0.9748 - val_loss: 0.0575 - val_accuracy: 0.9836\n",
      "Epoch 36/100\n",
      "130/130 [==============================] - 1s 8ms/step - loss: 0.0648 - accuracy: 0.9790 - val_loss: 0.0559 - val_accuracy: 0.9836\n",
      "Epoch 37/100\n",
      "130/130 [==============================] - 1s 8ms/step - loss: 0.0666 - accuracy: 0.9814 - val_loss: 0.0559 - val_accuracy: 0.9845\n",
      "Epoch 38/100\n",
      "130/130 [==============================] - 1s 8ms/step - loss: 0.0602 - accuracy: 0.9828 - val_loss: 0.0582 - val_accuracy: 0.9836\n",
      "Epoch 39/100\n",
      "130/130 [==============================] - 1s 8ms/step - loss: 0.0669 - accuracy: 0.9804 - val_loss: 0.0569 - val_accuracy: 0.9836\n",
      "Epoch 40/100\n",
      "130/130 [==============================] - 1s 8ms/step - loss: 0.0628 - accuracy: 0.9797 - val_loss: 0.0558 - val_accuracy: 0.9845\n",
      "Epoch 41/100\n",
      "130/130 [==============================] - 1s 8ms/step - loss: 0.0657 - accuracy: 0.9797 - val_loss: 0.0556 - val_accuracy: 0.9845\n",
      "Epoch 42/100\n",
      "130/130 [==============================] - 1s 8ms/step - loss: 0.0606 - accuracy: 0.9811 - val_loss: 0.0546 - val_accuracy: 0.9845\n",
      "Epoch 43/100\n",
      "130/130 [==============================] - 1s 9ms/step - loss: 0.0579 - accuracy: 0.9797 - val_loss: 0.0536 - val_accuracy: 0.9836\n",
      "Epoch 44/100\n",
      "130/130 [==============================] - 1s 8ms/step - loss: 0.0569 - accuracy: 0.9811 - val_loss: 0.0565 - val_accuracy: 0.9855\n",
      "Epoch 45/100\n",
      "130/130 [==============================] - 1s 8ms/step - loss: 0.0579 - accuracy: 0.9816 - val_loss: 0.0548 - val_accuracy: 0.9845\n",
      "Epoch 46/100\n",
      "130/130 [==============================] - 1s 8ms/step - loss: 0.0564 - accuracy: 0.9816 - val_loss: 0.0567 - val_accuracy: 0.9836\n",
      "Epoch 47/100\n",
      "130/130 [==============================] - 1s 8ms/step - loss: 0.0668 - accuracy: 0.9775 - val_loss: 0.0578 - val_accuracy: 0.9836\n",
      "Epoch 48/100\n",
      "130/130 [==============================] - 1s 8ms/step - loss: 0.0593 - accuracy: 0.9807 - val_loss: 0.0577 - val_accuracy: 0.9845\n",
      "Epoch 49/100\n",
      "130/130 [==============================] - 1s 9ms/step - loss: 0.0550 - accuracy: 0.9816 - val_loss: 0.0568 - val_accuracy: 0.9845\n",
      "Epoch 50/100\n",
      "130/130 [==============================] - 1s 8ms/step - loss: 0.0441 - accuracy: 0.9869 - val_loss: 0.0548 - val_accuracy: 0.9855\n",
      "Epoch 51/100\n",
      "130/130 [==============================] - 1s 8ms/step - loss: 0.0493 - accuracy: 0.9845 - val_loss: 0.0540 - val_accuracy: 0.9855\n",
      "Epoch 52/100\n",
      "130/130 [==============================] - 1s 7ms/step - loss: 0.0576 - accuracy: 0.9809 - val_loss: 0.0564 - val_accuracy: 0.9855\n",
      "Epoch 53/100\n",
      "130/130 [==============================] - 1s 8ms/step - loss: 0.0519 - accuracy: 0.9840 - val_loss: 0.0542 - val_accuracy: 0.9836\n",
      "Epoch 54/100\n",
      "130/130 [==============================] - 1s 8ms/step - loss: 0.0514 - accuracy: 0.9828 - val_loss: 0.0551 - val_accuracy: 0.9855\n",
      "Epoch 55/100\n",
      "130/130 [==============================] - 1s 8ms/step - loss: 0.0540 - accuracy: 0.9843 - val_loss: 0.0558 - val_accuracy: 0.9855\n",
      "Epoch 56/100\n",
      "130/130 [==============================] - 1s 8ms/step - loss: 0.0501 - accuracy: 0.9838 - val_loss: 0.0579 - val_accuracy: 0.9865\n",
      "Epoch 57/100\n",
      "130/130 [==============================] - ETA: 0s - loss: 0.0451 - accuracy: 0.98 - 1s 8ms/step - loss: 0.0469 - accuracy: 0.9845 - val_loss: 0.0541 - val_accuracy: 0.9874\n"
     ]
    },
    {
     "name": "stdout",
     "output_type": "stream",
     "text": [
      "Epoch 58/100\n",
      "130/130 [==============================] - 1s 7ms/step - loss: 0.0471 - accuracy: 0.9852 - val_loss: 0.0547 - val_accuracy: 0.9845\n",
      "Epoch 59/100\n",
      "130/130 [==============================] - 1s 7ms/step - loss: 0.0484 - accuracy: 0.9843 - val_loss: 0.0569 - val_accuracy: 0.9865\n",
      "Epoch 60/100\n",
      "130/130 [==============================] - 1s 7ms/step - loss: 0.0524 - accuracy: 0.9828 - val_loss: 0.0555 - val_accuracy: 0.9855\n",
      "Epoch 61/100\n",
      "130/130 [==============================] - 1s 8ms/step - loss: 0.0495 - accuracy: 0.9845 - val_loss: 0.0565 - val_accuracy: 0.9855\n",
      "Epoch 62/100\n",
      "130/130 [==============================] - 1s 8ms/step - loss: 0.0487 - accuracy: 0.9831 - val_loss: 0.0561 - val_accuracy: 0.9855\n",
      "Epoch 63/100\n",
      "130/130 [==============================] - 1s 7ms/step - loss: 0.0467 - accuracy: 0.9838 - val_loss: 0.0573 - val_accuracy: 0.9865\n",
      "Epoch 64/100\n",
      "130/130 [==============================] - 1s 7ms/step - loss: 0.0491 - accuracy: 0.9831 - val_loss: 0.0562 - val_accuracy: 0.9865\n",
      "Epoch 65/100\n",
      "130/130 [==============================] - 1s 7ms/step - loss: 0.0474 - accuracy: 0.9850 - val_loss: 0.0552 - val_accuracy: 0.9874\n",
      "Epoch 66/100\n",
      "130/130 [==============================] - 1s 8ms/step - loss: 0.0460 - accuracy: 0.9850 - val_loss: 0.0555 - val_accuracy: 0.9865\n",
      "Epoch 67/100\n",
      "130/130 [==============================] - 1s 8ms/step - loss: 0.0445 - accuracy: 0.9855 - val_loss: 0.0560 - val_accuracy: 0.9855\n",
      "Epoch 68/100\n",
      "130/130 [==============================] - 1s 7ms/step - loss: 0.0481 - accuracy: 0.9855 - val_loss: 0.0567 - val_accuracy: 0.9865\n",
      "Epoch 69/100\n",
      "130/130 [==============================] - 1s 7ms/step - loss: 0.0439 - accuracy: 0.9874 - val_loss: 0.0563 - val_accuracy: 0.9845\n",
      "Epoch 70/100\n",
      "130/130 [==============================] - 1s 7ms/step - loss: 0.0419 - accuracy: 0.9865 - val_loss: 0.0569 - val_accuracy: 0.9845\n",
      "Epoch 71/100\n",
      "130/130 [==============================] - 1s 7ms/step - loss: 0.0471 - accuracy: 0.9840 - val_loss: 0.0550 - val_accuracy: 0.9855\n",
      "Epoch 72/100\n",
      "130/130 [==============================] - 1s 7ms/step - loss: 0.0424 - accuracy: 0.9867 - val_loss: 0.0555 - val_accuracy: 0.9855\n",
      "Epoch 73/100\n",
      "130/130 [==============================] - 1s 7ms/step - loss: 0.0444 - accuracy: 0.9860 - val_loss: 0.0547 - val_accuracy: 0.9845\n",
      "Epoch 74/100\n",
      "130/130 [==============================] - 1s 7ms/step - loss: 0.0439 - accuracy: 0.9860 - val_loss: 0.0559 - val_accuracy: 0.9855\n",
      "Epoch 75/100\n",
      "130/130 [==============================] - 1s 8ms/step - loss: 0.0460 - accuracy: 0.9848 - val_loss: 0.0575 - val_accuracy: 0.9855\n",
      "Epoch 76/100\n",
      "130/130 [==============================] - 1s 7ms/step - loss: 0.0455 - accuracy: 0.9857 - val_loss: 0.0598 - val_accuracy: 0.9855\n",
      "Epoch 77/100\n",
      "130/130 [==============================] - 1s 7ms/step - loss: 0.0403 - accuracy: 0.9879 - val_loss: 0.0566 - val_accuracy: 0.9855\n",
      "Epoch 78/100\n",
      "130/130 [==============================] - 1s 7ms/step - loss: 0.0456 - accuracy: 0.9867 - val_loss: 0.0558 - val_accuracy: 0.9865\n",
      "Epoch 79/100\n",
      "130/130 [==============================] - 1s 7ms/step - loss: 0.0385 - accuracy: 0.9879 - val_loss: 0.0557 - val_accuracy: 0.9855\n",
      "Epoch 80/100\n",
      "130/130 [==============================] - 1s 7ms/step - loss: 0.0354 - accuracy: 0.9881 - val_loss: 0.0567 - val_accuracy: 0.9855\n",
      "Epoch 81/100\n",
      "130/130 [==============================] - 1s 7ms/step - loss: 0.0344 - accuracy: 0.9896 - val_loss: 0.0567 - val_accuracy: 0.9865\n",
      "Epoch 82/100\n",
      "130/130 [==============================] - 1s 8ms/step - loss: 0.0423 - accuracy: 0.9884 - val_loss: 0.0589 - val_accuracy: 0.9874\n",
      "Epoch 83/100\n",
      "130/130 [==============================] - 1s 7ms/step - loss: 0.0378 - accuracy: 0.9881 - val_loss: 0.0589 - val_accuracy: 0.9855\n",
      "Epoch 84/100\n",
      "130/130 [==============================] - 1s 7ms/step - loss: 0.0383 - accuracy: 0.9872 - val_loss: 0.0600 - val_accuracy: 0.9845\n",
      "Epoch 85/100\n",
      "130/130 [==============================] - 1s 7ms/step - loss: 0.0421 - accuracy: 0.9874 - val_loss: 0.0614 - val_accuracy: 0.9855\n",
      "Epoch 86/100\n",
      "130/130 [==============================] - 1s 8ms/step - loss: 0.0363 - accuracy: 0.9881 - val_loss: 0.0616 - val_accuracy: 0.9855\n",
      "Epoch 87/100\n",
      "130/130 [==============================] - 1s 7ms/step - loss: 0.0362 - accuracy: 0.9881 - val_loss: 0.0597 - val_accuracy: 0.9855\n",
      "Epoch 88/100\n",
      "130/130 [==============================] - 1s 7ms/step - loss: 0.0408 - accuracy: 0.9872 - val_loss: 0.0589 - val_accuracy: 0.9855\n",
      "Epoch 89/100\n",
      "130/130 [==============================] - 1s 8ms/step - loss: 0.0403 - accuracy: 0.9869 - val_loss: 0.0595 - val_accuracy: 0.9836\n",
      "Epoch 90/100\n",
      "130/130 [==============================] - 1s 7ms/step - loss: 0.0422 - accuracy: 0.9852 - val_loss: 0.0606 - val_accuracy: 0.9826\n",
      "Epoch 91/100\n",
      "130/130 [==============================] - 1s 8ms/step - loss: 0.0378 - accuracy: 0.9884 - val_loss: 0.0606 - val_accuracy: 0.9826\n",
      "Epoch 92/100\n",
      "130/130 [==============================] - 1s 7ms/step - loss: 0.0385 - accuracy: 0.9879 - val_loss: 0.0636 - val_accuracy: 0.9807\n",
      "Epoch 93/100\n",
      "130/130 [==============================] - 1s 7ms/step - loss: 0.0374 - accuracy: 0.9872 - val_loss: 0.0613 - val_accuracy: 0.9836\n",
      "Epoch 94/100\n",
      "130/130 [==============================] - 1s 7ms/step - loss: 0.0355 - accuracy: 0.9898 - val_loss: 0.0612 - val_accuracy: 0.9836\n",
      "Epoch 95/100\n",
      "130/130 [==============================] - 1s 8ms/step - loss: 0.0355 - accuracy: 0.9891 - val_loss: 0.0592 - val_accuracy: 0.9865\n",
      "Epoch 96/100\n",
      "130/130 [==============================] - 1s 7ms/step - loss: 0.0389 - accuracy: 0.9877 - val_loss: 0.0590 - val_accuracy: 0.9865\n",
      "Epoch 97/100\n",
      "130/130 [==============================] - 1s 7ms/step - loss: 0.0339 - accuracy: 0.9906 - val_loss: 0.0595 - val_accuracy: 0.9855\n",
      "Epoch 98/100\n",
      "130/130 [==============================] - 1s 7ms/step - loss: 0.0374 - accuracy: 0.9874 - val_loss: 0.0596 - val_accuracy: 0.9855\n",
      "Epoch 99/100\n",
      "130/130 [==============================] - 1s 7ms/step - loss: 0.0368 - accuracy: 0.9884 - val_loss: 0.0613 - val_accuracy: 0.9855\n",
      "Epoch 100/100\n",
      "130/130 [==============================] - 1s 7ms/step - loss: 0.0345 - accuracy: 0.9894 - val_loss: 0.0612 - val_accuracy: 0.9845\n"
     ]
    }
   ],
   "source": [
    "history3=CNN3.fit(x=train_X, y=np.array(train_Y), epochs=100, verbose=1, batch_size=32, validation_data=(test_X, np.array(test_Y)))"
   ]
  },
  {
   "cell_type": "code",
   "execution_count": 85,
   "id": "c2acb8ff",
   "metadata": {},
   "outputs": [
    {
     "data": {
      "image/png": "[encoded data removed]",
      "text/plain": [
       "<Figure size 432x288 with 1 Axes>"
      ]
     },
     "metadata": {
      "needs_background": "light"
     },
     "output_type": "display_data"
    }
   ],
   "source": [
    "loss_train=history3.history['loss']\n",
    "loss_val=history3.history['val_loss']\n",
    "\n",
    "epochs=range(1,101)\n",
    "plt.plot(epochs, loss_train, 'b-o',label='Training loss')\n",
    "plt.plot(epochs, loss_val, 'r-o',label='validation loss')\n",
    "plt.title('Training and Validation loss')\n",
    "plt.xlabel('Epochs')\n",
    "plt.ylabel('Loss')\n",
    "plt.legend\n",
    "plt.show()"
   ]
  },
  {
   "cell_type": "markdown",
   "id": "65a60894",
   "metadata": {},
   "source": [
    "# 정확도 파악 - 다양한 지표를 통해서 "
   ]
  },
  {
   "cell_type": "code",
   "execution_count": 95,
   "id": "9a43f03d",
   "metadata": {},
   "outputs": [],
   "source": [
    "pred_Y=CNN3.predict(test_X)"
   ]
  },
  {
   "cell_type": "code",
   "execution_count": 96,
   "id": "05f96e4a",
   "metadata": {},
   "outputs": [
    {
     "data": {
      "text/plain": [
       "array([[2.0453334e-04],\n",
       "       [2.4038553e-04],\n",
       "       [9.9980152e-01],\n",
       "       ...,\n",
       "       [1.0886490e-03],\n",
       "       [9.9664974e-01],\n",
       "       [3.1549633e-02]], dtype=float32)"
      ]
     },
     "execution_count": 96,
     "metadata": {},
     "output_type": "execute_result"
    }
   ],
   "source": [
    "pred_Y"
   ]
  },
  {
   "cell_type": "code",
   "execution_count": 97,
   "id": "4a93717d",
   "metadata": {},
   "outputs": [],
   "source": [
    "pred_Y_class=pred_Y.copy()\n",
    "\n",
    "pred_Y_class[pred_Y>=0.5]=1\n",
    "pred_Y_class[pred_Y<0.5]=0"
   ]
  },
  {
   "cell_type": "code",
   "execution_count": 98,
   "id": "262a6a10",
   "metadata": {},
   "outputs": [
    {
     "data": {
      "text/plain": [
       "array([[0.],\n",
       "       [0.],\n",
       "       [1.],\n",
       "       ...,\n",
       "       [0.],\n",
       "       [1.],\n",
       "       [0.]], dtype=float32)"
      ]
     },
     "execution_count": 98,
     "metadata": {},
     "output_type": "execute_result"
    }
   ],
   "source": [
    "pred_Y_class"
   ]
  },
  {
   "cell_type": "code",
   "execution_count": 94,
   "id": "b72e32a5",
   "metadata": {},
   "outputs": [],
   "source": [
    "from sklearn.metrics import accuracy_score,confusion_matrix,recall_score"
   ]
  },
  {
   "cell_type": "code",
   "execution_count": 99,
   "id": "576dc83a",
   "metadata": {},
   "outputs": [
    {
     "name": "stdout",
     "output_type": "stream",
     "text": [
      "0.9845261121856866\n"
     ]
    }
   ],
   "source": [
    "print(accuracy_score(pred_Y_class,test_Y))"
   ]
  },
  {
   "cell_type": "code",
   "execution_count": 101,
   "id": "36611ecc",
   "metadata": {},
   "outputs": [
    {
     "name": "stdout",
     "output_type": "stream",
     "text": [
      "[[898  11]\n",
      " [  5 120]]\n"
     ]
    }
   ],
   "source": [
    "print(confusion_matrix(pred_Y_class,test_Y))"
   ]
  },
  {
   "cell_type": "code",
   "execution_count": 102,
   "id": "e1d6182f",
   "metadata": {},
   "outputs": [
    {
     "name": "stdout",
     "output_type": "stream",
     "text": [
      "0.96\n"
     ]
    }
   ],
   "source": [
    "print(recall_score(pred_Y_class,test_Y)) #spam을 spam으로 예측했느냐"
   ]
  },
  {
   "cell_type": "markdown",
   "id": "2ee625ed",
   "metadata": {},
   "source": [
    "# GPU VS CPU 연산비교 "
   ]
  },
  {
   "cell_type": "code",
   "execution_count": 103,
   "id": "f48ad864",
   "metadata": {},
   "outputs": [
    {
     "name": "stdout",
     "output_type": "stream",
     "text": [
      "WARNING:tensorflow:From C:\\Users\\user\\AppData\\Local\\Temp/ipykernel_25128/494583717.py:3: is_gpu_available (from tensorflow.python.framework.test_util) is deprecated and will be removed in a future version.\n",
      "Instructions for updating:\n",
      "Use `tf.config.list_physical_devices('GPU')` instead.\n",
      "Available GPUs:  False\n",
      "[]\n",
      "[LogicalDevice(name='/device:CPU:0', device_type='CPU')]\n"
     ]
    }
   ],
   "source": [
    "import tensorflow as tf\n",
    "\n",
    "print('Available GPUs: ',tf.test.is_gpu_available())\n",
    "print(tf.config.experimental.list_logical_devices('GPU'))\n",
    "print(tf.config.experimental.list_logical_devices('CPU'))"
   ]
  },
  {
   "cell_type": "code",
   "execution_count": 104,
   "id": "7b4011ae",
   "metadata": {},
   "outputs": [
    {
     "name": "stdout",
     "output_type": "stream",
     "text": [
      "Model: \"sequential_4\"\n",
      "_________________________________________________________________\n",
      "Layer (type)                 Output Shape              Param #   \n",
      "=================================================================\n",
      "embedding (Embedding)        (None, 190, 300)          3432300   \n",
      "_________________________________________________________________\n",
      "conv1d_4 (Conv1D)            (None, 190, 50)           15050     \n",
      "_________________________________________________________________\n",
      "global_max_pooling1d_4 (Glob (None, 50)                0         \n",
      "_________________________________________________________________\n",
      "flatten_4 (Flatten)          (None, 50)                0         \n",
      "_________________________________________________________________\n",
      "dropout_2 (Dropout)          (None, 50)                0         \n",
      "_________________________________________________________________\n",
      "dense_3 (Dense)              (None, 1)                 51        \n",
      "=================================================================\n",
      "Total params: 3,447,401\n",
      "Trainable params: 15,101\n",
      "Non-trainable params: 3,432,300\n",
      "_________________________________________________________________\n",
      "None\n"
     ]
    }
   ],
   "source": [
    "#Architecture 구성\n",
    "#Conv1D로 하면 input에 맞게끔 너비가 결정, 높이만 결정하면 됨\n",
    "\n",
    "CNN=Sequential() #순서대로 구성하겠다\n",
    "CNN.add(embedding_layer)\n",
    "CNN.add(Conv1D(filters=50, kernel_size=1, activation='relu')) #필터의 개수 50개, kernel_size는 높이(1칸), kernel_size=1이면 190X1짜리가 50개 생김\n",
    "CNN.add(GlobalMaxPooling1D()) #가장 큰 값을 뽑아서 하나로 요약(50개 만들어짐)\n",
    "CNN.add(Flatten())\n",
    "CNN.add(Dropout(rate=0.3))\n",
    "CNN.add(Dense(1, activation='sigmoid')) #fully-connected->Dense, output이 한개\n",
    "print(CNN.summary())\n",
    "\n",
    "#3432300짜리 이 파라미터들은 더 이상 학습을 시키지 않는 것"
   ]
  },
  {
   "cell_type": "code",
   "execution_count": 105,
   "id": "e6110c45",
   "metadata": {},
   "outputs": [],
   "source": [
    "#학습 요소 구성\n",
    "#loss: 어떤 손실 함수를 쓸 것인지\n",
    "#optimizer: adam방식의 경사하강법 사용\n",
    "#metrics: 이 모델이 잘 구축되었는지 아닌지 볼 지표\n",
    "\n",
    "CNN.compile(loss='binary_crossentropy', optimizer='adam', metrics=['accuracy'])w"
   ]
  },
  {
   "cell_type": "code",
   "execution_count": 106,
   "id": "32638450",
   "metadata": {},
   "outputs": [
    {
     "name": "stdout",
     "output_type": "stream",
     "text": [
      "Epoch 1/10\n",
      "130/130 [==============================] - 2s 14ms/step - loss: 0.3060 - accuracy: 0.8759 - val_loss: 0.1627 - val_accuracy: 0.9449\n",
      "Epoch 2/10\n",
      "130/130 [==============================] - 2s 12ms/step - loss: 0.1359 - accuracy: 0.9591 - val_loss: 0.0892 - val_accuracy: 0.9720\n",
      "Epoch 3/10\n",
      "130/130 [==============================] - 2s 13ms/step - loss: 0.0972 - accuracy: 0.9698 - val_loss: 0.0705 - val_accuracy: 0.9768\n",
      "Epoch 4/10\n",
      "130/130 [==============================] - 2s 13ms/step - loss: 0.0765 - accuracy: 0.9775 - val_loss: 0.0607 - val_accuracy: 0.9778\n",
      "Epoch 5/10\n",
      "130/130 [==============================] - 2s 13ms/step - loss: 0.0707 - accuracy: 0.9775 - val_loss: 0.0572 - val_accuracy: 0.9807\n",
      "Epoch 6/10\n",
      "130/130 [==============================] - 2s 13ms/step - loss: 0.0615 - accuracy: 0.9819 - val_loss: 0.0533 - val_accuracy: 0.9826\n",
      "Epoch 7/10\n",
      "130/130 [==============================] - 2s 12ms/step - loss: 0.0554 - accuracy: 0.9855 - val_loss: 0.0497 - val_accuracy: 0.9816\n",
      "Epoch 8/10\n",
      "130/130 [==============================] - 2s 12ms/step - loss: 0.0467 - accuracy: 0.9891 - val_loss: 0.0465 - val_accuracy: 0.9845\n",
      "Epoch 9/10\n",
      "130/130 [==============================] - 2s 13ms/step - loss: 0.0404 - accuracy: 0.9872 - val_loss: 0.0446 - val_accuracy: 0.9845\n",
      "Epoch 10/10\n",
      "130/130 [==============================] - 2s 12ms/step - loss: 0.0374 - accuracy: 0.9889 - val_loss: 0.0443 - val_accuracy: 0.9845\n"
     ]
    }
   ],
   "source": [
    "with tf.device('/device:CPU:0'):\n",
    "    history=CNN.fit(x=train_X, y=np.array(train_Y), epochs=10, verbose=1, batch_size=32, validation_data=(test_X, np.array(test_Y)))\n",
    "\n",
    "#GPU가 확실히 더 빠름"
   ]
  }
 ],
 "metadata": {
  "kernelspec": {
   "display_name": "Python 3 (ipykernel)",
   "language": "python",
   "name": "python3"
  },
  "language_info": {
   "codemirror_mode": {
    "name": "ipython",
    "version": 3
   },
   "file_extension": ".py",
   "mimetype": "text/x-python",
   "name": "python",
   "nbconvert_exporter": "python",
   "pygments_lexer": "ipython3",
   "version": "3.8.11"
  }
 },
 "nbformat": 4,
 "nbformat_minor": 5
}
